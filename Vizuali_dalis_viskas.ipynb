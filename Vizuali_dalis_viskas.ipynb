{
 "cells": [
  {
   "cell_type": "code",
   "execution_count": 300,
   "id": "e1bbec09-e1a8-4f9c-a957-88e34c9aaee7",
   "metadata": {
    "tags": []
   },
   "outputs": [],
   "source": [
    "import pandas as pd\n",
    "import numpy as np\n",
    "import sqlalchemy\n",
    "import panel as pn\n",
    "pn.extension('tabulator')\n",
    "\n",
    "import hvplot.pandas\n",
    "import panel as pn\n",
    "\n",
    "import holoviews as hv\n",
    "hv.extension('bokeh')\n",
    "pd.options.plotting.backend = 'holoviews'\n"
   ]
  },
  {
   "cell_type": "markdown",
   "id": "fa86f633-a958-40b1-a712-e57aa4ccf5b1",
   "metadata": {},
   "source": [
    "Importuojame lentelę su kuria dirbsime:"
   ]
  },
  {
   "cell_type": "code",
   "execution_count": 357,
   "id": "f3cc98b6-3123-4acd-b55a-423d1d5720d2",
   "metadata": {
    "tags": []
   },
   "outputs": [],
   "source": [
    "df = pd.read_csv('zuvys.csv')"
   ]
  },
  {
   "cell_type": "code",
   "execution_count": 358,
   "id": "28bca1d0-9783-44f9-9720-f12feb7d347b",
   "metadata": {
    "tags": []
   },
   "outputs": [
    {
     "data": {
      "text/html": [
       "<div>\n",
       "<style scoped>\n",
       "    .dataframe tbody tr th:only-of-type {\n",
       "        vertical-align: middle;\n",
       "    }\n",
       "\n",
       "    .dataframe tbody tr th {\n",
       "        vertical-align: top;\n",
       "    }\n",
       "\n",
       "    .dataframe thead th {\n",
       "        text-align: right;\n",
       "    }\n",
       "</style>\n",
       "<table border=\"1\" class=\"dataframe\">\n",
       "  <thead>\n",
       "    <tr style=\"text-align: right;\">\n",
       "      <th></th>\n",
       "      <th>Vandens telkinio pavadinimas</th>\n",
       "      <th>Kodas</th>\n",
       "      <th>Savivaldybė</th>\n",
       "      <th>Žuvų būklės indeksas</th>\n",
       "      <th>Biomasė(kg)</th>\n",
       "      <th>Gausumas(vnt)</th>\n",
       "      <th>Plėšrių žuvų gausumas(%)</th>\n",
       "      <th>Plėšrių žuvų biomasė(%)</th>\n",
       "      <th>Ešerys (Gausumas)</th>\n",
       "      <th>Karšis (Gausumas)</th>\n",
       "      <th>Plėšrios(kg)</th>\n",
       "    </tr>\n",
       "  </thead>\n",
       "  <tbody>\n",
       "    <tr>\n",
       "      <th>0</th>\n",
       "      <td>Aisetas</td>\n",
       "      <td>12140251</td>\n",
       "      <td>Utenos r. sav.</td>\n",
       "      <td>0.49</td>\n",
       "      <td>1.740</td>\n",
       "      <td>38</td>\n",
       "      <td>1.61</td>\n",
       "      <td>16.45</td>\n",
       "      <td>0.0</td>\n",
       "      <td>0.0</td>\n",
       "      <td>0.286</td>\n",
       "    </tr>\n",
       "    <tr>\n",
       "      <th>1</th>\n",
       "      <td>Almajas</td>\n",
       "      <td>12130086</td>\n",
       "      <td>Ignalinos r. sav.</td>\n",
       "      <td>0.47</td>\n",
       "      <td>1.227</td>\n",
       "      <td>27</td>\n",
       "      <td>2.17</td>\n",
       "      <td>15.66</td>\n",
       "      <td>0.0</td>\n",
       "      <td>0.0</td>\n",
       "      <td>0.192</td>\n",
       "    </tr>\n",
       "    <tr>\n",
       "      <th>2</th>\n",
       "      <td>Alnis</td>\n",
       "      <td>12130082</td>\n",
       "      <td>Molėtų r. sav.</td>\n",
       "      <td>0.57</td>\n",
       "      <td>3.798</td>\n",
       "      <td>42</td>\n",
       "      <td>2.83</td>\n",
       "      <td>26.02</td>\n",
       "      <td>0.0</td>\n",
       "      <td>0.0</td>\n",
       "      <td>0.988</td>\n",
       "    </tr>\n",
       "    <tr>\n",
       "      <th>3</th>\n",
       "      <td>Antakmenių ežeras</td>\n",
       "      <td>10030651</td>\n",
       "      <td>Trakų r. sav.</td>\n",
       "      <td>1.00</td>\n",
       "      <td>5.435</td>\n",
       "      <td>118</td>\n",
       "      <td>1.00</td>\n",
       "      <td>1.00</td>\n",
       "      <td>0.0</td>\n",
       "      <td>0.0</td>\n",
       "      <td>0.054</td>\n",
       "    </tr>\n",
       "    <tr>\n",
       "      <th>4</th>\n",
       "      <td>Antanavo HE tvenkinys</td>\n",
       "      <td>15050005</td>\n",
       "      <td>Marijampolės sav.</td>\n",
       "      <td>0.63</td>\n",
       "      <td>8.990</td>\n",
       "      <td>107</td>\n",
       "      <td>1.65</td>\n",
       "      <td>17.60</td>\n",
       "      <td>0.0</td>\n",
       "      <td>0.0</td>\n",
       "      <td>1.582</td>\n",
       "    </tr>\n",
       "    <tr>\n",
       "      <th>...</th>\n",
       "      <td>...</td>\n",
       "      <td>...</td>\n",
       "      <td>...</td>\n",
       "      <td>...</td>\n",
       "      <td>...</td>\n",
       "      <td>...</td>\n",
       "      <td>...</td>\n",
       "      <td>...</td>\n",
       "      <td>...</td>\n",
       "      <td>...</td>\n",
       "      <td>...</td>\n",
       "    </tr>\n",
       "    <tr>\n",
       "      <th>57</th>\n",
       "      <td>Virintai</td>\n",
       "      <td>12241640</td>\n",
       "      <td>Molėtų r. sav.</td>\n",
       "      <td>0.52</td>\n",
       "      <td>3.519</td>\n",
       "      <td>64</td>\n",
       "      <td>1.90</td>\n",
       "      <td>17.82</td>\n",
       "      <td>16.8</td>\n",
       "      <td>0.0</td>\n",
       "      <td>0.627</td>\n",
       "    </tr>\n",
       "    <tr>\n",
       "      <th>58</th>\n",
       "      <td>Zapsys</td>\n",
       "      <td>10030110</td>\n",
       "      <td>Lazdijų r. sav.</td>\n",
       "      <td>1.00</td>\n",
       "      <td>1.318</td>\n",
       "      <td>31</td>\n",
       "      <td>1.00</td>\n",
       "      <td>1.00</td>\n",
       "      <td>0.0</td>\n",
       "      <td>4.0</td>\n",
       "      <td>0.013</td>\n",
       "    </tr>\n",
       "    <tr>\n",
       "      <th>59</th>\n",
       "      <td>Zarasas</td>\n",
       "      <td>50030302</td>\n",
       "      <td>Zarasų r. sav.</td>\n",
       "      <td>0.43</td>\n",
       "      <td>1.782</td>\n",
       "      <td>39</td>\n",
       "      <td>1.40</td>\n",
       "      <td>0.00</td>\n",
       "      <td>0.0</td>\n",
       "      <td>0.0</td>\n",
       "      <td>0.000</td>\n",
       "    </tr>\n",
       "    <tr>\n",
       "      <th>60</th>\n",
       "      <td>Čičirys</td>\n",
       "      <td>50030474</td>\n",
       "      <td>Zarasų r. sav.</td>\n",
       "      <td>0.60</td>\n",
       "      <td>9.080</td>\n",
       "      <td>75</td>\n",
       "      <td>1.87</td>\n",
       "      <td>23.71</td>\n",
       "      <td>0.0</td>\n",
       "      <td>0.0</td>\n",
       "      <td>2.153</td>\n",
       "    </tr>\n",
       "    <tr>\n",
       "      <th>61</th>\n",
       "      <td>Šlavantas</td>\n",
       "      <td>10030010</td>\n",
       "      <td>Lazdijų r. sav.</td>\n",
       "      <td>1.00</td>\n",
       "      <td>4.042</td>\n",
       "      <td>39</td>\n",
       "      <td>1.00</td>\n",
       "      <td>1.00</td>\n",
       "      <td>0.0</td>\n",
       "      <td>0.0</td>\n",
       "      <td>0.040</td>\n",
       "    </tr>\n",
       "  </tbody>\n",
       "</table>\n",
       "<p>62 rows × 11 columns</p>\n",
       "</div>"
      ],
      "text/plain": [
       "   Vandens telkinio pavadinimas     Kodas        Savivaldybė  \\\n",
       "0                       Aisetas  12140251     Utenos r. sav.   \n",
       "1                       Almajas  12130086  Ignalinos r. sav.   \n",
       "2                         Alnis  12130082     Molėtų r. sav.   \n",
       "3             Antakmenių ežeras  10030651      Trakų r. sav.   \n",
       "4         Antanavo HE tvenkinys  15050005  Marijampolės sav.   \n",
       "..                          ...       ...                ...   \n",
       "57                     Virintai  12241640     Molėtų r. sav.   \n",
       "58                       Zapsys  10030110    Lazdijų r. sav.   \n",
       "59                      Zarasas  50030302     Zarasų r. sav.   \n",
       "60                      Čičirys  50030474     Zarasų r. sav.   \n",
       "61                    Šlavantas  10030010    Lazdijų r. sav.   \n",
       "\n",
       "    Žuvų būklės indeksas  Biomasė(kg)  Gausumas(vnt)  \\\n",
       "0                   0.49        1.740             38   \n",
       "1                   0.47        1.227             27   \n",
       "2                   0.57        3.798             42   \n",
       "3                   1.00        5.435            118   \n",
       "4                   0.63        8.990            107   \n",
       "..                   ...          ...            ...   \n",
       "57                  0.52        3.519             64   \n",
       "58                  1.00        1.318             31   \n",
       "59                  0.43        1.782             39   \n",
       "60                  0.60        9.080             75   \n",
       "61                  1.00        4.042             39   \n",
       "\n",
       "    Plėšrių žuvų gausumas(%)  Plėšrių žuvų biomasė(%)  Ešerys (Gausumas)  \\\n",
       "0                       1.61                    16.45                0.0   \n",
       "1                       2.17                    15.66                0.0   \n",
       "2                       2.83                    26.02                0.0   \n",
       "3                       1.00                     1.00                0.0   \n",
       "4                       1.65                    17.60                0.0   \n",
       "..                       ...                      ...                ...   \n",
       "57                      1.90                    17.82               16.8   \n",
       "58                      1.00                     1.00                0.0   \n",
       "59                      1.40                     0.00                0.0   \n",
       "60                      1.87                    23.71                0.0   \n",
       "61                      1.00                     1.00                0.0   \n",
       "\n",
       "    Karšis (Gausumas)  Plėšrios(kg)  \n",
       "0                 0.0         0.286  \n",
       "1                 0.0         0.192  \n",
       "2                 0.0         0.988  \n",
       "3                 0.0         0.054  \n",
       "4                 0.0         1.582  \n",
       "..                ...           ...  \n",
       "57                0.0         0.627  \n",
       "58                4.0         0.013  \n",
       "59                0.0         0.000  \n",
       "60                0.0         2.153  \n",
       "61                0.0         0.040  \n",
       "\n",
       "[62 rows x 11 columns]"
      ]
     },
     "execution_count": 358,
     "metadata": {},
     "output_type": "execute_result"
    }
   ],
   "source": [
    "df"
   ]
  },
  {
   "cell_type": "code",
   "execution_count": 359,
   "id": "b8f952a5-850f-477f-9498-168f046a852c",
   "metadata": {
    "tags": []
   },
   "outputs": [
    {
     "data": {
      "text/plain": [
       "Index(['Vandens telkinio pavadinimas', 'Kodas', 'Savivaldybė',\n",
       "       'Žuvų būklės indeksas', 'Biomasė(kg)', 'Gausumas(vnt)',\n",
       "       'Plėšrių žuvų gausumas(%)', 'Plėšrių žuvų biomasė(%)',\n",
       "       'Ešerys (Gausumas)', 'Karšis (Gausumas)', 'Plėšrios(kg)'],\n",
       "      dtype='object')"
      ]
     },
     "execution_count": 359,
     "metadata": {},
     "output_type": "execute_result"
    }
   ],
   "source": [
    "df.columns"
   ]
  },
  {
   "cell_type": "markdown",
   "id": "0199e236-06e1-4689-b64b-87d0c4974691",
   "metadata": {},
   "source": [
    "Patikrinam kokie ežerai yra Molėtuose(su visa stulpelių informacija):"
   ]
  },
  {
   "cell_type": "code",
   "execution_count": 360,
   "id": "3f22498b-dc41-46c8-b6cd-173f9f0ff338",
   "metadata": {
    "tags": []
   },
   "outputs": [
    {
     "data": {
      "text/html": [
       "<div>\n",
       "<style scoped>\n",
       "    .dataframe tbody tr th:only-of-type {\n",
       "        vertical-align: middle;\n",
       "    }\n",
       "\n",
       "    .dataframe tbody tr th {\n",
       "        vertical-align: top;\n",
       "    }\n",
       "\n",
       "    .dataframe thead th {\n",
       "        text-align: right;\n",
       "    }\n",
       "</style>\n",
       "<table border=\"1\" class=\"dataframe\">\n",
       "  <thead>\n",
       "    <tr style=\"text-align: right;\">\n",
       "      <th></th>\n",
       "      <th>Vandens telkinio pavadinimas</th>\n",
       "      <th>Kodas</th>\n",
       "      <th>Savivaldybė</th>\n",
       "      <th>Žuvų būklės indeksas</th>\n",
       "      <th>Biomasė(kg)</th>\n",
       "      <th>Gausumas(vnt)</th>\n",
       "      <th>Plėšrių žuvų gausumas(%)</th>\n",
       "      <th>Plėšrių žuvų biomasė(%)</th>\n",
       "      <th>Ešerys (Gausumas)</th>\n",
       "      <th>Karšis (Gausumas)</th>\n",
       "      <th>Plėšrios(kg)</th>\n",
       "    </tr>\n",
       "  </thead>\n",
       "  <tbody>\n",
       "    <tr>\n",
       "      <th>2</th>\n",
       "      <td>Alnis</td>\n",
       "      <td>12130082</td>\n",
       "      <td>Molėtų r. sav.</td>\n",
       "      <td>0.57</td>\n",
       "      <td>3.798</td>\n",
       "      <td>42</td>\n",
       "      <td>2.83</td>\n",
       "      <td>26.02</td>\n",
       "      <td>0.0</td>\n",
       "      <td>0.0</td>\n",
       "      <td>0.988</td>\n",
       "    </tr>\n",
       "    <tr>\n",
       "      <th>6</th>\n",
       "      <td>Arinas</td>\n",
       "      <td>12140420</td>\n",
       "      <td>Molėtų r. sav.</td>\n",
       "      <td>0.77</td>\n",
       "      <td>4.060</td>\n",
       "      <td>36</td>\n",
       "      <td>3.28</td>\n",
       "      <td>14.67</td>\n",
       "      <td>0.0</td>\n",
       "      <td>0.0</td>\n",
       "      <td>0.596</td>\n",
       "    </tr>\n",
       "    <tr>\n",
       "      <th>19</th>\n",
       "      <td>Galuonai</td>\n",
       "      <td>12130331</td>\n",
       "      <td>Molėtų r. sav.</td>\n",
       "      <td>0.80</td>\n",
       "      <td>3.843</td>\n",
       "      <td>39</td>\n",
       "      <td>5.28</td>\n",
       "      <td>38.79</td>\n",
       "      <td>0.0</td>\n",
       "      <td>0.0</td>\n",
       "      <td>1.491</td>\n",
       "    </tr>\n",
       "    <tr>\n",
       "      <th>23</th>\n",
       "      <td>Išnarai</td>\n",
       "      <td>12130332</td>\n",
       "      <td>Molėtų r. sav.</td>\n",
       "      <td>0.48</td>\n",
       "      <td>3.607</td>\n",
       "      <td>80</td>\n",
       "      <td>1.28</td>\n",
       "      <td>10.66</td>\n",
       "      <td>0.0</td>\n",
       "      <td>0.0</td>\n",
       "      <td>0.385</td>\n",
       "    </tr>\n",
       "    <tr>\n",
       "      <th>24</th>\n",
       "      <td>Juodieji Lakajai</td>\n",
       "      <td>12130250</td>\n",
       "      <td>Molėtų r. sav.</td>\n",
       "      <td>1.00</td>\n",
       "      <td>3.790</td>\n",
       "      <td>40</td>\n",
       "      <td>1.00</td>\n",
       "      <td>1.00</td>\n",
       "      <td>0.0</td>\n",
       "      <td>0.0</td>\n",
       "      <td>0.038</td>\n",
       "    </tr>\n",
       "    <tr>\n",
       "      <th>26</th>\n",
       "      <td>Kertuojai</td>\n",
       "      <td>12140320</td>\n",
       "      <td>Molėtų r. sav.</td>\n",
       "      <td>0.42</td>\n",
       "      <td>2.521</td>\n",
       "      <td>72</td>\n",
       "      <td>1.02</td>\n",
       "      <td>23.57</td>\n",
       "      <td>0.0</td>\n",
       "      <td>0.0</td>\n",
       "      <td>0.594</td>\n",
       "    </tr>\n",
       "    <tr>\n",
       "      <th>30</th>\n",
       "      <td>Lukštas</td>\n",
       "      <td>12231665</td>\n",
       "      <td>Molėtų r. sav.</td>\n",
       "      <td>0.33</td>\n",
       "      <td>4.666</td>\n",
       "      <td>126</td>\n",
       "      <td>1.00</td>\n",
       "      <td>1.79</td>\n",
       "      <td>0.0</td>\n",
       "      <td>0.0</td>\n",
       "      <td>0.084</td>\n",
       "    </tr>\n",
       "    <tr>\n",
       "      <th>39</th>\n",
       "      <td>Pravalas</td>\n",
       "      <td>12141212</td>\n",
       "      <td>Molėtų r. sav.</td>\n",
       "      <td>1.00</td>\n",
       "      <td>2.959</td>\n",
       "      <td>27</td>\n",
       "      <td>1.00</td>\n",
       "      <td>1.00</td>\n",
       "      <td>0.0</td>\n",
       "      <td>0.0</td>\n",
       "      <td>0.030</td>\n",
       "    </tr>\n",
       "    <tr>\n",
       "      <th>57</th>\n",
       "      <td>Virintai</td>\n",
       "      <td>12241640</td>\n",
       "      <td>Molėtų r. sav.</td>\n",
       "      <td>0.52</td>\n",
       "      <td>3.519</td>\n",
       "      <td>64</td>\n",
       "      <td>1.90</td>\n",
       "      <td>17.82</td>\n",
       "      <td>16.8</td>\n",
       "      <td>0.0</td>\n",
       "      <td>0.627</td>\n",
       "    </tr>\n",
       "  </tbody>\n",
       "</table>\n",
       "</div>"
      ],
      "text/plain": [
       "   Vandens telkinio pavadinimas     Kodas     Savivaldybė  \\\n",
       "2                         Alnis  12130082  Molėtų r. sav.   \n",
       "6                        Arinas  12140420  Molėtų r. sav.   \n",
       "19                     Galuonai  12130331  Molėtų r. sav.   \n",
       "23                      Išnarai  12130332  Molėtų r. sav.   \n",
       "24             Juodieji Lakajai  12130250  Molėtų r. sav.   \n",
       "26                    Kertuojai  12140320  Molėtų r. sav.   \n",
       "30                      Lukštas  12231665  Molėtų r. sav.   \n",
       "39                     Pravalas  12141212  Molėtų r. sav.   \n",
       "57                     Virintai  12241640  Molėtų r. sav.   \n",
       "\n",
       "    Žuvų būklės indeksas  Biomasė(kg)  Gausumas(vnt)  \\\n",
       "2                   0.57        3.798             42   \n",
       "6                   0.77        4.060             36   \n",
       "19                  0.80        3.843             39   \n",
       "23                  0.48        3.607             80   \n",
       "24                  1.00        3.790             40   \n",
       "26                  0.42        2.521             72   \n",
       "30                  0.33        4.666            126   \n",
       "39                  1.00        2.959             27   \n",
       "57                  0.52        3.519             64   \n",
       "\n",
       "    Plėšrių žuvų gausumas(%)  Plėšrių žuvų biomasė(%)  Ešerys (Gausumas)  \\\n",
       "2                       2.83                    26.02                0.0   \n",
       "6                       3.28                    14.67                0.0   \n",
       "19                      5.28                    38.79                0.0   \n",
       "23                      1.28                    10.66                0.0   \n",
       "24                      1.00                     1.00                0.0   \n",
       "26                      1.02                    23.57                0.0   \n",
       "30                      1.00                     1.79                0.0   \n",
       "39                      1.00                     1.00                0.0   \n",
       "57                      1.90                    17.82               16.8   \n",
       "\n",
       "    Karšis (Gausumas)  Plėšrios(kg)  \n",
       "2                 0.0         0.988  \n",
       "6                 0.0         0.596  \n",
       "19                0.0         1.491  \n",
       "23                0.0         0.385  \n",
       "24                0.0         0.038  \n",
       "26                0.0         0.594  \n",
       "30                0.0         0.084  \n",
       "39                0.0         0.030  \n",
       "57                0.0         0.627  "
      ]
     },
     "execution_count": 360,
     "metadata": {},
     "output_type": "execute_result"
    }
   ],
   "source": [
    "moletai = df[df['Savivaldybė'] == 'Molėtų r. sav.']\n",
    "moletai"
   ]
  },
  {
   "cell_type": "markdown",
   "id": "bc8cbdfb-6e55-4c9e-823f-ecddcd1c9178",
   "metadata": {},
   "source": [
    "Atvaizduojam Molėtų rajono ežerų biomasės ir plėšrios žuvies pasiskirstymą:"
   ]
  },
  {
   "cell_type": "code",
   "execution_count": 361,
   "id": "ee61eefc-6646-488d-a467-19ac8594891c",
   "metadata": {
    "tags": []
   },
   "outputs": [
    {
     "data": {
      "application/vnd.holoviews_exec.v0+json": "",
      "text/html": [
       "<div id='90599'>\n",
       "  <div class=\"bk-root\" id=\"c58fbc0c-2d40-4a54-81ec-bd6d9b169fed\" data-root-id=\"90599\"></div>\n",
       "</div>\n",
       "<script type=\"application/javascript\">(function(root) {\n",
       "  function embed_document(root) {\n",
       "    var docs_json = {\"9849c680-ba56-406d-92a9-1ef6dbe08f6a\":{\"defs\":[{\"extends\":null,\"module\":null,\"name\":\"ReactiveHTML1\",\"overrides\":[],\"properties\":[]},{\"extends\":null,\"module\":null,\"name\":\"FlexBox1\",\"overrides\":[],\"properties\":[{\"default\":\"flex-start\",\"kind\":null,\"name\":\"align_content\"},{\"default\":\"flex-start\",\"kind\":null,\"name\":\"align_items\"},{\"default\":\"row\",\"kind\":null,\"name\":\"flex_direction\"},{\"default\":\"wrap\",\"kind\":null,\"name\":\"flex_wrap\"},{\"default\":\"flex-start\",\"kind\":null,\"name\":\"justify_content\"}]},{\"extends\":null,\"module\":null,\"name\":\"GridStack1\",\"overrides\":[],\"properties\":[{\"default\":\"warn\",\"kind\":null,\"name\":\"mode\"},{\"default\":null,\"kind\":null,\"name\":\"ncols\"},{\"default\":null,\"kind\":null,\"name\":\"nrows\"},{\"default\":true,\"kind\":null,\"name\":\"allow_resize\"},{\"default\":true,\"kind\":null,\"name\":\"allow_drag\"},{\"default\":[],\"kind\":null,\"name\":\"state\"}]},{\"extends\":null,\"module\":null,\"name\":\"click1\",\"overrides\":[],\"properties\":[{\"default\":\"\",\"kind\":null,\"name\":\"terminal_output\"},{\"default\":\"\",\"kind\":null,\"name\":\"debug_name\"},{\"default\":0,\"kind\":null,\"name\":\"clears\"}]},{\"extends\":null,\"module\":null,\"name\":\"NotificationAreaBase1\",\"overrides\":[],\"properties\":[{\"default\":\"bottom-right\",\"kind\":null,\"name\":\"position\"},{\"default\":0,\"kind\":null,\"name\":\"_clear\"}]},{\"extends\":null,\"module\":null,\"name\":\"NotificationArea1\",\"overrides\":[],\"properties\":[{\"default\":[],\"kind\":null,\"name\":\"notifications\"},{\"default\":\"bottom-right\",\"kind\":null,\"name\":\"position\"},{\"default\":0,\"kind\":null,\"name\":\"_clear\"},{\"default\":[{\"background\":\"#ffc107\",\"icon\":{\"className\":\"fas fa-exclamation-triangle\",\"color\":\"white\",\"tagName\":\"i\"},\"type\":\"warning\"},{\"background\":\"#007bff\",\"icon\":{\"className\":\"fas fa-info-circle\",\"color\":\"white\",\"tagName\":\"i\"},\"type\":\"info\"}],\"kind\":null,\"name\":\"types\"}]},{\"extends\":null,\"module\":null,\"name\":\"Notification\",\"overrides\":[],\"properties\":[{\"default\":null,\"kind\":null,\"name\":\"background\"},{\"default\":3000,\"kind\":null,\"name\":\"duration\"},{\"default\":null,\"kind\":null,\"name\":\"icon\"},{\"default\":\"\",\"kind\":null,\"name\":\"message\"},{\"default\":null,\"kind\":null,\"name\":\"notification_type\"},{\"default\":false,\"kind\":null,\"name\":\"_destroyed\"}]},{\"extends\":null,\"module\":null,\"name\":\"TemplateActions1\",\"overrides\":[],\"properties\":[{\"default\":0,\"kind\":null,\"name\":\"open_modal\"},{\"default\":0,\"kind\":null,\"name\":\"close_modal\"}]},{\"extends\":null,\"module\":null,\"name\":\"MaterialTemplateActions1\",\"overrides\":[],\"properties\":[{\"default\":0,\"kind\":null,\"name\":\"open_modal\"},{\"default\":0,\"kind\":null,\"name\":\"close_modal\"}]}],\"roots\":{\"references\":[{\"attributes\":{\"axis\":{\"id\":\"90613\"},\"coordinates\":null,\"grid_line_color\":null,\"group\":null,\"ticker\":null},\"id\":\"90615\",\"type\":\"Grid\"},{\"attributes\":{\"line_color\":\"#30a2da\",\"line_width\":2,\"x\":{\"field\":\"Vandens telkinio pavadinimas\"},\"y\":{\"field\":\"value\"}},\"id\":\"90659\",\"type\":\"Line\"},{\"attributes\":{\"callback\":null,\"renderers\":[{\"id\":\"90645\"},{\"id\":\"90666\"}],\"tags\":[\"hv_created\"],\"tooltips\":[[\"Variable\",\"@{Variable}\"],[\"Vandens telkinio pavadinimas\",\"@{Vandens_telkinio_pavadinimas}\"],[\"value\",\"@{value}\"]]},\"id\":\"90602\",\"type\":\"HoverTool\"},{\"attributes\":{},\"id\":\"90637\",\"type\":\"BasicTickFormatter\"},{\"attributes\":{},\"id\":\"90638\",\"type\":\"AllLabels\"},{\"attributes\":{\"line_color\":\"#30a2da\",\"line_width\":2,\"x\":{\"field\":\"Vandens telkinio pavadinimas\"},\"y\":{\"field\":\"value\"}},\"id\":\"90642\",\"type\":\"Line\"},{\"attributes\":{},\"id\":\"90677\",\"type\":\"UnionRenderers\"},{\"attributes\":{},\"id\":\"90609\",\"type\":\"CategoricalScale\"},{\"attributes\":{\"line_alpha\":0.1,\"line_color\":\"#fc4f30\",\"line_width\":2,\"x\":{\"field\":\"Vandens telkinio pavadinimas\"},\"y\":{\"field\":\"value\"}},\"id\":\"90664\",\"type\":\"Line\"},{\"attributes\":{\"source\":{\"id\":\"90639\"}},\"id\":\"90646\",\"type\":\"CDSView\"},{\"attributes\":{\"click_policy\":\"mute\",\"coordinates\":null,\"group\":null,\"items\":[{\"id\":\"90658\"},{\"id\":\"90680\"}],\"title\":\"Variable\"},\"id\":\"90657\",\"type\":\"Legend\"},{\"attributes\":{},\"id\":\"90620\",\"type\":\"SaveTool\"},{\"attributes\":{\"axis\":{\"id\":\"90616\"},\"coordinates\":null,\"dimension\":1,\"grid_line_color\":null,\"group\":null,\"ticker\":null},\"id\":\"90619\",\"type\":\"Grid\"},{\"attributes\":{},\"id\":\"90622\",\"type\":\"WheelZoomTool\"},{\"attributes\":{\"coordinates\":null,\"data_source\":{\"id\":\"90660\"},\"glyph\":{\"id\":\"90663\"},\"group\":null,\"hover_glyph\":null,\"muted_glyph\":{\"id\":\"90665\"},\"nonselection_glyph\":{\"id\":\"90664\"},\"selection_glyph\":{\"id\":\"90681\"},\"view\":{\"id\":\"90667\"}},\"id\":\"90666\",\"type\":\"GlyphRenderer\"},{\"attributes\":{\"label\":{\"value\":\"Pl\\u0117\\u0161rios(kg)\"},\"renderers\":[{\"id\":\"90645\"}]},\"id\":\"90658\",\"type\":\"LegendItem\"},{\"attributes\":{},\"id\":\"90621\",\"type\":\"PanTool\"},{\"attributes\":{\"axis_label\":\"Vandens telkinio pavadinimas\",\"coordinates\":null,\"formatter\":{\"id\":\"90634\"},\"group\":null,\"major_label_orientation\":0.8726646259971648,\"major_label_policy\":{\"id\":\"90635\"},\"ticker\":{\"id\":\"90614\"}},\"id\":\"90613\",\"type\":\"CategoricalAxis\"},{\"attributes\":{\"label\":{\"value\":\"Biomas\\u0117(kg)\"},\"renderers\":[{\"id\":\"90666\"}]},\"id\":\"90680\",\"type\":\"LegendItem\"},{\"attributes\":{\"active_drag\":{\"id\":\"90621\"},\"active_scroll\":{\"id\":\"90622\"},\"tools\":[{\"id\":\"90602\"},{\"id\":\"90620\"},{\"id\":\"90621\"},{\"id\":\"90622\"},{\"id\":\"90623\"},{\"id\":\"90624\"}]},\"id\":\"90626\",\"type\":\"Toolbar\"},{\"attributes\":{\"line_alpha\":0.2,\"line_color\":\"#fc4f30\",\"line_width\":2,\"x\":{\"field\":\"Vandens telkinio pavadinimas\"},\"y\":{\"field\":\"value\"}},\"id\":\"90665\",\"type\":\"Line\"},{\"attributes\":{\"bottom_units\":\"screen\",\"coordinates\":null,\"fill_alpha\":0.5,\"fill_color\":\"lightgrey\",\"group\":null,\"left_units\":\"screen\",\"level\":\"overlay\",\"line_alpha\":1.0,\"line_color\":\"black\",\"line_dash\":[4,4],\"line_width\":2,\"right_units\":\"screen\",\"syncable\":false,\"top_units\":\"screen\"},\"id\":\"90625\",\"type\":\"BoxAnnotation\"},{\"attributes\":{},\"id\":\"90634\",\"type\":\"CategoricalTickFormatter\"},{\"attributes\":{},\"id\":\"90654\",\"type\":\"UnionRenderers\"},{\"attributes\":{},\"id\":\"90624\",\"type\":\"ResetTool\"},{\"attributes\":{},\"id\":\"90617\",\"type\":\"BasicTicker\"},{\"attributes\":{\"factors\":[\"Alnis\",\"Arinas\",\"Galuonai\",\"I\\u0161narai\",\"Juodieji Lakajai\",\"Kertuojai\",\"Luk\\u0161tas\",\"Pravalas\",\"Virintai\"],\"tags\":[[[\"Vandens telkinio pavadinimas\",\"Vandens telkinio pavadinimas\",null]]]},\"id\":\"90600\",\"type\":\"FactorRange\"},{\"attributes\":{\"below\":[{\"id\":\"90613\"}],\"center\":[{\"id\":\"90615\"},{\"id\":\"90619\"},{\"id\":\"90657\"}],\"height\":300,\"left\":[{\"id\":\"90616\"}],\"margin\":[5,5,5,5],\"min_border_bottom\":10,\"min_border_left\":10,\"min_border_right\":10,\"min_border_top\":10,\"renderers\":[{\"id\":\"90645\"},{\"id\":\"90666\"}],\"sizing_mode\":\"fixed\",\"title\":{\"id\":\"90605\"},\"toolbar\":{\"id\":\"90626\"},\"width\":700,\"x_range\":{\"id\":\"90600\"},\"x_scale\":{\"id\":\"90609\"},\"y_range\":{\"id\":\"90601\"},\"y_scale\":{\"id\":\"90611\"}},\"id\":\"90604\",\"subtype\":\"Figure\",\"type\":\"Plot\"},{\"attributes\":{\"source\":{\"id\":\"90660\"}},\"id\":\"90667\",\"type\":\"CDSView\"},{\"attributes\":{\"coordinates\":null,\"group\":null,\"text\":\"Mol\\u0117t\\u0173 rajono e\\u017eer\\u0173 \\u017euvingumas\",\"text_color\":\"black\",\"text_font_size\":\"12pt\"},\"id\":\"90605\",\"type\":\"Title\"},{\"attributes\":{\"line_alpha\":0.1,\"line_color\":\"#30a2da\",\"line_width\":2,\"x\":{\"field\":\"Vandens telkinio pavadinimas\"},\"y\":{\"field\":\"value\"}},\"id\":\"90643\",\"type\":\"Line\"},{\"attributes\":{\"data\":{\"Vandens telkinio pavadinimas\":[\"Alnis\",\"Arinas\",\"Galuonai\",\"I\\u0161narai\",\"Juodieji Lakajai\",\"Kertuojai\",\"Luk\\u0161tas\",\"Pravalas\",\"Virintai\"],\"Vandens_telkinio_pavadinimas\":[\"Alnis\",\"Arinas\",\"Galuonai\",\"I\\u0161narai\",\"Juodieji Lakajai\",\"Kertuojai\",\"Luk\\u0161tas\",\"Pravalas\",\"Virintai\"],\"Variable\":[\"Pl\\u0117\\u0161rios(kg)\",\"Pl\\u0117\\u0161rios(kg)\",\"Pl\\u0117\\u0161rios(kg)\",\"Pl\\u0117\\u0161rios(kg)\",\"Pl\\u0117\\u0161rios(kg)\",\"Pl\\u0117\\u0161rios(kg)\",\"Pl\\u0117\\u0161rios(kg)\",\"Pl\\u0117\\u0161rios(kg)\",\"Pl\\u0117\\u0161rios(kg)\"],\"value\":{\"__ndarray__\":\"BFYOLbKd7z/fT42XbhLjP0Jg5dAi2/c/pHA9Ctej2D/b+X5qvHSjPzVeukkMAuM/Gy/dJAaBtT+4HoXrUbieP6rx0k1iEOQ/\",\"dtype\":\"float64\",\"order\":\"little\",\"shape\":[9]}},\"selected\":{\"id\":\"90640\"},\"selection_policy\":{\"id\":\"90654\"}},\"id\":\"90639\",\"type\":\"ColumnDataSource\"},{\"attributes\":{\"overlay\":{\"id\":\"90625\"}},\"id\":\"90623\",\"type\":\"BoxZoomTool\"},{\"attributes\":{\"line_color\":\"#fc4f30\",\"line_width\":2,\"x\":{\"field\":\"Vandens telkinio pavadinimas\"},\"y\":{\"field\":\"value\"}},\"id\":\"90663\",\"type\":\"Line\"},{\"attributes\":{},\"id\":\"90614\",\"type\":\"CategoricalTicker\"},{\"attributes\":{\"line_color\":\"#fc4f30\",\"line_width\":2,\"x\":{\"field\":\"Vandens telkinio pavadinimas\"},\"y\":{\"field\":\"value\"}},\"id\":\"90681\",\"type\":\"Line\"},{\"attributes\":{\"end\":5.1296,\"reset_end\":5.1296,\"reset_start\":-0.4336,\"start\":-0.4336,\"tags\":[[[\"value\",\"value\",null]]]},\"id\":\"90601\",\"type\":\"Range1d\"},{\"attributes\":{\"coordinates\":null,\"data_source\":{\"id\":\"90639\"},\"glyph\":{\"id\":\"90642\"},\"group\":null,\"hover_glyph\":null,\"muted_glyph\":{\"id\":\"90644\"},\"nonselection_glyph\":{\"id\":\"90643\"},\"selection_glyph\":{\"id\":\"90659\"},\"view\":{\"id\":\"90646\"}},\"id\":\"90645\",\"type\":\"GlyphRenderer\"},{\"attributes\":{\"axis_label\":\"\",\"coordinates\":null,\"formatter\":{\"id\":\"90637\"},\"group\":null,\"major_label_policy\":{\"id\":\"90638\"},\"ticker\":{\"id\":\"90617\"}},\"id\":\"90616\",\"type\":\"LinearAxis\"},{\"attributes\":{\"data\":{\"Vandens telkinio pavadinimas\":[\"Alnis\",\"Arinas\",\"Galuonai\",\"I\\u0161narai\",\"Juodieji Lakajai\",\"Kertuojai\",\"Luk\\u0161tas\",\"Pravalas\",\"Virintai\"],\"Vandens_telkinio_pavadinimas\":[\"Alnis\",\"Arinas\",\"Galuonai\",\"I\\u0161narai\",\"Juodieji Lakajai\",\"Kertuojai\",\"Luk\\u0161tas\",\"Pravalas\",\"Virintai\"],\"Variable\":[\"Biomas\\u0117(kg)\",\"Biomas\\u0117(kg)\",\"Biomas\\u0117(kg)\",\"Biomas\\u0117(kg)\",\"Biomas\\u0117(kg)\",\"Biomas\\u0117(kg)\",\"Biomas\\u0117(kg)\",\"Biomas\\u0117(kg)\",\"Biomas\\u0117(kg)\"],\"value\":{\"__ndarray__\":\"/Knx0k1iDkA9CtejcD0QQFg5tMh2vg5AQmDl0CLbDEBSuB6F61EOQF66SQwCKwRARIts5/upEkB56SYxCKwHQPT91HjpJgxA\",\"dtype\":\"float64\",\"order\":\"little\",\"shape\":[9]}},\"selected\":{\"id\":\"90661\"},\"selection_policy\":{\"id\":\"90677\"}},\"id\":\"90660\",\"type\":\"ColumnDataSource\"},{\"attributes\":{\"children\":[{\"id\":\"90604\"}],\"height\":300,\"margin\":[0,0,0,0],\"name\":\"Row50264\",\"sizing_mode\":\"fixed\",\"tags\":[\"embedded\"],\"width\":700},\"id\":\"90599\",\"type\":\"Row\"},{\"attributes\":{},\"id\":\"90635\",\"type\":\"AllLabels\"},{\"attributes\":{},\"id\":\"90640\",\"type\":\"Selection\"},{\"attributes\":{},\"id\":\"90661\",\"type\":\"Selection\"},{\"attributes\":{},\"id\":\"90611\",\"type\":\"LinearScale\"},{\"attributes\":{\"line_alpha\":0.2,\"line_color\":\"#30a2da\",\"line_width\":2,\"x\":{\"field\":\"Vandens telkinio pavadinimas\"},\"y\":{\"field\":\"value\"}},\"id\":\"90644\",\"type\":\"Line\"}],\"root_ids\":[\"90599\"]},\"title\":\"Bokeh Application\",\"version\":\"2.4.3\"}};\n",
       "    var render_items = [{\"docid\":\"9849c680-ba56-406d-92a9-1ef6dbe08f6a\",\"root_ids\":[\"90599\"],\"roots\":{\"90599\":\"c58fbc0c-2d40-4a54-81ec-bd6d9b169fed\"}}];\n",
       "    root.Bokeh.embed.embed_items_notebook(docs_json, render_items);\n",
       "    for (const render_item of render_items) {\n",
       "      for (const root_id of render_item.root_ids) {\n",
       "\tconst id_el = document.getElementById(root_id)\n",
       "\tif (id_el.children.length && (id_el.children[0].className === 'bk-root')) {\n",
       "\t  const root_el = id_el.children[0]\n",
       "\t  root_el.id = root_el.id + '-rendered'\n",
       "\t}\n",
       "      }\n",
       "    }\n",
       "  }\n",
       "  if (root.Bokeh !== undefined && root.Bokeh.Panel !== undefined && ( root['Tabulator'] !== undefined) && ( root['Tabulator'] !== undefined) && ( root['Tabulator'] !== undefined) && ( root['Tabulator'] !== undefined) && ( root['Tabulator'] !== undefined) && ( root['Tabulator'] !== undefined) && ( root['Tabulator'] !== undefined)) {\n",
       "    embed_document(root);\n",
       "  } else {\n",
       "    var attempts = 0;\n",
       "    var timer = setInterval(function(root) {\n",
       "      if (root.Bokeh !== undefined && root.Bokeh.Panel !== undefined && (root['Tabulator'] !== undefined) && (root['Tabulator'] !== undefined) && (root['Tabulator'] !== undefined) && (root['Tabulator'] !== undefined) && (root['Tabulator'] !== undefined) && (root['Tabulator'] !== undefined) && (root['Tabulator'] !== undefined)) {\n",
       "        clearInterval(timer);\n",
       "        embed_document(root);\n",
       "      } else if (document.readyState == \"complete\") {\n",
       "        attempts++;\n",
       "        if (attempts > 200) {\n",
       "          clearInterval(timer);\n",
       "          console.log(\"Bokeh: ERROR: Unable to run BokehJS code because BokehJS library is missing\");\n",
       "        }\n",
       "      }\n",
       "    }, 25, root)\n",
       "  }\n",
       "})(window);</script>"
      ],
      "text/plain": [
       ":NdOverlay   [Variable]\n",
       "   :Curve   [Vandens telkinio pavadinimas]   (value)"
      ]
     },
     "execution_count": 361,
     "metadata": {
      "application/vnd.holoviews_exec.v0+json": {
       "id": "90599"
      }
     },
     "output_type": "execute_result"
    }
   ],
   "source": [
    "pirmas = moletai.hvplot(x='Vandens telkinio pavadinimas', rot=50, y=['Plėšrios(kg)', 'Biomasė(kg)'], kind='line', legend='top_right', title='Molėtų rajono ežerų žuvingumas')\n",
    "pirmas"
   ]
  },
  {
   "cell_type": "code",
   "execution_count": 363,
   "id": "e105cebc-1034-4965-815b-6f99e0c32f0d",
   "metadata": {
    "tags": []
   },
   "outputs": [],
   "source": [
    "# idf = df.interactive()\n",
    "# # radio tipo mygtukai.\n",
    "# y_asis = pn.widgets.RadioButtonGroup(name='Y ašis',\n",
    "#                                     options=['Biomasė(kg)','Plėšrios(kg)'],\n",
    "#                                     button_type='light')\n",
    "# y_asis"
   ]
  },
  {
   "cell_type": "markdown",
   "id": "54529878-59d2-4b51-a5fa-1c5711dbee30",
   "metadata": {
    "tags": []
   },
   "source": [
    "Patikriname žuvų kiekį(biomasę kilogramais) pagal savivaldybes:"
   ]
  },
  {
   "cell_type": "code",
   "execution_count": 364,
   "id": "b0f9015b-2494-4524-912a-43514ed52421",
   "metadata": {
    "tags": []
   },
   "outputs": [],
   "source": [
    "grafikas_pirmas = mano_pipeline.hvplot.bar(x='Savivaldybė', rot=90,\n",
    "                               #by='Savivaldybė', \n",
    "                               y=\"\",\n",
    "                               title = \"Žuvys pagal vietovę\")"
   ]
  },
  {
   "cell_type": "code",
   "execution_count": 365,
   "id": "faf157c8-9306-413d-bffc-8b052c7ff351",
   "metadata": {
    "tags": []
   },
   "outputs": [
    {
     "data": {},
     "metadata": {},
     "output_type": "display_data"
    },
    {
     "data": {},
     "metadata": {},
     "output_type": "display_data"
    },
    {
     "data": {
      "application/vnd.holoviews_exec.v0+json": "",
      "text/html": [
       "<div id='90759'>\n",
       "  <div class=\"bk-root\" id=\"833260dc-20db-4da0-8b94-8c6428facc4e\" data-root-id=\"90759\"></div>\n",
       "</div>\n",
       "<script type=\"application/javascript\">(function(root) {\n",
       "  function embed_document(root) {\n",
       "    var docs_json = {\"e8200d46-d189-4671-8a9a-056a52564b2f\":{\"defs\":[{\"extends\":null,\"module\":null,\"name\":\"ReactiveHTML1\",\"overrides\":[],\"properties\":[]},{\"extends\":null,\"module\":null,\"name\":\"FlexBox1\",\"overrides\":[],\"properties\":[{\"default\":\"flex-start\",\"kind\":null,\"name\":\"align_content\"},{\"default\":\"flex-start\",\"kind\":null,\"name\":\"align_items\"},{\"default\":\"row\",\"kind\":null,\"name\":\"flex_direction\"},{\"default\":\"wrap\",\"kind\":null,\"name\":\"flex_wrap\"},{\"default\":\"flex-start\",\"kind\":null,\"name\":\"justify_content\"}]},{\"extends\":null,\"module\":null,\"name\":\"GridStack1\",\"overrides\":[],\"properties\":[{\"default\":\"warn\",\"kind\":null,\"name\":\"mode\"},{\"default\":null,\"kind\":null,\"name\":\"ncols\"},{\"default\":null,\"kind\":null,\"name\":\"nrows\"},{\"default\":true,\"kind\":null,\"name\":\"allow_resize\"},{\"default\":true,\"kind\":null,\"name\":\"allow_drag\"},{\"default\":[],\"kind\":null,\"name\":\"state\"}]},{\"extends\":null,\"module\":null,\"name\":\"click1\",\"overrides\":[],\"properties\":[{\"default\":\"\",\"kind\":null,\"name\":\"terminal_output\"},{\"default\":\"\",\"kind\":null,\"name\":\"debug_name\"},{\"default\":0,\"kind\":null,\"name\":\"clears\"}]},{\"extends\":null,\"module\":null,\"name\":\"NotificationAreaBase1\",\"overrides\":[],\"properties\":[{\"default\":\"bottom-right\",\"kind\":null,\"name\":\"position\"},{\"default\":0,\"kind\":null,\"name\":\"_clear\"}]},{\"extends\":null,\"module\":null,\"name\":\"NotificationArea1\",\"overrides\":[],\"properties\":[{\"default\":[],\"kind\":null,\"name\":\"notifications\"},{\"default\":\"bottom-right\",\"kind\":null,\"name\":\"position\"},{\"default\":0,\"kind\":null,\"name\":\"_clear\"},{\"default\":[{\"background\":\"#ffc107\",\"icon\":{\"className\":\"fas fa-exclamation-triangle\",\"color\":\"white\",\"tagName\":\"i\"},\"type\":\"warning\"},{\"background\":\"#007bff\",\"icon\":{\"className\":\"fas fa-info-circle\",\"color\":\"white\",\"tagName\":\"i\"},\"type\":\"info\"}],\"kind\":null,\"name\":\"types\"}]},{\"extends\":null,\"module\":null,\"name\":\"Notification\",\"overrides\":[],\"properties\":[{\"default\":null,\"kind\":null,\"name\":\"background\"},{\"default\":3000,\"kind\":null,\"name\":\"duration\"},{\"default\":null,\"kind\":null,\"name\":\"icon\"},{\"default\":\"\",\"kind\":null,\"name\":\"message\"},{\"default\":null,\"kind\":null,\"name\":\"notification_type\"},{\"default\":false,\"kind\":null,\"name\":\"_destroyed\"}]},{\"extends\":null,\"module\":null,\"name\":\"TemplateActions1\",\"overrides\":[],\"properties\":[{\"default\":0,\"kind\":null,\"name\":\"open_modal\"},{\"default\":0,\"kind\":null,\"name\":\"close_modal\"}]},{\"extends\":null,\"module\":null,\"name\":\"MaterialTemplateActions1\",\"overrides\":[],\"properties\":[{\"default\":0,\"kind\":null,\"name\":\"open_modal\"},{\"default\":0,\"kind\":null,\"name\":\"close_modal\"}]}],\"roots\":{\"references\":[{\"attributes\":{},\"id\":\"90789\",\"type\":\"ResetTool\"},{\"attributes\":{\"fill_color\":{\"value\":\"#30a2da\"},\"hatch_color\":{\"value\":\"#30a2da\"},\"top\":{\"field\":\"Biomas\\u0117_left_parenthesis_kg_right_parenthesis\"},\"width\":{\"value\":0.8},\"x\":{\"field\":\"Savivaldyb\\u0117\"}},\"id\":\"90801\",\"type\":\"VBar\"},{\"attributes\":{\"axis_label\":\"Biomas\\u0117(kg)\",\"coordinates\":null,\"formatter\":{\"id\":\"90811\"},\"group\":null,\"major_label_policy\":{\"id\":\"90812\"},\"ticker\":{\"id\":\"90782\"}},\"id\":\"90781\",\"type\":\"LinearAxis\"},{\"attributes\":{\"end\":11.6063,\"reset_end\":11.6063,\"reset_start\":0.0,\"tags\":[[[\"Biomas\\u0117(kg)\",\"Biomas\\u0117(kg)\",null]]]},\"id\":\"90767\",\"type\":\"Range1d\"},{\"attributes\":{},\"id\":\"90808\",\"type\":\"CategoricalTickFormatter\"},{\"attributes\":{\"bottom_units\":\"screen\",\"coordinates\":null,\"fill_alpha\":0.5,\"fill_color\":\"lightgrey\",\"group\":null,\"left_units\":\"screen\",\"level\":\"overlay\",\"line_alpha\":1.0,\"line_color\":\"black\",\"line_dash\":[4,4],\"line_width\":2,\"right_units\":\"screen\",\"syncable\":false,\"top_units\":\"screen\"},\"id\":\"90790\",\"type\":\"BoxAnnotation\"},{\"attributes\":{\"axis\":{\"id\":\"90778\"},\"coordinates\":null,\"grid_line_color\":null,\"group\":null,\"ticker\":null},\"id\":\"90780\",\"type\":\"Grid\"},{\"attributes\":{\"factors\":[\"Akmen\\u0117s r. sav.\",\"Alytaus r. sav.\",\"Druskinink\\u0173 sav.\",\"Ignalinos r. sav.\",\"Kai\\u0161iadori\\u0173 r. sav.\",\"Kretingos r. sav.\",\"K\\u0117daini\\u0173 r. sav.\",\"Lazdij\\u0173 r. sav.\",\"Marijampol\\u0117s sav.\",\"Mol\\u0117t\\u0173 r. sav.\",\"Pakruojo r. sav.\",\"Roki\\u0161kio r. sav.\",\"Tel\\u0161i\\u0173 r. sav.\",\"Trak\\u0173 r. sav.\",\"Ukmerg\\u0117s r. sav.\",\"Utenos r. sav.\",\"Zaras\\u0173 r. sav.\",\"\\u0160al\\u010dinink\\u0173 r. sav.\",\"\\u0160iauli\\u0173 r. sav.\",\"\\u0160ilal\\u0117s r. sav.\",\"\\u0160ven\\u010dioni\\u0173 r. sav.\"],\"tags\":[[[\"Savivaldyb\\u0117\",\"Savivaldyb\\u0117\",null]]]},\"id\":\"90766\",\"type\":\"FactorRange\"},{\"attributes\":{},\"id\":\"90787\",\"type\":\"WheelZoomTool\"},{\"attributes\":{},\"id\":\"90785\",\"type\":\"SaveTool\"},{\"attributes\":{},\"id\":\"90812\",\"type\":\"AllLabels\"},{\"attributes\":{\"axis\":{\"id\":\"90781\"},\"coordinates\":null,\"dimension\":1,\"grid_line_color\":null,\"group\":null,\"ticker\":null},\"id\":\"90784\",\"type\":\"Grid\"},{\"attributes\":{},\"id\":\"90824\",\"type\":\"UnionRenderers\"},{\"attributes\":{\"margin\":[5,5,5,5],\"name\":\"HSpacer50481\",\"sizing_mode\":\"stretch_width\"},\"id\":\"90765\",\"type\":\"Spacer\"},{\"attributes\":{\"active\":0,\"button_type\":\"light\",\"labels\":[\"Biomas\\u0117(kg)\",\"Pl\\u0117\\u0161rios(kg)\"],\"margin\":[5,10,5,10]},\"id\":\"90764\",\"type\":\"RadioButtonGroup\"},{\"attributes\":{\"fill_alpha\":{\"value\":0.1},\"fill_color\":{\"value\":\"#30a2da\"},\"hatch_alpha\":{\"value\":0.1},\"hatch_color\":{\"value\":\"#30a2da\"},\"line_alpha\":{\"value\":0.1},\"top\":{\"field\":\"Biomas\\u0117_left_parenthesis_kg_right_parenthesis\"},\"width\":{\"value\":0.8},\"x\":{\"field\":\"Savivaldyb\\u0117\"}},\"id\":\"90802\",\"type\":\"VBar\"},{\"attributes\":{\"active_drag\":{\"id\":\"90786\"},\"active_scroll\":{\"id\":\"90787\"},\"tools\":[{\"id\":\"90768\"},{\"id\":\"90785\"},{\"id\":\"90786\"},{\"id\":\"90787\"},{\"id\":\"90788\"},{\"id\":\"90789\"}]},\"id\":\"90791\",\"type\":\"Toolbar\"},{\"attributes\":{\"fill_alpha\":{\"value\":0.2},\"fill_color\":{\"value\":\"#30a2da\"},\"hatch_alpha\":{\"value\":0.2},\"hatch_color\":{\"value\":\"#30a2da\"},\"line_alpha\":{\"value\":0.2},\"top\":{\"field\":\"Biomas\\u0117_left_parenthesis_kg_right_parenthesis\"},\"width\":{\"value\":0.8},\"x\":{\"field\":\"Savivaldyb\\u0117\"}},\"id\":\"90803\",\"type\":\"VBar\"},{\"attributes\":{\"end\":11,\"margin\":[5,10,5,10],\"start\":0.0,\"step\":0.1,\"title\":\"\\u017duvies svoris kg\",\"value\":1.3},\"id\":\"90763\",\"type\":\"Slider\"},{\"attributes\":{\"source\":{\"id\":\"90798\"}},\"id\":\"90805\",\"type\":\"CDSView\"},{\"attributes\":{\"bottom\":{\"value\":0},\"fill_alpha\":{\"value\":1.0},\"fill_color\":{\"value\":\"#30a2da\"},\"hatch_alpha\":{\"value\":1.0},\"hatch_color\":{\"value\":\"#30a2da\"},\"hatch_scale\":{\"value\":12.0},\"hatch_weight\":{\"value\":1.0},\"line_alpha\":{\"value\":1.0},\"line_cap\":{\"value\":\"butt\"},\"line_color\":{\"value\":\"black\"},\"line_dash\":{\"value\":[]},\"line_dash_offset\":{\"value\":0},\"line_join\":{\"value\":\"bevel\"},\"line_width\":{\"value\":1},\"top\":{\"field\":\"Biomas\\u0117_left_parenthesis_kg_right_parenthesis\"},\"width\":{\"value\":0.8},\"x\":{\"field\":\"Savivaldyb\\u0117\"}},\"id\":\"90806\",\"type\":\"VBar\"},{\"attributes\":{},\"id\":\"90799\",\"type\":\"Selection\"},{\"attributes\":{\"axis_label\":\"Savivaldyb\\u0117\",\"coordinates\":null,\"formatter\":{\"id\":\"90808\"},\"group\":null,\"major_label_orientation\":1.5707963267948966,\"major_label_policy\":{\"id\":\"90809\"},\"ticker\":{\"id\":\"90779\"}},\"id\":\"90778\",\"type\":\"CategoricalAxis\"},{\"attributes\":{\"client_comm_id\":\"884911eeebcd4518b10f93bb882f83f0\",\"comm_id\":\"952145c50dcd4c758fb9ce59f7bddeb5\",\"plot_id\":\"90759\"},\"id\":\"90857\",\"type\":\"panel.models.comm_manager.CommManager\"},{\"attributes\":{},\"id\":\"90786\",\"type\":\"PanTool\"},{\"attributes\":{},\"id\":\"90809\",\"type\":\"AllLabels\"},{\"attributes\":{},\"id\":\"90776\",\"type\":\"LinearScale\"},{\"attributes\":{\"children\":[{\"id\":\"90761\"},{\"id\":\"90769\"}],\"margin\":[0,0,0,0],\"name\":\"Column50488\"},\"id\":\"90760\",\"type\":\"Column\"},{\"attributes\":{\"data\":{\"Biomas\\u0117_left_parenthesis_kg_right_parenthesis\":{\"__ndarray__\":\"ZmZmZmbmEEDP91PjpZsGQCuHFtnO9xFAObTIdr6fD0C8dJMYBFYHQM3MzMzMzBFAEoPAyqFFC0DD9Shcj8ILQN9PjZduEgNAkxgEVg6tEUC4HoXrUbgDQJMYBFYOLQBAI9v5fmq89j8Sg8DKoUX4P5qZmZmZGRpAx0s3iUEgI0AEVg4tsp0VQPhT46WbRBBAokW28/1UEEAIrBxaZLsSQN0kBoGVQwdASgwCK4cW9T9eukkMAisQQHsUrkfh+iFA9P3UeOkmDEB56SYxCKwHQESLbOf7qRJAXrpJDAIrBEBSuB6F61EOQEJg5dAi2wxAWDm0yHa+DkA9CtejcD0QQPyp8dJNYg5AO99PjZfuE0B3vp8aL90AQCGwcmiR7QBANV66SQwCG0CR7Xw/NV4YQD0K16NwvRVALbKd76dGFUDdJAaBlUP3Pylcj8L16CNA4XoUrkfhFkDZzvdT4yUfQJhuEoPAyglA5/up8dLNEUCkcD0K16MQQNV46SYxCPo/okW28/3U+j+6SQwCK4cOQFCNl24Sg/w/KVyPwvUoIkBSuB6F61ERQGQ730+NVyVADi2yne+nDEArhxbZzvf3P4/C9ShcTyNAj8L1KFyPA0A=\",\"dtype\":\"float64\",\"order\":\"little\",\"shape\":[58]},\"Savivaldyb\\u0117\":[\"Akmen\\u0117s r. sav.\",\"Alytaus r. sav.\",\"Alytaus r. sav.\",\"Druskinink\\u0173 sav.\",\"Druskinink\\u0173 sav.\",\"Ignalinos r. sav.\",\"Ignalinos r. sav.\",\"Ignalinos r. sav.\",\"Ignalinos r. sav.\",\"Ignalinos r. sav.\",\"Ignalinos r. sav.\",\"Ignalinos r. sav.\",\"Ignalinos r. sav.\",\"Kai\\u0161iadori\\u0173 r. sav.\",\"Kretingos r. sav.\",\"K\\u0117daini\\u0173 r. sav.\",\"K\\u0117daini\\u0173 r. sav.\",\"Lazdij\\u0173 r. sav.\",\"Lazdij\\u0173 r. sav.\",\"Lazdij\\u0173 r. sav.\",\"Lazdij\\u0173 r. sav.\",\"Lazdij\\u0173 r. sav.\",\"Lazdij\\u0173 r. sav.\",\"Marijampol\\u0117s sav.\",\"Mol\\u0117t\\u0173 r. sav.\",\"Mol\\u0117t\\u0173 r. sav.\",\"Mol\\u0117t\\u0173 r. sav.\",\"Mol\\u0117t\\u0173 r. sav.\",\"Mol\\u0117t\\u0173 r. sav.\",\"Mol\\u0117t\\u0173 r. sav.\",\"Mol\\u0117t\\u0173 r. sav.\",\"Mol\\u0117t\\u0173 r. sav.\",\"Mol\\u0117t\\u0173 r. sav.\",\"Pakruojo r. sav.\",\"Roki\\u0161kio r. sav.\",\"Tel\\u0161i\\u0173 r. sav.\",\"Tel\\u0161i\\u0173 r. sav.\",\"Tel\\u0161i\\u0173 r. sav.\",\"Trak\\u0173 r. sav.\",\"Trak\\u0173 r. sav.\",\"Trak\\u0173 r. sav.\",\"Trak\\u0173 r. sav.\",\"Ukmerg\\u0117s r. sav.\",\"Ukmerg\\u0117s r. sav.\",\"Utenos r. sav.\",\"Utenos r. sav.\",\"Utenos r. sav.\",\"Utenos r. sav.\",\"Utenos r. sav.\",\"Zaras\\u0173 r. sav.\",\"Zaras\\u0173 r. sav.\",\"Zaras\\u0173 r. sav.\",\"\\u0160al\\u010dinink\\u0173 r. sav.\",\"\\u0160iauli\\u0173 r. sav.\",\"\\u0160ilal\\u0117s r. sav.\",\"\\u0160ven\\u010dioni\\u0173 r. sav.\",\"\\u0160ven\\u010dioni\\u0173 r. sav.\",\"\\u0160ven\\u010dioni\\u0173 r. sav.\"]},\"selected\":{\"id\":\"90799\"},\"selection_policy\":{\"id\":\"90824\"}},\"id\":\"90798\",\"type\":\"ColumnDataSource\"},{\"attributes\":{\"children\":[{\"id\":\"90760\"}],\"margin\":[0,0,0,0],\"name\":\"Row50489\"},\"id\":\"90759\",\"type\":\"Row\"},{\"attributes\":{\"callback\":null,\"renderers\":[{\"id\":\"90804\"}],\"tags\":[\"hv_created\"],\"tooltips\":[[\"Savivaldyb\\u0117\",\"@{Savivaldyb\\u0117}\"],[\"Biomas\\u0117(kg)\",\"@{Biomas\\u0117_left_parenthesis_kg_right_parenthesis}\"]]},\"id\":\"90768\",\"type\":\"HoverTool\"},{\"attributes\":{\"children\":[{\"id\":\"90762\"},{\"id\":\"90765\"}],\"margin\":[0,0,0,0],\"name\":\"Row50482\"},\"id\":\"90761\",\"type\":\"Row\"},{\"attributes\":{},\"id\":\"90811\",\"type\":\"BasicTickFormatter\"},{\"attributes\":{},\"id\":\"90779\",\"type\":\"CategoricalTicker\"},{\"attributes\":{\"children\":[{\"id\":\"90763\"},{\"id\":\"90764\"}],\"margin\":[0,0,0,0],\"name\":\"Column50477\"},\"id\":\"90762\",\"type\":\"Column\"},{\"attributes\":{},\"id\":\"90774\",\"type\":\"CategoricalScale\"},{\"attributes\":{\"coordinates\":null,\"group\":null,\"text\":\"\\u017duvys pagal vietov\\u0119\",\"text_color\":\"black\",\"text_font_size\":\"12pt\"},\"id\":\"90770\",\"type\":\"Title\"},{\"attributes\":{\"coordinates\":null,\"data_source\":{\"id\":\"90798\"},\"glyph\":{\"id\":\"90801\"},\"group\":null,\"hover_glyph\":null,\"muted_glyph\":{\"id\":\"90803\"},\"nonselection_glyph\":{\"id\":\"90802\"},\"selection_glyph\":{\"id\":\"90806\"},\"view\":{\"id\":\"90805\"}},\"id\":\"90804\",\"type\":\"GlyphRenderer\"},{\"attributes\":{},\"id\":\"90782\",\"type\":\"BasicTicker\"},{\"attributes\":{\"overlay\":{\"id\":\"90790\"}},\"id\":\"90788\",\"type\":\"BoxZoomTool\"},{\"attributes\":{\"below\":[{\"id\":\"90778\"}],\"center\":[{\"id\":\"90780\"},{\"id\":\"90784\"}],\"height\":300,\"left\":[{\"id\":\"90781\"}],\"margin\":[5,5,5,5],\"min_border_bottom\":10,\"min_border_left\":10,\"min_border_right\":10,\"min_border_top\":10,\"renderers\":[{\"id\":\"90804\"}],\"sizing_mode\":\"fixed\",\"title\":{\"id\":\"90770\"},\"toolbar\":{\"id\":\"90791\"},\"width\":700,\"x_range\":{\"id\":\"90766\"},\"x_scale\":{\"id\":\"90774\"},\"y_range\":{\"id\":\"90767\"},\"y_scale\":{\"id\":\"90776\"}},\"id\":\"90769\",\"subtype\":\"Figure\",\"type\":\"Plot\"}],\"root_ids\":[\"90759\",\"90857\"]},\"title\":\"Bokeh Application\",\"version\":\"2.4.3\"}};\n",
       "    var render_items = [{\"docid\":\"e8200d46-d189-4671-8a9a-056a52564b2f\",\"root_ids\":[\"90759\"],\"roots\":{\"90759\":\"833260dc-20db-4da0-8b94-8c6428facc4e\"}}];\n",
       "    root.Bokeh.embed.embed_items_notebook(docs_json, render_items);\n",
       "    for (const render_item of render_items) {\n",
       "      for (const root_id of render_item.root_ids) {\n",
       "\tconst id_el = document.getElementById(root_id)\n",
       "\tif (id_el.children.length && (id_el.children[0].className === 'bk-root')) {\n",
       "\t  const root_el = id_el.children[0]\n",
       "\t  root_el.id = root_el.id + '-rendered'\n",
       "\t}\n",
       "      }\n",
       "    }\n",
       "  }\n",
       "  if (root.Bokeh !== undefined && root.Bokeh.Panel !== undefined && ( root['Tabulator'] !== undefined) && ( root['Tabulator'] !== undefined) && ( root['Tabulator'] !== undefined) && ( root['Tabulator'] !== undefined) && ( root['Tabulator'] !== undefined) && ( root['Tabulator'] !== undefined) && ( root['Tabulator'] !== undefined)) {\n",
       "    embed_document(root);\n",
       "  } else {\n",
       "    var attempts = 0;\n",
       "    var timer = setInterval(function(root) {\n",
       "      if (root.Bokeh !== undefined && root.Bokeh.Panel !== undefined && (root['Tabulator'] !== undefined) && (root['Tabulator'] !== undefined) && (root['Tabulator'] !== undefined) && (root['Tabulator'] !== undefined) && (root['Tabulator'] !== undefined) && (root['Tabulator'] !== undefined) && (root['Tabulator'] !== undefined)) {\n",
       "        clearInterval(timer);\n",
       "        embed_document(root);\n",
       "      } else if (document.readyState == \"complete\") {\n",
       "        attempts++;\n",
       "        if (attempts > 200) {\n",
       "          clearInterval(timer);\n",
       "          console.log(\"Bokeh: ERROR: Unable to run BokehJS code because BokehJS library is missing\");\n",
       "        }\n",
       "      }\n",
       "    }, 25, root)\n",
       "  }\n",
       "})(window);</script>"
      ],
      "text/plain": [
       "<hvplot.interactive.Interactive at 0x214a4ba8e10>"
      ]
     },
     "execution_count": 365,
     "metadata": {
      "application/vnd.holoviews_exec.v0+json": {
       "id": "90759"
      }
     },
     "output_type": "execute_result"
    }
   ],
   "source": [
    "grafikas_pirmas"
   ]
  },
  {
   "cell_type": "markdown",
   "id": "a13396f2-c039-4dca-a207-1c5fb02f8eaf",
   "metadata": {
    "tags": []
   },
   "source": [
    "Surandame bendrus žuvų svorius pagal savivaldybes:"
   ]
  },
  {
   "cell_type": "code",
   "execution_count": 372,
   "id": "304d8bfb-e7f9-471e-a973-2bf015e866d9",
   "metadata": {
    "tags": []
   },
   "outputs": [],
   "source": [
    "ketvirtas = df.hvplot.scatter(x='Savivaldybė', rot=90, y='Biomasė(kg)',\n",
    "                  legend='right', height=400, width=400, title=\"Bendras svoris(kg) pagal savivaldybes\")"
   ]
  },
  {
   "cell_type": "code",
   "execution_count": 373,
   "id": "c6ac96a4-b63b-48b2-9218-19cc7a884f9f",
   "metadata": {
    "tags": []
   },
   "outputs": [
    {
     "data": {
      "application/vnd.holoviews_exec.v0+json": "",
      "text/html": [
       "<div id='91134'>\n",
       "  <div class=\"bk-root\" id=\"20e65675-4f3d-40b3-a3cf-a9d06f0ebe6e\" data-root-id=\"91134\"></div>\n",
       "</div>\n",
       "<script type=\"application/javascript\">(function(root) {\n",
       "  function embed_document(root) {\n",
       "    var docs_json = {\"4c6f5fb0-e893-4873-bd16-02c456ab01ba\":{\"defs\":[{\"extends\":null,\"module\":null,\"name\":\"ReactiveHTML1\",\"overrides\":[],\"properties\":[]},{\"extends\":null,\"module\":null,\"name\":\"FlexBox1\",\"overrides\":[],\"properties\":[{\"default\":\"flex-start\",\"kind\":null,\"name\":\"align_content\"},{\"default\":\"flex-start\",\"kind\":null,\"name\":\"align_items\"},{\"default\":\"row\",\"kind\":null,\"name\":\"flex_direction\"},{\"default\":\"wrap\",\"kind\":null,\"name\":\"flex_wrap\"},{\"default\":\"flex-start\",\"kind\":null,\"name\":\"justify_content\"}]},{\"extends\":null,\"module\":null,\"name\":\"GridStack1\",\"overrides\":[],\"properties\":[{\"default\":\"warn\",\"kind\":null,\"name\":\"mode\"},{\"default\":null,\"kind\":null,\"name\":\"ncols\"},{\"default\":null,\"kind\":null,\"name\":\"nrows\"},{\"default\":true,\"kind\":null,\"name\":\"allow_resize\"},{\"default\":true,\"kind\":null,\"name\":\"allow_drag\"},{\"default\":[],\"kind\":null,\"name\":\"state\"}]},{\"extends\":null,\"module\":null,\"name\":\"click1\",\"overrides\":[],\"properties\":[{\"default\":\"\",\"kind\":null,\"name\":\"terminal_output\"},{\"default\":\"\",\"kind\":null,\"name\":\"debug_name\"},{\"default\":0,\"kind\":null,\"name\":\"clears\"}]},{\"extends\":null,\"module\":null,\"name\":\"NotificationAreaBase1\",\"overrides\":[],\"properties\":[{\"default\":\"bottom-right\",\"kind\":null,\"name\":\"position\"},{\"default\":0,\"kind\":null,\"name\":\"_clear\"}]},{\"extends\":null,\"module\":null,\"name\":\"NotificationArea1\",\"overrides\":[],\"properties\":[{\"default\":[],\"kind\":null,\"name\":\"notifications\"},{\"default\":\"bottom-right\",\"kind\":null,\"name\":\"position\"},{\"default\":0,\"kind\":null,\"name\":\"_clear\"},{\"default\":[{\"background\":\"#ffc107\",\"icon\":{\"className\":\"fas fa-exclamation-triangle\",\"color\":\"white\",\"tagName\":\"i\"},\"type\":\"warning\"},{\"background\":\"#007bff\",\"icon\":{\"className\":\"fas fa-info-circle\",\"color\":\"white\",\"tagName\":\"i\"},\"type\":\"info\"}],\"kind\":null,\"name\":\"types\"}]},{\"extends\":null,\"module\":null,\"name\":\"Notification\",\"overrides\":[],\"properties\":[{\"default\":null,\"kind\":null,\"name\":\"background\"},{\"default\":3000,\"kind\":null,\"name\":\"duration\"},{\"default\":null,\"kind\":null,\"name\":\"icon\"},{\"default\":\"\",\"kind\":null,\"name\":\"message\"},{\"default\":null,\"kind\":null,\"name\":\"notification_type\"},{\"default\":false,\"kind\":null,\"name\":\"_destroyed\"}]},{\"extends\":null,\"module\":null,\"name\":\"TemplateActions1\",\"overrides\":[],\"properties\":[{\"default\":0,\"kind\":null,\"name\":\"open_modal\"},{\"default\":0,\"kind\":null,\"name\":\"close_modal\"}]},{\"extends\":null,\"module\":null,\"name\":\"MaterialTemplateActions1\",\"overrides\":[],\"properties\":[{\"default\":0,\"kind\":null,\"name\":\"open_modal\"},{\"default\":0,\"kind\":null,\"name\":\"close_modal\"}]}],\"roots\":{\"references\":[{\"attributes\":{\"end\":11.6154,\"reset_end\":11.6154,\"reset_start\":0.2826000000000002,\"start\":0.2826000000000002,\"tags\":[[[\"Biomas\\u0117(kg)\",\"Biomas\\u0117(kg)\",null]]]},\"id\":\"91136\",\"type\":\"Range1d\"},{\"attributes\":{\"active_drag\":{\"id\":\"91155\"},\"active_scroll\":{\"id\":\"91156\"},\"tools\":[{\"id\":\"91137\"},{\"id\":\"91154\"},{\"id\":\"91155\"},{\"id\":\"91156\"},{\"id\":\"91157\"},{\"id\":\"91158\"}]},\"id\":\"91160\",\"type\":\"Toolbar\"},{\"attributes\":{\"fill_alpha\":{\"value\":0.1},\"fill_color\":{\"value\":\"#30a2da\"},\"hatch_alpha\":{\"value\":0.1},\"hatch_color\":{\"value\":\"#30a2da\"},\"line_alpha\":{\"value\":0.1},\"line_color\":{\"value\":\"#30a2da\"},\"size\":{\"value\":5.477225575051661},\"x\":{\"field\":\"Savivaldyb\\u0117\"},\"y\":{\"field\":\"Biomas\\u0117(kg)\"}},\"id\":\"91171\",\"type\":\"Scatter\"},{\"attributes\":{\"overlay\":{\"id\":\"91159\"}},\"id\":\"91157\",\"type\":\"BoxZoomTool\"},{\"attributes\":{},\"id\":\"91193\",\"type\":\"UnionRenderers\"},{\"attributes\":{\"below\":[{\"id\":\"91147\"}],\"center\":[{\"id\":\"91149\"},{\"id\":\"91153\"}],\"height\":400,\"left\":[{\"id\":\"91150\"}],\"margin\":[5,5,5,5],\"min_border_bottom\":10,\"min_border_left\":10,\"min_border_right\":10,\"min_border_top\":10,\"renderers\":[{\"id\":\"91173\"}],\"sizing_mode\":\"fixed\",\"title\":{\"id\":\"91139\"},\"toolbar\":{\"id\":\"91160\"},\"width\":400,\"x_range\":{\"id\":\"91135\"},\"x_scale\":{\"id\":\"91143\"},\"y_range\":{\"id\":\"91136\"},\"y_scale\":{\"id\":\"91145\"}},\"id\":\"91138\",\"subtype\":\"Figure\",\"type\":\"Plot\"},{\"attributes\":{\"fill_alpha\":{\"value\":0.2},\"fill_color\":{\"value\":\"#30a2da\"},\"hatch_alpha\":{\"value\":0.2},\"hatch_color\":{\"value\":\"#30a2da\"},\"line_alpha\":{\"value\":0.2},\"line_color\":{\"value\":\"#30a2da\"},\"size\":{\"value\":5.477225575051661},\"x\":{\"field\":\"Savivaldyb\\u0117\"},\"y\":{\"field\":\"Biomas\\u0117(kg)\"}},\"id\":\"91172\",\"type\":\"Scatter\"},{\"attributes\":{},\"id\":\"91151\",\"type\":\"BasicTicker\"},{\"attributes\":{},\"id\":\"91143\",\"type\":\"CategoricalScale\"},{\"attributes\":{\"bottom_units\":\"screen\",\"coordinates\":null,\"fill_alpha\":0.5,\"fill_color\":\"lightgrey\",\"group\":null,\"left_units\":\"screen\",\"level\":\"overlay\",\"line_alpha\":1.0,\"line_color\":\"black\",\"line_dash\":[4,4],\"line_width\":2,\"right_units\":\"screen\",\"syncable\":false,\"top_units\":\"screen\"},\"id\":\"91159\",\"type\":\"BoxAnnotation\"},{\"attributes\":{},\"id\":\"91158\",\"type\":\"ResetTool\"},{\"attributes\":{\"axis\":{\"id\":\"91150\"},\"coordinates\":null,\"dimension\":1,\"grid_line_color\":null,\"group\":null,\"ticker\":null},\"id\":\"91153\",\"type\":\"Grid\"},{\"attributes\":{},\"id\":\"91181\",\"type\":\"AllLabels\"},{\"attributes\":{\"axis_label\":\"Savivaldyb\\u0117\",\"coordinates\":null,\"formatter\":{\"id\":\"91177\"},\"group\":null,\"major_label_orientation\":1.5707963267948966,\"major_label_policy\":{\"id\":\"91178\"},\"ticker\":{\"id\":\"91148\"}},\"id\":\"91147\",\"type\":\"CategoricalAxis\"},{\"attributes\":{\"axis\":{\"id\":\"91147\"},\"coordinates\":null,\"grid_line_color\":null,\"group\":null,\"ticker\":null},\"id\":\"91149\",\"type\":\"Grid\"},{\"attributes\":{},\"id\":\"91178\",\"type\":\"AllLabels\"},{\"attributes\":{},\"id\":\"91145\",\"type\":\"LinearScale\"},{\"attributes\":{\"children\":[{\"id\":\"91138\"}],\"height\":400,\"margin\":[0,0,0,0],\"name\":\"Row51023\",\"sizing_mode\":\"fixed\",\"tags\":[\"embedded\"],\"width\":400},\"id\":\"91134\",\"type\":\"Row\"},{\"attributes\":{\"source\":{\"id\":\"91167\"}},\"id\":\"91174\",\"type\":\"CDSView\"},{\"attributes\":{\"angle\":{\"value\":0.0},\"fill_alpha\":{\"value\":1.0},\"fill_color\":{\"value\":\"#30a2da\"},\"hatch_alpha\":{\"value\":1.0},\"hatch_color\":{\"value\":\"#30a2da\"},\"hatch_scale\":{\"value\":12.0},\"hatch_weight\":{\"value\":1.0},\"line_alpha\":{\"value\":1.0},\"line_cap\":{\"value\":\"butt\"},\"line_color\":{\"value\":\"#30a2da\"},\"line_dash\":{\"value\":[]},\"line_dash_offset\":{\"value\":0},\"line_join\":{\"value\":\"bevel\"},\"line_width\":{\"value\":1},\"marker\":{\"value\":\"circle\"},\"size\":{\"value\":5.477225575051661},\"x\":{\"field\":\"Savivaldyb\\u0117\"},\"y\":{\"field\":\"Biomas\\u0117(kg)\"}},\"id\":\"91175\",\"type\":\"Scatter\"},{\"attributes\":{\"callback\":null,\"renderers\":[{\"id\":\"91173\"}],\"tags\":[\"hv_created\"],\"tooltips\":[[\"Savivaldyb\\u0117\",\"@{Savivaldyb\\u0117}\"],[\"Biomas\\u0117(kg)\",\"@{Biomas\\u0117_left_parenthesis_kg_right_parenthesis}\"]]},\"id\":\"91137\",\"type\":\"HoverTool\"},{\"attributes\":{\"factors\":[\"Utenos r. sav.\",\"Ignalinos r. sav.\",\"Mol\\u0117t\\u0173 r. sav.\",\"Trak\\u0173 r. sav.\",\"Marijampol\\u0117s sav.\",\"Zaras\\u0173 r. sav.\",\"Alytaus r. sav.\",\"Druskinink\\u0173 sav.\",\"Lazdij\\u0173 r. sav.\",\"\\u0160ven\\u010dioni\\u0173 r. sav.\",\"Roki\\u0161kio r. sav.\",\"Tel\\u0161i\\u0173 r. sav.\",\"Pakruojo r. sav.\",\"\\u0160al\\u010dinink\\u0173 r. sav.\",\"\\u0160iauli\\u0173 r. sav.\",\"Ukmerg\\u0117s r. sav.\",\"K\\u0117daini\\u0173 r. sav.\",\"Kretingos r. sav.\",\"Kai\\u0161iadori\\u0173 r. sav.\",\"\\u0160ilal\\u0117s r. sav.\",\"Akmen\\u0117s r. sav.\",\"Elektr\\u0117n\\u0173 sav.\",\"Anyk\\u0161\\u010di\\u0173 r. sav.\"],\"tags\":[[[\"Savivaldyb\\u0117\",\"Savivaldyb\\u0117\",null]]]},\"id\":\"91135\",\"type\":\"FactorRange\"},{\"attributes\":{},\"id\":\"91154\",\"type\":\"SaveTool\"},{\"attributes\":{\"data\":{\"Biomas\\u0117(kg)\":{\"__ndarray__\":\"16NwPQrX+z9vEoPAyqHzP/yp8dJNYg5APQrXo3C9FUB7FK5H4fohQM3MzMzMzBFAPQrXo3A9EEASg8DKoUULQLpJDAIrhw5Az/dT46WbBkAtsp3vp0YVQDm0yHa+nw9A+FPjpZtEEECPwvUoXE8jQHe+nxov3QBAIbByaJHtAEA730+Nl+4TQFK4HoXrURFAokW28/1UEEBYObTIdr4OQMP1KFyPwgtAZDvfT41XJUDdJAaBlUP3P0Jg5dAi2wxAUrgehetRDkDZzvdT4yUfQF66SQwCKwRAK4cW2c739z/HSzeJQSAjQJqZmZmZGRpARIts5/upEkASg8DKoUX4P+F6FK5H4RZA30+Nl24SA0A1XrpJDAIbQJMYBFYOrRFABFYOLbKdFUC4HoXrUbgDQA4tsp3vpwxAeekmMQisB0CTGARWDi0AQGZmZmZm5hBACKwcWmS7EkApXI/C9egjQCuHFtnO9xFAI9v5fmq89j+YbhKDwMoJQJHtfD81XhhA5/up8dLNEUCkcD0K16MQQNV46SYxCPo/j8L1KFyPA0CiRbbz/dT6Py/dJAaBFR9AAAAAAACAGEC8dJMYBFYHQN0kBoGVQwdA9P3UeOkmDEBKDAIrhxb1P1CNl24Sg/w/KVyPwvUoIkBeukkMAisQQA==\",\"dtype\":\"float64\",\"order\":\"little\",\"shape\":[62]},\"Biomas\\u0117_left_parenthesis_kg_right_parenthesis\":{\"__ndarray__\":\"16NwPQrX+z9vEoPAyqHzP/yp8dJNYg5APQrXo3C9FUB7FK5H4fohQM3MzMzMzBFAPQrXo3A9EEASg8DKoUULQLpJDAIrhw5Az/dT46WbBkAtsp3vp0YVQDm0yHa+nw9A+FPjpZtEEECPwvUoXE8jQHe+nxov3QBAIbByaJHtAEA730+Nl+4TQFK4HoXrURFAokW28/1UEEBYObTIdr4OQMP1KFyPwgtAZDvfT41XJUDdJAaBlUP3P0Jg5dAi2wxAUrgehetRDkDZzvdT4yUfQF66SQwCKwRAK4cW2c739z/HSzeJQSAjQJqZmZmZGRpARIts5/upEkASg8DKoUX4P+F6FK5H4RZA30+Nl24SA0A1XrpJDAIbQJMYBFYOrRFABFYOLbKdFUC4HoXrUbgDQA4tsp3vpwxAeekmMQisB0CTGARWDi0AQGZmZmZm5hBACKwcWmS7EkApXI/C9egjQCuHFtnO9xFAI9v5fmq89j+YbhKDwMoJQJHtfD81XhhA5/up8dLNEUCkcD0K16MQQNV46SYxCPo/j8L1KFyPA0CiRbbz/dT6Py/dJAaBFR9AAAAAAACAGEC8dJMYBFYHQN0kBoGVQwdA9P3UeOkmDEBKDAIrhxb1P1CNl24Sg/w/KVyPwvUoIkBeukkMAisQQA==\",\"dtype\":\"float64\",\"order\":\"little\",\"shape\":[62]},\"Savivaldyb\\u0117\":[\"Utenos r. sav.\",\"Ignalinos r. sav.\",\"Mol\\u0117t\\u0173 r. sav.\",\"Trak\\u0173 r. sav.\",\"Marijampol\\u0117s sav.\",\"Ignalinos r. sav.\",\"Mol\\u0117t\\u0173 r. sav.\",\"Ignalinos r. sav.\",\"Zaras\\u0173 r. sav.\",\"Alytaus r. sav.\",\"Trak\\u0173 r. sav.\",\"Druskinink\\u0173 sav.\",\"Lazdij\\u0173 r. sav.\",\"\\u0160ven\\u010dioni\\u0173 r. sav.\",\"Roki\\u0161kio r. sav.\",\"Tel\\u0161i\\u0173 r. sav.\",\"Pakruojo r. sav.\",\"\\u0160al\\u010dinink\\u0173 r. sav.\",\"Lazdij\\u0173 r. sav.\",\"Mol\\u0117t\\u0173 r. sav.\",\"Ignalinos r. sav.\",\"\\u0160iauli\\u0173 r. sav.\",\"Trak\\u0173 r. sav.\",\"Mol\\u0117t\\u0173 r. sav.\",\"Mol\\u0117t\\u0173 r. sav.\",\"Ukmerg\\u0117s r. sav.\",\"Mol\\u0117t\\u0173 r. sav.\",\"\\u0160ven\\u010dioni\\u0173 r. sav.\",\"K\\u0117daini\\u0173 r. sav.\",\"Kretingos r. sav.\",\"Mol\\u0117t\\u0173 r. sav.\",\"Kai\\u0161iadori\\u0173 r. sav.\",\"Ukmerg\\u0117s r. sav.\",\"Ignalinos r. sav.\",\"Tel\\u0161i\\u0173 r. sav.\",\"Ignalinos r. sav.\",\"K\\u0117daini\\u0173 r. sav.\",\"Ignalinos r. sav.\",\"\\u0160ilal\\u0117s r. sav.\",\"Mol\\u0117t\\u0173 r. sav.\",\"Ignalinos r. sav.\",\"Akmen\\u0117s r. sav.\",\"Lazdij\\u0173 r. sav.\",\"Trak\\u0173 r. sav.\",\"Alytaus r. sav.\",\"Ignalinos r. sav.\",\"Utenos r. sav.\",\"Tel\\u0161i\\u0173 r. sav.\",\"Utenos r. sav.\",\"Utenos r. sav.\",\"Utenos r. sav.\",\"\\u0160ven\\u010dioni\\u0173 r. sav.\",\"Utenos r. sav.\",\"Elektr\\u0117n\\u0173 sav.\",\"Anyk\\u0161\\u010di\\u0173 r. sav.\",\"Druskinink\\u0173 sav.\",\"Lazdij\\u0173 r. sav.\",\"Mol\\u0117t\\u0173 r. sav.\",\"Lazdij\\u0173 r. sav.\",\"Zaras\\u0173 r. sav.\",\"Zaras\\u0173 r. sav.\",\"Lazdij\\u0173 r. sav.\"]},\"selected\":{\"id\":\"91168\"},\"selection_policy\":{\"id\":\"91193\"}},\"id\":\"91167\",\"type\":\"ColumnDataSource\"},{\"attributes\":{},\"id\":\"91148\",\"type\":\"CategoricalTicker\"},{\"attributes\":{\"fill_color\":{\"value\":\"#30a2da\"},\"hatch_color\":{\"value\":\"#30a2da\"},\"line_color\":{\"value\":\"#30a2da\"},\"size\":{\"value\":5.477225575051661},\"x\":{\"field\":\"Savivaldyb\\u0117\"},\"y\":{\"field\":\"Biomas\\u0117(kg)\"}},\"id\":\"91170\",\"type\":\"Scatter\"},{\"attributes\":{\"coordinates\":null,\"group\":null,\"text\":\"Bendras svoris(kg) pagal savivaldybes\",\"text_color\":\"black\",\"text_font_size\":\"12pt\"},\"id\":\"91139\",\"type\":\"Title\"},{\"attributes\":{},\"id\":\"91155\",\"type\":\"PanTool\"},{\"attributes\":{},\"id\":\"91180\",\"type\":\"BasicTickFormatter\"},{\"attributes\":{},\"id\":\"91177\",\"type\":\"CategoricalTickFormatter\"},{\"attributes\":{\"coordinates\":null,\"data_source\":{\"id\":\"91167\"},\"glyph\":{\"id\":\"91170\"},\"group\":null,\"hover_glyph\":null,\"muted_glyph\":{\"id\":\"91172\"},\"nonselection_glyph\":{\"id\":\"91171\"},\"selection_glyph\":{\"id\":\"91175\"},\"view\":{\"id\":\"91174\"}},\"id\":\"91173\",\"type\":\"GlyphRenderer\"},{\"attributes\":{},\"id\":\"91168\",\"type\":\"Selection\"},{\"attributes\":{\"axis_label\":\"Biomas\\u0117(kg)\",\"coordinates\":null,\"formatter\":{\"id\":\"91180\"},\"group\":null,\"major_label_policy\":{\"id\":\"91181\"},\"ticker\":{\"id\":\"91151\"}},\"id\":\"91150\",\"type\":\"LinearAxis\"},{\"attributes\":{},\"id\":\"91156\",\"type\":\"WheelZoomTool\"}],\"root_ids\":[\"91134\"]},\"title\":\"Bokeh Application\",\"version\":\"2.4.3\"}};\n",
       "    var render_items = [{\"docid\":\"4c6f5fb0-e893-4873-bd16-02c456ab01ba\",\"root_ids\":[\"91134\"],\"roots\":{\"91134\":\"20e65675-4f3d-40b3-a3cf-a9d06f0ebe6e\"}}];\n",
       "    root.Bokeh.embed.embed_items_notebook(docs_json, render_items);\n",
       "    for (const render_item of render_items) {\n",
       "      for (const root_id of render_item.root_ids) {\n",
       "\tconst id_el = document.getElementById(root_id)\n",
       "\tif (id_el.children.length && (id_el.children[0].className === 'bk-root')) {\n",
       "\t  const root_el = id_el.children[0]\n",
       "\t  root_el.id = root_el.id + '-rendered'\n",
       "\t}\n",
       "      }\n",
       "    }\n",
       "  }\n",
       "  if (root.Bokeh !== undefined && root.Bokeh.Panel !== undefined && ( root['Tabulator'] !== undefined) && ( root['Tabulator'] !== undefined) && ( root['Tabulator'] !== undefined) && ( root['Tabulator'] !== undefined) && ( root['Tabulator'] !== undefined) && ( root['Tabulator'] !== undefined) && ( root['Tabulator'] !== undefined)) {\n",
       "    embed_document(root);\n",
       "  } else {\n",
       "    var attempts = 0;\n",
       "    var timer = setInterval(function(root) {\n",
       "      if (root.Bokeh !== undefined && root.Bokeh.Panel !== undefined && (root['Tabulator'] !== undefined) && (root['Tabulator'] !== undefined) && (root['Tabulator'] !== undefined) && (root['Tabulator'] !== undefined) && (root['Tabulator'] !== undefined) && (root['Tabulator'] !== undefined) && (root['Tabulator'] !== undefined)) {\n",
       "        clearInterval(timer);\n",
       "        embed_document(root);\n",
       "      } else if (document.readyState == \"complete\") {\n",
       "        attempts++;\n",
       "        if (attempts > 200) {\n",
       "          clearInterval(timer);\n",
       "          console.log(\"Bokeh: ERROR: Unable to run BokehJS code because BokehJS library is missing\");\n",
       "        }\n",
       "      }\n",
       "    }, 25, root)\n",
       "  }\n",
       "})(window);</script>"
      ],
      "text/plain": [
       ":Scatter   [Savivaldybė]   (Biomasė(kg))"
      ]
     },
     "execution_count": 373,
     "metadata": {
      "application/vnd.holoviews_exec.v0+json": {
       "id": "91134"
      }
     },
     "output_type": "execute_result"
    }
   ],
   "source": [
    "ketvirtas"
   ]
  },
  {
   "cell_type": "markdown",
   "id": "04771f95-2664-468b-b3c2-2dd54c529be6",
   "metadata": {},
   "source": [
    "Surandame bendrą laimikį ir jo plėšrių žuvų dalį:"
   ]
  },
  {
   "cell_type": "code",
   "execution_count": 375,
   "id": "d4069629-be54-4bc7-a9cf-3551420f0fd5",
   "metadata": {
    "tags": []
   },
   "outputs": [
    {
     "data": {
      "application/vnd.holoviews_exec.v0+json": "",
      "text/html": [
       "<div id='91373'>\n",
       "  <div class=\"bk-root\" id=\"020d0712-66da-4b83-9d35-c6dc28ee6a18\" data-root-id=\"91373\"></div>\n",
       "</div>\n",
       "<script type=\"application/javascript\">(function(root) {\n",
       "  function embed_document(root) {\n",
       "    var docs_json = {\"3c9a55a0-741a-411d-be30-3f4b63e82590\":{\"defs\":[{\"extends\":null,\"module\":null,\"name\":\"ReactiveHTML1\",\"overrides\":[],\"properties\":[]},{\"extends\":null,\"module\":null,\"name\":\"FlexBox1\",\"overrides\":[],\"properties\":[{\"default\":\"flex-start\",\"kind\":null,\"name\":\"align_content\"},{\"default\":\"flex-start\",\"kind\":null,\"name\":\"align_items\"},{\"default\":\"row\",\"kind\":null,\"name\":\"flex_direction\"},{\"default\":\"wrap\",\"kind\":null,\"name\":\"flex_wrap\"},{\"default\":\"flex-start\",\"kind\":null,\"name\":\"justify_content\"}]},{\"extends\":null,\"module\":null,\"name\":\"GridStack1\",\"overrides\":[],\"properties\":[{\"default\":\"warn\",\"kind\":null,\"name\":\"mode\"},{\"default\":null,\"kind\":null,\"name\":\"ncols\"},{\"default\":null,\"kind\":null,\"name\":\"nrows\"},{\"default\":true,\"kind\":null,\"name\":\"allow_resize\"},{\"default\":true,\"kind\":null,\"name\":\"allow_drag\"},{\"default\":[],\"kind\":null,\"name\":\"state\"}]},{\"extends\":null,\"module\":null,\"name\":\"click1\",\"overrides\":[],\"properties\":[{\"default\":\"\",\"kind\":null,\"name\":\"terminal_output\"},{\"default\":\"\",\"kind\":null,\"name\":\"debug_name\"},{\"default\":0,\"kind\":null,\"name\":\"clears\"}]},{\"extends\":null,\"module\":null,\"name\":\"NotificationAreaBase1\",\"overrides\":[],\"properties\":[{\"default\":\"bottom-right\",\"kind\":null,\"name\":\"position\"},{\"default\":0,\"kind\":null,\"name\":\"_clear\"}]},{\"extends\":null,\"module\":null,\"name\":\"NotificationArea1\",\"overrides\":[],\"properties\":[{\"default\":[],\"kind\":null,\"name\":\"notifications\"},{\"default\":\"bottom-right\",\"kind\":null,\"name\":\"position\"},{\"default\":0,\"kind\":null,\"name\":\"_clear\"},{\"default\":[{\"background\":\"#ffc107\",\"icon\":{\"className\":\"fas fa-exclamation-triangle\",\"color\":\"white\",\"tagName\":\"i\"},\"type\":\"warning\"},{\"background\":\"#007bff\",\"icon\":{\"className\":\"fas fa-info-circle\",\"color\":\"white\",\"tagName\":\"i\"},\"type\":\"info\"}],\"kind\":null,\"name\":\"types\"}]},{\"extends\":null,\"module\":null,\"name\":\"Notification\",\"overrides\":[],\"properties\":[{\"default\":null,\"kind\":null,\"name\":\"background\"},{\"default\":3000,\"kind\":null,\"name\":\"duration\"},{\"default\":null,\"kind\":null,\"name\":\"icon\"},{\"default\":\"\",\"kind\":null,\"name\":\"message\"},{\"default\":null,\"kind\":null,\"name\":\"notification_type\"},{\"default\":false,\"kind\":null,\"name\":\"_destroyed\"}]},{\"extends\":null,\"module\":null,\"name\":\"TemplateActions1\",\"overrides\":[],\"properties\":[{\"default\":0,\"kind\":null,\"name\":\"open_modal\"},{\"default\":0,\"kind\":null,\"name\":\"close_modal\"}]},{\"extends\":null,\"module\":null,\"name\":\"MaterialTemplateActions1\",\"overrides\":[],\"properties\":[{\"default\":0,\"kind\":null,\"name\":\"open_modal\"},{\"default\":0,\"kind\":null,\"name\":\"close_modal\"}]}],\"roots\":{\"references\":[{\"attributes\":{},\"id\":\"91382\",\"type\":\"CategoricalScale\"},{\"attributes\":{\"children\":[{\"id\":\"91377\"}],\"height\":400,\"margin\":[0,0,0,0],\"name\":\"Row51294\",\"sizing_mode\":\"fixed\",\"tags\":[\"embedded\"],\"width\":800},\"id\":\"91373\",\"type\":\"Row\"},{\"attributes\":{\"axis\":{\"id\":\"91389\"},\"coordinates\":null,\"dimension\":1,\"grid_line_color\":null,\"group\":null,\"ticker\":null},\"id\":\"91392\",\"type\":\"Grid\"},{\"attributes\":{\"overlay\":{\"id\":\"91398\"}},\"id\":\"91396\",\"type\":\"BoxZoomTool\"},{\"attributes\":{\"coordinates\":null,\"group\":null,\"text\":\"Bendras laimikis ir jo pl\\u0117\\u0161ri dalis\",\"text_color\":\"black\",\"text_font_size\":\"12pt\"},\"id\":\"91378\",\"type\":\"Title\"},{\"attributes\":{\"end\":13.4046,\"reset_end\":13.4046,\"reset_start\":0.0,\"tags\":[[[\"value\",\"value\",null]]]},\"id\":\"91375\",\"type\":\"Range1d\"},{\"attributes\":{\"axis_label\":\"Vandens telkinio pavadinimas\",\"coordinates\":null,\"formatter\":{\"id\":\"91420\"},\"group\":null,\"major_label_orientation\":1.5707963267948966,\"major_label_policy\":{\"id\":\"91421\"},\"ticker\":{\"id\":\"91387\"}},\"id\":\"91386\",\"type\":\"CategoricalAxis\"},{\"attributes\":{},\"id\":\"91394\",\"type\":\"PanTool\"},{\"attributes\":{},\"id\":\"91387\",\"type\":\"CategoricalTicker\"},{\"attributes\":{},\"id\":\"91422\",\"type\":\"UnionRenderers\"},{\"attributes\":{},\"id\":\"91384\",\"type\":\"LinearScale\"},{\"attributes\":{\"bottom\":{\"field\":\"bottom\"},\"fill_alpha\":{\"value\":0.2},\"fill_color\":{\"field\":\"Variable\",\"transform\":{\"id\":\"91406\"}},\"hatch_alpha\":{\"value\":0.2},\"hatch_color\":{\"field\":\"Variable\",\"transform\":{\"id\":\"91406\"}},\"line_alpha\":{\"value\":0.2},\"top\":{\"field\":\"top\"},\"width\":{\"value\":0.8},\"x\":{\"field\":\"Vandens_telkinio_pavadinimas\"}},\"id\":\"91412\",\"type\":\"VBar\"},{\"attributes\":{\"callback\":null,\"renderers\":[{\"id\":\"91413\"}],\"tags\":[\"hv_created\"],\"tooltips\":[[\"Vandens telkinio pavadinimas\",\"@{Vandens_telkinio_pavadinimas}\"],[\"Variable\",\"@{Variable}\"],[\"value\",\"@{value}\"]]},\"id\":\"91376\",\"type\":\"HoverTool\"},{\"attributes\":{\"active_drag\":{\"id\":\"91394\"},\"active_scroll\":{\"id\":\"91395\"},\"tools\":[{\"id\":\"91376\"},{\"id\":\"91393\"},{\"id\":\"91394\"},{\"id\":\"91395\"},{\"id\":\"91396\"},{\"id\":\"91397\"}]},\"id\":\"91399\",\"type\":\"Toolbar\"},{\"attributes\":{},\"id\":\"91393\",\"type\":\"SaveTool\"},{\"attributes\":{},\"id\":\"91397\",\"type\":\"ResetTool\"},{\"attributes\":{},\"id\":\"91417\",\"type\":\"BasicTickFormatter\"},{\"attributes\":{\"factors\":[\"Pl\\u0117\\u0161rios(kg)\",\"Biomas\\u0117(kg)\"],\"palette\":[\"#30a2da\",\"#fc4f30\"]},\"id\":\"91406\",\"type\":\"CategoricalColorMapper\"},{\"attributes\":{\"coordinates\":null,\"group\":null,\"items\":[{\"id\":\"91426\"}],\"location\":[0,0]},\"id\":\"91425\",\"type\":\"Legend\"},{\"attributes\":{\"axis\":{\"id\":\"91386\"},\"coordinates\":null,\"grid_line_color\":null,\"group\":null,\"ticker\":null},\"id\":\"91388\",\"type\":\"Grid\"},{\"attributes\":{},\"id\":\"91395\",\"type\":\"WheelZoomTool\"},{\"attributes\":{\"bottom\":{\"field\":\"bottom\"},\"fill_alpha\":{\"value\":0.1},\"fill_color\":{\"field\":\"Variable\",\"transform\":{\"id\":\"91406\"}},\"hatch_alpha\":{\"value\":0.1},\"hatch_color\":{\"field\":\"Variable\",\"transform\":{\"id\":\"91406\"}},\"line_alpha\":{\"value\":0.1},\"top\":{\"field\":\"top\"},\"width\":{\"value\":0.8},\"x\":{\"field\":\"Vandens_telkinio_pavadinimas\"}},\"id\":\"91411\",\"type\":\"VBar\"},{\"attributes\":{\"factors\":[\"Aisetas\",\"Almajas\",\"Alnis\",\"Antakmeni\\u0173 e\\u017eeras\",\"Antanavo HE tvenkinys\",\"Apvardai\",\"Arinas\",\"Asalnai\",\"Asavas\",\"Atesys\",\"Auk\\u0161tadvario HE tvenkinys\",\"Aviris\",\"Baltosios An\\u010dios tvenkinys\",\"Baluo\\u0161ai\",\"Bei\\u010di\\u0173 I tvenkinys\",\"Bir\\u017eulis\",\"Dvariuk\\u0173 tvenkinys\",\"Ei\\u0161i\\u0161ki\\u0173 HE tvenkinys\",\"Galadusys\",\"Galuonai\",\"Gavys\",\"Gink\\u016bn\\u0173 tvenkinys\",\"Ilgai\",\"I\\u0161narai\",\"Juodieji Lakajai\",\"Kadr\\u0117n\\u0173 tvenkinys\",\"Kertuojai\",\"Kretuonas\",\"Lab\\u016bnavos tvenkinys\",\"Lazdinink\\u0173 tvenkinys\",\"Luk\\u0161tas\",\"Luokesai\",\"L\\u0117nas\",\"L\\u016b\\u0161iai\",\"Mastis\",\"Padysnio HE tvenkinys\",\"Pae\\u017eeri\\u0173 e\\u017eeras\",\"Pakasas\",\"Par\\u0161e\\u017eeris\",\"Pravalas\",\"Pr\\u016btas\",\"Sablauski\\u0173 tvenkinys\",\"Snaigynas\",\"Spind\\u017eius\",\"Suvingis\",\"S\\u0105gardas\",\"Tauragnas\",\"Tausalas\",\"Utenas\",\"Utenos tvenkinys\",\"Utenyk\\u0161tis\",\"Vajuonis\",\"Vidinkstas\",\"Vievis\",\"Vie\\u0161intas\",\"Vilkas\",\"Vilkinys\",\"Virintai\",\"Zapsys\",\"Zarasas\",\"\\u010ci\\u010dirys\",\"\\u0160lavantas\"],\"tags\":[[[\"Vandens telkinio pavadinimas\",\"Vandens telkinio pavadinimas\",null]]]},\"id\":\"91374\",\"type\":\"FactorRange\"},{\"attributes\":{\"label\":{\"field\":\"Variable\"},\"renderers\":[{\"id\":\"91413\"}]},\"id\":\"91426\",\"type\":\"LegendItem\"},{\"attributes\":{},\"id\":\"91420\",\"type\":\"CategoricalTickFormatter\"},{\"attributes\":{\"bottom_units\":\"screen\",\"coordinates\":null,\"fill_alpha\":0.5,\"fill_color\":\"lightgrey\",\"group\":null,\"left_units\":\"screen\",\"level\":\"overlay\",\"line_alpha\":1.0,\"line_color\":\"black\",\"line_dash\":[4,4],\"line_width\":2,\"right_units\":\"screen\",\"syncable\":false,\"top_units\":\"screen\"},\"id\":\"91398\",\"type\":\"BoxAnnotation\"},{\"attributes\":{\"coordinates\":null,\"data_source\":{\"id\":\"91407\"},\"glyph\":{\"id\":\"91410\"},\"group\":null,\"hover_glyph\":null,\"muted_glyph\":{\"id\":\"91412\"},\"nonselection_glyph\":{\"id\":\"91411\"},\"selection_glyph\":{\"id\":\"91427\"},\"view\":{\"id\":\"91414\"}},\"id\":\"91413\",\"type\":\"GlyphRenderer\"},{\"attributes\":{\"data\":{\"Vandens_telkinio_pavadinimas\":[\"Aisetas\",\"L\\u016b\\u0161iai\",\"Mastis\",\"Padysnio HE tvenkinys\",\"Pae\\u017eeri\\u0173 e\\u017eeras\",\"Pakasas\",\"Par\\u0161e\\u017eeris\",\"Pravalas\",\"Pr\\u016btas\",\"Sablauski\\u0173 tvenkinys\",\"Snaigynas\",\"Spind\\u017eius\",\"Suvingis\",\"S\\u0105gardas\",\"L\\u0117nas\",\"Tauragnas\",\"Utenas\",\"Utenos tvenkinys\",\"Utenyk\\u0161tis\",\"Vajuonis\",\"Vidinkstas\",\"Vievis\",\"Vie\\u0161intas\",\"Vilkas\",\"Vilkinys\",\"Virintai\",\"Zapsys\",\"Zarasas\",\"\\u010ci\\u010dirys\",\"Tausalas\",\"Luokesai\",\"\\u0160lavantas\",\"Lazdinink\\u0173 tvenkinys\",\"Almajas\",\"Alnis\",\"Antakmeni\\u0173 e\\u017eeras\",\"Antanavo HE tvenkinys\",\"Apvardai\",\"Arinas\",\"Asalnai\",\"Luk\\u0161tas\",\"Atesys\",\"Auk\\u0161tadvario HE tvenkinys\",\"Aviris\",\"Baltosios An\\u010dios tvenkinys\",\"Baluo\\u0161ai\",\"Bei\\u010di\\u0173 I tvenkinys\",\"Asavas\",\"Dvariuk\\u0173 tvenkinys\",\"Bir\\u017eulis\",\"Lab\\u016bnavos tvenkinys\",\"Kretuonas\",\"Kertuojai\",\"Juodieji Lakajai\",\"I\\u0161narai\",\"Kadr\\u0117n\\u0173 tvenkinys\",\"Gink\\u016bn\\u0173 tvenkinys\",\"Gavys\",\"Galuonai\",\"Galadusys\",\"Ei\\u0161i\\u0161ki\\u0173 HE tvenkinys\",\"Ilgai\",\"Pr\\u016btas\",\"Spind\\u017eius\",\"Snaigynas\",\"Sablauski\\u0173 tvenkinys\",\"Pravalas\",\"L\\u0117nas\",\"Pakasas\",\"Pae\\u017eeri\\u0173 e\\u017eeras\",\"Padysnio HE tvenkinys\",\"Mastis\",\"L\\u016b\\u0161iai\",\"Par\\u0161e\\u017eeris\",\"Suvingis\",\"Zarasas\",\"Tauragnas\",\"Tausalas\",\"Utenas\",\"Utenos tvenkinys\",\"Utenyk\\u0161tis\",\"Vajuonis\",\"Vidinkstas\",\"Vievis\",\"Vie\\u0161intas\",\"Vilkas\",\"Vilkinys\",\"Virintai\",\"Zapsys\",\"Luokesai\",\"S\\u0105gardas\",\"Luk\\u0161tas\",\"Bir\\u017eulis\",\"Lab\\u016bnavos tvenkinys\",\"\\u010ci\\u010dirys\",\"Aisetas\",\"Almajas\",\"Alnis\",\"Antakmeni\\u0173 e\\u017eeras\",\"Antanavo HE tvenkinys\",\"Apvardai\",\"Arinas\",\"Asalnai\",\"Asavas\",\"Atesys\",\"Auk\\u0161tadvario HE tvenkinys\",\"Aviris\",\"Lazdinink\\u0173 tvenkinys\",\"Baltosios An\\u010dios tvenkinys\",\"Bei\\u010di\\u0173 I tvenkinys\",\"Dvariuk\\u0173 tvenkinys\",\"Ei\\u0161i\\u0161ki\\u0173 HE tvenkinys\",\"Galadusys\",\"Galuonai\",\"Gavys\",\"Gink\\u016bn\\u0173 tvenkinys\",\"Ilgai\",\"I\\u0161narai\",\"Juodieji Lakajai\",\"Kadr\\u0117n\\u0173 tvenkinys\",\"Kertuojai\",\"Kretuonas\",\"Baluo\\u0161ai\",\"\\u0160lavantas\"],\"Variable\":[\"Pl\\u0117\\u0161rios(kg)\",\"Pl\\u0117\\u0161rios(kg)\",\"Pl\\u0117\\u0161rios(kg)\",\"Pl\\u0117\\u0161rios(kg)\",\"Pl\\u0117\\u0161rios(kg)\",\"Pl\\u0117\\u0161rios(kg)\",\"Pl\\u0117\\u0161rios(kg)\",\"Pl\\u0117\\u0161rios(kg)\",\"Pl\\u0117\\u0161rios(kg)\",\"Pl\\u0117\\u0161rios(kg)\",\"Pl\\u0117\\u0161rios(kg)\",\"Pl\\u0117\\u0161rios(kg)\",\"Pl\\u0117\\u0161rios(kg)\",\"Pl\\u0117\\u0161rios(kg)\",\"Pl\\u0117\\u0161rios(kg)\",\"Pl\\u0117\\u0161rios(kg)\",\"Pl\\u0117\\u0161rios(kg)\",\"Pl\\u0117\\u0161rios(kg)\",\"Pl\\u0117\\u0161rios(kg)\",\"Pl\\u0117\\u0161rios(kg)\",\"Pl\\u0117\\u0161rios(kg)\",\"Pl\\u0117\\u0161rios(kg)\",\"Pl\\u0117\\u0161rios(kg)\",\"Pl\\u0117\\u0161rios(kg)\",\"Pl\\u0117\\u0161rios(kg)\",\"Pl\\u0117\\u0161rios(kg)\",\"Pl\\u0117\\u0161rios(kg)\",\"Pl\\u0117\\u0161rios(kg)\",\"Pl\\u0117\\u0161rios(kg)\",\"Pl\\u0117\\u0161rios(kg)\",\"Pl\\u0117\\u0161rios(kg)\",\"Pl\\u0117\\u0161rios(kg)\",\"Pl\\u0117\\u0161rios(kg)\",\"Pl\\u0117\\u0161rios(kg)\",\"Pl\\u0117\\u0161rios(kg)\",\"Pl\\u0117\\u0161rios(kg)\",\"Pl\\u0117\\u0161rios(kg)\",\"Pl\\u0117\\u0161rios(kg)\",\"Pl\\u0117\\u0161rios(kg)\",\"Pl\\u0117\\u0161rios(kg)\",\"Pl\\u0117\\u0161rios(kg)\",\"Pl\\u0117\\u0161rios(kg)\",\"Pl\\u0117\\u0161rios(kg)\",\"Pl\\u0117\\u0161rios(kg)\",\"Pl\\u0117\\u0161rios(kg)\",\"Pl\\u0117\\u0161rios(kg)\",\"Pl\\u0117\\u0161rios(kg)\",\"Pl\\u0117\\u0161rios(kg)\",\"Pl\\u0117\\u0161rios(kg)\",\"Pl\\u0117\\u0161rios(kg)\",\"Pl\\u0117\\u0161rios(kg)\",\"Pl\\u0117\\u0161rios(kg)\",\"Pl\\u0117\\u0161rios(kg)\",\"Pl\\u0117\\u0161rios(kg)\",\"Pl\\u0117\\u0161rios(kg)\",\"Pl\\u0117\\u0161rios(kg)\",\"Pl\\u0117\\u0161rios(kg)\",\"Pl\\u0117\\u0161rios(kg)\",\"Pl\\u0117\\u0161rios(kg)\",\"Pl\\u0117\\u0161rios(kg)\",\"Pl\\u0117\\u0161rios(kg)\",\"Pl\\u0117\\u0161rios(kg)\",\"Biomas\\u0117(kg)\",\"Biomas\\u0117(kg)\",\"Biomas\\u0117(kg)\",\"Biomas\\u0117(kg)\",\"Biomas\\u0117(kg)\",\"Biomas\\u0117(kg)\",\"Biomas\\u0117(kg)\",\"Biomas\\u0117(kg)\",\"Biomas\\u0117(kg)\",\"Biomas\\u0117(kg)\",\"Biomas\\u0117(kg)\",\"Biomas\\u0117(kg)\",\"Biomas\\u0117(kg)\",\"Biomas\\u0117(kg)\",\"Biomas\\u0117(kg)\",\"Biomas\\u0117(kg)\",\"Biomas\\u0117(kg)\",\"Biomas\\u0117(kg)\",\"Biomas\\u0117(kg)\",\"Biomas\\u0117(kg)\",\"Biomas\\u0117(kg)\",\"Biomas\\u0117(kg)\",\"Biomas\\u0117(kg)\",\"Biomas\\u0117(kg)\",\"Biomas\\u0117(kg)\",\"Biomas\\u0117(kg)\",\"Biomas\\u0117(kg)\",\"Biomas\\u0117(kg)\",\"Biomas\\u0117(kg)\",\"Biomas\\u0117(kg)\",\"Biomas\\u0117(kg)\",\"Biomas\\u0117(kg)\",\"Biomas\\u0117(kg)\",\"Biomas\\u0117(kg)\",\"Biomas\\u0117(kg)\",\"Biomas\\u0117(kg)\",\"Biomas\\u0117(kg)\",\"Biomas\\u0117(kg)\",\"Biomas\\u0117(kg)\",\"Biomas\\u0117(kg)\",\"Biomas\\u0117(kg)\",\"Biomas\\u0117(kg)\",\"Biomas\\u0117(kg)\",\"Biomas\\u0117(kg)\",\"Biomas\\u0117(kg)\",\"Biomas\\u0117(kg)\",\"Biomas\\u0117(kg)\",\"Biomas\\u0117(kg)\",\"Biomas\\u0117(kg)\",\"Biomas\\u0117(kg)\",\"Biomas\\u0117(kg)\",\"Biomas\\u0117(kg)\",\"Biomas\\u0117(kg)\",\"Biomas\\u0117(kg)\",\"Biomas\\u0117(kg)\",\"Biomas\\u0117(kg)\",\"Biomas\\u0117(kg)\",\"Biomas\\u0117(kg)\",\"Biomas\\u0117(kg)\",\"Biomas\\u0117(kg)\",\"Biomas\\u0117(kg)\",\"Biomas\\u0117(kg)\"],\"bottom\":{\"__ndarray__\":\"AAAAAAAAAAAAAAAAAAAAAAAAAAAAAAAAAAAAAAAAAAAAAAAAAAAAAAAAAAAAAAAAAAAAAAAAAAAAAAAAAAAAAAAAAAAAAAAAAAAAAAAAAAAAAAAAAAAAAAAAAAAAAAAAAAAAAAAAAAAAAAAAAAAAAAAAAAAAAAAAAAAAAAAAAAAAAAAAAAAAAAAAAAAAAAAAAAAAAAAAAAAAAAAAAAAAAAAAAAAAAAAAAAAAAAAAAAAAAAAAAAAAAAAAAAAAAAAAAAAAAAAAAAAAAAAAAAAAAAAAAAAAAAAAAAAAAAAAAAAAAAAAAAAAAAAAAAAAAAAAAAAAAAAAAAAAAAAAAAAAAAAAAAAAAAAAAAAAAAAAAAAAAAAAAAAAAAAAAAAAAAAAAAAAAAAAAAAAAAAAAAAAAAAAAAAAAAAAAAAAAAAAAAAAAAAAAAAAAAAAAAAAAAAAAAAAAAAAAAAAAAAAAAAAAAAAAAAAAAAAAAAAAAAAAAAAAAAAAAAAAAAAAAAAAAAAAAAAAAAAAAAAAAAAAAAAAAAAAAAAAAAAAAAAAAAAAAAAAAAAAAAAAAAAAAAAAAAAAAAAAAAAAAAAAAAAAAAAAAAAAAAAAAAAAAAAAAAAAAAAAAAAAAAAAAAAAAAAAAAAAAAAAAAAAAAAAAAAAAAAADm0yHa+n5o/N4lBYOXQAkCq8dJNYhCoPwAAAAAAAAAAuB6F61G4nj85tMh2vp/aPzMzMzMzM9M/AAAAAAAAAABqvHSTGATePwAAAAAAAAAA/tR46SYx7D8AAAAAAAAAAJ7vp8ZLN+U/AAAAAAAAAAB/arx0kxjsPwAAAAAAAAAAvHSTGARW3j8UrkfhehTqP1g5tMh2vq8/exSuR+F6xD97FK5H4XqkP4/C9Shcj+4/Gy/dJAaB1T/dJAaBlUPjPwAAAAAAAAAAqvHSTWIQ5D85tMh2vp+KP4GVQ4ts57s/eekmMQisjD8bL90kBoG1PwAAAAAAAAAA+n5qvHST7D/TTWIQWDkBQOf7qfHSTdI/+n5qvHSTyD8EVg4tsp3vP9nO91Pjpas/HVpkO99P+T9U46WbxCDgP99PjZduEuM/O99PjZdu6j956SYxCKzcP4/C9Shcj9o/sp3vp8ZL8z97FK5H4XqkPwAAAAAAAAAAN4lBYOXQwj+LbOf7qfGyP/YoXI/C9fY/LbKd76fG2z/NzMzMzMzUP0Jg5dAi2/c//tR46SYx2D8AAAAAAAAAAOkmMQisHNo/pHA9Ctej2D/b+X5qvHSjP1YOLbKd7+c/NV66SQwC4z9t5/up8dLNP1CNl24SgwBAexSuR+F6pD8=\",\"dtype\":\"float64\",\"order\":\"little\",\"shape\":[124]},\"top\":{\"__ndarray__\":\"5/up8dJN0j/+1HjpJjHsPwAAAAAAAAAAarx0kxgE3j8AAAAAAAAAADMzMzMzM9M/AAAAAAAAAAC4HoXrUbiePzm0yHa+n5o/AAAAAAAAAACq8dJNYhCoPzeJQWDl0AJAnu+nxks35T956SYxCKyMPzm0yHa+n9o/f2q8dJMY7D+8dJMYBFbePxSuR+F6FOo/WDm0yHa+rz97FK5H4XrEP3sUrkfheqQ/j8L1KFyP7j8bL90kBoHVP90kBoGVQ+M/AAAAAAAAAACq8dJNYhDkPzm0yHa+n4o/AAAAAAAAAADTTWIQWDkBQAAAAAAAAAAAgZVDi2znuz97FK5H4XqkPwAAAAAAAAAA+n5qvHSTyD8EVg4tsp3vP9nO91Pjpas/HVpkO99P+T9U46WbxCDgP99PjZduEuM/O99PjZdu6j8bL90kBoG1P4/C9Shcj9o/sp3vp8ZL8z97FK5H4XqkPzeJQWDl0MI/UI2XbhKDAECLbOf7qfGyP3npJjEIrNw/9ihcj8L19j8AAAAAAAAAAPp+arx0k+w/bef7qfHSzT81XrpJDALjP9v5fmq8dKM/pHA9Ctej2D9WDi2yne/nPwAAAAAAAAAA/tR46SYx2D9CYOXQItv3P83MzMzMzNQ/LbKd76fG2z/pJjEIrBzaP/up8dJNYgBAd76fGi+dKEDrUbgehesSQGZmZmZm5hBAtvP91HjpB0AlBoGVQ4sYQB6F61G4HgZABFYOLbKdFUBaZDvfT40TQDVeukkMAhtAHoXrUbgeCkAOLbKd76cMQB+F61G4nhRAUI2XbhKD/D+cxCCwcmgQQJHtfD81XhhAMzMzMzOzE0BmZmZmZuYTQKAaL90kBvs/16NwPQrXBEBGtvP91Hj7P8DKoUW2cyFA8tJNYhDYGUDz/dR46SYMQN0kBoGVQwdAL90kBoGVEECyne+nxkv1P2q8dJMYBPo/9ihcj8L19j8AAAAAAAATQCGwcmiR7QBAt/P91HjpJECe76fGS3cmQGiR7Xw/NQBATmIQWDm09j++nxov3SQTQNv5fmq89BVAv58aL90kJUA4iUFg5dATQDm0yHa+nxJAcD0K16PwEEB1kxgEVg4RQCGwcmiR7QlAmpmZmZkZGkCLbOf7qfEPQJqZmZmZGRpAQmDl0CLbEEDb+X5qvHQBQHjpJjEIrBlAdZMYBFYOE0BvEoPAyqERQLx0kxgEVhVAYxBYObTIDkBkO99PjVclQJduEoPAyv0/Vg4tsp3vD0A5tMh2vp8OQFK4HoXrESFA61G4HoXrCEAZBFYOLbL7P+Olm8QgcCdAhxbZzvdTEEA=\",\"dtype\":\"float64\",\"order\":\"little\",\"shape\":[124]},\"value\":{\"__ndarray__\":\"5/up8dJN0j/+1HjpJjHsPwAAAAAAAAAAarx0kxgE3j8AAAAAAAAAADMzMzMzM9M/AAAAAAAAAAC4HoXrUbiePzm0yHa+n5o/AAAAAAAAAACq8dJNYhCoPzeJQWDl0AJAnu+nxks35T956SYxCKyMPzm0yHa+n9o/f2q8dJMY7D+8dJMYBFbePxSuR+F6FOo/WDm0yHa+rz97FK5H4XrEP3sUrkfheqQ/j8L1KFyP7j8bL90kBoHVP90kBoGVQ+M/AAAAAAAAAACq8dJNYhDkPzm0yHa+n4o/AAAAAAAAAADTTWIQWDkBQAAAAAAAAAAAgZVDi2znuz97FK5H4XqkPwAAAAAAAAAA+n5qvHSTyD8EVg4tsp3vP9nO91Pjpas/HVpkO99P+T9U46WbxCDgP99PjZduEuM/O99PjZdu6j8bL90kBoG1P4/C9Shcj9o/sp3vp8ZL8z97FK5H4XqkPzeJQWDl0MI/UI2XbhKDAECLbOf7qfGyP3npJjEIrNw/9ihcj8L19j8AAAAAAAAAAPp+arx0k+w/bef7qfHSzT81XrpJDALjP9v5fmq8dKM/pHA9Ctej2D9WDi2yne/nPwAAAAAAAAAA/tR46SYx2D9CYOXQItv3P83MzMzMzNQ/LbKd76fG2z/pJjEIrBzaP5MYBFYOLQBAKVyPwvXoI0AIrBxaZLsSQGZmZmZm5hBAeekmMQisB0DhehSuR+EWQLgehetRuANABFYOLbKdFUCTGARWDq0RQDVeukkMAhtA30+Nl24SA0AOLbKd76cMQCuHFtnO9xFAUI2XbhKD/D+YbhKDwMoJQJHtfD81XhhA5/up8dLNEUCkcD0K16MQQNV46SYxCPo/j8L1KFyPA0CiRbbz/dT6Py/dJAaBFR9AAAAAAACAGEC8dJMYBFYHQN0kBoGVQwdA9P3UeOkmDEBKDAIrhxb1PxKDwMqhRfg/I9v5fmq89j9Ei2zn+6kSQCGwcmiR7QBAx0s3iUEgI0ApXI/C9SgiQNejcD0K1/s/bxKDwMqh8z/8qfHSTWIOQD0K16NwvRVAexSuR+H6IUDNzMzMzMwRQD0K16NwPRBAEoPAyqFFC0C6SQwCK4cOQM/3U+OlmwZALbKd76dGFUA5tMh2vp8PQJqZmZmZGRpA+FPjpZtEEEB3vp8aL90AQDvfT42X7hNAUrgehetREUCiRbbz/VQQQFg5tMh2vg5Aw/UoXI/CC0BkO99PjVclQN0kBoGVQ/c/QmDl0CLbDEBSuB6F61EOQNnO91PjJR9AXrpJDAIrBEArhxbZzvf3P4/C9ShcTyNAXrpJDAIrEEA=\",\"dtype\":\"float64\",\"order\":\"little\",\"shape\":[124]}},\"selected\":{\"id\":\"91408\"},\"selection_policy\":{\"id\":\"91422\"}},\"id\":\"91407\",\"type\":\"ColumnDataSource\"},{\"attributes\":{\"source\":{\"id\":\"91407\"}},\"id\":\"91414\",\"type\":\"CDSView\"},{\"attributes\":{\"bottom\":{\"field\":\"bottom\"},\"fill_alpha\":{\"value\":1.0},\"fill_color\":{\"field\":\"Variable\",\"transform\":{\"id\":\"91406\"}},\"hatch_alpha\":{\"value\":1.0},\"hatch_color\":{\"field\":\"Variable\",\"transform\":{\"id\":\"91406\"}},\"hatch_scale\":{\"value\":12.0},\"hatch_weight\":{\"value\":1.0},\"line_alpha\":{\"value\":1.0},\"line_cap\":{\"value\":\"butt\"},\"line_color\":{\"value\":\"black\"},\"line_dash\":{\"value\":[]},\"line_dash_offset\":{\"value\":0},\"line_join\":{\"value\":\"bevel\"},\"line_width\":{\"value\":1},\"top\":{\"field\":\"top\"},\"width\":{\"value\":0.8},\"x\":{\"field\":\"Vandens_telkinio_pavadinimas\"}},\"id\":\"91427\",\"type\":\"VBar\"},{\"attributes\":{},\"id\":\"91408\",\"type\":\"Selection\"},{\"attributes\":{},\"id\":\"91390\",\"type\":\"BasicTicker\"},{\"attributes\":{\"axis_label\":\"\",\"coordinates\":null,\"formatter\":{\"id\":\"91417\"},\"group\":null,\"major_label_policy\":{\"id\":\"91418\"},\"ticker\":{\"id\":\"91390\"}},\"id\":\"91389\",\"type\":\"LinearAxis\"},{\"attributes\":{\"bottom\":{\"field\":\"bottom\"},\"fill_color\":{\"field\":\"Variable\",\"transform\":{\"id\":\"91406\"}},\"hatch_color\":{\"field\":\"Variable\",\"transform\":{\"id\":\"91406\"}},\"top\":{\"field\":\"top\"},\"width\":{\"value\":0.8},\"x\":{\"field\":\"Vandens_telkinio_pavadinimas\"}},\"id\":\"91410\",\"type\":\"VBar\"},{\"attributes\":{},\"id\":\"91418\",\"type\":\"AllLabels\"},{\"attributes\":{},\"id\":\"91421\",\"type\":\"AllLabels\"},{\"attributes\":{\"below\":[{\"id\":\"91386\"}],\"center\":[{\"id\":\"91388\"},{\"id\":\"91392\"},{\"id\":\"91425\"}],\"height\":400,\"left\":[{\"id\":\"91389\"}],\"margin\":[5,5,5,5],\"min_border_bottom\":10,\"min_border_left\":10,\"min_border_right\":10,\"min_border_top\":10,\"renderers\":[{\"id\":\"91413\"}],\"right\":[{\"id\":\"91425\"}],\"sizing_mode\":\"fixed\",\"title\":{\"id\":\"91378\"},\"toolbar\":{\"id\":\"91399\"},\"width\":800,\"x_range\":{\"id\":\"91374\"},\"x_scale\":{\"id\":\"91382\"},\"y_range\":{\"id\":\"91375\"},\"y_scale\":{\"id\":\"91384\"}},\"id\":\"91377\",\"subtype\":\"Figure\",\"type\":\"Plot\"}],\"root_ids\":[\"91373\"]},\"title\":\"Bokeh Application\",\"version\":\"2.4.3\"}};\n",
       "    var render_items = [{\"docid\":\"3c9a55a0-741a-411d-be30-3f4b63e82590\",\"root_ids\":[\"91373\"],\"roots\":{\"91373\":\"020d0712-66da-4b83-9d35-c6dc28ee6a18\"}}];\n",
       "    root.Bokeh.embed.embed_items_notebook(docs_json, render_items);\n",
       "    for (const render_item of render_items) {\n",
       "      for (const root_id of render_item.root_ids) {\n",
       "\tconst id_el = document.getElementById(root_id)\n",
       "\tif (id_el.children.length && (id_el.children[0].className === 'bk-root')) {\n",
       "\t  const root_el = id_el.children[0]\n",
       "\t  root_el.id = root_el.id + '-rendered'\n",
       "\t}\n",
       "      }\n",
       "    }\n",
       "  }\n",
       "  if (root.Bokeh !== undefined && root.Bokeh.Panel !== undefined && ( root['Tabulator'] !== undefined) && ( root['Tabulator'] !== undefined) && ( root['Tabulator'] !== undefined) && ( root['Tabulator'] !== undefined) && ( root['Tabulator'] !== undefined) && ( root['Tabulator'] !== undefined) && ( root['Tabulator'] !== undefined)) {\n",
       "    embed_document(root);\n",
       "  } else {\n",
       "    var attempts = 0;\n",
       "    var timer = setInterval(function(root) {\n",
       "      if (root.Bokeh !== undefined && root.Bokeh.Panel !== undefined && (root['Tabulator'] !== undefined) && (root['Tabulator'] !== undefined) && (root['Tabulator'] !== undefined) && (root['Tabulator'] !== undefined) && (root['Tabulator'] !== undefined) && (root['Tabulator'] !== undefined) && (root['Tabulator'] !== undefined)) {\n",
       "        clearInterval(timer);\n",
       "        embed_document(root);\n",
       "      } else if (document.readyState == \"complete\") {\n",
       "        attempts++;\n",
       "        if (attempts > 200) {\n",
       "          clearInterval(timer);\n",
       "          console.log(\"Bokeh: ERROR: Unable to run BokehJS code because BokehJS library is missing\");\n",
       "        }\n",
       "      }\n",
       "    }, 25, root)\n",
       "  }\n",
       "})(window);</script>"
      ],
      "text/plain": [
       ":Bars   [Vandens telkinio pavadinimas,Variable]   (value)"
      ]
     },
     "execution_count": 375,
     "metadata": {
      "application/vnd.holoviews_exec.v0+json": {
       "id": "91373"
      }
     },
     "output_type": "execute_result"
    }
   ],
   "source": [
    "#sitas diagrama jau gera, nebent pakeisti pavadinima.\n",
    "bendras = df.hvplot.bar(\n",
    "                    x=\"Vandens telkinio pavadinimas\", rot=90,\n",
    "                    #y=\"Plėšrios_kg\",\n",
    "                    y=[\"Plėšrios(kg)\", \"Biomasė(kg)\"],\n",
    "                    stacked=True,\n",
    "                    width=800, height=400,\n",
    "                    title=\"Bendras laimikis ir jo plėšri dalis\"\n",
    ")\n",
    "\n",
    "bendras"
   ]
  },
  {
   "cell_type": "markdown",
   "id": "eed936ba-b8e1-4746-8582-6b43bbb11ac8",
   "metadata": {},
   "source": [
    "Sukuriamas dataframe su norimais stulpeliais, kad būtų galima panaudoti grafikui:"
   ]
  },
  {
   "cell_type": "code",
   "execution_count": 376,
   "id": "76454172-5792-4cfd-83b1-87d53949fce8",
   "metadata": {
    "tags": []
   },
   "outputs": [
    {
     "data": {
      "text/html": [
       "<div>\n",
       "<style scoped>\n",
       "    .dataframe tbody tr th:only-of-type {\n",
       "        vertical-align: middle;\n",
       "    }\n",
       "\n",
       "    .dataframe tbody tr th {\n",
       "        vertical-align: top;\n",
       "    }\n",
       "\n",
       "    .dataframe thead th {\n",
       "        text-align: right;\n",
       "    }\n",
       "</style>\n",
       "<table border=\"1\" class=\"dataframe\">\n",
       "  <thead>\n",
       "    <tr style=\"text-align: right;\">\n",
       "      <th></th>\n",
       "      <th>Savivaldybė</th>\n",
       "      <th>Ešerys (Gausumas)</th>\n",
       "      <th>Karšis (Gausumas)</th>\n",
       "    </tr>\n",
       "  </thead>\n",
       "  <tbody>\n",
       "    <tr>\n",
       "      <th>0</th>\n",
       "      <td>Utenos r. sav.</td>\n",
       "      <td>0.0</td>\n",
       "      <td>0.0</td>\n",
       "    </tr>\n",
       "    <tr>\n",
       "      <th>1</th>\n",
       "      <td>Ignalinos r. sav.</td>\n",
       "      <td>0.0</td>\n",
       "      <td>0.0</td>\n",
       "    </tr>\n",
       "    <tr>\n",
       "      <th>2</th>\n",
       "      <td>Molėtų r. sav.</td>\n",
       "      <td>0.0</td>\n",
       "      <td>0.0</td>\n",
       "    </tr>\n",
       "    <tr>\n",
       "      <th>3</th>\n",
       "      <td>Trakų r. sav.</td>\n",
       "      <td>0.0</td>\n",
       "      <td>0.0</td>\n",
       "    </tr>\n",
       "    <tr>\n",
       "      <th>4</th>\n",
       "      <td>Marijampolės sav.</td>\n",
       "      <td>0.0</td>\n",
       "      <td>0.0</td>\n",
       "    </tr>\n",
       "  </tbody>\n",
       "</table>\n",
       "</div>"
      ],
      "text/plain": [
       "         Savivaldybė  Ešerys (Gausumas)  Karšis (Gausumas)\n",
       "0     Utenos r. sav.                0.0                0.0\n",
       "1  Ignalinos r. sav.                0.0                0.0\n",
       "2     Molėtų r. sav.                0.0                0.0\n",
       "3      Trakų r. sav.                0.0                0.0\n",
       "4  Marijampolės sav.                0.0                0.0"
      ]
     },
     "execution_count": 376,
     "metadata": {},
     "output_type": "execute_result"
    }
   ],
   "source": [
    "pagal_tris = df[[\"Savivaldybė\", \"Ešerys (Gausumas)\",\"Karšis (Gausumas)\"]] \n",
    "pagal_tris.head(5)"
   ]
  },
  {
   "cell_type": "markdown",
   "id": "4b0a2d24-e8d4-4df9-a7b2-733d50e437f1",
   "metadata": {},
   "source": [
    "Surandame koks ešerių ir karšių pasiskirstymas pagal savivaldybes:"
   ]
  },
  {
   "cell_type": "code",
   "execution_count": 379,
   "id": "2007e056-c7da-4312-844d-c73a23877ab2",
   "metadata": {
    "tags": []
   },
   "outputs": [],
   "source": [
    "trecias = pagal_tris.set_index('Savivaldybė').hvplot(kind='bar', rot=90, stacked=True, legend='top_right', title='Ešerių ir karšių kiekis telkiniuose pagal savivaldybes')"
   ]
  },
  {
   "cell_type": "code",
   "execution_count": 380,
   "id": "4c6d70fb-8a5f-43be-90f5-ef491cdd8362",
   "metadata": {
    "tags": []
   },
   "outputs": [
    {
     "data": {
      "text/html": [
       "<div>\n",
       "<style scoped>\n",
       "    .dataframe tbody tr th:only-of-type {\n",
       "        vertical-align: middle;\n",
       "    }\n",
       "\n",
       "    .dataframe tbody tr th {\n",
       "        vertical-align: top;\n",
       "    }\n",
       "\n",
       "    .dataframe thead th {\n",
       "        text-align: right;\n",
       "    }\n",
       "</style>\n",
       "<table border=\"1\" class=\"dataframe\">\n",
       "  <thead>\n",
       "    <tr style=\"text-align: right;\">\n",
       "      <th></th>\n",
       "      <th>Vandens telkinio pavadinimas</th>\n",
       "      <th>Biomasė(kg)</th>\n",
       "      <th>Plėšrios(kg)</th>\n",
       "    </tr>\n",
       "  </thead>\n",
       "  <tbody>\n",
       "    <tr>\n",
       "      <th>0</th>\n",
       "      <td>Aisetas</td>\n",
       "      <td>1.740</td>\n",
       "      <td>0.286</td>\n",
       "    </tr>\n",
       "    <tr>\n",
       "      <th>1</th>\n",
       "      <td>Almajas</td>\n",
       "      <td>1.227</td>\n",
       "      <td>0.192</td>\n",
       "    </tr>\n",
       "    <tr>\n",
       "      <th>2</th>\n",
       "      <td>Alnis</td>\n",
       "      <td>3.798</td>\n",
       "      <td>0.988</td>\n",
       "    </tr>\n",
       "    <tr>\n",
       "      <th>3</th>\n",
       "      <td>Antakmenių ežeras</td>\n",
       "      <td>5.435</td>\n",
       "      <td>0.054</td>\n",
       "    </tr>\n",
       "    <tr>\n",
       "      <th>4</th>\n",
       "      <td>Antanavo HE tvenkinys</td>\n",
       "      <td>8.990</td>\n",
       "      <td>1.582</td>\n",
       "    </tr>\n",
       "  </tbody>\n",
       "</table>\n",
       "</div>"
      ],
      "text/plain": [
       "  Vandens telkinio pavadinimas  Biomasė(kg)  Plėšrios(kg)\n",
       "0                      Aisetas        1.740         0.286\n",
       "1                      Almajas        1.227         0.192\n",
       "2                        Alnis        3.798         0.988\n",
       "3            Antakmenių ežeras        5.435         0.054\n",
       "4        Antanavo HE tvenkinys        8.990         1.582"
      ]
     },
     "execution_count": 380,
     "metadata": {},
     "output_type": "execute_result"
    }
   ],
   "source": [
    "lentele = df[[\"Vandens telkinio pavadinimas\", \"Biomasė(kg)\", \"Plėšrios(kg)\"]] \n",
    "lentele.head()"
   ]
  },
  {
   "cell_type": "markdown",
   "id": "3456041a-d572-408b-89b5-810f66f44bbb",
   "metadata": {
    "tags": []
   },
   "source": [
    "Darom visų žuvų pagal telkinius lentelę su .hvplot:"
   ]
  },
  {
   "cell_type": "code",
   "execution_count": 382,
   "id": "11930469-1444-4aa5-9bf8-739227339ee4",
   "metadata": {
    "tags": []
   },
   "outputs": [],
   "source": [
    "antras = lentele.hvplot(kind='table', width=500, title='Vandens telkinių žuvingumas')"
   ]
  },
  {
   "cell_type": "code",
   "execution_count": 356,
   "id": "9947ec72-c19a-4b52-9af7-fe1f3d3eb64c",
   "metadata": {
    "tags": []
   },
   "outputs": [
    {
     "name": "stdout",
     "output_type": "stream",
     "text": [
      "Launching server at http://localhost:56685\n"
     ]
    }
   ],
   "source": [
    "# atvaizdavimas su panel naudojant šabloną\n",
    "\n",
    "template = pn.template.FastListTemplate(\n",
    "    title='Žuvys', \n",
    "    sidebar=[pn.pane.Markdown(\"# Žuvų išteklių tyrimas\"), \n",
    "             pn.pane.Markdown(\"#### Dideli vandens telkiniai pasižymi gausia ir įvairia ichtiofauna. Dėl gausių žuvų išteklių dideli vandens telkiniai yra svarbūs tiek verslinei, tiek mėgėjiškai žvejybai. Todėl tokių vandens telkinių ichtiologiniai tyrimai turi ne tik mokslinę, bet ir praktinę reikšmę.\"), \n",
    "             pn.pane.PNG('lietuvos_ezerai.png', sizing_mode='scale_both')],\n",
    "             \n",
    "    main=[pn.Row(trecias, antras), \n",
    "          pn.Row(pirmas, ketvirtas) \n",
    "                # pn.Column(grafikas_trys)\n",
    "                ],\n",
    "    accent_base_color=\"#88d8b0\",\n",
    "    header_background=\"#88d8b0\",\n",
    ")\n",
    "template.show()\n",
    "template.servable();"
   ]
  },
  {
   "cell_type": "code",
   "execution_count": null,
   "id": "a4471685-1a4a-4bc6-afcc-9318edfc16ac",
   "metadata": {},
   "outputs": [],
   "source": []
  }
 ],
 "metadata": {
  "kernelspec": {
   "display_name": "Python 3 (ipykernel)",
   "language": "python",
   "name": "python3"
  },
  "language_info": {
   "codemirror_mode": {
    "name": "ipython",
    "version": 3
   },
   "file_extension": ".py",
   "mimetype": "text/x-python",
   "name": "python",
   "nbconvert_exporter": "python",
   "pygments_lexer": "ipython3",
   "version": "3.11.2"
  }
 },
 "nbformat": 4,
 "nbformat_minor": 5
}
