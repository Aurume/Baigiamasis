{
 "cells": [
  {
   "cell_type": "code",
   "execution_count": 300,
   "id": "e1bbec09-e1a8-4f9c-a957-88e34c9aaee7",
   "metadata": {
    "tags": []
   },
   "outputs": [],
   "source": [
    "import pandas as pd\n",
    "import numpy as np\n",
    "import sqlalchemy\n",
    "import panel as pn\n",
    "pn.extension('tabulator')\n",
    "\n",
    "import hvplot.pandas\n",
    "import panel as pn\n",
    "\n",
    "import holoviews as hv\n",
    "hv.extension('bokeh')\n",
    "pd.options.plotting.backend = 'holoviews'\n"
   ]
  },
  {
   "cell_type": "code",
   "execution_count": 301,
   "id": "f3cc98b6-3123-4acd-b55a-423d1d5720d2",
   "metadata": {
    "tags": []
   },
   "outputs": [],
   "source": [
    "df = pd.read_csv('zuvys.csv')"
   ]
  },
  {
   "cell_type": "code",
   "execution_count": 302,
   "id": "28bca1d0-9783-44f9-9720-f12feb7d347b",
   "metadata": {
    "tags": []
   },
   "outputs": [
    {
     "data": {
      "text/html": [
       "<div>\n",
       "<style scoped>\n",
       "    .dataframe tbody tr th:only-of-type {\n",
       "        vertical-align: middle;\n",
       "    }\n",
       "\n",
       "    .dataframe tbody tr th {\n",
       "        vertical-align: top;\n",
       "    }\n",
       "\n",
       "    .dataframe thead th {\n",
       "        text-align: right;\n",
       "    }\n",
       "</style>\n",
       "<table border=\"1\" class=\"dataframe\">\n",
       "  <thead>\n",
       "    <tr style=\"text-align: right;\">\n",
       "      <th></th>\n",
       "      <th>Vandens telkinio pavadinimas</th>\n",
       "      <th>Kodas</th>\n",
       "      <th>Savivaldybė</th>\n",
       "      <th>Žuvų būklės indeksas</th>\n",
       "      <th>Biomasė(kg)</th>\n",
       "      <th>Gausumas(vnt)</th>\n",
       "      <th>Plėšrių žuvų gausumas(%)</th>\n",
       "      <th>Plėšrių žuvų biomasė(%)</th>\n",
       "      <th>Ešerys (Gausumas)</th>\n",
       "      <th>Karšis (Gausumas)</th>\n",
       "      <th>Plėšrios(kg)</th>\n",
       "    </tr>\n",
       "  </thead>\n",
       "  <tbody>\n",
       "    <tr>\n",
       "      <th>0</th>\n",
       "      <td>Aisetas</td>\n",
       "      <td>12140251</td>\n",
       "      <td>Utenos r. sav.</td>\n",
       "      <td>0.49</td>\n",
       "      <td>1.740</td>\n",
       "      <td>38</td>\n",
       "      <td>1.61</td>\n",
       "      <td>16.45</td>\n",
       "      <td>0.0</td>\n",
       "      <td>0.0</td>\n",
       "      <td>0.286</td>\n",
       "    </tr>\n",
       "    <tr>\n",
       "      <th>1</th>\n",
       "      <td>Almajas</td>\n",
       "      <td>12130086</td>\n",
       "      <td>Ignalinos r. sav.</td>\n",
       "      <td>0.47</td>\n",
       "      <td>1.227</td>\n",
       "      <td>27</td>\n",
       "      <td>2.17</td>\n",
       "      <td>15.66</td>\n",
       "      <td>0.0</td>\n",
       "      <td>0.0</td>\n",
       "      <td>0.192</td>\n",
       "    </tr>\n",
       "    <tr>\n",
       "      <th>2</th>\n",
       "      <td>Alnis</td>\n",
       "      <td>12130082</td>\n",
       "      <td>Molėtų r. sav.</td>\n",
       "      <td>0.57</td>\n",
       "      <td>3.798</td>\n",
       "      <td>42</td>\n",
       "      <td>2.83</td>\n",
       "      <td>26.02</td>\n",
       "      <td>0.0</td>\n",
       "      <td>0.0</td>\n",
       "      <td>0.988</td>\n",
       "    </tr>\n",
       "    <tr>\n",
       "      <th>3</th>\n",
       "      <td>Antakmenių ežeras</td>\n",
       "      <td>10030651</td>\n",
       "      <td>Trakų r. sav.</td>\n",
       "      <td>1.00</td>\n",
       "      <td>5.435</td>\n",
       "      <td>118</td>\n",
       "      <td>1.00</td>\n",
       "      <td>1.00</td>\n",
       "      <td>0.0</td>\n",
       "      <td>0.0</td>\n",
       "      <td>0.054</td>\n",
       "    </tr>\n",
       "    <tr>\n",
       "      <th>4</th>\n",
       "      <td>Antanavo HE tvenkinys</td>\n",
       "      <td>15050005</td>\n",
       "      <td>Marijampolės sav.</td>\n",
       "      <td>0.63</td>\n",
       "      <td>8.990</td>\n",
       "      <td>107</td>\n",
       "      <td>1.65</td>\n",
       "      <td>17.60</td>\n",
       "      <td>0.0</td>\n",
       "      <td>0.0</td>\n",
       "      <td>1.582</td>\n",
       "    </tr>\n",
       "    <tr>\n",
       "      <th>...</th>\n",
       "      <td>...</td>\n",
       "      <td>...</td>\n",
       "      <td>...</td>\n",
       "      <td>...</td>\n",
       "      <td>...</td>\n",
       "      <td>...</td>\n",
       "      <td>...</td>\n",
       "      <td>...</td>\n",
       "      <td>...</td>\n",
       "      <td>...</td>\n",
       "      <td>...</td>\n",
       "    </tr>\n",
       "    <tr>\n",
       "      <th>57</th>\n",
       "      <td>Virintai</td>\n",
       "      <td>12241640</td>\n",
       "      <td>Molėtų r. sav.</td>\n",
       "      <td>0.52</td>\n",
       "      <td>3.519</td>\n",
       "      <td>64</td>\n",
       "      <td>1.90</td>\n",
       "      <td>17.82</td>\n",
       "      <td>16.8</td>\n",
       "      <td>0.0</td>\n",
       "      <td>0.627</td>\n",
       "    </tr>\n",
       "    <tr>\n",
       "      <th>58</th>\n",
       "      <td>Zapsys</td>\n",
       "      <td>10030110</td>\n",
       "      <td>Lazdijų r. sav.</td>\n",
       "      <td>1.00</td>\n",
       "      <td>1.318</td>\n",
       "      <td>31</td>\n",
       "      <td>1.00</td>\n",
       "      <td>1.00</td>\n",
       "      <td>0.0</td>\n",
       "      <td>4.0</td>\n",
       "      <td>0.013</td>\n",
       "    </tr>\n",
       "    <tr>\n",
       "      <th>59</th>\n",
       "      <td>Zarasas</td>\n",
       "      <td>50030302</td>\n",
       "      <td>Zarasų r. sav.</td>\n",
       "      <td>0.43</td>\n",
       "      <td>1.782</td>\n",
       "      <td>39</td>\n",
       "      <td>1.40</td>\n",
       "      <td>0.00</td>\n",
       "      <td>0.0</td>\n",
       "      <td>0.0</td>\n",
       "      <td>0.000</td>\n",
       "    </tr>\n",
       "    <tr>\n",
       "      <th>60</th>\n",
       "      <td>Čičirys</td>\n",
       "      <td>50030474</td>\n",
       "      <td>Zarasų r. sav.</td>\n",
       "      <td>0.60</td>\n",
       "      <td>9.080</td>\n",
       "      <td>75</td>\n",
       "      <td>1.87</td>\n",
       "      <td>23.71</td>\n",
       "      <td>0.0</td>\n",
       "      <td>0.0</td>\n",
       "      <td>2.153</td>\n",
       "    </tr>\n",
       "    <tr>\n",
       "      <th>61</th>\n",
       "      <td>Šlavantas</td>\n",
       "      <td>10030010</td>\n",
       "      <td>Lazdijų r. sav.</td>\n",
       "      <td>1.00</td>\n",
       "      <td>4.042</td>\n",
       "      <td>39</td>\n",
       "      <td>1.00</td>\n",
       "      <td>1.00</td>\n",
       "      <td>0.0</td>\n",
       "      <td>0.0</td>\n",
       "      <td>0.040</td>\n",
       "    </tr>\n",
       "  </tbody>\n",
       "</table>\n",
       "<p>62 rows × 11 columns</p>\n",
       "</div>"
      ],
      "text/plain": [
       "   Vandens telkinio pavadinimas     Kodas        Savivaldybė  \\\n",
       "0                       Aisetas  12140251     Utenos r. sav.   \n",
       "1                       Almajas  12130086  Ignalinos r. sav.   \n",
       "2                         Alnis  12130082     Molėtų r. sav.   \n",
       "3             Antakmenių ežeras  10030651      Trakų r. sav.   \n",
       "4         Antanavo HE tvenkinys  15050005  Marijampolės sav.   \n",
       "..                          ...       ...                ...   \n",
       "57                     Virintai  12241640     Molėtų r. sav.   \n",
       "58                       Zapsys  10030110    Lazdijų r. sav.   \n",
       "59                      Zarasas  50030302     Zarasų r. sav.   \n",
       "60                      Čičirys  50030474     Zarasų r. sav.   \n",
       "61                    Šlavantas  10030010    Lazdijų r. sav.   \n",
       "\n",
       "    Žuvų būklės indeksas  Biomasė(kg)  Gausumas(vnt)  \\\n",
       "0                   0.49        1.740             38   \n",
       "1                   0.47        1.227             27   \n",
       "2                   0.57        3.798             42   \n",
       "3                   1.00        5.435            118   \n",
       "4                   0.63        8.990            107   \n",
       "..                   ...          ...            ...   \n",
       "57                  0.52        3.519             64   \n",
       "58                  1.00        1.318             31   \n",
       "59                  0.43        1.782             39   \n",
       "60                  0.60        9.080             75   \n",
       "61                  1.00        4.042             39   \n",
       "\n",
       "    Plėšrių žuvų gausumas(%)  Plėšrių žuvų biomasė(%)  Ešerys (Gausumas)  \\\n",
       "0                       1.61                    16.45                0.0   \n",
       "1                       2.17                    15.66                0.0   \n",
       "2                       2.83                    26.02                0.0   \n",
       "3                       1.00                     1.00                0.0   \n",
       "4                       1.65                    17.60                0.0   \n",
       "..                       ...                      ...                ...   \n",
       "57                      1.90                    17.82               16.8   \n",
       "58                      1.00                     1.00                0.0   \n",
       "59                      1.40                     0.00                0.0   \n",
       "60                      1.87                    23.71                0.0   \n",
       "61                      1.00                     1.00                0.0   \n",
       "\n",
       "    Karšis (Gausumas)  Plėšrios(kg)  \n",
       "0                 0.0         0.286  \n",
       "1                 0.0         0.192  \n",
       "2                 0.0         0.988  \n",
       "3                 0.0         0.054  \n",
       "4                 0.0         1.582  \n",
       "..                ...           ...  \n",
       "57                0.0         0.627  \n",
       "58                4.0         0.013  \n",
       "59                0.0         0.000  \n",
       "60                0.0         2.153  \n",
       "61                0.0         0.040  \n",
       "\n",
       "[62 rows x 11 columns]"
      ]
     },
     "execution_count": 302,
     "metadata": {},
     "output_type": "execute_result"
    }
   ],
   "source": [
    "df"
   ]
  },
  {
   "cell_type": "code",
   "execution_count": 303,
   "id": "b8f952a5-850f-477f-9498-168f046a852c",
   "metadata": {
    "tags": []
   },
   "outputs": [
    {
     "data": {
      "text/plain": [
       "Index(['Vandens telkinio pavadinimas', 'Kodas', 'Savivaldybė',\n",
       "       'Žuvų būklės indeksas', 'Biomasė(kg)', 'Gausumas(vnt)',\n",
       "       'Plėšrių žuvų gausumas(%)', 'Plėšrių žuvų biomasė(%)',\n",
       "       'Ešerys (Gausumas)', 'Karšis (Gausumas)', 'Plėšrios(kg)'],\n",
       "      dtype='object')"
      ]
     },
     "execution_count": 303,
     "metadata": {},
     "output_type": "execute_result"
    }
   ],
   "source": [
    "df.columns"
   ]
  },
  {
   "cell_type": "markdown",
   "id": "0199e236-06e1-4689-b64b-87d0c4974691",
   "metadata": {},
   "source": [
    "Patikrinam kokie ežerai yra Molėtuose(su visa informacija):"
   ]
  },
  {
   "cell_type": "code",
   "execution_count": 304,
   "id": "3f22498b-dc41-46c8-b6cd-173f9f0ff338",
   "metadata": {
    "tags": []
   },
   "outputs": [
    {
     "data": {
      "text/html": [
       "<div>\n",
       "<style scoped>\n",
       "    .dataframe tbody tr th:only-of-type {\n",
       "        vertical-align: middle;\n",
       "    }\n",
       "\n",
       "    .dataframe tbody tr th {\n",
       "        vertical-align: top;\n",
       "    }\n",
       "\n",
       "    .dataframe thead th {\n",
       "        text-align: right;\n",
       "    }\n",
       "</style>\n",
       "<table border=\"1\" class=\"dataframe\">\n",
       "  <thead>\n",
       "    <tr style=\"text-align: right;\">\n",
       "      <th></th>\n",
       "      <th>Vandens telkinio pavadinimas</th>\n",
       "      <th>Kodas</th>\n",
       "      <th>Savivaldybė</th>\n",
       "      <th>Žuvų būklės indeksas</th>\n",
       "      <th>Biomasė(kg)</th>\n",
       "      <th>Gausumas(vnt)</th>\n",
       "      <th>Plėšrių žuvų gausumas(%)</th>\n",
       "      <th>Plėšrių žuvų biomasė(%)</th>\n",
       "      <th>Ešerys (Gausumas)</th>\n",
       "      <th>Karšis (Gausumas)</th>\n",
       "      <th>Plėšrios(kg)</th>\n",
       "    </tr>\n",
       "  </thead>\n",
       "  <tbody>\n",
       "    <tr>\n",
       "      <th>2</th>\n",
       "      <td>Alnis</td>\n",
       "      <td>12130082</td>\n",
       "      <td>Molėtų r. sav.</td>\n",
       "      <td>0.57</td>\n",
       "      <td>3.798</td>\n",
       "      <td>42</td>\n",
       "      <td>2.83</td>\n",
       "      <td>26.02</td>\n",
       "      <td>0.0</td>\n",
       "      <td>0.0</td>\n",
       "      <td>0.988</td>\n",
       "    </tr>\n",
       "    <tr>\n",
       "      <th>6</th>\n",
       "      <td>Arinas</td>\n",
       "      <td>12140420</td>\n",
       "      <td>Molėtų r. sav.</td>\n",
       "      <td>0.77</td>\n",
       "      <td>4.060</td>\n",
       "      <td>36</td>\n",
       "      <td>3.28</td>\n",
       "      <td>14.67</td>\n",
       "      <td>0.0</td>\n",
       "      <td>0.0</td>\n",
       "      <td>0.596</td>\n",
       "    </tr>\n",
       "    <tr>\n",
       "      <th>19</th>\n",
       "      <td>Galuonai</td>\n",
       "      <td>12130331</td>\n",
       "      <td>Molėtų r. sav.</td>\n",
       "      <td>0.80</td>\n",
       "      <td>3.843</td>\n",
       "      <td>39</td>\n",
       "      <td>5.28</td>\n",
       "      <td>38.79</td>\n",
       "      <td>0.0</td>\n",
       "      <td>0.0</td>\n",
       "      <td>1.491</td>\n",
       "    </tr>\n",
       "    <tr>\n",
       "      <th>23</th>\n",
       "      <td>Išnarai</td>\n",
       "      <td>12130332</td>\n",
       "      <td>Molėtų r. sav.</td>\n",
       "      <td>0.48</td>\n",
       "      <td>3.607</td>\n",
       "      <td>80</td>\n",
       "      <td>1.28</td>\n",
       "      <td>10.66</td>\n",
       "      <td>0.0</td>\n",
       "      <td>0.0</td>\n",
       "      <td>0.385</td>\n",
       "    </tr>\n",
       "    <tr>\n",
       "      <th>24</th>\n",
       "      <td>Juodieji Lakajai</td>\n",
       "      <td>12130250</td>\n",
       "      <td>Molėtų r. sav.</td>\n",
       "      <td>1.00</td>\n",
       "      <td>3.790</td>\n",
       "      <td>40</td>\n",
       "      <td>1.00</td>\n",
       "      <td>1.00</td>\n",
       "      <td>0.0</td>\n",
       "      <td>0.0</td>\n",
       "      <td>0.038</td>\n",
       "    </tr>\n",
       "    <tr>\n",
       "      <th>26</th>\n",
       "      <td>Kertuojai</td>\n",
       "      <td>12140320</td>\n",
       "      <td>Molėtų r. sav.</td>\n",
       "      <td>0.42</td>\n",
       "      <td>2.521</td>\n",
       "      <td>72</td>\n",
       "      <td>1.02</td>\n",
       "      <td>23.57</td>\n",
       "      <td>0.0</td>\n",
       "      <td>0.0</td>\n",
       "      <td>0.594</td>\n",
       "    </tr>\n",
       "    <tr>\n",
       "      <th>30</th>\n",
       "      <td>Lukštas</td>\n",
       "      <td>12231665</td>\n",
       "      <td>Molėtų r. sav.</td>\n",
       "      <td>0.33</td>\n",
       "      <td>4.666</td>\n",
       "      <td>126</td>\n",
       "      <td>1.00</td>\n",
       "      <td>1.79</td>\n",
       "      <td>0.0</td>\n",
       "      <td>0.0</td>\n",
       "      <td>0.084</td>\n",
       "    </tr>\n",
       "    <tr>\n",
       "      <th>39</th>\n",
       "      <td>Pravalas</td>\n",
       "      <td>12141212</td>\n",
       "      <td>Molėtų r. sav.</td>\n",
       "      <td>1.00</td>\n",
       "      <td>2.959</td>\n",
       "      <td>27</td>\n",
       "      <td>1.00</td>\n",
       "      <td>1.00</td>\n",
       "      <td>0.0</td>\n",
       "      <td>0.0</td>\n",
       "      <td>0.030</td>\n",
       "    </tr>\n",
       "    <tr>\n",
       "      <th>57</th>\n",
       "      <td>Virintai</td>\n",
       "      <td>12241640</td>\n",
       "      <td>Molėtų r. sav.</td>\n",
       "      <td>0.52</td>\n",
       "      <td>3.519</td>\n",
       "      <td>64</td>\n",
       "      <td>1.90</td>\n",
       "      <td>17.82</td>\n",
       "      <td>16.8</td>\n",
       "      <td>0.0</td>\n",
       "      <td>0.627</td>\n",
       "    </tr>\n",
       "  </tbody>\n",
       "</table>\n",
       "</div>"
      ],
      "text/plain": [
       "   Vandens telkinio pavadinimas     Kodas     Savivaldybė  \\\n",
       "2                         Alnis  12130082  Molėtų r. sav.   \n",
       "6                        Arinas  12140420  Molėtų r. sav.   \n",
       "19                     Galuonai  12130331  Molėtų r. sav.   \n",
       "23                      Išnarai  12130332  Molėtų r. sav.   \n",
       "24             Juodieji Lakajai  12130250  Molėtų r. sav.   \n",
       "26                    Kertuojai  12140320  Molėtų r. sav.   \n",
       "30                      Lukštas  12231665  Molėtų r. sav.   \n",
       "39                     Pravalas  12141212  Molėtų r. sav.   \n",
       "57                     Virintai  12241640  Molėtų r. sav.   \n",
       "\n",
       "    Žuvų būklės indeksas  Biomasė(kg)  Gausumas(vnt)  \\\n",
       "2                   0.57        3.798             42   \n",
       "6                   0.77        4.060             36   \n",
       "19                  0.80        3.843             39   \n",
       "23                  0.48        3.607             80   \n",
       "24                  1.00        3.790             40   \n",
       "26                  0.42        2.521             72   \n",
       "30                  0.33        4.666            126   \n",
       "39                  1.00        2.959             27   \n",
       "57                  0.52        3.519             64   \n",
       "\n",
       "    Plėšrių žuvų gausumas(%)  Plėšrių žuvų biomasė(%)  Ešerys (Gausumas)  \\\n",
       "2                       2.83                    26.02                0.0   \n",
       "6                       3.28                    14.67                0.0   \n",
       "19                      5.28                    38.79                0.0   \n",
       "23                      1.28                    10.66                0.0   \n",
       "24                      1.00                     1.00                0.0   \n",
       "26                      1.02                    23.57                0.0   \n",
       "30                      1.00                     1.79                0.0   \n",
       "39                      1.00                     1.00                0.0   \n",
       "57                      1.90                    17.82               16.8   \n",
       "\n",
       "    Karšis (Gausumas)  Plėšrios(kg)  \n",
       "2                 0.0         0.988  \n",
       "6                 0.0         0.596  \n",
       "19                0.0         1.491  \n",
       "23                0.0         0.385  \n",
       "24                0.0         0.038  \n",
       "26                0.0         0.594  \n",
       "30                0.0         0.084  \n",
       "39                0.0         0.030  \n",
       "57                0.0         0.627  "
      ]
     },
     "execution_count": 304,
     "metadata": {},
     "output_type": "execute_result"
    }
   ],
   "source": [
    "moletai = df[df['Savivaldybė'] == 'Molėtų r. sav.']\n",
    "moletai"
   ]
  },
  {
   "cell_type": "markdown",
   "id": "bc8cbdfb-6e55-4c9e-823f-ecddcd1c9178",
   "metadata": {},
   "source": [
    "Atvaizduojam Molėtų rajono ežerų būklės indeksą Biomasės ir Plėšrios žuvies pasiskirstymą:"
   ]
  },
  {
   "cell_type": "code",
   "execution_count": 305,
   "id": "ee61eefc-6646-488d-a467-19ac8594891c",
   "metadata": {
    "tags": []
   },
   "outputs": [
    {
     "data": {
      "application/vnd.holoviews_exec.v0+json": "",
      "text/html": [
       "<div id='62661'>\n",
       "  <div class=\"bk-root\" id=\"7a76501d-993d-49b4-b61a-28c224d1f420\" data-root-id=\"62661\"></div>\n",
       "</div>\n",
       "<script type=\"application/javascript\">(function(root) {\n",
       "  function embed_document(root) {\n",
       "    var docs_json = {\"cb3fd412-2732-4808-bb92-1256f4a3992f\":{\"defs\":[{\"extends\":null,\"module\":null,\"name\":\"ReactiveHTML1\",\"overrides\":[],\"properties\":[]},{\"extends\":null,\"module\":null,\"name\":\"FlexBox1\",\"overrides\":[],\"properties\":[{\"default\":\"flex-start\",\"kind\":null,\"name\":\"align_content\"},{\"default\":\"flex-start\",\"kind\":null,\"name\":\"align_items\"},{\"default\":\"row\",\"kind\":null,\"name\":\"flex_direction\"},{\"default\":\"wrap\",\"kind\":null,\"name\":\"flex_wrap\"},{\"default\":\"flex-start\",\"kind\":null,\"name\":\"justify_content\"}]},{\"extends\":null,\"module\":null,\"name\":\"GridStack1\",\"overrides\":[],\"properties\":[{\"default\":\"warn\",\"kind\":null,\"name\":\"mode\"},{\"default\":null,\"kind\":null,\"name\":\"ncols\"},{\"default\":null,\"kind\":null,\"name\":\"nrows\"},{\"default\":true,\"kind\":null,\"name\":\"allow_resize\"},{\"default\":true,\"kind\":null,\"name\":\"allow_drag\"},{\"default\":[],\"kind\":null,\"name\":\"state\"}]},{\"extends\":null,\"module\":null,\"name\":\"click1\",\"overrides\":[],\"properties\":[{\"default\":\"\",\"kind\":null,\"name\":\"terminal_output\"},{\"default\":\"\",\"kind\":null,\"name\":\"debug_name\"},{\"default\":0,\"kind\":null,\"name\":\"clears\"}]},{\"extends\":null,\"module\":null,\"name\":\"NotificationAreaBase1\",\"overrides\":[],\"properties\":[{\"default\":\"bottom-right\",\"kind\":null,\"name\":\"position\"},{\"default\":0,\"kind\":null,\"name\":\"_clear\"}]},{\"extends\":null,\"module\":null,\"name\":\"NotificationArea1\",\"overrides\":[],\"properties\":[{\"default\":[],\"kind\":null,\"name\":\"notifications\"},{\"default\":\"bottom-right\",\"kind\":null,\"name\":\"position\"},{\"default\":0,\"kind\":null,\"name\":\"_clear\"},{\"default\":[{\"background\":\"#ffc107\",\"icon\":{\"className\":\"fas fa-exclamation-triangle\",\"color\":\"white\",\"tagName\":\"i\"},\"type\":\"warning\"},{\"background\":\"#007bff\",\"icon\":{\"className\":\"fas fa-info-circle\",\"color\":\"white\",\"tagName\":\"i\"},\"type\":\"info\"}],\"kind\":null,\"name\":\"types\"}]},{\"extends\":null,\"module\":null,\"name\":\"Notification\",\"overrides\":[],\"properties\":[{\"default\":null,\"kind\":null,\"name\":\"background\"},{\"default\":3000,\"kind\":null,\"name\":\"duration\"},{\"default\":null,\"kind\":null,\"name\":\"icon\"},{\"default\":\"\",\"kind\":null,\"name\":\"message\"},{\"default\":null,\"kind\":null,\"name\":\"notification_type\"},{\"default\":false,\"kind\":null,\"name\":\"_destroyed\"}]},{\"extends\":null,\"module\":null,\"name\":\"TemplateActions1\",\"overrides\":[],\"properties\":[{\"default\":0,\"kind\":null,\"name\":\"open_modal\"},{\"default\":0,\"kind\":null,\"name\":\"close_modal\"}]},{\"extends\":null,\"module\":null,\"name\":\"MaterialTemplateActions1\",\"overrides\":[],\"properties\":[{\"default\":0,\"kind\":null,\"name\":\"open_modal\"},{\"default\":0,\"kind\":null,\"name\":\"close_modal\"}]}],\"roots\":{\"references\":[{\"attributes\":{\"click_policy\":\"mute\",\"coordinates\":null,\"group\":null,\"items\":[{\"id\":\"62720\"},{\"id\":\"62742\"}],\"title\":\"Variable\"},\"id\":\"62719\",\"type\":\"Legend\"},{\"attributes\":{\"line_alpha\":0.2,\"line_color\":\"#30a2da\",\"line_width\":2,\"x\":{\"field\":\"Vandens telkinio pavadinimas\"},\"y\":{\"field\":\"value\"}},\"id\":\"62706\",\"type\":\"Line\"},{\"attributes\":{},\"id\":\"62673\",\"type\":\"LinearScale\"},{\"attributes\":{},\"id\":\"62739\",\"type\":\"UnionRenderers\"},{\"attributes\":{\"axis\":{\"id\":\"62678\"},\"coordinates\":null,\"dimension\":1,\"grid_line_color\":null,\"group\":null,\"ticker\":null},\"id\":\"62681\",\"type\":\"Grid\"},{\"attributes\":{},\"id\":\"62702\",\"type\":\"Selection\"},{\"attributes\":{\"axis_label\":\"Vandens telkinio pavadinimas\",\"coordinates\":null,\"formatter\":{\"id\":\"62696\"},\"group\":null,\"major_label_orientation\":0.8726646259971648,\"major_label_policy\":{\"id\":\"62697\"},\"ticker\":{\"id\":\"62676\"}},\"id\":\"62675\",\"type\":\"CategoricalAxis\"},{\"attributes\":{\"callback\":null,\"renderers\":[{\"id\":\"62707\"},{\"id\":\"62728\"}],\"tags\":[\"hv_created\"],\"tooltips\":[[\"Variable\",\"@{Variable}\"],[\"Vandens telkinio pavadinimas\",\"@{Vandens_telkinio_pavadinimas}\"],[\"value\",\"@{value}\"]]},\"id\":\"62664\",\"type\":\"HoverTool\"},{\"attributes\":{\"coordinates\":null,\"data_source\":{\"id\":\"62701\"},\"glyph\":{\"id\":\"62704\"},\"group\":null,\"hover_glyph\":null,\"muted_glyph\":{\"id\":\"62706\"},\"nonselection_glyph\":{\"id\":\"62705\"},\"selection_glyph\":{\"id\":\"62721\"},\"view\":{\"id\":\"62708\"}},\"id\":\"62707\",\"type\":\"GlyphRenderer\"},{\"attributes\":{},\"id\":\"62682\",\"type\":\"SaveTool\"},{\"attributes\":{},\"id\":\"62671\",\"type\":\"CategoricalScale\"},{\"attributes\":{},\"id\":\"62697\",\"type\":\"AllLabels\"},{\"attributes\":{\"active_drag\":{\"id\":\"62683\"},\"active_scroll\":{\"id\":\"62684\"},\"tools\":[{\"id\":\"62664\"},{\"id\":\"62682\"},{\"id\":\"62683\"},{\"id\":\"62684\"},{\"id\":\"62685\"},{\"id\":\"62686\"}]},\"id\":\"62688\",\"type\":\"Toolbar\"},{\"attributes\":{},\"id\":\"62683\",\"type\":\"PanTool\"},{\"attributes\":{\"line_color\":\"#fc4f30\",\"line_width\":2,\"x\":{\"field\":\"Vandens telkinio pavadinimas\"},\"y\":{\"field\":\"value\"}},\"id\":\"62725\",\"type\":\"Line\"},{\"attributes\":{\"axis_label\":\"\",\"coordinates\":null,\"formatter\":{\"id\":\"62699\"},\"group\":null,\"major_label_policy\":{\"id\":\"62700\"},\"ticker\":{\"id\":\"62679\"}},\"id\":\"62678\",\"type\":\"LinearAxis\"},{\"attributes\":{\"source\":{\"id\":\"62722\"}},\"id\":\"62729\",\"type\":\"CDSView\"},{\"attributes\":{},\"id\":\"62686\",\"type\":\"ResetTool\"},{\"attributes\":{},\"id\":\"62679\",\"type\":\"BasicTicker\"},{\"attributes\":{\"line_alpha\":0.2,\"line_color\":\"#fc4f30\",\"line_width\":2,\"x\":{\"field\":\"Vandens telkinio pavadinimas\"},\"y\":{\"field\":\"value\"}},\"id\":\"62727\",\"type\":\"Line\"},{\"attributes\":{},\"id\":\"62716\",\"type\":\"UnionRenderers\"},{\"attributes\":{\"below\":[{\"id\":\"62675\"}],\"center\":[{\"id\":\"62677\"},{\"id\":\"62681\"},{\"id\":\"62719\"}],\"height\":300,\"left\":[{\"id\":\"62678\"}],\"margin\":[5,5,5,5],\"min_border_bottom\":10,\"min_border_left\":10,\"min_border_right\":10,\"min_border_top\":10,\"renderers\":[{\"id\":\"62707\"},{\"id\":\"62728\"}],\"sizing_mode\":\"fixed\",\"title\":{\"id\":\"62667\"},\"toolbar\":{\"id\":\"62688\"},\"width\":700,\"x_range\":{\"id\":\"62662\"},\"x_scale\":{\"id\":\"62671\"},\"y_range\":{\"id\":\"62663\"},\"y_scale\":{\"id\":\"62673\"}},\"id\":\"62666\",\"subtype\":\"Figure\",\"type\":\"Plot\"},{\"attributes\":{\"line_color\":\"#30a2da\",\"line_width\":2,\"x\":{\"field\":\"Vandens telkinio pavadinimas\"},\"y\":{\"field\":\"value\"}},\"id\":\"62721\",\"type\":\"Line\"},{\"attributes\":{\"end\":5.1296,\"reset_end\":5.1296,\"reset_start\":-0.4336,\"start\":-0.4336,\"tags\":[[[\"value\",\"value\",null]]]},\"id\":\"62663\",\"type\":\"Range1d\"},{\"attributes\":{},\"id\":\"62676\",\"type\":\"CategoricalTicker\"},{\"attributes\":{\"line_alpha\":0.1,\"line_color\":\"#fc4f30\",\"line_width\":2,\"x\":{\"field\":\"Vandens telkinio pavadinimas\"},\"y\":{\"field\":\"value\"}},\"id\":\"62726\",\"type\":\"Line\"},{\"attributes\":{},\"id\":\"62696\",\"type\":\"CategoricalTickFormatter\"},{\"attributes\":{\"label\":{\"value\":\"Pl\\u0117\\u0161rios(kg)\"},\"renderers\":[{\"id\":\"62707\"}]},\"id\":\"62720\",\"type\":\"LegendItem\"},{\"attributes\":{\"coordinates\":null,\"data_source\":{\"id\":\"62722\"},\"glyph\":{\"id\":\"62725\"},\"group\":null,\"hover_glyph\":null,\"muted_glyph\":{\"id\":\"62727\"},\"nonselection_glyph\":{\"id\":\"62726\"},\"selection_glyph\":{\"id\":\"62743\"},\"view\":{\"id\":\"62729\"}},\"id\":\"62728\",\"type\":\"GlyphRenderer\"},{\"attributes\":{\"data\":{\"Vandens telkinio pavadinimas\":[\"Alnis\",\"Arinas\",\"Galuonai\",\"I\\u0161narai\",\"Juodieji Lakajai\",\"Kertuojai\",\"Luk\\u0161tas\",\"Pravalas\",\"Virintai\"],\"Vandens_telkinio_pavadinimas\":[\"Alnis\",\"Arinas\",\"Galuonai\",\"I\\u0161narai\",\"Juodieji Lakajai\",\"Kertuojai\",\"Luk\\u0161tas\",\"Pravalas\",\"Virintai\"],\"Variable\":[\"Biomas\\u0117(kg)\",\"Biomas\\u0117(kg)\",\"Biomas\\u0117(kg)\",\"Biomas\\u0117(kg)\",\"Biomas\\u0117(kg)\",\"Biomas\\u0117(kg)\",\"Biomas\\u0117(kg)\",\"Biomas\\u0117(kg)\",\"Biomas\\u0117(kg)\"],\"value\":{\"__ndarray__\":\"/Knx0k1iDkA9CtejcD0QQFg5tMh2vg5AQmDl0CLbDEBSuB6F61EOQF66SQwCKwRARIts5/upEkB56SYxCKwHQPT91HjpJgxA\",\"dtype\":\"float64\",\"order\":\"little\",\"shape\":[9]}},\"selected\":{\"id\":\"62723\"},\"selection_policy\":{\"id\":\"62739\"}},\"id\":\"62722\",\"type\":\"ColumnDataSource\"},{\"attributes\":{\"bottom_units\":\"screen\",\"coordinates\":null,\"fill_alpha\":0.5,\"fill_color\":\"lightgrey\",\"group\":null,\"left_units\":\"screen\",\"level\":\"overlay\",\"line_alpha\":1.0,\"line_color\":\"black\",\"line_dash\":[4,4],\"line_width\":2,\"right_units\":\"screen\",\"syncable\":false,\"top_units\":\"screen\"},\"id\":\"62687\",\"type\":\"BoxAnnotation\"},{\"attributes\":{\"children\":[{\"id\":\"62666\"}],\"height\":300,\"margin\":[0,0,0,0],\"name\":\"Row37001\",\"sizing_mode\":\"fixed\",\"tags\":[\"embedded\"],\"width\":700},\"id\":\"62661\",\"type\":\"Row\"},{\"attributes\":{\"overlay\":{\"id\":\"62687\"}},\"id\":\"62685\",\"type\":\"BoxZoomTool\"},{\"attributes\":{},\"id\":\"62684\",\"type\":\"WheelZoomTool\"},{\"attributes\":{\"axis\":{\"id\":\"62675\"},\"coordinates\":null,\"grid_line_color\":null,\"group\":null,\"ticker\":null},\"id\":\"62677\",\"type\":\"Grid\"},{\"attributes\":{\"source\":{\"id\":\"62701\"}},\"id\":\"62708\",\"type\":\"CDSView\"},{\"attributes\":{\"coordinates\":null,\"group\":null,\"text\":\"Mol\\u0117t\\u0173 rajono e\\u017eer\\u0173 \\u017euvingumas\",\"text_color\":\"black\",\"text_font_size\":\"12pt\"},\"id\":\"62667\",\"type\":\"Title\"},{\"attributes\":{\"data\":{\"Vandens telkinio pavadinimas\":[\"Alnis\",\"Arinas\",\"Galuonai\",\"I\\u0161narai\",\"Juodieji Lakajai\",\"Kertuojai\",\"Luk\\u0161tas\",\"Pravalas\",\"Virintai\"],\"Vandens_telkinio_pavadinimas\":[\"Alnis\",\"Arinas\",\"Galuonai\",\"I\\u0161narai\",\"Juodieji Lakajai\",\"Kertuojai\",\"Luk\\u0161tas\",\"Pravalas\",\"Virintai\"],\"Variable\":[\"Pl\\u0117\\u0161rios(kg)\",\"Pl\\u0117\\u0161rios(kg)\",\"Pl\\u0117\\u0161rios(kg)\",\"Pl\\u0117\\u0161rios(kg)\",\"Pl\\u0117\\u0161rios(kg)\",\"Pl\\u0117\\u0161rios(kg)\",\"Pl\\u0117\\u0161rios(kg)\",\"Pl\\u0117\\u0161rios(kg)\",\"Pl\\u0117\\u0161rios(kg)\"],\"value\":{\"__ndarray__\":\"BFYOLbKd7z/fT42XbhLjP0Jg5dAi2/c/pHA9Ctej2D/b+X5qvHSjPzVeukkMAuM/Gy/dJAaBtT+4HoXrUbieP6rx0k1iEOQ/\",\"dtype\":\"float64\",\"order\":\"little\",\"shape\":[9]}},\"selected\":{\"id\":\"62702\"},\"selection_policy\":{\"id\":\"62716\"}},\"id\":\"62701\",\"type\":\"ColumnDataSource\"},{\"attributes\":{\"label\":{\"value\":\"Biomas\\u0117(kg)\"},\"renderers\":[{\"id\":\"62728\"}]},\"id\":\"62742\",\"type\":\"LegendItem\"},{\"attributes\":{\"line_alpha\":0.1,\"line_color\":\"#30a2da\",\"line_width\":2,\"x\":{\"field\":\"Vandens telkinio pavadinimas\"},\"y\":{\"field\":\"value\"}},\"id\":\"62705\",\"type\":\"Line\"},{\"attributes\":{},\"id\":\"62700\",\"type\":\"AllLabels\"},{\"attributes\":{\"line_color\":\"#30a2da\",\"line_width\":2,\"x\":{\"field\":\"Vandens telkinio pavadinimas\"},\"y\":{\"field\":\"value\"}},\"id\":\"62704\",\"type\":\"Line\"},{\"attributes\":{},\"id\":\"62723\",\"type\":\"Selection\"},{\"attributes\":{\"factors\":[\"Alnis\",\"Arinas\",\"Galuonai\",\"I\\u0161narai\",\"Juodieji Lakajai\",\"Kertuojai\",\"Luk\\u0161tas\",\"Pravalas\",\"Virintai\"],\"tags\":[[[\"Vandens telkinio pavadinimas\",\"Vandens telkinio pavadinimas\",null]]]},\"id\":\"62662\",\"type\":\"FactorRange\"},{\"attributes\":{\"line_color\":\"#fc4f30\",\"line_width\":2,\"x\":{\"field\":\"Vandens telkinio pavadinimas\"},\"y\":{\"field\":\"value\"}},\"id\":\"62743\",\"type\":\"Line\"},{\"attributes\":{},\"id\":\"62699\",\"type\":\"BasicTickFormatter\"}],\"root_ids\":[\"62661\"]},\"title\":\"Bokeh Application\",\"version\":\"2.4.3\"}};\n",
       "    var render_items = [{\"docid\":\"cb3fd412-2732-4808-bb92-1256f4a3992f\",\"root_ids\":[\"62661\"],\"roots\":{\"62661\":\"7a76501d-993d-49b4-b61a-28c224d1f420\"}}];\n",
       "    root.Bokeh.embed.embed_items_notebook(docs_json, render_items);\n",
       "    for (const render_item of render_items) {\n",
       "      for (const root_id of render_item.root_ids) {\n",
       "\tconst id_el = document.getElementById(root_id)\n",
       "\tif (id_el.children.length && (id_el.children[0].className === 'bk-root')) {\n",
       "\t  const root_el = id_el.children[0]\n",
       "\t  root_el.id = root_el.id + '-rendered'\n",
       "\t}\n",
       "      }\n",
       "    }\n",
       "  }\n",
       "  if (root.Bokeh !== undefined && root.Bokeh.Panel !== undefined && ( root['Tabulator'] !== undefined) && ( root['Tabulator'] !== undefined) && ( root['Tabulator'] !== undefined) && ( root['Tabulator'] !== undefined) && ( root['Tabulator'] !== undefined) && ( root['Tabulator'] !== undefined) && ( root['Tabulator'] !== undefined)) {\n",
       "    embed_document(root);\n",
       "  } else {\n",
       "    var attempts = 0;\n",
       "    var timer = setInterval(function(root) {\n",
       "      if (root.Bokeh !== undefined && root.Bokeh.Panel !== undefined && (root['Tabulator'] !== undefined) && (root['Tabulator'] !== undefined) && (root['Tabulator'] !== undefined) && (root['Tabulator'] !== undefined) && (root['Tabulator'] !== undefined) && (root['Tabulator'] !== undefined) && (root['Tabulator'] !== undefined)) {\n",
       "        clearInterval(timer);\n",
       "        embed_document(root);\n",
       "      } else if (document.readyState == \"complete\") {\n",
       "        attempts++;\n",
       "        if (attempts > 200) {\n",
       "          clearInterval(timer);\n",
       "          console.log(\"Bokeh: ERROR: Unable to run BokehJS code because BokehJS library is missing\");\n",
       "        }\n",
       "      }\n",
       "    }, 25, root)\n",
       "  }\n",
       "})(window);</script>"
      ],
      "text/plain": [
       ":NdOverlay   [Variable]\n",
       "   :Curve   [Vandens telkinio pavadinimas]   (value)"
      ]
     },
     "execution_count": 305,
     "metadata": {
      "application/vnd.holoviews_exec.v0+json": {
       "id": "62661"
      }
     },
     "output_type": "execute_result"
    }
   ],
   "source": [
    "pirmas = moletai.hvplot(x='Vandens telkinio pavadinimas', rot=50, y=['Plėšrios(kg)', 'Biomasė(kg)'], kind='line', legend='top_right', title='Molėtų rajono ežerų žuvingumas')\n",
    "pirmas"
   ]
  },
  {
   "cell_type": "code",
   "execution_count": 306,
   "id": "f038e0ae-5518-402f-aab5-672a8218ddf8",
   "metadata": {
    "tags": []
   },
   "outputs": [],
   "source": [
    "# padarom dataframe eilutes(pipeline) interaktyvia\n",
    "idf = df.interactive()"
   ]
  },
  {
   "cell_type": "code",
   "execution_count": null,
   "id": "dbaf115f-8e87-4f0b-90f6-87b01510f5a1",
   "metadata": {
    "tags": []
   },
   "outputs": [],
   "source": []
  },
  {
   "cell_type": "code",
   "execution_count": 307,
   "id": "e105cebc-1034-4965-815b-6f99e0c32f0d",
   "metadata": {
    "tags": []
   },
   "outputs": [
    {
     "data": {},
     "metadata": {},
     "output_type": "display_data"
    },
    {
     "data": {
      "application/vnd.holoviews_exec.v0+json": "",
      "text/html": [
       "<div id='62821'>\n",
       "  <div class=\"bk-root\" id=\"920a5a83-db24-41e2-bf73-d8c77c503c21\" data-root-id=\"62821\"></div>\n",
       "</div>\n",
       "<script type=\"application/javascript\">(function(root) {\n",
       "  function embed_document(root) {\n",
       "    var docs_json = {\"d26fec8f-d8d0-47bd-b73d-b12b7148dcfa\":{\"defs\":[{\"extends\":null,\"module\":null,\"name\":\"ReactiveHTML1\",\"overrides\":[],\"properties\":[]},{\"extends\":null,\"module\":null,\"name\":\"FlexBox1\",\"overrides\":[],\"properties\":[{\"default\":\"flex-start\",\"kind\":null,\"name\":\"align_content\"},{\"default\":\"flex-start\",\"kind\":null,\"name\":\"align_items\"},{\"default\":\"row\",\"kind\":null,\"name\":\"flex_direction\"},{\"default\":\"wrap\",\"kind\":null,\"name\":\"flex_wrap\"},{\"default\":\"flex-start\",\"kind\":null,\"name\":\"justify_content\"}]},{\"extends\":null,\"module\":null,\"name\":\"GridStack1\",\"overrides\":[],\"properties\":[{\"default\":\"warn\",\"kind\":null,\"name\":\"mode\"},{\"default\":null,\"kind\":null,\"name\":\"ncols\"},{\"default\":null,\"kind\":null,\"name\":\"nrows\"},{\"default\":true,\"kind\":null,\"name\":\"allow_resize\"},{\"default\":true,\"kind\":null,\"name\":\"allow_drag\"},{\"default\":[],\"kind\":null,\"name\":\"state\"}]},{\"extends\":null,\"module\":null,\"name\":\"click1\",\"overrides\":[],\"properties\":[{\"default\":\"\",\"kind\":null,\"name\":\"terminal_output\"},{\"default\":\"\",\"kind\":null,\"name\":\"debug_name\"},{\"default\":0,\"kind\":null,\"name\":\"clears\"}]},{\"extends\":null,\"module\":null,\"name\":\"NotificationAreaBase1\",\"overrides\":[],\"properties\":[{\"default\":\"bottom-right\",\"kind\":null,\"name\":\"position\"},{\"default\":0,\"kind\":null,\"name\":\"_clear\"}]},{\"extends\":null,\"module\":null,\"name\":\"NotificationArea1\",\"overrides\":[],\"properties\":[{\"default\":[],\"kind\":null,\"name\":\"notifications\"},{\"default\":\"bottom-right\",\"kind\":null,\"name\":\"position\"},{\"default\":0,\"kind\":null,\"name\":\"_clear\"},{\"default\":[{\"background\":\"#ffc107\",\"icon\":{\"className\":\"fas fa-exclamation-triangle\",\"color\":\"white\",\"tagName\":\"i\"},\"type\":\"warning\"},{\"background\":\"#007bff\",\"icon\":{\"className\":\"fas fa-info-circle\",\"color\":\"white\",\"tagName\":\"i\"},\"type\":\"info\"}],\"kind\":null,\"name\":\"types\"}]},{\"extends\":null,\"module\":null,\"name\":\"Notification\",\"overrides\":[],\"properties\":[{\"default\":null,\"kind\":null,\"name\":\"background\"},{\"default\":3000,\"kind\":null,\"name\":\"duration\"},{\"default\":null,\"kind\":null,\"name\":\"icon\"},{\"default\":\"\",\"kind\":null,\"name\":\"message\"},{\"default\":null,\"kind\":null,\"name\":\"notification_type\"},{\"default\":false,\"kind\":null,\"name\":\"_destroyed\"}]},{\"extends\":null,\"module\":null,\"name\":\"TemplateActions1\",\"overrides\":[],\"properties\":[{\"default\":0,\"kind\":null,\"name\":\"open_modal\"},{\"default\":0,\"kind\":null,\"name\":\"close_modal\"}]},{\"extends\":null,\"module\":null,\"name\":\"MaterialTemplateActions1\",\"overrides\":[],\"properties\":[{\"default\":0,\"kind\":null,\"name\":\"open_modal\"},{\"default\":0,\"kind\":null,\"name\":\"close_modal\"}]}],\"roots\":{\"references\":[{\"attributes\":{\"active\":0,\"button_type\":\"light\",\"labels\":[\"Biomas\\u0117(kg)\",\"Pl\\u0117\\u0161rios(kg)\"],\"margin\":[5,10,5,10]},\"id\":\"62821\",\"type\":\"RadioButtonGroup\"},{\"attributes\":{\"client_comm_id\":\"ebe0b5fd36c14ae988c7362ab3fbdc18\",\"comm_id\":\"0693a253e9fb41628df77adf3994950e\",\"plot_id\":\"62821\"},\"id\":\"62822\",\"type\":\"panel.models.comm_manager.CommManager\"}],\"root_ids\":[\"62821\",\"62822\"]},\"title\":\"Bokeh Application\",\"version\":\"2.4.3\"}};\n",
       "    var render_items = [{\"docid\":\"d26fec8f-d8d0-47bd-b73d-b12b7148dcfa\",\"root_ids\":[\"62821\"],\"roots\":{\"62821\":\"920a5a83-db24-41e2-bf73-d8c77c503c21\"}}];\n",
       "    root.Bokeh.embed.embed_items_notebook(docs_json, render_items);\n",
       "    for (const render_item of render_items) {\n",
       "      for (const root_id of render_item.root_ids) {\n",
       "\tconst id_el = document.getElementById(root_id)\n",
       "\tif (id_el.children.length && (id_el.children[0].className === 'bk-root')) {\n",
       "\t  const root_el = id_el.children[0]\n",
       "\t  root_el.id = root_el.id + '-rendered'\n",
       "\t}\n",
       "      }\n",
       "    }\n",
       "  }\n",
       "  if (root.Bokeh !== undefined && root.Bokeh.Panel !== undefined && ( root['Tabulator'] !== undefined) && ( root['Tabulator'] !== undefined) && ( root['Tabulator'] !== undefined) && ( root['Tabulator'] !== undefined) && ( root['Tabulator'] !== undefined) && ( root['Tabulator'] !== undefined) && ( root['Tabulator'] !== undefined)) {\n",
       "    embed_document(root);\n",
       "  } else {\n",
       "    var attempts = 0;\n",
       "    var timer = setInterval(function(root) {\n",
       "      if (root.Bokeh !== undefined && root.Bokeh.Panel !== undefined && (root['Tabulator'] !== undefined) && (root['Tabulator'] !== undefined) && (root['Tabulator'] !== undefined) && (root['Tabulator'] !== undefined) && (root['Tabulator'] !== undefined) && (root['Tabulator'] !== undefined) && (root['Tabulator'] !== undefined)) {\n",
       "        clearInterval(timer);\n",
       "        embed_document(root);\n",
       "      } else if (document.readyState == \"complete\") {\n",
       "        attempts++;\n",
       "        if (attempts > 200) {\n",
       "          clearInterval(timer);\n",
       "          console.log(\"Bokeh: ERROR: Unable to run BokehJS code because BokehJS library is missing\");\n",
       "        }\n",
       "      }\n",
       "    }, 25, root)\n",
       "  }\n",
       "})(window);</script>"
      ],
      "text/plain": [
       "RadioButtonGroup(button_type='light', name='Y ašis', options=['Biomasė(kg)', ...], value='Biomasė(kg)')"
      ]
     },
     "execution_count": 307,
     "metadata": {
      "application/vnd.holoviews_exec.v0+json": {
       "id": "62821"
      }
     },
     "output_type": "execute_result"
    }
   ],
   "source": [
    "# radio tipo mygtukai.\n",
    "y_asis = pn.widgets.RadioButtonGroup(name='Y ašis',\n",
    "                                    options=['Biomasė(kg)','Plėšrios(kg)'],\n",
    "                                    button_type='light')\n",
    "y_asis"
   ]
  },
  {
   "cell_type": "code",
   "execution_count": null,
   "id": "07d305d2-f3cd-42bb-936f-ecbd3e037f70",
   "metadata": {
    "tags": []
   },
   "outputs": [],
   "source": []
  },
  {
   "cell_type": "code",
   "execution_count": 308,
   "id": "b0f9015b-2494-4524-912a-43514ed52421",
   "metadata": {
    "tags": []
   },
   "outputs": [],
   "source": [
    "grafikas_pirmas = mano_pipeline.hvplot.bar(x='Savivaldybė', rot=90,\n",
    "                               #by='Savivaldybė', \n",
    "                               y=\"\",\n",
    "                               title = \"Žuvys pagal vietovę\")"
   ]
  },
  {
   "cell_type": "code",
   "execution_count": 309,
   "id": "faf157c8-9306-413d-bffc-8b052c7ff351",
   "metadata": {
    "tags": []
   },
   "outputs": [
    {
     "data": {},
     "metadata": {},
     "output_type": "display_data"
    },
    {
     "data": {},
     "metadata": {},
     "output_type": "display_data"
    },
    {
     "data": {
      "application/vnd.holoviews_exec.v0+json": "",
      "text/html": [
       "<div id='62823'>\n",
       "  <div class=\"bk-root\" id=\"fa2d0240-102a-499f-9b8e-0cdc2630ed40\" data-root-id=\"62823\"></div>\n",
       "</div>\n",
       "<script type=\"application/javascript\">(function(root) {\n",
       "  function embed_document(root) {\n",
       "    var docs_json = {\"915f552f-3fcd-40a4-8bbf-4d0faed98bd9\":{\"defs\":[{\"extends\":null,\"module\":null,\"name\":\"ReactiveHTML1\",\"overrides\":[],\"properties\":[]},{\"extends\":null,\"module\":null,\"name\":\"FlexBox1\",\"overrides\":[],\"properties\":[{\"default\":\"flex-start\",\"kind\":null,\"name\":\"align_content\"},{\"default\":\"flex-start\",\"kind\":null,\"name\":\"align_items\"},{\"default\":\"row\",\"kind\":null,\"name\":\"flex_direction\"},{\"default\":\"wrap\",\"kind\":null,\"name\":\"flex_wrap\"},{\"default\":\"flex-start\",\"kind\":null,\"name\":\"justify_content\"}]},{\"extends\":null,\"module\":null,\"name\":\"GridStack1\",\"overrides\":[],\"properties\":[{\"default\":\"warn\",\"kind\":null,\"name\":\"mode\"},{\"default\":null,\"kind\":null,\"name\":\"ncols\"},{\"default\":null,\"kind\":null,\"name\":\"nrows\"},{\"default\":true,\"kind\":null,\"name\":\"allow_resize\"},{\"default\":true,\"kind\":null,\"name\":\"allow_drag\"},{\"default\":[],\"kind\":null,\"name\":\"state\"}]},{\"extends\":null,\"module\":null,\"name\":\"click1\",\"overrides\":[],\"properties\":[{\"default\":\"\",\"kind\":null,\"name\":\"terminal_output\"},{\"default\":\"\",\"kind\":null,\"name\":\"debug_name\"},{\"default\":0,\"kind\":null,\"name\":\"clears\"}]},{\"extends\":null,\"module\":null,\"name\":\"NotificationAreaBase1\",\"overrides\":[],\"properties\":[{\"default\":\"bottom-right\",\"kind\":null,\"name\":\"position\"},{\"default\":0,\"kind\":null,\"name\":\"_clear\"}]},{\"extends\":null,\"module\":null,\"name\":\"NotificationArea1\",\"overrides\":[],\"properties\":[{\"default\":[],\"kind\":null,\"name\":\"notifications\"},{\"default\":\"bottom-right\",\"kind\":null,\"name\":\"position\"},{\"default\":0,\"kind\":null,\"name\":\"_clear\"},{\"default\":[{\"background\":\"#ffc107\",\"icon\":{\"className\":\"fas fa-exclamation-triangle\",\"color\":\"white\",\"tagName\":\"i\"},\"type\":\"warning\"},{\"background\":\"#007bff\",\"icon\":{\"className\":\"fas fa-info-circle\",\"color\":\"white\",\"tagName\":\"i\"},\"type\":\"info\"}],\"kind\":null,\"name\":\"types\"}]},{\"extends\":null,\"module\":null,\"name\":\"Notification\",\"overrides\":[],\"properties\":[{\"default\":null,\"kind\":null,\"name\":\"background\"},{\"default\":3000,\"kind\":null,\"name\":\"duration\"},{\"default\":null,\"kind\":null,\"name\":\"icon\"},{\"default\":\"\",\"kind\":null,\"name\":\"message\"},{\"default\":null,\"kind\":null,\"name\":\"notification_type\"},{\"default\":false,\"kind\":null,\"name\":\"_destroyed\"}]},{\"extends\":null,\"module\":null,\"name\":\"TemplateActions1\",\"overrides\":[],\"properties\":[{\"default\":0,\"kind\":null,\"name\":\"open_modal\"},{\"default\":0,\"kind\":null,\"name\":\"close_modal\"}]},{\"extends\":null,\"module\":null,\"name\":\"MaterialTemplateActions1\",\"overrides\":[],\"properties\":[{\"default\":0,\"kind\":null,\"name\":\"open_modal\"},{\"default\":0,\"kind\":null,\"name\":\"close_modal\"}]}],\"roots\":{\"references\":[{\"attributes\":{},\"id\":\"62838\",\"type\":\"CategoricalScale\"},{\"attributes\":{\"data\":{\"Biomas\\u0117_left_parenthesis_kg_right_parenthesis\":{\"__ndarray__\":\"ZmZmZmbmEEDP91PjpZsGQCuHFtnO9xFAObTIdr6fD0C8dJMYBFYHQM3MzMzMzBFAEoPAyqFFC0DD9Shcj8ILQN9PjZduEgNAkxgEVg6tEUC4HoXrUbgDQJMYBFYOLQBAI9v5fmq89j8Sg8DKoUX4P5qZmZmZGRpAx0s3iUEgI0AEVg4tsp0VQPhT46WbRBBAokW28/1UEEAIrBxaZLsSQN0kBoGVQwdASgwCK4cW9T9eukkMAisQQHsUrkfh+iFA9P3UeOkmDEB56SYxCKwHQESLbOf7qRJAXrpJDAIrBEBSuB6F61EOQEJg5dAi2wxAWDm0yHa+DkA9CtejcD0QQPyp8dJNYg5AO99PjZfuE0B3vp8aL90AQCGwcmiR7QBANV66SQwCG0CR7Xw/NV4YQD0K16NwvRVALbKd76dGFUDdJAaBlUP3Pylcj8L16CNA4XoUrkfhFkDZzvdT4yUfQJhuEoPAyglA5/up8dLNEUCkcD0K16MQQNV46SYxCPo/okW28/3U+j+6SQwCK4cOQFCNl24Sg/w/KVyPwvUoIkBSuB6F61ERQGQ730+NVyVADi2yne+nDEArhxbZzvf3P4/C9ShcTyNAj8L1KFyPA0A=\",\"dtype\":\"float64\",\"order\":\"little\",\"shape\":[58]},\"Savivaldyb\\u0117\":[\"Akmen\\u0117s r. sav.\",\"Alytaus r. sav.\",\"Alytaus r. sav.\",\"Druskinink\\u0173 sav.\",\"Druskinink\\u0173 sav.\",\"Ignalinos r. sav.\",\"Ignalinos r. sav.\",\"Ignalinos r. sav.\",\"Ignalinos r. sav.\",\"Ignalinos r. sav.\",\"Ignalinos r. sav.\",\"Ignalinos r. sav.\",\"Ignalinos r. sav.\",\"Kai\\u0161iadori\\u0173 r. sav.\",\"Kretingos r. sav.\",\"K\\u0117daini\\u0173 r. sav.\",\"K\\u0117daini\\u0173 r. sav.\",\"Lazdij\\u0173 r. sav.\",\"Lazdij\\u0173 r. sav.\",\"Lazdij\\u0173 r. sav.\",\"Lazdij\\u0173 r. sav.\",\"Lazdij\\u0173 r. sav.\",\"Lazdij\\u0173 r. sav.\",\"Marijampol\\u0117s sav.\",\"Mol\\u0117t\\u0173 r. sav.\",\"Mol\\u0117t\\u0173 r. sav.\",\"Mol\\u0117t\\u0173 r. sav.\",\"Mol\\u0117t\\u0173 r. sav.\",\"Mol\\u0117t\\u0173 r. sav.\",\"Mol\\u0117t\\u0173 r. sav.\",\"Mol\\u0117t\\u0173 r. sav.\",\"Mol\\u0117t\\u0173 r. sav.\",\"Mol\\u0117t\\u0173 r. sav.\",\"Pakruojo r. sav.\",\"Roki\\u0161kio r. sav.\",\"Tel\\u0161i\\u0173 r. sav.\",\"Tel\\u0161i\\u0173 r. sav.\",\"Tel\\u0161i\\u0173 r. sav.\",\"Trak\\u0173 r. sav.\",\"Trak\\u0173 r. sav.\",\"Trak\\u0173 r. sav.\",\"Trak\\u0173 r. sav.\",\"Ukmerg\\u0117s r. sav.\",\"Ukmerg\\u0117s r. sav.\",\"Utenos r. sav.\",\"Utenos r. sav.\",\"Utenos r. sav.\",\"Utenos r. sav.\",\"Utenos r. sav.\",\"Zaras\\u0173 r. sav.\",\"Zaras\\u0173 r. sav.\",\"Zaras\\u0173 r. sav.\",\"\\u0160al\\u010dinink\\u0173 r. sav.\",\"\\u0160iauli\\u0173 r. sav.\",\"\\u0160ilal\\u0117s r. sav.\",\"\\u0160ven\\u010dioni\\u0173 r. sav.\",\"\\u0160ven\\u010dioni\\u0173 r. sav.\",\"\\u0160ven\\u010dioni\\u0173 r. sav.\"]},\"selected\":{\"id\":\"62863\"},\"selection_policy\":{\"id\":\"62888\"}},\"id\":\"62862\",\"type\":\"ColumnDataSource\"},{\"attributes\":{\"fill_alpha\":{\"value\":0.1},\"fill_color\":{\"value\":\"#30a2da\"},\"hatch_alpha\":{\"value\":0.1},\"hatch_color\":{\"value\":\"#30a2da\"},\"line_alpha\":{\"value\":0.1},\"top\":{\"field\":\"Biomas\\u0117_left_parenthesis_kg_right_parenthesis\"},\"width\":{\"value\":0.8},\"x\":{\"field\":\"Savivaldyb\\u0117\"}},\"id\":\"62866\",\"type\":\"VBar\"},{\"attributes\":{},\"id\":\"62876\",\"type\":\"AllLabels\"},{\"attributes\":{\"callback\":null,\"renderers\":[{\"id\":\"62868\"}],\"tags\":[\"hv_created\"],\"tooltips\":[[\"Savivaldyb\\u0117\",\"@{Savivaldyb\\u0117}\"],[\"Biomas\\u0117(kg)\",\"@{Biomas\\u0117_left_parenthesis_kg_right_parenthesis}\"]]},\"id\":\"62832\",\"type\":\"HoverTool\"},{\"attributes\":{\"children\":[{\"id\":\"62827\"},{\"id\":\"62828\"}],\"margin\":[0,0,0,0],\"name\":\"Column37217\"},\"id\":\"62826\",\"type\":\"Column\"},{\"attributes\":{\"below\":[{\"id\":\"62842\"}],\"center\":[{\"id\":\"62844\"},{\"id\":\"62848\"}],\"height\":300,\"left\":[{\"id\":\"62845\"}],\"margin\":[5,5,5,5],\"min_border_bottom\":10,\"min_border_left\":10,\"min_border_right\":10,\"min_border_top\":10,\"renderers\":[{\"id\":\"62868\"}],\"sizing_mode\":\"fixed\",\"title\":{\"id\":\"62834\"},\"toolbar\":{\"id\":\"62855\"},\"width\":700,\"x_range\":{\"id\":\"62830\"},\"x_scale\":{\"id\":\"62838\"},\"y_range\":{\"id\":\"62831\"},\"y_scale\":{\"id\":\"62840\"}},\"id\":\"62833\",\"subtype\":\"Figure\",\"type\":\"Plot\"},{\"attributes\":{\"coordinates\":null,\"group\":null,\"text\":\"\\u017duvys pagal vietov\\u0119\",\"text_color\":\"black\",\"text_font_size\":\"12pt\"},\"id\":\"62834\",\"type\":\"Title\"},{\"attributes\":{\"axis_label\":\"Biomas\\u0117(kg)\",\"coordinates\":null,\"formatter\":{\"id\":\"62875\"},\"group\":null,\"major_label_policy\":{\"id\":\"62876\"},\"ticker\":{\"id\":\"62846\"}},\"id\":\"62845\",\"type\":\"LinearAxis\"},{\"attributes\":{\"fill_alpha\":{\"value\":0.2},\"fill_color\":{\"value\":\"#30a2da\"},\"hatch_alpha\":{\"value\":0.2},\"hatch_color\":{\"value\":\"#30a2da\"},\"line_alpha\":{\"value\":0.2},\"top\":{\"field\":\"Biomas\\u0117_left_parenthesis_kg_right_parenthesis\"},\"width\":{\"value\":0.8},\"x\":{\"field\":\"Savivaldyb\\u0117\"}},\"id\":\"62867\",\"type\":\"VBar\"},{\"attributes\":{\"axis_label\":\"Savivaldyb\\u0117\",\"coordinates\":null,\"formatter\":{\"id\":\"62872\"},\"group\":null,\"major_label_orientation\":1.5707963267948966,\"major_label_policy\":{\"id\":\"62873\"},\"ticker\":{\"id\":\"62843\"}},\"id\":\"62842\",\"type\":\"CategoricalAxis\"},{\"attributes\":{\"bottom_units\":\"screen\",\"coordinates\":null,\"fill_alpha\":0.5,\"fill_color\":\"lightgrey\",\"group\":null,\"left_units\":\"screen\",\"level\":\"overlay\",\"line_alpha\":1.0,\"line_color\":\"black\",\"line_dash\":[4,4],\"line_width\":2,\"right_units\":\"screen\",\"syncable\":false,\"top_units\":\"screen\"},\"id\":\"62854\",\"type\":\"BoxAnnotation\"},{\"attributes\":{\"end\":11,\"margin\":[5,10,5,10],\"start\":0.0,\"step\":0.1,\"title\":\"\\u017duvies svoris kg\",\"value\":1.3},\"id\":\"62827\",\"type\":\"Slider\"},{\"attributes\":{},\"id\":\"62840\",\"type\":\"LinearScale\"},{\"attributes\":{},\"id\":\"62851\",\"type\":\"WheelZoomTool\"},{\"attributes\":{\"active\":0,\"button_type\":\"light\",\"labels\":[\"Biomas\\u0117(kg)\",\"Pl\\u0117\\u0161rios(kg)\"],\"margin\":[5,10,5,10]},\"id\":\"62828\",\"type\":\"RadioButtonGroup\"},{\"attributes\":{\"fill_color\":{\"value\":\"#30a2da\"},\"hatch_color\":{\"value\":\"#30a2da\"},\"top\":{\"field\":\"Biomas\\u0117_left_parenthesis_kg_right_parenthesis\"},\"width\":{\"value\":0.8},\"x\":{\"field\":\"Savivaldyb\\u0117\"}},\"id\":\"62865\",\"type\":\"VBar\"},{\"attributes\":{},\"id\":\"62846\",\"type\":\"BasicTicker\"},{\"attributes\":{},\"id\":\"62863\",\"type\":\"Selection\"},{\"attributes\":{},\"id\":\"62873\",\"type\":\"AllLabels\"},{\"attributes\":{\"axis\":{\"id\":\"62842\"},\"coordinates\":null,\"grid_line_color\":null,\"group\":null,\"ticker\":null},\"id\":\"62844\",\"type\":\"Grid\"},{\"attributes\":{},\"id\":\"62853\",\"type\":\"ResetTool\"},{\"attributes\":{},\"id\":\"62872\",\"type\":\"CategoricalTickFormatter\"},{\"attributes\":{\"factors\":[\"Akmen\\u0117s r. sav.\",\"Alytaus r. sav.\",\"Druskinink\\u0173 sav.\",\"Ignalinos r. sav.\",\"Kai\\u0161iadori\\u0173 r. sav.\",\"Kretingos r. sav.\",\"K\\u0117daini\\u0173 r. sav.\",\"Lazdij\\u0173 r. sav.\",\"Marijampol\\u0117s sav.\",\"Mol\\u0117t\\u0173 r. sav.\",\"Pakruojo r. sav.\",\"Roki\\u0161kio r. sav.\",\"Tel\\u0161i\\u0173 r. sav.\",\"Trak\\u0173 r. sav.\",\"Ukmerg\\u0117s r. sav.\",\"Utenos r. sav.\",\"Zaras\\u0173 r. sav.\",\"\\u0160al\\u010dinink\\u0173 r. sav.\",\"\\u0160iauli\\u0173 r. sav.\",\"\\u0160ilal\\u0117s r. sav.\",\"\\u0160ven\\u010dioni\\u0173 r. sav.\"],\"tags\":[[[\"Savivaldyb\\u0117\",\"Savivaldyb\\u0117\",null]]]},\"id\":\"62830\",\"type\":\"FactorRange\"},{\"attributes\":{},\"id\":\"62888\",\"type\":\"UnionRenderers\"},{\"attributes\":{\"children\":[{\"id\":\"62824\"}],\"margin\":[0,0,0,0],\"name\":\"Row37229\"},\"id\":\"62823\",\"type\":\"Row\"},{\"attributes\":{\"end\":11.6063,\"reset_end\":11.6063,\"reset_start\":0.0,\"tags\":[[[\"Biomas\\u0117(kg)\",\"Biomas\\u0117(kg)\",null]]]},\"id\":\"62831\",\"type\":\"Range1d\"},{\"attributes\":{\"axis\":{\"id\":\"62845\"},\"coordinates\":null,\"dimension\":1,\"grid_line_color\":null,\"group\":null,\"ticker\":null},\"id\":\"62848\",\"type\":\"Grid\"},{\"attributes\":{\"client_comm_id\":\"a9b196c4b5624658bd93061dcb1d11b2\",\"comm_id\":\"773fa063def748d19e7415d2d74f5819\",\"plot_id\":\"62823\"},\"id\":\"62921\",\"type\":\"panel.models.comm_manager.CommManager\"},{\"attributes\":{\"children\":[{\"id\":\"62825\"},{\"id\":\"62833\"}],\"margin\":[0,0,0,0],\"name\":\"Column37228\"},\"id\":\"62824\",\"type\":\"Column\"},{\"attributes\":{},\"id\":\"62850\",\"type\":\"PanTool\"},{\"attributes\":{},\"id\":\"62843\",\"type\":\"CategoricalTicker\"},{\"attributes\":{},\"id\":\"62875\",\"type\":\"BasicTickFormatter\"},{\"attributes\":{\"source\":{\"id\":\"62862\"}},\"id\":\"62869\",\"type\":\"CDSView\"},{\"attributes\":{\"bottom\":{\"value\":0},\"fill_alpha\":{\"value\":1.0},\"fill_color\":{\"value\":\"#30a2da\"},\"hatch_alpha\":{\"value\":1.0},\"hatch_color\":{\"value\":\"#30a2da\"},\"hatch_scale\":{\"value\":12.0},\"hatch_weight\":{\"value\":1.0},\"line_alpha\":{\"value\":1.0},\"line_cap\":{\"value\":\"butt\"},\"line_color\":{\"value\":\"black\"},\"line_dash\":{\"value\":[]},\"line_dash_offset\":{\"value\":0},\"line_join\":{\"value\":\"bevel\"},\"line_width\":{\"value\":1},\"top\":{\"field\":\"Biomas\\u0117_left_parenthesis_kg_right_parenthesis\"},\"width\":{\"value\":0.8},\"x\":{\"field\":\"Savivaldyb\\u0117\"}},\"id\":\"62870\",\"type\":\"VBar\"},{\"attributes\":{\"children\":[{\"id\":\"62826\"},{\"id\":\"62829\"}],\"margin\":[0,0,0,0],\"name\":\"Row37222\"},\"id\":\"62825\",\"type\":\"Row\"},{\"attributes\":{\"margin\":[5,5,5,5],\"name\":\"HSpacer37221\",\"sizing_mode\":\"stretch_width\"},\"id\":\"62829\",\"type\":\"Spacer\"},{\"attributes\":{\"coordinates\":null,\"data_source\":{\"id\":\"62862\"},\"glyph\":{\"id\":\"62865\"},\"group\":null,\"hover_glyph\":null,\"muted_glyph\":{\"id\":\"62867\"},\"nonselection_glyph\":{\"id\":\"62866\"},\"selection_glyph\":{\"id\":\"62870\"},\"view\":{\"id\":\"62869\"}},\"id\":\"62868\",\"type\":\"GlyphRenderer\"},{\"attributes\":{},\"id\":\"62849\",\"type\":\"SaveTool\"},{\"attributes\":{\"overlay\":{\"id\":\"62854\"}},\"id\":\"62852\",\"type\":\"BoxZoomTool\"},{\"attributes\":{\"active_drag\":{\"id\":\"62850\"},\"active_scroll\":{\"id\":\"62851\"},\"tools\":[{\"id\":\"62832\"},{\"id\":\"62849\"},{\"id\":\"62850\"},{\"id\":\"62851\"},{\"id\":\"62852\"},{\"id\":\"62853\"}]},\"id\":\"62855\",\"type\":\"Toolbar\"}],\"root_ids\":[\"62823\",\"62921\"]},\"title\":\"Bokeh Application\",\"version\":\"2.4.3\"}};\n",
       "    var render_items = [{\"docid\":\"915f552f-3fcd-40a4-8bbf-4d0faed98bd9\",\"root_ids\":[\"62823\"],\"roots\":{\"62823\":\"fa2d0240-102a-499f-9b8e-0cdc2630ed40\"}}];\n",
       "    root.Bokeh.embed.embed_items_notebook(docs_json, render_items);\n",
       "    for (const render_item of render_items) {\n",
       "      for (const root_id of render_item.root_ids) {\n",
       "\tconst id_el = document.getElementById(root_id)\n",
       "\tif (id_el.children.length && (id_el.children[0].className === 'bk-root')) {\n",
       "\t  const root_el = id_el.children[0]\n",
       "\t  root_el.id = root_el.id + '-rendered'\n",
       "\t}\n",
       "      }\n",
       "    }\n",
       "  }\n",
       "  if (root.Bokeh !== undefined && root.Bokeh.Panel !== undefined && ( root['Tabulator'] !== undefined) && ( root['Tabulator'] !== undefined) && ( root['Tabulator'] !== undefined) && ( root['Tabulator'] !== undefined) && ( root['Tabulator'] !== undefined) && ( root['Tabulator'] !== undefined) && ( root['Tabulator'] !== undefined)) {\n",
       "    embed_document(root);\n",
       "  } else {\n",
       "    var attempts = 0;\n",
       "    var timer = setInterval(function(root) {\n",
       "      if (root.Bokeh !== undefined && root.Bokeh.Panel !== undefined && (root['Tabulator'] !== undefined) && (root['Tabulator'] !== undefined) && (root['Tabulator'] !== undefined) && (root['Tabulator'] !== undefined) && (root['Tabulator'] !== undefined) && (root['Tabulator'] !== undefined) && (root['Tabulator'] !== undefined)) {\n",
       "        clearInterval(timer);\n",
       "        embed_document(root);\n",
       "      } else if (document.readyState == \"complete\") {\n",
       "        attempts++;\n",
       "        if (attempts > 200) {\n",
       "          clearInterval(timer);\n",
       "          console.log(\"Bokeh: ERROR: Unable to run BokehJS code because BokehJS library is missing\");\n",
       "        }\n",
       "      }\n",
       "    }, 25, root)\n",
       "  }\n",
       "})(window);</script>"
      ],
      "text/plain": [
       "<hvplot.interactive.Interactive at 0x214af5f5410>"
      ]
     },
     "execution_count": 309,
     "metadata": {
      "application/vnd.holoviews_exec.v0+json": {
       "id": "62823"
      }
     },
     "output_type": "execute_result"
    }
   ],
   "source": [
    "grafikas_pirmas"
   ]
  },
  {
   "cell_type": "code",
   "execution_count": 349,
   "id": "304d8bfb-e7f9-471e-a973-2bf015e866d9",
   "metadata": {
    "tags": []
   },
   "outputs": [],
   "source": [
    "ketvirtas = df.hvplot.scatter(x='Savivaldybė', rot=60, y='Biomasė(kg)',\n",
    "                  legend='right', height=400, width=400, title=\"Svoris kg pagal savivaldybes\")"
   ]
  },
  {
   "cell_type": "code",
   "execution_count": 350,
   "id": "c6ac96a4-b63b-48b2-9218-19cc7a884f9f",
   "metadata": {
    "tags": []
   },
   "outputs": [
    {
     "data": {
      "application/vnd.holoviews_exec.v0+json": "",
      "text/html": [
       "<div id='89650'>\n",
       "  <div class=\"bk-root\" id=\"6058675c-4d3f-43fc-94b0-1fcab5817faf\" data-root-id=\"89650\"></div>\n",
       "</div>\n",
       "<script type=\"application/javascript\">(function(root) {\n",
       "  function embed_document(root) {\n",
       "    var docs_json = {\"9fea3436-a988-43d6-9dfd-6db029ec1158\":{\"defs\":[{\"extends\":null,\"module\":null,\"name\":\"ReactiveHTML1\",\"overrides\":[],\"properties\":[]},{\"extends\":null,\"module\":null,\"name\":\"FlexBox1\",\"overrides\":[],\"properties\":[{\"default\":\"flex-start\",\"kind\":null,\"name\":\"align_content\"},{\"default\":\"flex-start\",\"kind\":null,\"name\":\"align_items\"},{\"default\":\"row\",\"kind\":null,\"name\":\"flex_direction\"},{\"default\":\"wrap\",\"kind\":null,\"name\":\"flex_wrap\"},{\"default\":\"flex-start\",\"kind\":null,\"name\":\"justify_content\"}]},{\"extends\":null,\"module\":null,\"name\":\"GridStack1\",\"overrides\":[],\"properties\":[{\"default\":\"warn\",\"kind\":null,\"name\":\"mode\"},{\"default\":null,\"kind\":null,\"name\":\"ncols\"},{\"default\":null,\"kind\":null,\"name\":\"nrows\"},{\"default\":true,\"kind\":null,\"name\":\"allow_resize\"},{\"default\":true,\"kind\":null,\"name\":\"allow_drag\"},{\"default\":[],\"kind\":null,\"name\":\"state\"}]},{\"extends\":null,\"module\":null,\"name\":\"click1\",\"overrides\":[],\"properties\":[{\"default\":\"\",\"kind\":null,\"name\":\"terminal_output\"},{\"default\":\"\",\"kind\":null,\"name\":\"debug_name\"},{\"default\":0,\"kind\":null,\"name\":\"clears\"}]},{\"extends\":null,\"module\":null,\"name\":\"NotificationAreaBase1\",\"overrides\":[],\"properties\":[{\"default\":\"bottom-right\",\"kind\":null,\"name\":\"position\"},{\"default\":0,\"kind\":null,\"name\":\"_clear\"}]},{\"extends\":null,\"module\":null,\"name\":\"NotificationArea1\",\"overrides\":[],\"properties\":[{\"default\":[],\"kind\":null,\"name\":\"notifications\"},{\"default\":\"bottom-right\",\"kind\":null,\"name\":\"position\"},{\"default\":0,\"kind\":null,\"name\":\"_clear\"},{\"default\":[{\"background\":\"#ffc107\",\"icon\":{\"className\":\"fas fa-exclamation-triangle\",\"color\":\"white\",\"tagName\":\"i\"},\"type\":\"warning\"},{\"background\":\"#007bff\",\"icon\":{\"className\":\"fas fa-info-circle\",\"color\":\"white\",\"tagName\":\"i\"},\"type\":\"info\"}],\"kind\":null,\"name\":\"types\"}]},{\"extends\":null,\"module\":null,\"name\":\"Notification\",\"overrides\":[],\"properties\":[{\"default\":null,\"kind\":null,\"name\":\"background\"},{\"default\":3000,\"kind\":null,\"name\":\"duration\"},{\"default\":null,\"kind\":null,\"name\":\"icon\"},{\"default\":\"\",\"kind\":null,\"name\":\"message\"},{\"default\":null,\"kind\":null,\"name\":\"notification_type\"},{\"default\":false,\"kind\":null,\"name\":\"_destroyed\"}]},{\"extends\":null,\"module\":null,\"name\":\"TemplateActions1\",\"overrides\":[],\"properties\":[{\"default\":0,\"kind\":null,\"name\":\"open_modal\"},{\"default\":0,\"kind\":null,\"name\":\"close_modal\"}]},{\"extends\":null,\"module\":null,\"name\":\"MaterialTemplateActions1\",\"overrides\":[],\"properties\":[{\"default\":0,\"kind\":null,\"name\":\"open_modal\"},{\"default\":0,\"kind\":null,\"name\":\"close_modal\"}]}],\"roots\":{\"references\":[{\"attributes\":{\"coordinates\":null,\"data_source\":{\"id\":\"89683\"},\"glyph\":{\"id\":\"89686\"},\"group\":null,\"hover_glyph\":null,\"muted_glyph\":{\"id\":\"89688\"},\"nonselection_glyph\":{\"id\":\"89687\"},\"selection_glyph\":{\"id\":\"89691\"},\"view\":{\"id\":\"89690\"}},\"id\":\"89689\",\"type\":\"GlyphRenderer\"},{\"attributes\":{\"below\":[{\"id\":\"89663\"}],\"center\":[{\"id\":\"89665\"},{\"id\":\"89669\"}],\"height\":400,\"left\":[{\"id\":\"89666\"}],\"margin\":[5,5,5,5],\"min_border_bottom\":10,\"min_border_left\":10,\"min_border_right\":10,\"min_border_top\":10,\"renderers\":[{\"id\":\"89689\"}],\"sizing_mode\":\"fixed\",\"title\":{\"id\":\"89655\"},\"toolbar\":{\"id\":\"89676\"},\"width\":400,\"x_range\":{\"id\":\"89651\"},\"x_scale\":{\"id\":\"89659\"},\"y_range\":{\"id\":\"89652\"},\"y_scale\":{\"id\":\"89661\"}},\"id\":\"89654\",\"subtype\":\"Figure\",\"type\":\"Plot\"},{\"attributes\":{\"axis_label\":\"Savivaldyb\\u0117\",\"coordinates\":null,\"formatter\":{\"id\":\"89693\"},\"group\":null,\"major_label_orientation\":1.0471975511965976,\"major_label_policy\":{\"id\":\"89694\"},\"ticker\":{\"id\":\"89664\"}},\"id\":\"89663\",\"type\":\"CategoricalAxis\"},{\"attributes\":{},\"id\":\"89684\",\"type\":\"Selection\"},{\"attributes\":{\"data\":{\"Biomas\\u0117(kg)\":{\"__ndarray__\":\"16NwPQrX+z9vEoPAyqHzP/yp8dJNYg5APQrXo3C9FUB7FK5H4fohQM3MzMzMzBFAPQrXo3A9EEASg8DKoUULQLpJDAIrhw5Az/dT46WbBkAtsp3vp0YVQDm0yHa+nw9A+FPjpZtEEECPwvUoXE8jQHe+nxov3QBAIbByaJHtAEA730+Nl+4TQFK4HoXrURFAokW28/1UEEBYObTIdr4OQMP1KFyPwgtAZDvfT41XJUDdJAaBlUP3P0Jg5dAi2wxAUrgehetRDkDZzvdT4yUfQF66SQwCKwRAK4cW2c739z/HSzeJQSAjQJqZmZmZGRpARIts5/upEkASg8DKoUX4P+F6FK5H4RZA30+Nl24SA0A1XrpJDAIbQJMYBFYOrRFABFYOLbKdFUC4HoXrUbgDQA4tsp3vpwxAeekmMQisB0CTGARWDi0AQGZmZmZm5hBACKwcWmS7EkApXI/C9egjQCuHFtnO9xFAI9v5fmq89j+YbhKDwMoJQJHtfD81XhhA5/up8dLNEUCkcD0K16MQQNV46SYxCPo/j8L1KFyPA0CiRbbz/dT6Py/dJAaBFR9AAAAAAACAGEC8dJMYBFYHQN0kBoGVQwdA9P3UeOkmDEBKDAIrhxb1P1CNl24Sg/w/KVyPwvUoIkBeukkMAisQQA==\",\"dtype\":\"float64\",\"order\":\"little\",\"shape\":[62]},\"Biomas\\u0117_left_parenthesis_kg_right_parenthesis\":{\"__ndarray__\":\"16NwPQrX+z9vEoPAyqHzP/yp8dJNYg5APQrXo3C9FUB7FK5H4fohQM3MzMzMzBFAPQrXo3A9EEASg8DKoUULQLpJDAIrhw5Az/dT46WbBkAtsp3vp0YVQDm0yHa+nw9A+FPjpZtEEECPwvUoXE8jQHe+nxov3QBAIbByaJHtAEA730+Nl+4TQFK4HoXrURFAokW28/1UEEBYObTIdr4OQMP1KFyPwgtAZDvfT41XJUDdJAaBlUP3P0Jg5dAi2wxAUrgehetRDkDZzvdT4yUfQF66SQwCKwRAK4cW2c739z/HSzeJQSAjQJqZmZmZGRpARIts5/upEkASg8DKoUX4P+F6FK5H4RZA30+Nl24SA0A1XrpJDAIbQJMYBFYOrRFABFYOLbKdFUC4HoXrUbgDQA4tsp3vpwxAeekmMQisB0CTGARWDi0AQGZmZmZm5hBACKwcWmS7EkApXI/C9egjQCuHFtnO9xFAI9v5fmq89j+YbhKDwMoJQJHtfD81XhhA5/up8dLNEUCkcD0K16MQQNV46SYxCPo/j8L1KFyPA0CiRbbz/dT6Py/dJAaBFR9AAAAAAACAGEC8dJMYBFYHQN0kBoGVQwdA9P3UeOkmDEBKDAIrhxb1P1CNl24Sg/w/KVyPwvUoIkBeukkMAisQQA==\",\"dtype\":\"float64\",\"order\":\"little\",\"shape\":[62]},\"Savivaldyb\\u0117\":[\"Utenos r. sav.\",\"Ignalinos r. sav.\",\"Mol\\u0117t\\u0173 r. sav.\",\"Trak\\u0173 r. sav.\",\"Marijampol\\u0117s sav.\",\"Ignalinos r. sav.\",\"Mol\\u0117t\\u0173 r. sav.\",\"Ignalinos r. sav.\",\"Zaras\\u0173 r. sav.\",\"Alytaus r. sav.\",\"Trak\\u0173 r. sav.\",\"Druskinink\\u0173 sav.\",\"Lazdij\\u0173 r. sav.\",\"\\u0160ven\\u010dioni\\u0173 r. sav.\",\"Roki\\u0161kio r. sav.\",\"Tel\\u0161i\\u0173 r. sav.\",\"Pakruojo r. sav.\",\"\\u0160al\\u010dinink\\u0173 r. sav.\",\"Lazdij\\u0173 r. sav.\",\"Mol\\u0117t\\u0173 r. sav.\",\"Ignalinos r. sav.\",\"\\u0160iauli\\u0173 r. sav.\",\"Trak\\u0173 r. sav.\",\"Mol\\u0117t\\u0173 r. sav.\",\"Mol\\u0117t\\u0173 r. sav.\",\"Ukmerg\\u0117s r. sav.\",\"Mol\\u0117t\\u0173 r. sav.\",\"\\u0160ven\\u010dioni\\u0173 r. sav.\",\"K\\u0117daini\\u0173 r. sav.\",\"Kretingos r. sav.\",\"Mol\\u0117t\\u0173 r. sav.\",\"Kai\\u0161iadori\\u0173 r. sav.\",\"Ukmerg\\u0117s r. sav.\",\"Ignalinos r. sav.\",\"Tel\\u0161i\\u0173 r. sav.\",\"Ignalinos r. sav.\",\"K\\u0117daini\\u0173 r. sav.\",\"Ignalinos r. sav.\",\"\\u0160ilal\\u0117s r. sav.\",\"Mol\\u0117t\\u0173 r. sav.\",\"Ignalinos r. sav.\",\"Akmen\\u0117s r. sav.\",\"Lazdij\\u0173 r. sav.\",\"Trak\\u0173 r. sav.\",\"Alytaus r. sav.\",\"Ignalinos r. sav.\",\"Utenos r. sav.\",\"Tel\\u0161i\\u0173 r. sav.\",\"Utenos r. sav.\",\"Utenos r. sav.\",\"Utenos r. sav.\",\"\\u0160ven\\u010dioni\\u0173 r. sav.\",\"Utenos r. sav.\",\"Elektr\\u0117n\\u0173 sav.\",\"Anyk\\u0161\\u010di\\u0173 r. sav.\",\"Druskinink\\u0173 sav.\",\"Lazdij\\u0173 r. sav.\",\"Mol\\u0117t\\u0173 r. sav.\",\"Lazdij\\u0173 r. sav.\",\"Zaras\\u0173 r. sav.\",\"Zaras\\u0173 r. sav.\",\"Lazdij\\u0173 r. sav.\"]},\"selected\":{\"id\":\"89684\"},\"selection_policy\":{\"id\":\"89709\"}},\"id\":\"89683\",\"type\":\"ColumnDataSource\"},{\"attributes\":{\"fill_alpha\":{\"value\":0.2},\"fill_color\":{\"value\":\"#30a2da\"},\"hatch_alpha\":{\"value\":0.2},\"hatch_color\":{\"value\":\"#30a2da\"},\"line_alpha\":{\"value\":0.2},\"line_color\":{\"value\":\"#30a2da\"},\"size\":{\"value\":5.477225575051661},\"x\":{\"field\":\"Savivaldyb\\u0117\"},\"y\":{\"field\":\"Biomas\\u0117(kg)\"}},\"id\":\"89688\",\"type\":\"Scatter\"},{\"attributes\":{\"axis_label\":\"Biomas\\u0117(kg)\",\"coordinates\":null,\"formatter\":{\"id\":\"89696\"},\"group\":null,\"major_label_policy\":{\"id\":\"89697\"},\"ticker\":{\"id\":\"89667\"}},\"id\":\"89666\",\"type\":\"LinearAxis\"},{\"attributes\":{\"coordinates\":null,\"group\":null,\"text\":\"Svoris kg pagal savivaldybes\",\"text_color\":\"black\",\"text_font_size\":\"12pt\"},\"id\":\"89655\",\"type\":\"Title\"},{\"attributes\":{\"active_drag\":{\"id\":\"89671\"},\"active_scroll\":{\"id\":\"89672\"},\"tools\":[{\"id\":\"89653\"},{\"id\":\"89670\"},{\"id\":\"89671\"},{\"id\":\"89672\"},{\"id\":\"89673\"},{\"id\":\"89674\"}]},\"id\":\"89676\",\"type\":\"Toolbar\"},{\"attributes\":{},\"id\":\"89672\",\"type\":\"WheelZoomTool\"},{\"attributes\":{\"factors\":[\"Utenos r. sav.\",\"Ignalinos r. sav.\",\"Mol\\u0117t\\u0173 r. sav.\",\"Trak\\u0173 r. sav.\",\"Marijampol\\u0117s sav.\",\"Zaras\\u0173 r. sav.\",\"Alytaus r. sav.\",\"Druskinink\\u0173 sav.\",\"Lazdij\\u0173 r. sav.\",\"\\u0160ven\\u010dioni\\u0173 r. sav.\",\"Roki\\u0161kio r. sav.\",\"Tel\\u0161i\\u0173 r. sav.\",\"Pakruojo r. sav.\",\"\\u0160al\\u010dinink\\u0173 r. sav.\",\"\\u0160iauli\\u0173 r. sav.\",\"Ukmerg\\u0117s r. sav.\",\"K\\u0117daini\\u0173 r. sav.\",\"Kretingos r. sav.\",\"Kai\\u0161iadori\\u0173 r. sav.\",\"\\u0160ilal\\u0117s r. sav.\",\"Akmen\\u0117s r. sav.\",\"Elektr\\u0117n\\u0173 sav.\",\"Anyk\\u0161\\u010di\\u0173 r. sav.\"],\"tags\":[[[\"Savivaldyb\\u0117\",\"Savivaldyb\\u0117\",null]]]},\"id\":\"89651\",\"type\":\"FactorRange\"},{\"attributes\":{\"end\":11.6154,\"reset_end\":11.6154,\"reset_start\":0.2826000000000002,\"start\":0.2826000000000002,\"tags\":[[[\"Biomas\\u0117(kg)\",\"Biomas\\u0117(kg)\",null]]]},\"id\":\"89652\",\"type\":\"Range1d\"},{\"attributes\":{},\"id\":\"89661\",\"type\":\"LinearScale\"},{\"attributes\":{\"overlay\":{\"id\":\"89675\"}},\"id\":\"89673\",\"type\":\"BoxZoomTool\"},{\"attributes\":{},\"id\":\"89670\",\"type\":\"SaveTool\"},{\"attributes\":{},\"id\":\"89664\",\"type\":\"CategoricalTicker\"},{\"attributes\":{},\"id\":\"89693\",\"type\":\"CategoricalTickFormatter\"},{\"attributes\":{\"source\":{\"id\":\"89683\"}},\"id\":\"89690\",\"type\":\"CDSView\"},{\"attributes\":{\"callback\":null,\"renderers\":[{\"id\":\"89689\"}],\"tags\":[\"hv_created\"],\"tooltips\":[[\"Savivaldyb\\u0117\",\"@{Savivaldyb\\u0117}\"],[\"Biomas\\u0117(kg)\",\"@{Biomas\\u0117_left_parenthesis_kg_right_parenthesis}\"]]},\"id\":\"89653\",\"type\":\"HoverTool\"},{\"attributes\":{},\"id\":\"89696\",\"type\":\"BasicTickFormatter\"},{\"attributes\":{\"bottom_units\":\"screen\",\"coordinates\":null,\"fill_alpha\":0.5,\"fill_color\":\"lightgrey\",\"group\":null,\"left_units\":\"screen\",\"level\":\"overlay\",\"line_alpha\":1.0,\"line_color\":\"black\",\"line_dash\":[4,4],\"line_width\":2,\"right_units\":\"screen\",\"syncable\":false,\"top_units\":\"screen\"},\"id\":\"89675\",\"type\":\"BoxAnnotation\"},{\"attributes\":{},\"id\":\"89659\",\"type\":\"CategoricalScale\"},{\"attributes\":{\"fill_color\":{\"value\":\"#30a2da\"},\"hatch_color\":{\"value\":\"#30a2da\"},\"line_color\":{\"value\":\"#30a2da\"},\"size\":{\"value\":5.477225575051661},\"x\":{\"field\":\"Savivaldyb\\u0117\"},\"y\":{\"field\":\"Biomas\\u0117(kg)\"}},\"id\":\"89686\",\"type\":\"Scatter\"},{\"attributes\":{\"angle\":{\"value\":0.0},\"fill_alpha\":{\"value\":1.0},\"fill_color\":{\"value\":\"#30a2da\"},\"hatch_alpha\":{\"value\":1.0},\"hatch_color\":{\"value\":\"#30a2da\"},\"hatch_scale\":{\"value\":12.0},\"hatch_weight\":{\"value\":1.0},\"line_alpha\":{\"value\":1.0},\"line_cap\":{\"value\":\"butt\"},\"line_color\":{\"value\":\"#30a2da\"},\"line_dash\":{\"value\":[]},\"line_dash_offset\":{\"value\":0},\"line_join\":{\"value\":\"bevel\"},\"line_width\":{\"value\":1},\"marker\":{\"value\":\"circle\"},\"size\":{\"value\":5.477225575051661},\"x\":{\"field\":\"Savivaldyb\\u0117\"},\"y\":{\"field\":\"Biomas\\u0117(kg)\"}},\"id\":\"89691\",\"type\":\"Scatter\"},{\"attributes\":{},\"id\":\"89674\",\"type\":\"ResetTool\"},{\"attributes\":{\"fill_alpha\":{\"value\":0.1},\"fill_color\":{\"value\":\"#30a2da\"},\"hatch_alpha\":{\"value\":0.1},\"hatch_color\":{\"value\":\"#30a2da\"},\"line_alpha\":{\"value\":0.1},\"line_color\":{\"value\":\"#30a2da\"},\"size\":{\"value\":5.477225575051661},\"x\":{\"field\":\"Savivaldyb\\u0117\"},\"y\":{\"field\":\"Biomas\\u0117(kg)\"}},\"id\":\"89687\",\"type\":\"Scatter\"},{\"attributes\":{},\"id\":\"89709\",\"type\":\"UnionRenderers\"},{\"attributes\":{\"children\":[{\"id\":\"89654\"}],\"height\":400,\"margin\":[0,0,0,0],\"name\":\"Row49556\",\"sizing_mode\":\"fixed\",\"tags\":[\"embedded\"],\"width\":400},\"id\":\"89650\",\"type\":\"Row\"},{\"attributes\":{},\"id\":\"89671\",\"type\":\"PanTool\"},{\"attributes\":{},\"id\":\"89667\",\"type\":\"BasicTicker\"},{\"attributes\":{\"axis\":{\"id\":\"89663\"},\"coordinates\":null,\"grid_line_color\":null,\"group\":null,\"ticker\":null},\"id\":\"89665\",\"type\":\"Grid\"},{\"attributes\":{},\"id\":\"89697\",\"type\":\"AllLabels\"},{\"attributes\":{},\"id\":\"89694\",\"type\":\"AllLabels\"},{\"attributes\":{\"axis\":{\"id\":\"89666\"},\"coordinates\":null,\"dimension\":1,\"grid_line_color\":null,\"group\":null,\"ticker\":null},\"id\":\"89669\",\"type\":\"Grid\"}],\"root_ids\":[\"89650\"]},\"title\":\"Bokeh Application\",\"version\":\"2.4.3\"}};\n",
       "    var render_items = [{\"docid\":\"9fea3436-a988-43d6-9dfd-6db029ec1158\",\"root_ids\":[\"89650\"],\"roots\":{\"89650\":\"6058675c-4d3f-43fc-94b0-1fcab5817faf\"}}];\n",
       "    root.Bokeh.embed.embed_items_notebook(docs_json, render_items);\n",
       "    for (const render_item of render_items) {\n",
       "      for (const root_id of render_item.root_ids) {\n",
       "\tconst id_el = document.getElementById(root_id)\n",
       "\tif (id_el.children.length && (id_el.children[0].className === 'bk-root')) {\n",
       "\t  const root_el = id_el.children[0]\n",
       "\t  root_el.id = root_el.id + '-rendered'\n",
       "\t}\n",
       "      }\n",
       "    }\n",
       "  }\n",
       "  if (root.Bokeh !== undefined && root.Bokeh.Panel !== undefined && ( root['Tabulator'] !== undefined) && ( root['Tabulator'] !== undefined) && ( root['Tabulator'] !== undefined) && ( root['Tabulator'] !== undefined) && ( root['Tabulator'] !== undefined) && ( root['Tabulator'] !== undefined) && ( root['Tabulator'] !== undefined)) {\n",
       "    embed_document(root);\n",
       "  } else {\n",
       "    var attempts = 0;\n",
       "    var timer = setInterval(function(root) {\n",
       "      if (root.Bokeh !== undefined && root.Bokeh.Panel !== undefined && (root['Tabulator'] !== undefined) && (root['Tabulator'] !== undefined) && (root['Tabulator'] !== undefined) && (root['Tabulator'] !== undefined) && (root['Tabulator'] !== undefined) && (root['Tabulator'] !== undefined) && (root['Tabulator'] !== undefined)) {\n",
       "        clearInterval(timer);\n",
       "        embed_document(root);\n",
       "      } else if (document.readyState == \"complete\") {\n",
       "        attempts++;\n",
       "        if (attempts > 200) {\n",
       "          clearInterval(timer);\n",
       "          console.log(\"Bokeh: ERROR: Unable to run BokehJS code because BokehJS library is missing\");\n",
       "        }\n",
       "      }\n",
       "    }, 25, root)\n",
       "  }\n",
       "})(window);</script>"
      ],
      "text/plain": [
       ":Scatter   [Savivaldybė]   (Biomasė(kg))"
      ]
     },
     "execution_count": 350,
     "metadata": {
      "application/vnd.holoviews_exec.v0+json": {
       "id": "89650"
      }
     },
     "output_type": "execute_result"
    }
   ],
   "source": [
    "ketvirtas"
   ]
  },
  {
   "cell_type": "code",
   "execution_count": 351,
   "id": "d4069629-be54-4bc7-a9cf-3551420f0fd5",
   "metadata": {
    "tags": []
   },
   "outputs": [
    {
     "data": {
      "application/vnd.holoviews_exec.v0+json": "",
      "text/html": [
       "<div id='89763'>\n",
       "  <div class=\"bk-root\" id=\"5e65430a-6bef-4834-aaa0-dbb8467b1f42\" data-root-id=\"89763\"></div>\n",
       "</div>\n",
       "<script type=\"application/javascript\">(function(root) {\n",
       "  function embed_document(root) {\n",
       "    var docs_json = {\"f93afbb7-3b00-4fc1-adee-7090a05f7354\":{\"defs\":[{\"extends\":null,\"module\":null,\"name\":\"ReactiveHTML1\",\"overrides\":[],\"properties\":[]},{\"extends\":null,\"module\":null,\"name\":\"FlexBox1\",\"overrides\":[],\"properties\":[{\"default\":\"flex-start\",\"kind\":null,\"name\":\"align_content\"},{\"default\":\"flex-start\",\"kind\":null,\"name\":\"align_items\"},{\"default\":\"row\",\"kind\":null,\"name\":\"flex_direction\"},{\"default\":\"wrap\",\"kind\":null,\"name\":\"flex_wrap\"},{\"default\":\"flex-start\",\"kind\":null,\"name\":\"justify_content\"}]},{\"extends\":null,\"module\":null,\"name\":\"GridStack1\",\"overrides\":[],\"properties\":[{\"default\":\"warn\",\"kind\":null,\"name\":\"mode\"},{\"default\":null,\"kind\":null,\"name\":\"ncols\"},{\"default\":null,\"kind\":null,\"name\":\"nrows\"},{\"default\":true,\"kind\":null,\"name\":\"allow_resize\"},{\"default\":true,\"kind\":null,\"name\":\"allow_drag\"},{\"default\":[],\"kind\":null,\"name\":\"state\"}]},{\"extends\":null,\"module\":null,\"name\":\"click1\",\"overrides\":[],\"properties\":[{\"default\":\"\",\"kind\":null,\"name\":\"terminal_output\"},{\"default\":\"\",\"kind\":null,\"name\":\"debug_name\"},{\"default\":0,\"kind\":null,\"name\":\"clears\"}]},{\"extends\":null,\"module\":null,\"name\":\"NotificationAreaBase1\",\"overrides\":[],\"properties\":[{\"default\":\"bottom-right\",\"kind\":null,\"name\":\"position\"},{\"default\":0,\"kind\":null,\"name\":\"_clear\"}]},{\"extends\":null,\"module\":null,\"name\":\"NotificationArea1\",\"overrides\":[],\"properties\":[{\"default\":[],\"kind\":null,\"name\":\"notifications\"},{\"default\":\"bottom-right\",\"kind\":null,\"name\":\"position\"},{\"default\":0,\"kind\":null,\"name\":\"_clear\"},{\"default\":[{\"background\":\"#ffc107\",\"icon\":{\"className\":\"fas fa-exclamation-triangle\",\"color\":\"white\",\"tagName\":\"i\"},\"type\":\"warning\"},{\"background\":\"#007bff\",\"icon\":{\"className\":\"fas fa-info-circle\",\"color\":\"white\",\"tagName\":\"i\"},\"type\":\"info\"}],\"kind\":null,\"name\":\"types\"}]},{\"extends\":null,\"module\":null,\"name\":\"Notification\",\"overrides\":[],\"properties\":[{\"default\":null,\"kind\":null,\"name\":\"background\"},{\"default\":3000,\"kind\":null,\"name\":\"duration\"},{\"default\":null,\"kind\":null,\"name\":\"icon\"},{\"default\":\"\",\"kind\":null,\"name\":\"message\"},{\"default\":null,\"kind\":null,\"name\":\"notification_type\"},{\"default\":false,\"kind\":null,\"name\":\"_destroyed\"}]},{\"extends\":null,\"module\":null,\"name\":\"TemplateActions1\",\"overrides\":[],\"properties\":[{\"default\":0,\"kind\":null,\"name\":\"open_modal\"},{\"default\":0,\"kind\":null,\"name\":\"close_modal\"}]},{\"extends\":null,\"module\":null,\"name\":\"MaterialTemplateActions1\",\"overrides\":[],\"properties\":[{\"default\":0,\"kind\":null,\"name\":\"open_modal\"},{\"default\":0,\"kind\":null,\"name\":\"close_modal\"}]}],\"roots\":{\"references\":[{\"attributes\":{},\"id\":\"89777\",\"type\":\"CategoricalTicker\"},{\"attributes\":{\"overlay\":{\"id\":\"89788\"}},\"id\":\"89786\",\"type\":\"BoxZoomTool\"},{\"attributes\":{},\"id\":\"89780\",\"type\":\"BasicTicker\"},{\"attributes\":{\"bottom_units\":\"screen\",\"coordinates\":null,\"fill_alpha\":0.5,\"fill_color\":\"lightgrey\",\"group\":null,\"left_units\":\"screen\",\"level\":\"overlay\",\"line_alpha\":1.0,\"line_color\":\"black\",\"line_dash\":[4,4],\"line_width\":2,\"right_units\":\"screen\",\"syncable\":false,\"top_units\":\"screen\"},\"id\":\"89788\",\"type\":\"BoxAnnotation\"},{\"attributes\":{},\"id\":\"89785\",\"type\":\"WheelZoomTool\"},{\"attributes\":{},\"id\":\"89772\",\"type\":\"CategoricalScale\"},{\"attributes\":{\"axis\":{\"id\":\"89776\"},\"coordinates\":null,\"grid_line_color\":null,\"group\":null,\"ticker\":null},\"id\":\"89778\",\"type\":\"Grid\"},{\"attributes\":{\"data\":{\"Vandens_telkinio_pavadinimas\":[\"Aisetas\",\"L\\u016b\\u0161iai\",\"Mastis\",\"Padysnio HE tvenkinys\",\"Pae\\u017eeri\\u0173 e\\u017eeras\",\"Pakasas\",\"Par\\u0161e\\u017eeris\",\"Pravalas\",\"Pr\\u016btas\",\"Sablauski\\u0173 tvenkinys\",\"Snaigynas\",\"Spind\\u017eius\",\"Suvingis\",\"S\\u0105gardas\",\"L\\u0117nas\",\"Tauragnas\",\"Utenas\",\"Utenos tvenkinys\",\"Utenyk\\u0161tis\",\"Vajuonis\",\"Vidinkstas\",\"Vievis\",\"Vie\\u0161intas\",\"Vilkas\",\"Vilkinys\",\"Virintai\",\"Zapsys\",\"Zarasas\",\"\\u010ci\\u010dirys\",\"Tausalas\",\"Luokesai\",\"\\u0160lavantas\",\"Lazdinink\\u0173 tvenkinys\",\"Almajas\",\"Alnis\",\"Antakmeni\\u0173 e\\u017eeras\",\"Antanavo HE tvenkinys\",\"Apvardai\",\"Arinas\",\"Asalnai\",\"Luk\\u0161tas\",\"Atesys\",\"Auk\\u0161tadvario HE tvenkinys\",\"Aviris\",\"Baltosios An\\u010dios tvenkinys\",\"Baluo\\u0161ai\",\"Bei\\u010di\\u0173 I tvenkinys\",\"Asavas\",\"Dvariuk\\u0173 tvenkinys\",\"Bir\\u017eulis\",\"Lab\\u016bnavos tvenkinys\",\"Kretuonas\",\"Kertuojai\",\"Juodieji Lakajai\",\"I\\u0161narai\",\"Kadr\\u0117n\\u0173 tvenkinys\",\"Gink\\u016bn\\u0173 tvenkinys\",\"Gavys\",\"Galuonai\",\"Galadusys\",\"Ei\\u0161i\\u0161ki\\u0173 HE tvenkinys\",\"Ilgai\",\"Pr\\u016btas\",\"Spind\\u017eius\",\"Snaigynas\",\"Sablauski\\u0173 tvenkinys\",\"Pravalas\",\"L\\u0117nas\",\"Pakasas\",\"Pae\\u017eeri\\u0173 e\\u017eeras\",\"Padysnio HE tvenkinys\",\"Mastis\",\"L\\u016b\\u0161iai\",\"Par\\u0161e\\u017eeris\",\"Suvingis\",\"Zarasas\",\"Tauragnas\",\"Tausalas\",\"Utenas\",\"Utenos tvenkinys\",\"Utenyk\\u0161tis\",\"Vajuonis\",\"Vidinkstas\",\"Vievis\",\"Vie\\u0161intas\",\"Vilkas\",\"Vilkinys\",\"Virintai\",\"Zapsys\",\"Luokesai\",\"S\\u0105gardas\",\"Luk\\u0161tas\",\"Bir\\u017eulis\",\"Lab\\u016bnavos tvenkinys\",\"\\u010ci\\u010dirys\",\"Aisetas\",\"Almajas\",\"Alnis\",\"Antakmeni\\u0173 e\\u017eeras\",\"Antanavo HE tvenkinys\",\"Apvardai\",\"Arinas\",\"Asalnai\",\"Asavas\",\"Atesys\",\"Auk\\u0161tadvario HE tvenkinys\",\"Aviris\",\"Lazdinink\\u0173 tvenkinys\",\"Baltosios An\\u010dios tvenkinys\",\"Bei\\u010di\\u0173 I tvenkinys\",\"Dvariuk\\u0173 tvenkinys\",\"Ei\\u0161i\\u0161ki\\u0173 HE tvenkinys\",\"Galadusys\",\"Galuonai\",\"Gavys\",\"Gink\\u016bn\\u0173 tvenkinys\",\"Ilgai\",\"I\\u0161narai\",\"Juodieji Lakajai\",\"Kadr\\u0117n\\u0173 tvenkinys\",\"Kertuojai\",\"Kretuonas\",\"Baluo\\u0161ai\",\"\\u0160lavantas\"],\"Variable\":[\"Pl\\u0117\\u0161rios(kg)\",\"Pl\\u0117\\u0161rios(kg)\",\"Pl\\u0117\\u0161rios(kg)\",\"Pl\\u0117\\u0161rios(kg)\",\"Pl\\u0117\\u0161rios(kg)\",\"Pl\\u0117\\u0161rios(kg)\",\"Pl\\u0117\\u0161rios(kg)\",\"Pl\\u0117\\u0161rios(kg)\",\"Pl\\u0117\\u0161rios(kg)\",\"Pl\\u0117\\u0161rios(kg)\",\"Pl\\u0117\\u0161rios(kg)\",\"Pl\\u0117\\u0161rios(kg)\",\"Pl\\u0117\\u0161rios(kg)\",\"Pl\\u0117\\u0161rios(kg)\",\"Pl\\u0117\\u0161rios(kg)\",\"Pl\\u0117\\u0161rios(kg)\",\"Pl\\u0117\\u0161rios(kg)\",\"Pl\\u0117\\u0161rios(kg)\",\"Pl\\u0117\\u0161rios(kg)\",\"Pl\\u0117\\u0161rios(kg)\",\"Pl\\u0117\\u0161rios(kg)\",\"Pl\\u0117\\u0161rios(kg)\",\"Pl\\u0117\\u0161rios(kg)\",\"Pl\\u0117\\u0161rios(kg)\",\"Pl\\u0117\\u0161rios(kg)\",\"Pl\\u0117\\u0161rios(kg)\",\"Pl\\u0117\\u0161rios(kg)\",\"Pl\\u0117\\u0161rios(kg)\",\"Pl\\u0117\\u0161rios(kg)\",\"Pl\\u0117\\u0161rios(kg)\",\"Pl\\u0117\\u0161rios(kg)\",\"Pl\\u0117\\u0161rios(kg)\",\"Pl\\u0117\\u0161rios(kg)\",\"Pl\\u0117\\u0161rios(kg)\",\"Pl\\u0117\\u0161rios(kg)\",\"Pl\\u0117\\u0161rios(kg)\",\"Pl\\u0117\\u0161rios(kg)\",\"Pl\\u0117\\u0161rios(kg)\",\"Pl\\u0117\\u0161rios(kg)\",\"Pl\\u0117\\u0161rios(kg)\",\"Pl\\u0117\\u0161rios(kg)\",\"Pl\\u0117\\u0161rios(kg)\",\"Pl\\u0117\\u0161rios(kg)\",\"Pl\\u0117\\u0161rios(kg)\",\"Pl\\u0117\\u0161rios(kg)\",\"Pl\\u0117\\u0161rios(kg)\",\"Pl\\u0117\\u0161rios(kg)\",\"Pl\\u0117\\u0161rios(kg)\",\"Pl\\u0117\\u0161rios(kg)\",\"Pl\\u0117\\u0161rios(kg)\",\"Pl\\u0117\\u0161rios(kg)\",\"Pl\\u0117\\u0161rios(kg)\",\"Pl\\u0117\\u0161rios(kg)\",\"Pl\\u0117\\u0161rios(kg)\",\"Pl\\u0117\\u0161rios(kg)\",\"Pl\\u0117\\u0161rios(kg)\",\"Pl\\u0117\\u0161rios(kg)\",\"Pl\\u0117\\u0161rios(kg)\",\"Pl\\u0117\\u0161rios(kg)\",\"Pl\\u0117\\u0161rios(kg)\",\"Pl\\u0117\\u0161rios(kg)\",\"Pl\\u0117\\u0161rios(kg)\",\"Biomas\\u0117(kg)\",\"Biomas\\u0117(kg)\",\"Biomas\\u0117(kg)\",\"Biomas\\u0117(kg)\",\"Biomas\\u0117(kg)\",\"Biomas\\u0117(kg)\",\"Biomas\\u0117(kg)\",\"Biomas\\u0117(kg)\",\"Biomas\\u0117(kg)\",\"Biomas\\u0117(kg)\",\"Biomas\\u0117(kg)\",\"Biomas\\u0117(kg)\",\"Biomas\\u0117(kg)\",\"Biomas\\u0117(kg)\",\"Biomas\\u0117(kg)\",\"Biomas\\u0117(kg)\",\"Biomas\\u0117(kg)\",\"Biomas\\u0117(kg)\",\"Biomas\\u0117(kg)\",\"Biomas\\u0117(kg)\",\"Biomas\\u0117(kg)\",\"Biomas\\u0117(kg)\",\"Biomas\\u0117(kg)\",\"Biomas\\u0117(kg)\",\"Biomas\\u0117(kg)\",\"Biomas\\u0117(kg)\",\"Biomas\\u0117(kg)\",\"Biomas\\u0117(kg)\",\"Biomas\\u0117(kg)\",\"Biomas\\u0117(kg)\",\"Biomas\\u0117(kg)\",\"Biomas\\u0117(kg)\",\"Biomas\\u0117(kg)\",\"Biomas\\u0117(kg)\",\"Biomas\\u0117(kg)\",\"Biomas\\u0117(kg)\",\"Biomas\\u0117(kg)\",\"Biomas\\u0117(kg)\",\"Biomas\\u0117(kg)\",\"Biomas\\u0117(kg)\",\"Biomas\\u0117(kg)\",\"Biomas\\u0117(kg)\",\"Biomas\\u0117(kg)\",\"Biomas\\u0117(kg)\",\"Biomas\\u0117(kg)\",\"Biomas\\u0117(kg)\",\"Biomas\\u0117(kg)\",\"Biomas\\u0117(kg)\",\"Biomas\\u0117(kg)\",\"Biomas\\u0117(kg)\",\"Biomas\\u0117(kg)\",\"Biomas\\u0117(kg)\",\"Biomas\\u0117(kg)\",\"Biomas\\u0117(kg)\",\"Biomas\\u0117(kg)\",\"Biomas\\u0117(kg)\",\"Biomas\\u0117(kg)\",\"Biomas\\u0117(kg)\",\"Biomas\\u0117(kg)\",\"Biomas\\u0117(kg)\",\"Biomas\\u0117(kg)\",\"Biomas\\u0117(kg)\"],\"bottom\":{\"__ndarray__\":\"AAAAAAAAAAAAAAAAAAAAAAAAAAAAAAAAAAAAAAAAAAAAAAAAAAAAAAAAAAAAAAAAAAAAAAAAAAAAAAAAAAAAAAAAAAAAAAAAAAAAAAAAAAAAAAAAAAAAAAAAAAAAAAAAAAAAAAAAAAAAAAAAAAAAAAAAAAAAAAAAAAAAAAAAAAAAAAAAAAAAAAAAAAAAAAAAAAAAAAAAAAAAAAAAAAAAAAAAAAAAAAAAAAAAAAAAAAAAAAAAAAAAAAAAAAAAAAAAAAAAAAAAAAAAAAAAAAAAAAAAAAAAAAAAAAAAAAAAAAAAAAAAAAAAAAAAAAAAAAAAAAAAAAAAAAAAAAAAAAAAAAAAAAAAAAAAAAAAAAAAAAAAAAAAAAAAAAAAAAAAAAAAAAAAAAAAAAAAAAAAAAAAAAAAAAAAAAAAAAAAAAAAAAAAAAAAAAAAAAAAAAAAAAAAAAAAAAAAAAAAAAAAAAAAAAAAAAAAAAAAAAAAAAAAAAAAAAAAAAAAAAAAAAAAAAAAAAAAAAAAAAAAAAAAAAAAAAAAAAAAAAAAAAAAAAAAAAAAAAAAAAAAAAAAAAAAAAAAAAAAAAAAAAAAAAAAAAAAAAAAAAAAAAAAAAAAAAAAAAAAAAAAAAAAAAAAAAAAAAAAAAAAAAAAAAAAAAAAAAAAADm0yHa+n5o/N4lBYOXQAkCq8dJNYhCoPwAAAAAAAAAAuB6F61G4nj85tMh2vp/aPzMzMzMzM9M/AAAAAAAAAABqvHSTGATePwAAAAAAAAAA/tR46SYx7D8AAAAAAAAAAJ7vp8ZLN+U/AAAAAAAAAAB/arx0kxjsPwAAAAAAAAAAvHSTGARW3j8UrkfhehTqP1g5tMh2vq8/exSuR+F6xD97FK5H4XqkP4/C9Shcj+4/Gy/dJAaB1T/dJAaBlUPjPwAAAAAAAAAAqvHSTWIQ5D85tMh2vp+KP4GVQ4ts57s/eekmMQisjD8bL90kBoG1PwAAAAAAAAAA+n5qvHST7D/TTWIQWDkBQOf7qfHSTdI/+n5qvHSTyD8EVg4tsp3vP9nO91Pjpas/HVpkO99P+T9U46WbxCDgP99PjZduEuM/O99PjZdu6j956SYxCKzcP4/C9Shcj9o/sp3vp8ZL8z97FK5H4XqkPwAAAAAAAAAAN4lBYOXQwj+LbOf7qfGyP/YoXI/C9fY/LbKd76fG2z/NzMzMzMzUP0Jg5dAi2/c//tR46SYx2D8AAAAAAAAAAOkmMQisHNo/pHA9Ctej2D/b+X5qvHSjP1YOLbKd7+c/NV66SQwC4z9t5/up8dLNP1CNl24SgwBAexSuR+F6pD8=\",\"dtype\":\"float64\",\"order\":\"little\",\"shape\":[124]},\"top\":{\"__ndarray__\":\"5/up8dJN0j/+1HjpJjHsPwAAAAAAAAAAarx0kxgE3j8AAAAAAAAAADMzMzMzM9M/AAAAAAAAAAC4HoXrUbiePzm0yHa+n5o/AAAAAAAAAACq8dJNYhCoPzeJQWDl0AJAnu+nxks35T956SYxCKyMPzm0yHa+n9o/f2q8dJMY7D+8dJMYBFbePxSuR+F6FOo/WDm0yHa+rz97FK5H4XrEP3sUrkfheqQ/j8L1KFyP7j8bL90kBoHVP90kBoGVQ+M/AAAAAAAAAACq8dJNYhDkPzm0yHa+n4o/AAAAAAAAAADTTWIQWDkBQAAAAAAAAAAAgZVDi2znuz97FK5H4XqkPwAAAAAAAAAA+n5qvHSTyD8EVg4tsp3vP9nO91Pjpas/HVpkO99P+T9U46WbxCDgP99PjZduEuM/O99PjZdu6j8bL90kBoG1P4/C9Shcj9o/sp3vp8ZL8z97FK5H4XqkPzeJQWDl0MI/UI2XbhKDAECLbOf7qfGyP3npJjEIrNw/9ihcj8L19j8AAAAAAAAAAPp+arx0k+w/bef7qfHSzT81XrpJDALjP9v5fmq8dKM/pHA9Ctej2D9WDi2yne/nPwAAAAAAAAAA/tR46SYx2D9CYOXQItv3P83MzMzMzNQ/LbKd76fG2z/pJjEIrBzaP/up8dJNYgBAd76fGi+dKEDrUbgehesSQGZmZmZm5hBAtvP91HjpB0AlBoGVQ4sYQB6F61G4HgZABFYOLbKdFUBaZDvfT40TQDVeukkMAhtAHoXrUbgeCkAOLbKd76cMQB+F61G4nhRAUI2XbhKD/D+cxCCwcmgQQJHtfD81XhhAMzMzMzOzE0BmZmZmZuYTQKAaL90kBvs/16NwPQrXBEBGtvP91Hj7P8DKoUW2cyFA8tJNYhDYGUDz/dR46SYMQN0kBoGVQwdAL90kBoGVEECyne+nxkv1P2q8dJMYBPo/9ihcj8L19j8AAAAAAAATQCGwcmiR7QBAt/P91HjpJECe76fGS3cmQGiR7Xw/NQBATmIQWDm09j++nxov3SQTQNv5fmq89BVAv58aL90kJUA4iUFg5dATQDm0yHa+nxJAcD0K16PwEEB1kxgEVg4RQCGwcmiR7QlAmpmZmZkZGkCLbOf7qfEPQJqZmZmZGRpAQmDl0CLbEEDb+X5qvHQBQHjpJjEIrBlAdZMYBFYOE0BvEoPAyqERQLx0kxgEVhVAYxBYObTIDkBkO99PjVclQJduEoPAyv0/Vg4tsp3vD0A5tMh2vp8OQFK4HoXrESFA61G4HoXrCEAZBFYOLbL7P+Olm8QgcCdAhxbZzvdTEEA=\",\"dtype\":\"float64\",\"order\":\"little\",\"shape\":[124]},\"value\":{\"__ndarray__\":\"5/up8dJN0j/+1HjpJjHsPwAAAAAAAAAAarx0kxgE3j8AAAAAAAAAADMzMzMzM9M/AAAAAAAAAAC4HoXrUbiePzm0yHa+n5o/AAAAAAAAAACq8dJNYhCoPzeJQWDl0AJAnu+nxks35T956SYxCKyMPzm0yHa+n9o/f2q8dJMY7D+8dJMYBFbePxSuR+F6FOo/WDm0yHa+rz97FK5H4XrEP3sUrkfheqQ/j8L1KFyP7j8bL90kBoHVP90kBoGVQ+M/AAAAAAAAAACq8dJNYhDkPzm0yHa+n4o/AAAAAAAAAADTTWIQWDkBQAAAAAAAAAAAgZVDi2znuz97FK5H4XqkPwAAAAAAAAAA+n5qvHSTyD8EVg4tsp3vP9nO91Pjpas/HVpkO99P+T9U46WbxCDgP99PjZduEuM/O99PjZdu6j8bL90kBoG1P4/C9Shcj9o/sp3vp8ZL8z97FK5H4XqkPzeJQWDl0MI/UI2XbhKDAECLbOf7qfGyP3npJjEIrNw/9ihcj8L19j8AAAAAAAAAAPp+arx0k+w/bef7qfHSzT81XrpJDALjP9v5fmq8dKM/pHA9Ctej2D9WDi2yne/nPwAAAAAAAAAA/tR46SYx2D9CYOXQItv3P83MzMzMzNQ/LbKd76fG2z/pJjEIrBzaP5MYBFYOLQBAKVyPwvXoI0AIrBxaZLsSQGZmZmZm5hBAeekmMQisB0DhehSuR+EWQLgehetRuANABFYOLbKdFUCTGARWDq0RQDVeukkMAhtA30+Nl24SA0AOLbKd76cMQCuHFtnO9xFAUI2XbhKD/D+YbhKDwMoJQJHtfD81XhhA5/up8dLNEUCkcD0K16MQQNV46SYxCPo/j8L1KFyPA0CiRbbz/dT6Py/dJAaBFR9AAAAAAACAGEC8dJMYBFYHQN0kBoGVQwdA9P3UeOkmDEBKDAIrhxb1PxKDwMqhRfg/I9v5fmq89j9Ei2zn+6kSQCGwcmiR7QBAx0s3iUEgI0ApXI/C9SgiQNejcD0K1/s/bxKDwMqh8z/8qfHSTWIOQD0K16NwvRVAexSuR+H6IUDNzMzMzMwRQD0K16NwPRBAEoPAyqFFC0C6SQwCK4cOQM/3U+OlmwZALbKd76dGFUA5tMh2vp8PQJqZmZmZGRpA+FPjpZtEEEB3vp8aL90AQDvfT42X7hNAUrgehetREUCiRbbz/VQQQFg5tMh2vg5Aw/UoXI/CC0BkO99PjVclQN0kBoGVQ/c/QmDl0CLbDEBSuB6F61EOQNnO91PjJR9AXrpJDAIrBEArhxbZzvf3P4/C9ShcTyNAXrpJDAIrEEA=\",\"dtype\":\"float64\",\"order\":\"little\",\"shape\":[124]}},\"selected\":{\"id\":\"89798\"},\"selection_policy\":{\"id\":\"89812\"}},\"id\":\"89797\",\"type\":\"ColumnDataSource\"},{\"attributes\":{\"coordinates\":null,\"group\":null,\"items\":[{\"id\":\"89816\"}],\"location\":[0,0]},\"id\":\"89815\",\"type\":\"Legend\"},{\"attributes\":{},\"id\":\"89810\",\"type\":\"CategoricalTickFormatter\"},{\"attributes\":{\"below\":[{\"id\":\"89776\"}],\"center\":[{\"id\":\"89778\"},{\"id\":\"89782\"},{\"id\":\"89815\"}],\"height\":400,\"left\":[{\"id\":\"89779\"}],\"margin\":[5,5,5,5],\"min_border_bottom\":10,\"min_border_left\":10,\"min_border_right\":10,\"min_border_top\":10,\"renderers\":[{\"id\":\"89803\"}],\"right\":[{\"id\":\"89815\"}],\"sizing_mode\":\"fixed\",\"title\":{\"id\":\"89768\"},\"toolbar\":{\"id\":\"89789\"},\"width\":800,\"x_range\":{\"id\":\"89764\"},\"x_scale\":{\"id\":\"89772\"},\"y_range\":{\"id\":\"89765\"},\"y_scale\":{\"id\":\"89774\"}},\"id\":\"89767\",\"subtype\":\"Figure\",\"type\":\"Plot\"},{\"attributes\":{\"factors\":[\"Pl\\u0117\\u0161rios(kg)\",\"Biomas\\u0117(kg)\"],\"palette\":[\"#30a2da\",\"#fc4f30\"]},\"id\":\"89796\",\"type\":\"CategoricalColorMapper\"},{\"attributes\":{\"children\":[{\"id\":\"89767\"}],\"height\":400,\"margin\":[0,0,0,0],\"name\":\"Row49639\",\"sizing_mode\":\"fixed\",\"tags\":[\"embedded\"],\"width\":800},\"id\":\"89763\",\"type\":\"Row\"},{\"attributes\":{\"source\":{\"id\":\"89797\"}},\"id\":\"89804\",\"type\":\"CDSView\"},{\"attributes\":{\"coordinates\":null,\"group\":null,\"text\":\"Bendras laimikis ir jo pl\\u0117\\u0161ri dalis\",\"text_color\":\"black\",\"text_font_size\":\"12pt\"},\"id\":\"89768\",\"type\":\"Title\"},{\"attributes\":{\"active_drag\":{\"id\":\"89784\"},\"active_scroll\":{\"id\":\"89785\"},\"tools\":[{\"id\":\"89766\"},{\"id\":\"89783\"},{\"id\":\"89784\"},{\"id\":\"89785\"},{\"id\":\"89786\"},{\"id\":\"89787\"}]},\"id\":\"89789\",\"type\":\"Toolbar\"},{\"attributes\":{},\"id\":\"89784\",\"type\":\"PanTool\"},{\"attributes\":{\"callback\":null,\"renderers\":[{\"id\":\"89803\"}],\"tags\":[\"hv_created\"],\"tooltips\":[[\"Vandens telkinio pavadinimas\",\"@{Vandens_telkinio_pavadinimas}\"],[\"Variable\",\"@{Variable}\"],[\"value\",\"@{value}\"]]},\"id\":\"89766\",\"type\":\"HoverTool\"},{\"attributes\":{\"factors\":[\"Aisetas\",\"Almajas\",\"Alnis\",\"Antakmeni\\u0173 e\\u017eeras\",\"Antanavo HE tvenkinys\",\"Apvardai\",\"Arinas\",\"Asalnai\",\"Asavas\",\"Atesys\",\"Auk\\u0161tadvario HE tvenkinys\",\"Aviris\",\"Baltosios An\\u010dios tvenkinys\",\"Baluo\\u0161ai\",\"Bei\\u010di\\u0173 I tvenkinys\",\"Bir\\u017eulis\",\"Dvariuk\\u0173 tvenkinys\",\"Ei\\u0161i\\u0161ki\\u0173 HE tvenkinys\",\"Galadusys\",\"Galuonai\",\"Gavys\",\"Gink\\u016bn\\u0173 tvenkinys\",\"Ilgai\",\"I\\u0161narai\",\"Juodieji Lakajai\",\"Kadr\\u0117n\\u0173 tvenkinys\",\"Kertuojai\",\"Kretuonas\",\"Lab\\u016bnavos tvenkinys\",\"Lazdinink\\u0173 tvenkinys\",\"Luk\\u0161tas\",\"Luokesai\",\"L\\u0117nas\",\"L\\u016b\\u0161iai\",\"Mastis\",\"Padysnio HE tvenkinys\",\"Pae\\u017eeri\\u0173 e\\u017eeras\",\"Pakasas\",\"Par\\u0161e\\u017eeris\",\"Pravalas\",\"Pr\\u016btas\",\"Sablauski\\u0173 tvenkinys\",\"Snaigynas\",\"Spind\\u017eius\",\"Suvingis\",\"S\\u0105gardas\",\"Tauragnas\",\"Tausalas\",\"Utenas\",\"Utenos tvenkinys\",\"Utenyk\\u0161tis\",\"Vajuonis\",\"Vidinkstas\",\"Vievis\",\"Vie\\u0161intas\",\"Vilkas\",\"Vilkinys\",\"Virintai\",\"Zapsys\",\"Zarasas\",\"\\u010ci\\u010dirys\",\"\\u0160lavantas\"],\"tags\":[[[\"Vandens telkinio pavadinimas\",\"Vandens telkinio pavadinimas\",null]]]},\"id\":\"89764\",\"type\":\"FactorRange\"},{\"attributes\":{},\"id\":\"89807\",\"type\":\"BasicTickFormatter\"},{\"attributes\":{\"end\":13.4046,\"reset_end\":13.4046,\"reset_start\":0.0,\"tags\":[[[\"value\",\"value\",null]]]},\"id\":\"89765\",\"type\":\"Range1d\"},{\"attributes\":{\"axis_label\":\"\",\"coordinates\":null,\"formatter\":{\"id\":\"89807\"},\"group\":null,\"major_label_policy\":{\"id\":\"89808\"},\"ticker\":{\"id\":\"89780\"}},\"id\":\"89779\",\"type\":\"LinearAxis\"},{\"attributes\":{\"bottom\":{\"field\":\"bottom\"},\"fill_alpha\":{\"value\":1.0},\"fill_color\":{\"field\":\"Variable\",\"transform\":{\"id\":\"89796\"}},\"hatch_alpha\":{\"value\":1.0},\"hatch_color\":{\"field\":\"Variable\",\"transform\":{\"id\":\"89796\"}},\"hatch_scale\":{\"value\":12.0},\"hatch_weight\":{\"value\":1.0},\"line_alpha\":{\"value\":1.0},\"line_cap\":{\"value\":\"butt\"},\"line_color\":{\"value\":\"black\"},\"line_dash\":{\"value\":[]},\"line_dash_offset\":{\"value\":0},\"line_join\":{\"value\":\"bevel\"},\"line_width\":{\"value\":1},\"top\":{\"field\":\"top\"},\"width\":{\"value\":0.8},\"x\":{\"field\":\"Vandens_telkinio_pavadinimas\"}},\"id\":\"89817\",\"type\":\"VBar\"},{\"attributes\":{},\"id\":\"89787\",\"type\":\"ResetTool\"},{\"attributes\":{\"bottom\":{\"field\":\"bottom\"},\"fill_alpha\":{\"value\":0.2},\"fill_color\":{\"field\":\"Variable\",\"transform\":{\"id\":\"89796\"}},\"hatch_alpha\":{\"value\":0.2},\"hatch_color\":{\"field\":\"Variable\",\"transform\":{\"id\":\"89796\"}},\"line_alpha\":{\"value\":0.2},\"top\":{\"field\":\"top\"},\"width\":{\"value\":0.8},\"x\":{\"field\":\"Vandens_telkinio_pavadinimas\"}},\"id\":\"89802\",\"type\":\"VBar\"},{\"attributes\":{},\"id\":\"89783\",\"type\":\"SaveTool\"},{\"attributes\":{},\"id\":\"89812\",\"type\":\"UnionRenderers\"},{\"attributes\":{\"label\":{\"field\":\"Variable\"},\"renderers\":[{\"id\":\"89803\"}]},\"id\":\"89816\",\"type\":\"LegendItem\"},{\"attributes\":{\"axis\":{\"id\":\"89779\"},\"coordinates\":null,\"dimension\":1,\"grid_line_color\":null,\"group\":null,\"ticker\":null},\"id\":\"89782\",\"type\":\"Grid\"},{\"attributes\":{\"bottom\":{\"field\":\"bottom\"},\"fill_alpha\":{\"value\":0.1},\"fill_color\":{\"field\":\"Variable\",\"transform\":{\"id\":\"89796\"}},\"hatch_alpha\":{\"value\":0.1},\"hatch_color\":{\"field\":\"Variable\",\"transform\":{\"id\":\"89796\"}},\"line_alpha\":{\"value\":0.1},\"top\":{\"field\":\"top\"},\"width\":{\"value\":0.8},\"x\":{\"field\":\"Vandens_telkinio_pavadinimas\"}},\"id\":\"89801\",\"type\":\"VBar\"},{\"attributes\":{},\"id\":\"89798\",\"type\":\"Selection\"},{\"attributes\":{\"bottom\":{\"field\":\"bottom\"},\"fill_color\":{\"field\":\"Variable\",\"transform\":{\"id\":\"89796\"}},\"hatch_color\":{\"field\":\"Variable\",\"transform\":{\"id\":\"89796\"}},\"top\":{\"field\":\"top\"},\"width\":{\"value\":0.8},\"x\":{\"field\":\"Vandens_telkinio_pavadinimas\"}},\"id\":\"89800\",\"type\":\"VBar\"},{\"attributes\":{\"axis_label\":\"Vandens telkinio pavadinimas\",\"coordinates\":null,\"formatter\":{\"id\":\"89810\"},\"group\":null,\"major_label_orientation\":1.5707963267948966,\"major_label_policy\":{\"id\":\"89811\"},\"ticker\":{\"id\":\"89777\"}},\"id\":\"89776\",\"type\":\"CategoricalAxis\"},{\"attributes\":{\"coordinates\":null,\"data_source\":{\"id\":\"89797\"},\"glyph\":{\"id\":\"89800\"},\"group\":null,\"hover_glyph\":null,\"muted_glyph\":{\"id\":\"89802\"},\"nonselection_glyph\":{\"id\":\"89801\"},\"selection_glyph\":{\"id\":\"89817\"},\"view\":{\"id\":\"89804\"}},\"id\":\"89803\",\"type\":\"GlyphRenderer\"},{\"attributes\":{},\"id\":\"89808\",\"type\":\"AllLabels\"},{\"attributes\":{},\"id\":\"89811\",\"type\":\"AllLabels\"},{\"attributes\":{},\"id\":\"89774\",\"type\":\"LinearScale\"}],\"root_ids\":[\"89763\"]},\"title\":\"Bokeh Application\",\"version\":\"2.4.3\"}};\n",
       "    var render_items = [{\"docid\":\"f93afbb7-3b00-4fc1-adee-7090a05f7354\",\"root_ids\":[\"89763\"],\"roots\":{\"89763\":\"5e65430a-6bef-4834-aaa0-dbb8467b1f42\"}}];\n",
       "    root.Bokeh.embed.embed_items_notebook(docs_json, render_items);\n",
       "    for (const render_item of render_items) {\n",
       "      for (const root_id of render_item.root_ids) {\n",
       "\tconst id_el = document.getElementById(root_id)\n",
       "\tif (id_el.children.length && (id_el.children[0].className === 'bk-root')) {\n",
       "\t  const root_el = id_el.children[0]\n",
       "\t  root_el.id = root_el.id + '-rendered'\n",
       "\t}\n",
       "      }\n",
       "    }\n",
       "  }\n",
       "  if (root.Bokeh !== undefined && root.Bokeh.Panel !== undefined && ( root['Tabulator'] !== undefined) && ( root['Tabulator'] !== undefined) && ( root['Tabulator'] !== undefined) && ( root['Tabulator'] !== undefined) && ( root['Tabulator'] !== undefined) && ( root['Tabulator'] !== undefined) && ( root['Tabulator'] !== undefined)) {\n",
       "    embed_document(root);\n",
       "  } else {\n",
       "    var attempts = 0;\n",
       "    var timer = setInterval(function(root) {\n",
       "      if (root.Bokeh !== undefined && root.Bokeh.Panel !== undefined && (root['Tabulator'] !== undefined) && (root['Tabulator'] !== undefined) && (root['Tabulator'] !== undefined) && (root['Tabulator'] !== undefined) && (root['Tabulator'] !== undefined) && (root['Tabulator'] !== undefined) && (root['Tabulator'] !== undefined)) {\n",
       "        clearInterval(timer);\n",
       "        embed_document(root);\n",
       "      } else if (document.readyState == \"complete\") {\n",
       "        attempts++;\n",
       "        if (attempts > 200) {\n",
       "          clearInterval(timer);\n",
       "          console.log(\"Bokeh: ERROR: Unable to run BokehJS code because BokehJS library is missing\");\n",
       "        }\n",
       "      }\n",
       "    }, 25, root)\n",
       "  }\n",
       "})(window);</script>"
      ],
      "text/plain": [
       ":Bars   [Vandens telkinio pavadinimas,Variable]   (value)"
      ]
     },
     "execution_count": 351,
     "metadata": {
      "application/vnd.holoviews_exec.v0+json": {
       "id": "89763"
      }
     },
     "output_type": "execute_result"
    }
   ],
   "source": [
    "#sitas diagrama jau gera, nebent pakeisti pavadinima.\n",
    "bendras = df.hvplot.bar(\n",
    "                    x=\"Vandens telkinio pavadinimas\", rot=90,\n",
    "                    #y=\"Plėšrios_kg\",\n",
    "                    y=[\"Plėšrios(kg)\", \"Biomasė(kg)\"],\n",
    "                    stacked=True,\n",
    "                    width=800, height=400,\n",
    "                    title=\"Bendras laimikis ir jo plėšri dalis\"\n",
    ")\n",
    "\n",
    "bendras"
   ]
  },
  {
   "cell_type": "markdown",
   "id": "eed936ba-b8e1-4746-8582-6b43bbb11ac8",
   "metadata": {},
   "source": [
    "Padaroma lentelė(o gal dataframe) su norimais stulpeliais, kad būtų galima panaudoti grafikui."
   ]
  },
  {
   "cell_type": "code",
   "execution_count": 352,
   "id": "76454172-5792-4cfd-83b1-87d53949fce8",
   "metadata": {
    "tags": []
   },
   "outputs": [
    {
     "data": {
      "text/html": [
       "<div>\n",
       "<style scoped>\n",
       "    .dataframe tbody tr th:only-of-type {\n",
       "        vertical-align: middle;\n",
       "    }\n",
       "\n",
       "    .dataframe tbody tr th {\n",
       "        vertical-align: top;\n",
       "    }\n",
       "\n",
       "    .dataframe thead th {\n",
       "        text-align: right;\n",
       "    }\n",
       "</style>\n",
       "<table border=\"1\" class=\"dataframe\">\n",
       "  <thead>\n",
       "    <tr style=\"text-align: right;\">\n",
       "      <th></th>\n",
       "      <th>Savivaldybė</th>\n",
       "      <th>Ešerys (Gausumas)</th>\n",
       "      <th>Karšis (Gausumas)</th>\n",
       "    </tr>\n",
       "  </thead>\n",
       "  <tbody>\n",
       "    <tr>\n",
       "      <th>0</th>\n",
       "      <td>Utenos r. sav.</td>\n",
       "      <td>0.0</td>\n",
       "      <td>0.0</td>\n",
       "    </tr>\n",
       "    <tr>\n",
       "      <th>1</th>\n",
       "      <td>Ignalinos r. sav.</td>\n",
       "      <td>0.0</td>\n",
       "      <td>0.0</td>\n",
       "    </tr>\n",
       "    <tr>\n",
       "      <th>2</th>\n",
       "      <td>Molėtų r. sav.</td>\n",
       "      <td>0.0</td>\n",
       "      <td>0.0</td>\n",
       "    </tr>\n",
       "    <tr>\n",
       "      <th>3</th>\n",
       "      <td>Trakų r. sav.</td>\n",
       "      <td>0.0</td>\n",
       "      <td>0.0</td>\n",
       "    </tr>\n",
       "    <tr>\n",
       "      <th>4</th>\n",
       "      <td>Marijampolės sav.</td>\n",
       "      <td>0.0</td>\n",
       "      <td>0.0</td>\n",
       "    </tr>\n",
       "  </tbody>\n",
       "</table>\n",
       "</div>"
      ],
      "text/plain": [
       "         Savivaldybė  Ešerys (Gausumas)  Karšis (Gausumas)\n",
       "0     Utenos r. sav.                0.0                0.0\n",
       "1  Ignalinos r. sav.                0.0                0.0\n",
       "2     Molėtų r. sav.                0.0                0.0\n",
       "3      Trakų r. sav.                0.0                0.0\n",
       "4  Marijampolės sav.                0.0                0.0"
      ]
     },
     "execution_count": 352,
     "metadata": {},
     "output_type": "execute_result"
    }
   ],
   "source": [
    "pagal_tris = df[[\"Savivaldybė\", \"Ešerys (Gausumas)\",\"Karšis (Gausumas)\"]] \n",
    "pagal_tris.head(5)"
   ]
  },
  {
   "cell_type": "code",
   "execution_count": 353,
   "id": "2007e056-c7da-4312-844d-c73a23877ab2",
   "metadata": {
    "tags": []
   },
   "outputs": [],
   "source": [
    "trecias = pagal_tris.set_index('Savivaldybė').hvplot(kind='bar', rot=90, stacked=True, legend='top_right', title='Ešerių ir karšių kiekis telkiniuose pagal savivaldybes')"
   ]
  },
  {
   "cell_type": "markdown",
   "id": "75f1685a-91e7-4164-9b4a-012565bdc7a3",
   "metadata": {
    "tags": []
   },
   "source": [
    "Darom lentelę su .hvplot:"
   ]
  },
  {
   "cell_type": "code",
   "execution_count": 354,
   "id": "4c6d70fb-8a5f-43be-90f5-ef491cdd8362",
   "metadata": {
    "tags": []
   },
   "outputs": [
    {
     "data": {
      "text/html": [
       "<div>\n",
       "<style scoped>\n",
       "    .dataframe tbody tr th:only-of-type {\n",
       "        vertical-align: middle;\n",
       "    }\n",
       "\n",
       "    .dataframe tbody tr th {\n",
       "        vertical-align: top;\n",
       "    }\n",
       "\n",
       "    .dataframe thead th {\n",
       "        text-align: right;\n",
       "    }\n",
       "</style>\n",
       "<table border=\"1\" class=\"dataframe\">\n",
       "  <thead>\n",
       "    <tr style=\"text-align: right;\">\n",
       "      <th></th>\n",
       "      <th>Vandens telkinio pavadinimas</th>\n",
       "      <th>Biomasė(kg)</th>\n",
       "      <th>Plėšrios(kg)</th>\n",
       "    </tr>\n",
       "  </thead>\n",
       "  <tbody>\n",
       "    <tr>\n",
       "      <th>0</th>\n",
       "      <td>Aisetas</td>\n",
       "      <td>1.740</td>\n",
       "      <td>0.286</td>\n",
       "    </tr>\n",
       "    <tr>\n",
       "      <th>1</th>\n",
       "      <td>Almajas</td>\n",
       "      <td>1.227</td>\n",
       "      <td>0.192</td>\n",
       "    </tr>\n",
       "    <tr>\n",
       "      <th>2</th>\n",
       "      <td>Alnis</td>\n",
       "      <td>3.798</td>\n",
       "      <td>0.988</td>\n",
       "    </tr>\n",
       "    <tr>\n",
       "      <th>3</th>\n",
       "      <td>Antakmenių ežeras</td>\n",
       "      <td>5.435</td>\n",
       "      <td>0.054</td>\n",
       "    </tr>\n",
       "    <tr>\n",
       "      <th>4</th>\n",
       "      <td>Antanavo HE tvenkinys</td>\n",
       "      <td>8.990</td>\n",
       "      <td>1.582</td>\n",
       "    </tr>\n",
       "  </tbody>\n",
       "</table>\n",
       "</div>"
      ],
      "text/plain": [
       "  Vandens telkinio pavadinimas  Biomasė(kg)  Plėšrios(kg)\n",
       "0                      Aisetas        1.740         0.286\n",
       "1                      Almajas        1.227         0.192\n",
       "2                        Alnis        3.798         0.988\n",
       "3            Antakmenių ežeras        5.435         0.054\n",
       "4        Antanavo HE tvenkinys        8.990         1.582"
      ]
     },
     "execution_count": 354,
     "metadata": {},
     "output_type": "execute_result"
    }
   ],
   "source": [
    "lentele = df[[\"Vandens telkinio pavadinimas\", \"Biomasė(kg)\", \"Plėšrios(kg)\"]] \n",
    "lentele.head()"
   ]
  },
  {
   "cell_type": "code",
   "execution_count": 355,
   "id": "11930469-1444-4aa5-9bf8-739227339ee4",
   "metadata": {
    "tags": []
   },
   "outputs": [],
   "source": [
    "antras = lentele.hvplot(kind='table', width=500, title='Vandens telkinių žuvingumas')"
   ]
  },
  {
   "cell_type": "code",
   "execution_count": 356,
   "id": "9947ec72-c19a-4b52-9af7-fe1f3d3eb64c",
   "metadata": {
    "tags": []
   },
   "outputs": [
    {
     "name": "stdout",
     "output_type": "stream",
     "text": [
      "Launching server at http://localhost:56685\n"
     ]
    }
   ],
   "source": [
    "# # Now we have every visualization we need (in this case 4)\n",
    "# # Putting all together now\n",
    "\n",
    "# # #Layout using Template\n",
    "template = pn.template.FastListTemplate(\n",
    "    title='Žuvys', \n",
    "    sidebar=[pn.pane.Markdown(\"# Žuvų išteklių tyrimas\"), \n",
    "             pn.pane.Markdown(\"#### Dideli vandens telkiniai pasižymi gausia ir įvairia ichtiofauna. Dėl gausių žuvų išteklių dideli vandens telkiniai yra svarbūs tiek verslinei, tiek mėgėjiškai žvejybai. Todėl tokių vandens telkinių ichtiologiniai tyrimai turi ne tik mokslinę, bet ir praktinę reikšmę.\"), \n",
    "             pn.pane.PNG('lietuvos_ezerai.png', sizing_mode='scale_both')],\n",
    "             \n",
    "    main=[pn.Row(trecias, antras), \n",
    "          pn.Row(pirmas, ketvirtas) \n",
    "                # pn.Column(grafikas_trys)\n",
    "                ],\n",
    "    accent_base_color=\"#88d8b0\",\n",
    "    header_background=\"#88d8b0\",\n",
    ")\n",
    "template.show()\n",
    "template.servable();"
   ]
  },
  {
   "cell_type": "code",
   "execution_count": null,
   "id": "a4471685-1a4a-4bc6-afcc-9318edfc16ac",
   "metadata": {},
   "outputs": [],
   "source": []
  }
 ],
 "metadata": {
  "kernelspec": {
   "display_name": "Python 3 (ipykernel)",
   "language": "python",
   "name": "python3"
  },
  "language_info": {
   "codemirror_mode": {
    "name": "ipython",
    "version": 3
   },
   "file_extension": ".py",
   "mimetype": "text/x-python",
   "name": "python",
   "nbconvert_exporter": "python",
   "pygments_lexer": "ipython3",
   "version": "3.11.2"
  }
 },
 "nbformat": 4,
 "nbformat_minor": 5
}
