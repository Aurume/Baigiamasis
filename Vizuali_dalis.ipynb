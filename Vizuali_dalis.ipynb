{
 "cells": [
  {
   "cell_type": "code",
   "execution_count": 87,
   "id": "e1bbec09-e1a8-4f9c-a957-88e34c9aaee7",
   "metadata": {
    "tags": []
   },
   "outputs": [],
   "source": [
    "import pandas as pd\n",
    "import numpy as np\n",
    "import panel as pn\n",
    "pn.extension('tabulator')\n",
    "\n",
    "import hvplot.pandas\n",
    "import panel as pn\n",
    "\n",
    "import holoviews as hv\n",
    "hv.extension('bokeh')\n",
    "pd.options.plotting.backend = 'holoviews'\n"
   ]
  },
  {
   "cell_type": "code",
   "execution_count": 88,
   "id": "f3cc98b6-3123-4acd-b55a-423d1d5720d2",
   "metadata": {
    "tags": []
   },
   "outputs": [],
   "source": [
    "df = pd.read_csv('zuvys.csv')"
   ]
  },
  {
   "cell_type": "code",
   "execution_count": 89,
   "id": "28bca1d0-9783-44f9-9720-f12feb7d347b",
   "metadata": {
    "tags": []
   },
   "outputs": [
    {
     "data": {
      "text/html": [
       "<div>\n",
       "<style scoped>\n",
       "    .dataframe tbody tr th:only-of-type {\n",
       "        vertical-align: middle;\n",
       "    }\n",
       "\n",
       "    .dataframe tbody tr th {\n",
       "        vertical-align: top;\n",
       "    }\n",
       "\n",
       "    .dataframe thead th {\n",
       "        text-align: right;\n",
       "    }\n",
       "</style>\n",
       "<table border=\"1\" class=\"dataframe\">\n",
       "  <thead>\n",
       "    <tr style=\"text-align: right;\">\n",
       "      <th></th>\n",
       "      <th>Vandens telkinio pavadinimas</th>\n",
       "      <th>Kodas</th>\n",
       "      <th>Savivaldybė</th>\n",
       "      <th>Žuvų būklės indeksas</th>\n",
       "      <th>Biomasė(kg)</th>\n",
       "      <th>Gausumas(vnt)</th>\n",
       "      <th>Plėšrių žuvų gausumas(%)</th>\n",
       "      <th>Plėšrių žuvų biomasė(%)</th>\n",
       "      <th>Ešerys (Gausumas)</th>\n",
       "      <th>Karšis (Gausumas)</th>\n",
       "      <th>Plėšrios(kg)</th>\n",
       "    </tr>\n",
       "  </thead>\n",
       "  <tbody>\n",
       "    <tr>\n",
       "      <th>0</th>\n",
       "      <td>Aisetas</td>\n",
       "      <td>12140251</td>\n",
       "      <td>Utenos r. sav.</td>\n",
       "      <td>0.49</td>\n",
       "      <td>1.740</td>\n",
       "      <td>38</td>\n",
       "      <td>1.61</td>\n",
       "      <td>16.45</td>\n",
       "      <td>0.0</td>\n",
       "      <td>0.0</td>\n",
       "      <td>0.286</td>\n",
       "    </tr>\n",
       "    <tr>\n",
       "      <th>1</th>\n",
       "      <td>Almajas</td>\n",
       "      <td>12130086</td>\n",
       "      <td>Ignalinos r. sav.</td>\n",
       "      <td>0.47</td>\n",
       "      <td>1.227</td>\n",
       "      <td>27</td>\n",
       "      <td>2.17</td>\n",
       "      <td>15.66</td>\n",
       "      <td>0.0</td>\n",
       "      <td>0.0</td>\n",
       "      <td>0.192</td>\n",
       "    </tr>\n",
       "    <tr>\n",
       "      <th>2</th>\n",
       "      <td>Alnis</td>\n",
       "      <td>12130082</td>\n",
       "      <td>Molėtų r. sav.</td>\n",
       "      <td>0.57</td>\n",
       "      <td>3.798</td>\n",
       "      <td>42</td>\n",
       "      <td>2.83</td>\n",
       "      <td>26.02</td>\n",
       "      <td>0.0</td>\n",
       "      <td>0.0</td>\n",
       "      <td>0.988</td>\n",
       "    </tr>\n",
       "    <tr>\n",
       "      <th>3</th>\n",
       "      <td>Antakmenių ežeras</td>\n",
       "      <td>10030651</td>\n",
       "      <td>Trakų r. sav.</td>\n",
       "      <td>1.00</td>\n",
       "      <td>5.435</td>\n",
       "      <td>118</td>\n",
       "      <td>1.00</td>\n",
       "      <td>1.00</td>\n",
       "      <td>0.0</td>\n",
       "      <td>0.0</td>\n",
       "      <td>0.054</td>\n",
       "    </tr>\n",
       "    <tr>\n",
       "      <th>4</th>\n",
       "      <td>Antanavo HE tvenkinys</td>\n",
       "      <td>15050005</td>\n",
       "      <td>Marijampolės sav.</td>\n",
       "      <td>0.63</td>\n",
       "      <td>8.990</td>\n",
       "      <td>107</td>\n",
       "      <td>1.65</td>\n",
       "      <td>17.60</td>\n",
       "      <td>0.0</td>\n",
       "      <td>0.0</td>\n",
       "      <td>1.582</td>\n",
       "    </tr>\n",
       "    <tr>\n",
       "      <th>...</th>\n",
       "      <td>...</td>\n",
       "      <td>...</td>\n",
       "      <td>...</td>\n",
       "      <td>...</td>\n",
       "      <td>...</td>\n",
       "      <td>...</td>\n",
       "      <td>...</td>\n",
       "      <td>...</td>\n",
       "      <td>...</td>\n",
       "      <td>...</td>\n",
       "      <td>...</td>\n",
       "    </tr>\n",
       "    <tr>\n",
       "      <th>57</th>\n",
       "      <td>Virintai</td>\n",
       "      <td>12241640</td>\n",
       "      <td>Molėtų r. sav.</td>\n",
       "      <td>0.52</td>\n",
       "      <td>3.519</td>\n",
       "      <td>64</td>\n",
       "      <td>1.90</td>\n",
       "      <td>17.82</td>\n",
       "      <td>16.8</td>\n",
       "      <td>0.0</td>\n",
       "      <td>0.627</td>\n",
       "    </tr>\n",
       "    <tr>\n",
       "      <th>58</th>\n",
       "      <td>Zapsys</td>\n",
       "      <td>10030110</td>\n",
       "      <td>Lazdijų r. sav.</td>\n",
       "      <td>1.00</td>\n",
       "      <td>1.318</td>\n",
       "      <td>31</td>\n",
       "      <td>1.00</td>\n",
       "      <td>1.00</td>\n",
       "      <td>0.0</td>\n",
       "      <td>4.0</td>\n",
       "      <td>0.013</td>\n",
       "    </tr>\n",
       "    <tr>\n",
       "      <th>59</th>\n",
       "      <td>Zarasas</td>\n",
       "      <td>50030302</td>\n",
       "      <td>Zarasų r. sav.</td>\n",
       "      <td>0.43</td>\n",
       "      <td>1.782</td>\n",
       "      <td>39</td>\n",
       "      <td>1.40</td>\n",
       "      <td>0.00</td>\n",
       "      <td>0.0</td>\n",
       "      <td>0.0</td>\n",
       "      <td>0.000</td>\n",
       "    </tr>\n",
       "    <tr>\n",
       "      <th>60</th>\n",
       "      <td>Čičirys</td>\n",
       "      <td>50030474</td>\n",
       "      <td>Zarasų r. sav.</td>\n",
       "      <td>0.60</td>\n",
       "      <td>9.080</td>\n",
       "      <td>75</td>\n",
       "      <td>1.87</td>\n",
       "      <td>23.71</td>\n",
       "      <td>0.0</td>\n",
       "      <td>0.0</td>\n",
       "      <td>2.153</td>\n",
       "    </tr>\n",
       "    <tr>\n",
       "      <th>61</th>\n",
       "      <td>Šlavantas</td>\n",
       "      <td>10030010</td>\n",
       "      <td>Lazdijų r. sav.</td>\n",
       "      <td>1.00</td>\n",
       "      <td>4.042</td>\n",
       "      <td>39</td>\n",
       "      <td>1.00</td>\n",
       "      <td>1.00</td>\n",
       "      <td>0.0</td>\n",
       "      <td>0.0</td>\n",
       "      <td>0.040</td>\n",
       "    </tr>\n",
       "  </tbody>\n",
       "</table>\n",
       "<p>62 rows × 11 columns</p>\n",
       "</div>"
      ],
      "text/plain": [
       "   Vandens telkinio pavadinimas     Kodas        Savivaldybė  \\\n",
       "0                       Aisetas  12140251     Utenos r. sav.   \n",
       "1                       Almajas  12130086  Ignalinos r. sav.   \n",
       "2                         Alnis  12130082     Molėtų r. sav.   \n",
       "3             Antakmenių ežeras  10030651      Trakų r. sav.   \n",
       "4         Antanavo HE tvenkinys  15050005  Marijampolės sav.   \n",
       "..                          ...       ...                ...   \n",
       "57                     Virintai  12241640     Molėtų r. sav.   \n",
       "58                       Zapsys  10030110    Lazdijų r. sav.   \n",
       "59                      Zarasas  50030302     Zarasų r. sav.   \n",
       "60                      Čičirys  50030474     Zarasų r. sav.   \n",
       "61                    Šlavantas  10030010    Lazdijų r. sav.   \n",
       "\n",
       "    Žuvų būklės indeksas  Biomasė(kg)  Gausumas(vnt)  \\\n",
       "0                   0.49        1.740             38   \n",
       "1                   0.47        1.227             27   \n",
       "2                   0.57        3.798             42   \n",
       "3                   1.00        5.435            118   \n",
       "4                   0.63        8.990            107   \n",
       "..                   ...          ...            ...   \n",
       "57                  0.52        3.519             64   \n",
       "58                  1.00        1.318             31   \n",
       "59                  0.43        1.782             39   \n",
       "60                  0.60        9.080             75   \n",
       "61                  1.00        4.042             39   \n",
       "\n",
       "    Plėšrių žuvų gausumas(%)  Plėšrių žuvų biomasė(%)  Ešerys (Gausumas)  \\\n",
       "0                       1.61                    16.45                0.0   \n",
       "1                       2.17                    15.66                0.0   \n",
       "2                       2.83                    26.02                0.0   \n",
       "3                       1.00                     1.00                0.0   \n",
       "4                       1.65                    17.60                0.0   \n",
       "..                       ...                      ...                ...   \n",
       "57                      1.90                    17.82               16.8   \n",
       "58                      1.00                     1.00                0.0   \n",
       "59                      1.40                     0.00                0.0   \n",
       "60                      1.87                    23.71                0.0   \n",
       "61                      1.00                     1.00                0.0   \n",
       "\n",
       "    Karšis (Gausumas)  Plėšrios(kg)  \n",
       "0                 0.0         0.286  \n",
       "1                 0.0         0.192  \n",
       "2                 0.0         0.988  \n",
       "3                 0.0         0.054  \n",
       "4                 0.0         1.582  \n",
       "..                ...           ...  \n",
       "57                0.0         0.627  \n",
       "58                4.0         0.013  \n",
       "59                0.0         0.000  \n",
       "60                0.0         2.153  \n",
       "61                0.0         0.040  \n",
       "\n",
       "[62 rows x 11 columns]"
      ]
     },
     "execution_count": 89,
     "metadata": {},
     "output_type": "execute_result"
    }
   ],
   "source": [
    "df"
   ]
  },
  {
   "cell_type": "code",
   "execution_count": 90,
   "id": "b8f952a5-850f-477f-9498-168f046a852c",
   "metadata": {
    "tags": []
   },
   "outputs": [
    {
     "data": {
      "text/plain": [
       "Index(['Vandens telkinio pavadinimas', 'Kodas', 'Savivaldybė',\n",
       "       'Žuvų būklės indeksas', 'Biomasė(kg)', 'Gausumas(vnt)',\n",
       "       'Plėšrių žuvų gausumas(%)', 'Plėšrių žuvų biomasė(%)',\n",
       "       'Ešerys (Gausumas)', 'Karšis (Gausumas)', 'Plėšrios(kg)'],\n",
       "      dtype='object')"
      ]
     },
     "execution_count": 90,
     "metadata": {},
     "output_type": "execute_result"
    }
   ],
   "source": [
    "df.columns"
   ]
  },
  {
   "cell_type": "code",
   "execution_count": 91,
   "id": "866667ac-ddf9-4a9e-a891-decbbc12178e",
   "metadata": {
    "tags": []
   },
   "outputs": [
    {
     "data": {
      "text/html": [
       "<div>\n",
       "<style scoped>\n",
       "    .dataframe tbody tr th:only-of-type {\n",
       "        vertical-align: middle;\n",
       "    }\n",
       "\n",
       "    .dataframe tbody tr th {\n",
       "        vertical-align: top;\n",
       "    }\n",
       "\n",
       "    .dataframe thead th {\n",
       "        text-align: right;\n",
       "    }\n",
       "</style>\n",
       "<table border=\"1\" class=\"dataframe\">\n",
       "  <thead>\n",
       "    <tr style=\"text-align: right;\">\n",
       "      <th></th>\n",
       "      <th>Vandens telkinio pavadinimas</th>\n",
       "      <th>Kodas</th>\n",
       "      <th>Savivaldybė</th>\n",
       "      <th>Žuvų būklės indeksas</th>\n",
       "      <th>Biomasė(kg)</th>\n",
       "      <th>Gausumas(vnt)</th>\n",
       "      <th>Plėšrių žuvų gausumas(%)</th>\n",
       "      <th>Plėšrių žuvų biomasė(%)</th>\n",
       "      <th>Ešerys (Gausumas)</th>\n",
       "      <th>Karšis (Gausumas)</th>\n",
       "      <th>Plėšrios(kg)</th>\n",
       "    </tr>\n",
       "  </thead>\n",
       "  <tbody>\n",
       "    <tr>\n",
       "      <th>3</th>\n",
       "      <td>Antakmenių ežeras</td>\n",
       "      <td>10030651</td>\n",
       "      <td>Trakų r. sav.</td>\n",
       "      <td>1.0</td>\n",
       "      <td>5.435</td>\n",
       "      <td>118</td>\n",
       "      <td>1.00</td>\n",
       "      <td>1.00</td>\n",
       "      <td>0.0</td>\n",
       "      <td>0.0</td>\n",
       "      <td>0.054</td>\n",
       "    </tr>\n",
       "    <tr>\n",
       "      <th>11</th>\n",
       "      <td>Aviris</td>\n",
       "      <td>10030319</td>\n",
       "      <td>Druskininkų sav.</td>\n",
       "      <td>1.0</td>\n",
       "      <td>3.953</td>\n",
       "      <td>69</td>\n",
       "      <td>1.00</td>\n",
       "      <td>1.00</td>\n",
       "      <td>0.0</td>\n",
       "      <td>0.0</td>\n",
       "      <td>0.040</td>\n",
       "    </tr>\n",
       "    <tr>\n",
       "      <th>24</th>\n",
       "      <td>Juodieji Lakajai</td>\n",
       "      <td>12130250</td>\n",
       "      <td>Molėtų r. sav.</td>\n",
       "      <td>1.0</td>\n",
       "      <td>3.790</td>\n",
       "      <td>40</td>\n",
       "      <td>1.00</td>\n",
       "      <td>1.00</td>\n",
       "      <td>0.0</td>\n",
       "      <td>0.0</td>\n",
       "      <td>0.038</td>\n",
       "    </tr>\n",
       "    <tr>\n",
       "      <th>39</th>\n",
       "      <td>Pravalas</td>\n",
       "      <td>12141212</td>\n",
       "      <td>Molėtų r. sav.</td>\n",
       "      <td>1.0</td>\n",
       "      <td>2.959</td>\n",
       "      <td>27</td>\n",
       "      <td>1.00</td>\n",
       "      <td>1.00</td>\n",
       "      <td>0.0</td>\n",
       "      <td>0.0</td>\n",
       "      <td>0.030</td>\n",
       "    </tr>\n",
       "    <tr>\n",
       "      <th>42</th>\n",
       "      <td>Snaigynas</td>\n",
       "      <td>10030250</td>\n",
       "      <td>Lazdijų r. sav.</td>\n",
       "      <td>1.0</td>\n",
       "      <td>4.683</td>\n",
       "      <td>59</td>\n",
       "      <td>1.00</td>\n",
       "      <td>1.00</td>\n",
       "      <td>0.0</td>\n",
       "      <td>0.0</td>\n",
       "      <td>0.047</td>\n",
       "    </tr>\n",
       "    <tr>\n",
       "      <th>45</th>\n",
       "      <td>Sągardas</td>\n",
       "      <td>50030006</td>\n",
       "      <td>Ignalinos r. sav.</td>\n",
       "      <td>1.0</td>\n",
       "      <td>1.421</td>\n",
       "      <td>30</td>\n",
       "      <td>1.00</td>\n",
       "      <td>1.00</td>\n",
       "      <td>2.6</td>\n",
       "      <td>0.0</td>\n",
       "      <td>0.014</td>\n",
       "    </tr>\n",
       "    <tr>\n",
       "      <th>48</th>\n",
       "      <td>Utenas</td>\n",
       "      <td>12130110</td>\n",
       "      <td>Utenos r. sav.</td>\n",
       "      <td>1.0</td>\n",
       "      <td>4.451</td>\n",
       "      <td>67</td>\n",
       "      <td>1.38</td>\n",
       "      <td>10.66</td>\n",
       "      <td>0.0</td>\n",
       "      <td>0.0</td>\n",
       "      <td>0.474</td>\n",
       "    </tr>\n",
       "    <tr>\n",
       "      <th>58</th>\n",
       "      <td>Zapsys</td>\n",
       "      <td>10030110</td>\n",
       "      <td>Lazdijų r. sav.</td>\n",
       "      <td>1.0</td>\n",
       "      <td>1.318</td>\n",
       "      <td>31</td>\n",
       "      <td>1.00</td>\n",
       "      <td>1.00</td>\n",
       "      <td>0.0</td>\n",
       "      <td>4.0</td>\n",
       "      <td>0.013</td>\n",
       "    </tr>\n",
       "    <tr>\n",
       "      <th>61</th>\n",
       "      <td>Šlavantas</td>\n",
       "      <td>10030010</td>\n",
       "      <td>Lazdijų r. sav.</td>\n",
       "      <td>1.0</td>\n",
       "      <td>4.042</td>\n",
       "      <td>39</td>\n",
       "      <td>1.00</td>\n",
       "      <td>1.00</td>\n",
       "      <td>0.0</td>\n",
       "      <td>0.0</td>\n",
       "      <td>0.040</td>\n",
       "    </tr>\n",
       "  </tbody>\n",
       "</table>\n",
       "</div>"
      ],
      "text/plain": [
       "   Vandens telkinio pavadinimas     Kodas        Savivaldybė  \\\n",
       "3             Antakmenių ežeras  10030651      Trakų r. sav.   \n",
       "11                       Aviris  10030319   Druskininkų sav.   \n",
       "24             Juodieji Lakajai  12130250     Molėtų r. sav.   \n",
       "39                     Pravalas  12141212     Molėtų r. sav.   \n",
       "42                    Snaigynas  10030250    Lazdijų r. sav.   \n",
       "45                     Sągardas  50030006  Ignalinos r. sav.   \n",
       "48                       Utenas  12130110     Utenos r. sav.   \n",
       "58                       Zapsys  10030110    Lazdijų r. sav.   \n",
       "61                    Šlavantas  10030010    Lazdijų r. sav.   \n",
       "\n",
       "    Žuvų būklės indeksas  Biomasė(kg)  Gausumas(vnt)  \\\n",
       "3                    1.0        5.435            118   \n",
       "11                   1.0        3.953             69   \n",
       "24                   1.0        3.790             40   \n",
       "39                   1.0        2.959             27   \n",
       "42                   1.0        4.683             59   \n",
       "45                   1.0        1.421             30   \n",
       "48                   1.0        4.451             67   \n",
       "58                   1.0        1.318             31   \n",
       "61                   1.0        4.042             39   \n",
       "\n",
       "    Plėšrių žuvų gausumas(%)  Plėšrių žuvų biomasė(%)  Ešerys (Gausumas)  \\\n",
       "3                       1.00                     1.00                0.0   \n",
       "11                      1.00                     1.00                0.0   \n",
       "24                      1.00                     1.00                0.0   \n",
       "39                      1.00                     1.00                0.0   \n",
       "42                      1.00                     1.00                0.0   \n",
       "45                      1.00                     1.00                2.6   \n",
       "48                      1.38                    10.66                0.0   \n",
       "58                      1.00                     1.00                0.0   \n",
       "61                      1.00                     1.00                0.0   \n",
       "\n",
       "    Karšis (Gausumas)  Plėšrios(kg)  \n",
       "3                 0.0         0.054  \n",
       "11                0.0         0.040  \n",
       "24                0.0         0.038  \n",
       "39                0.0         0.030  \n",
       "42                0.0         0.047  \n",
       "45                0.0         0.014  \n",
       "48                0.0         0.474  \n",
       "58                4.0         0.013  \n",
       "61                0.0         0.040  "
      ]
     },
     "execution_count": 91,
     "metadata": {},
     "output_type": "execute_result"
    }
   ],
   "source": [
    "#Surandame kur geriausia žuvų būklė, maksimali būklės reikšmė- 1.\n",
    "df[df['Žuvų būklės indeksas'] == 1.00]"
   ]
  },
  {
   "cell_type": "code",
   "execution_count": 92,
   "id": "3f22498b-dc41-46c8-b6cd-173f9f0ff338",
   "metadata": {
    "tags": []
   },
   "outputs": [
    {
     "data": {
      "text/html": [
       "<div>\n",
       "<style scoped>\n",
       "    .dataframe tbody tr th:only-of-type {\n",
       "        vertical-align: middle;\n",
       "    }\n",
       "\n",
       "    .dataframe tbody tr th {\n",
       "        vertical-align: top;\n",
       "    }\n",
       "\n",
       "    .dataframe thead th {\n",
       "        text-align: right;\n",
       "    }\n",
       "</style>\n",
       "<table border=\"1\" class=\"dataframe\">\n",
       "  <thead>\n",
       "    <tr style=\"text-align: right;\">\n",
       "      <th></th>\n",
       "      <th>Vandens telkinio pavadinimas</th>\n",
       "      <th>Kodas</th>\n",
       "      <th>Savivaldybė</th>\n",
       "      <th>Žuvų būklės indeksas</th>\n",
       "      <th>Biomasė(kg)</th>\n",
       "      <th>Gausumas(vnt)</th>\n",
       "      <th>Plėšrių žuvų gausumas(%)</th>\n",
       "      <th>Plėšrių žuvų biomasė(%)</th>\n",
       "      <th>Ešerys (Gausumas)</th>\n",
       "      <th>Karšis (Gausumas)</th>\n",
       "      <th>Plėšrios(kg)</th>\n",
       "    </tr>\n",
       "  </thead>\n",
       "  <tbody>\n",
       "    <tr>\n",
       "      <th>12</th>\n",
       "      <td>Baltosios Ančios tvenkinys</td>\n",
       "      <td>10050030</td>\n",
       "      <td>Lazdijų r. sav.</td>\n",
       "      <td>0.30</td>\n",
       "      <td>4.067</td>\n",
       "      <td>118</td>\n",
       "      <td>0.29</td>\n",
       "      <td>3.62</td>\n",
       "      <td>0.0</td>\n",
       "      <td>0.0</td>\n",
       "      <td>0.147</td>\n",
       "    </tr>\n",
       "    <tr>\n",
       "      <th>18</th>\n",
       "      <td>Galadusys</td>\n",
       "      <td>10030111</td>\n",
       "      <td>Lazdijų r. sav.</td>\n",
       "      <td>0.37</td>\n",
       "      <td>4.083</td>\n",
       "      <td>81</td>\n",
       "      <td>0.89</td>\n",
       "      <td>7.95</td>\n",
       "      <td>8.3</td>\n",
       "      <td>0.0</td>\n",
       "      <td>0.325</td>\n",
       "    </tr>\n",
       "    <tr>\n",
       "      <th>42</th>\n",
       "      <td>Snaigynas</td>\n",
       "      <td>10030250</td>\n",
       "      <td>Lazdijų r. sav.</td>\n",
       "      <td>1.00</td>\n",
       "      <td>4.683</td>\n",
       "      <td>59</td>\n",
       "      <td>1.00</td>\n",
       "      <td>1.00</td>\n",
       "      <td>0.0</td>\n",
       "      <td>0.0</td>\n",
       "      <td>0.047</td>\n",
       "    </tr>\n",
       "    <tr>\n",
       "      <th>56</th>\n",
       "      <td>Vilkinys</td>\n",
       "      <td>10030253</td>\n",
       "      <td>Lazdijų r. sav.</td>\n",
       "      <td>0.50</td>\n",
       "      <td>2.908</td>\n",
       "      <td>54</td>\n",
       "      <td>1.30</td>\n",
       "      <td>0.00</td>\n",
       "      <td>0.0</td>\n",
       "      <td>2.6</td>\n",
       "      <td>0.000</td>\n",
       "    </tr>\n",
       "    <tr>\n",
       "      <th>58</th>\n",
       "      <td>Zapsys</td>\n",
       "      <td>10030110</td>\n",
       "      <td>Lazdijų r. sav.</td>\n",
       "      <td>1.00</td>\n",
       "      <td>1.318</td>\n",
       "      <td>31</td>\n",
       "      <td>1.00</td>\n",
       "      <td>1.00</td>\n",
       "      <td>0.0</td>\n",
       "      <td>4.0</td>\n",
       "      <td>0.013</td>\n",
       "    </tr>\n",
       "    <tr>\n",
       "      <th>61</th>\n",
       "      <td>Šlavantas</td>\n",
       "      <td>10030010</td>\n",
       "      <td>Lazdijų r. sav.</td>\n",
       "      <td>1.00</td>\n",
       "      <td>4.042</td>\n",
       "      <td>39</td>\n",
       "      <td>1.00</td>\n",
       "      <td>1.00</td>\n",
       "      <td>0.0</td>\n",
       "      <td>0.0</td>\n",
       "      <td>0.040</td>\n",
       "    </tr>\n",
       "  </tbody>\n",
       "</table>\n",
       "</div>"
      ],
      "text/plain": [
       "   Vandens telkinio pavadinimas     Kodas      Savivaldybė  \\\n",
       "12   Baltosios Ančios tvenkinys  10050030  Lazdijų r. sav.   \n",
       "18                    Galadusys  10030111  Lazdijų r. sav.   \n",
       "42                    Snaigynas  10030250  Lazdijų r. sav.   \n",
       "56                     Vilkinys  10030253  Lazdijų r. sav.   \n",
       "58                       Zapsys  10030110  Lazdijų r. sav.   \n",
       "61                    Šlavantas  10030010  Lazdijų r. sav.   \n",
       "\n",
       "    Žuvų būklės indeksas  Biomasė(kg)  Gausumas(vnt)  \\\n",
       "12                  0.30        4.067            118   \n",
       "18                  0.37        4.083             81   \n",
       "42                  1.00        4.683             59   \n",
       "56                  0.50        2.908             54   \n",
       "58                  1.00        1.318             31   \n",
       "61                  1.00        4.042             39   \n",
       "\n",
       "    Plėšrių žuvų gausumas(%)  Plėšrių žuvų biomasė(%)  Ešerys (Gausumas)  \\\n",
       "12                      0.29                     3.62                0.0   \n",
       "18                      0.89                     7.95                8.3   \n",
       "42                      1.00                     1.00                0.0   \n",
       "56                      1.30                     0.00                0.0   \n",
       "58                      1.00                     1.00                0.0   \n",
       "61                      1.00                     1.00                0.0   \n",
       "\n",
       "    Karšis (Gausumas)  Plėšrios(kg)  \n",
       "12                0.0         0.147  \n",
       "18                0.0         0.325  \n",
       "42                0.0         0.047  \n",
       "56                2.6         0.000  \n",
       "58                4.0         0.013  \n",
       "61                0.0         0.040  "
      ]
     },
     "execution_count": 92,
     "metadata": {},
     "output_type": "execute_result"
    }
   ],
   "source": [
    "df[df['Savivaldybė'] == 'Lazdijų r. sav.']"
   ]
  },
  {
   "cell_type": "code",
   "execution_count": 94,
   "id": "f038e0ae-5518-402f-aab5-672a8218ddf8",
   "metadata": {
    "tags": []
   },
   "outputs": [],
   "source": [
    "# padarom dataframe eilutes(pipeline) interaktyvia\n",
    "idf = df.interactive()"
   ]
  },
  {
   "cell_type": "code",
   "execution_count": 95,
   "id": "dbaf115f-8e87-4f0b-90f6-87b01510f5a1",
   "metadata": {
    "tags": []
   },
   "outputs": [
    {
     "data": {},
     "metadata": {},
     "output_type": "display_data"
    },
    {
     "data": {
      "application/vnd.holoviews_exec.v0+json": "",
      "text/html": [
       "<div id='43312'>\n",
       "  <div class=\"bk-root\" id=\"9671b9f5-b0a7-4bac-ab80-d6e4dd0590bb\" data-root-id=\"43312\"></div>\n",
       "</div>\n",
       "<script type=\"application/javascript\">(function(root) {\n",
       "  function embed_document(root) {\n",
       "    var docs_json = {\"b8c81424-f286-4d5a-b3e8-ea3647ae4aab\":{\"defs\":[{\"extends\":null,\"module\":null,\"name\":\"ReactiveHTML1\",\"overrides\":[],\"properties\":[]},{\"extends\":null,\"module\":null,\"name\":\"FlexBox1\",\"overrides\":[],\"properties\":[{\"default\":\"flex-start\",\"kind\":null,\"name\":\"align_content\"},{\"default\":\"flex-start\",\"kind\":null,\"name\":\"align_items\"},{\"default\":\"row\",\"kind\":null,\"name\":\"flex_direction\"},{\"default\":\"wrap\",\"kind\":null,\"name\":\"flex_wrap\"},{\"default\":\"flex-start\",\"kind\":null,\"name\":\"justify_content\"}]},{\"extends\":null,\"module\":null,\"name\":\"GridStack1\",\"overrides\":[],\"properties\":[{\"default\":\"warn\",\"kind\":null,\"name\":\"mode\"},{\"default\":null,\"kind\":null,\"name\":\"ncols\"},{\"default\":null,\"kind\":null,\"name\":\"nrows\"},{\"default\":true,\"kind\":null,\"name\":\"allow_resize\"},{\"default\":true,\"kind\":null,\"name\":\"allow_drag\"},{\"default\":[],\"kind\":null,\"name\":\"state\"}]},{\"extends\":null,\"module\":null,\"name\":\"click1\",\"overrides\":[],\"properties\":[{\"default\":\"\",\"kind\":null,\"name\":\"terminal_output\"},{\"default\":\"\",\"kind\":null,\"name\":\"debug_name\"},{\"default\":0,\"kind\":null,\"name\":\"clears\"}]},{\"extends\":null,\"module\":null,\"name\":\"NotificationAreaBase1\",\"overrides\":[],\"properties\":[{\"default\":\"bottom-right\",\"kind\":null,\"name\":\"position\"},{\"default\":0,\"kind\":null,\"name\":\"_clear\"}]},{\"extends\":null,\"module\":null,\"name\":\"NotificationArea1\",\"overrides\":[],\"properties\":[{\"default\":[],\"kind\":null,\"name\":\"notifications\"},{\"default\":\"bottom-right\",\"kind\":null,\"name\":\"position\"},{\"default\":0,\"kind\":null,\"name\":\"_clear\"},{\"default\":[{\"background\":\"#ffc107\",\"icon\":{\"className\":\"fas fa-exclamation-triangle\",\"color\":\"white\",\"tagName\":\"i\"},\"type\":\"warning\"},{\"background\":\"#007bff\",\"icon\":{\"className\":\"fas fa-info-circle\",\"color\":\"white\",\"tagName\":\"i\"},\"type\":\"info\"}],\"kind\":null,\"name\":\"types\"}]},{\"extends\":null,\"module\":null,\"name\":\"Notification\",\"overrides\":[],\"properties\":[{\"default\":null,\"kind\":null,\"name\":\"background\"},{\"default\":3000,\"kind\":null,\"name\":\"duration\"},{\"default\":null,\"kind\":null,\"name\":\"icon\"},{\"default\":\"\",\"kind\":null,\"name\":\"message\"},{\"default\":null,\"kind\":null,\"name\":\"notification_type\"},{\"default\":false,\"kind\":null,\"name\":\"_destroyed\"}]},{\"extends\":null,\"module\":null,\"name\":\"TemplateActions1\",\"overrides\":[],\"properties\":[{\"default\":0,\"kind\":null,\"name\":\"open_modal\"},{\"default\":0,\"kind\":null,\"name\":\"close_modal\"}]},{\"extends\":null,\"module\":null,\"name\":\"MaterialTemplateActions1\",\"overrides\":[],\"properties\":[{\"default\":0,\"kind\":null,\"name\":\"open_modal\"},{\"default\":0,\"kind\":null,\"name\":\"close_modal\"}]}],\"roots\":{\"references\":[{\"attributes\":{\"client_comm_id\":\"49ae9f00cc3148f192569c0830257e4b\",\"comm_id\":\"a3c09b41a98a4b08b387d11d52051a82\",\"plot_id\":\"43312\"},\"id\":\"43313\",\"type\":\"panel.models.comm_manager.CommManager\"},{\"attributes\":{\"end\":11,\"margin\":[5,10,5,10],\"start\":0.0,\"step\":0.1,\"title\":\"\\u017duvies svoris kg\",\"value\":0.1},\"id\":\"43312\",\"type\":\"Slider\"}],\"root_ids\":[\"43312\",\"43313\"]},\"title\":\"Bokeh Application\",\"version\":\"2.4.3\"}};\n",
       "    var render_items = [{\"docid\":\"b8c81424-f286-4d5a-b3e8-ea3647ae4aab\",\"root_ids\":[\"43312\"],\"roots\":{\"43312\":\"9671b9f5-b0a7-4bac-ab80-d6e4dd0590bb\"}}];\n",
       "    root.Bokeh.embed.embed_items_notebook(docs_json, render_items);\n",
       "    for (const render_item of render_items) {\n",
       "      for (const root_id of render_item.root_ids) {\n",
       "\tconst id_el = document.getElementById(root_id)\n",
       "\tif (id_el.children.length && (id_el.children[0].className === 'bk-root')) {\n",
       "\t  const root_el = id_el.children[0]\n",
       "\t  root_el.id = root_el.id + '-rendered'\n",
       "\t}\n",
       "      }\n",
       "    }\n",
       "  }\n",
       "  if (root.Bokeh !== undefined && root.Bokeh.Panel !== undefined && ( root['Tabulator'] !== undefined) && ( root['Tabulator'] !== undefined)) {\n",
       "    embed_document(root);\n",
       "  } else {\n",
       "    var attempts = 0;\n",
       "    var timer = setInterval(function(root) {\n",
       "      if (root.Bokeh !== undefined && root.Bokeh.Panel !== undefined && (root['Tabulator'] !== undefined) && (root['Tabulator'] !== undefined)) {\n",
       "        clearInterval(timer);\n",
       "        embed_document(root);\n",
       "      } else if (document.readyState == \"complete\") {\n",
       "        attempts++;\n",
       "        if (attempts > 200) {\n",
       "          clearInterval(timer);\n",
       "          console.log(\"Bokeh: ERROR: Unable to run BokehJS code because BokehJS library is missing\");\n",
       "        }\n",
       "      }\n",
       "    }, 25, root)\n",
       "  }\n",
       "})(window);</script>"
      ],
      "text/plain": [
       "FloatSlider(end=11, name='Žuvies svoris kg', value=0.1)"
      ]
     },
     "execution_count": 95,
     "metadata": {
      "application/vnd.holoviews_exec.v0+json": {
       "id": "43312"
      }
     },
     "output_type": "execute_result"
    }
   ],
   "source": [
    "dydis_kg = pn.widgets.FloatSlider(name='Žuvies svoris kg', start=0.0, end=11, step=0.1, value=0.1)\n",
    "dydis_kg\n"
   ]
  },
  {
   "cell_type": "code",
   "execution_count": 96,
   "id": "e105cebc-1034-4965-815b-6f99e0c32f0d",
   "metadata": {
    "tags": []
   },
   "outputs": [
    {
     "data": {},
     "metadata": {},
     "output_type": "display_data"
    },
    {
     "data": {
      "application/vnd.holoviews_exec.v0+json": "",
      "text/html": [
       "<div id='43314'>\n",
       "  <div class=\"bk-root\" id=\"e522a285-1980-4cf2-8ccb-24b0a4382b32\" data-root-id=\"43314\"></div>\n",
       "</div>\n",
       "<script type=\"application/javascript\">(function(root) {\n",
       "  function embed_document(root) {\n",
       "    var docs_json = {\"c2876605-b3a5-407e-8632-23804bf39f58\":{\"defs\":[{\"extends\":null,\"module\":null,\"name\":\"ReactiveHTML1\",\"overrides\":[],\"properties\":[]},{\"extends\":null,\"module\":null,\"name\":\"FlexBox1\",\"overrides\":[],\"properties\":[{\"default\":\"flex-start\",\"kind\":null,\"name\":\"align_content\"},{\"default\":\"flex-start\",\"kind\":null,\"name\":\"align_items\"},{\"default\":\"row\",\"kind\":null,\"name\":\"flex_direction\"},{\"default\":\"wrap\",\"kind\":null,\"name\":\"flex_wrap\"},{\"default\":\"flex-start\",\"kind\":null,\"name\":\"justify_content\"}]},{\"extends\":null,\"module\":null,\"name\":\"GridStack1\",\"overrides\":[],\"properties\":[{\"default\":\"warn\",\"kind\":null,\"name\":\"mode\"},{\"default\":null,\"kind\":null,\"name\":\"ncols\"},{\"default\":null,\"kind\":null,\"name\":\"nrows\"},{\"default\":true,\"kind\":null,\"name\":\"allow_resize\"},{\"default\":true,\"kind\":null,\"name\":\"allow_drag\"},{\"default\":[],\"kind\":null,\"name\":\"state\"}]},{\"extends\":null,\"module\":null,\"name\":\"click1\",\"overrides\":[],\"properties\":[{\"default\":\"\",\"kind\":null,\"name\":\"terminal_output\"},{\"default\":\"\",\"kind\":null,\"name\":\"debug_name\"},{\"default\":0,\"kind\":null,\"name\":\"clears\"}]},{\"extends\":null,\"module\":null,\"name\":\"NotificationAreaBase1\",\"overrides\":[],\"properties\":[{\"default\":\"bottom-right\",\"kind\":null,\"name\":\"position\"},{\"default\":0,\"kind\":null,\"name\":\"_clear\"}]},{\"extends\":null,\"module\":null,\"name\":\"NotificationArea1\",\"overrides\":[],\"properties\":[{\"default\":[],\"kind\":null,\"name\":\"notifications\"},{\"default\":\"bottom-right\",\"kind\":null,\"name\":\"position\"},{\"default\":0,\"kind\":null,\"name\":\"_clear\"},{\"default\":[{\"background\":\"#ffc107\",\"icon\":{\"className\":\"fas fa-exclamation-triangle\",\"color\":\"white\",\"tagName\":\"i\"},\"type\":\"warning\"},{\"background\":\"#007bff\",\"icon\":{\"className\":\"fas fa-info-circle\",\"color\":\"white\",\"tagName\":\"i\"},\"type\":\"info\"}],\"kind\":null,\"name\":\"types\"}]},{\"extends\":null,\"module\":null,\"name\":\"Notification\",\"overrides\":[],\"properties\":[{\"default\":null,\"kind\":null,\"name\":\"background\"},{\"default\":3000,\"kind\":null,\"name\":\"duration\"},{\"default\":null,\"kind\":null,\"name\":\"icon\"},{\"default\":\"\",\"kind\":null,\"name\":\"message\"},{\"default\":null,\"kind\":null,\"name\":\"notification_type\"},{\"default\":false,\"kind\":null,\"name\":\"_destroyed\"}]},{\"extends\":null,\"module\":null,\"name\":\"TemplateActions1\",\"overrides\":[],\"properties\":[{\"default\":0,\"kind\":null,\"name\":\"open_modal\"},{\"default\":0,\"kind\":null,\"name\":\"close_modal\"}]},{\"extends\":null,\"module\":null,\"name\":\"MaterialTemplateActions1\",\"overrides\":[],\"properties\":[{\"default\":0,\"kind\":null,\"name\":\"open_modal\"},{\"default\":0,\"kind\":null,\"name\":\"close_modal\"}]}],\"roots\":{\"references\":[{\"attributes\":{\"client_comm_id\":\"49bfe70ad819451d9efc124f13235ad4\",\"comm_id\":\"6ae045d8d05c4e69a00703fdd042fc59\",\"plot_id\":\"43314\"},\"id\":\"43315\",\"type\":\"panel.models.comm_manager.CommManager\"},{\"attributes\":{\"active\":0,\"button_type\":\"light\",\"labels\":[\"Biomas\\u0117(kg)\",\"Pl\\u0117\\u0161rios(kg)\"],\"margin\":[5,10,5,10]},\"id\":\"43314\",\"type\":\"RadioButtonGroup\"}],\"root_ids\":[\"43314\",\"43315\"]},\"title\":\"Bokeh Application\",\"version\":\"2.4.3\"}};\n",
       "    var render_items = [{\"docid\":\"c2876605-b3a5-407e-8632-23804bf39f58\",\"root_ids\":[\"43314\"],\"roots\":{\"43314\":\"e522a285-1980-4cf2-8ccb-24b0a4382b32\"}}];\n",
       "    root.Bokeh.embed.embed_items_notebook(docs_json, render_items);\n",
       "    for (const render_item of render_items) {\n",
       "      for (const root_id of render_item.root_ids) {\n",
       "\tconst id_el = document.getElementById(root_id)\n",
       "\tif (id_el.children.length && (id_el.children[0].className === 'bk-root')) {\n",
       "\t  const root_el = id_el.children[0]\n",
       "\t  root_el.id = root_el.id + '-rendered'\n",
       "\t}\n",
       "      }\n",
       "    }\n",
       "  }\n",
       "  if (root.Bokeh !== undefined && root.Bokeh.Panel !== undefined && ( root['Tabulator'] !== undefined) && ( root['Tabulator'] !== undefined)) {\n",
       "    embed_document(root);\n",
       "  } else {\n",
       "    var attempts = 0;\n",
       "    var timer = setInterval(function(root) {\n",
       "      if (root.Bokeh !== undefined && root.Bokeh.Panel !== undefined && (root['Tabulator'] !== undefined) && (root['Tabulator'] !== undefined)) {\n",
       "        clearInterval(timer);\n",
       "        embed_document(root);\n",
       "      } else if (document.readyState == \"complete\") {\n",
       "        attempts++;\n",
       "        if (attempts > 200) {\n",
       "          clearInterval(timer);\n",
       "          console.log(\"Bokeh: ERROR: Unable to run BokehJS code because BokehJS library is missing\");\n",
       "        }\n",
       "      }\n",
       "    }, 25, root)\n",
       "  }\n",
       "})(window);</script>"
      ],
      "text/plain": [
       "RadioButtonGroup(button_type='light', name='Y ašis', options=['Biomasė(kg)', ...], value='Biomasė(kg)')"
      ]
     },
     "execution_count": 96,
     "metadata": {
      "application/vnd.holoviews_exec.v0+json": {
       "id": "43314"
      }
     },
     "output_type": "execute_result"
    }
   ],
   "source": [
    "# radio tipo mygtukai.\n",
    "y_asis = pn.widgets.RadioButtonGroup(name='Y ašis',\n",
    "                                    options=['Biomasė(kg)','Plėšrios(kg)'],\n",
    "                                    button_type='light')\n",
    "y_asis"
   ]
  },
  {
   "cell_type": "code",
   "execution_count": 97,
   "id": "c94e6ad2-b1a8-4577-893f-41a36159e69a",
   "metadata": {
    "tags": []
   },
   "outputs": [
    {
     "data": {
      "text/plain": [
       "array(['Utenos r. sav.', 'Ignalinos r. sav.', 'Molėtų r. sav.',\n",
       "       'Trakų r. sav.', 'Marijampolės sav.', 'Zarasų r. sav.',\n",
       "       'Alytaus r. sav.', 'Druskininkų sav.', 'Lazdijų r. sav.',\n",
       "       'Švenčionių r. sav.', 'Rokiškio r. sav.', 'Telšių r. sav.',\n",
       "       'Pakruojo r. sav.', 'Šalčininkų r. sav.', 'Šiaulių r. sav.',\n",
       "       'Ukmergės r. sav.', 'Kėdainių r. sav.', 'Kretingos r. sav.',\n",
       "       'Kaišiadorių r. sav.', 'Šilalės r. sav.', 'Akmenės r. sav.',\n",
       "       'Elektrėnų sav.', 'Anykščių r. sav.'], dtype=object)"
      ]
     },
     "execution_count": 97,
     "metadata": {},
     "output_type": "execute_result"
    }
   ],
   "source": [
    "#sukeist vietom reiksmes.\n",
    "#noriu surasti unikalias reiksmes-savivaldybes,\n",
    "#todel tikrinsiu kiek unikaliu reiksmiu?\n",
    "df['Savivaldybė'].unique()"
   ]
  },
  {
   "cell_type": "code",
   "execution_count": 98,
   "id": "62f01f01-9112-48fc-ac10-4c476d630ec0",
   "metadata": {
    "tags": []
   },
   "outputs": [],
   "source": [
    "vietoves = ['Utenos r. sav.', 'Ignalinos r. sav.', 'Molėtų r. sav.',\n",
    "       'Trakų r. sav.', 'Marijampolės sav.', 'Zarasų r. sav.',\n",
    "       'Alytaus r. sav.', 'Druskininkų sav.', 'Lazdijų r. sav.',\n",
    "       'Švenčionių r. sav.', 'Rokiškio r. sav.', 'Telšių r. sav.',\n",
    "       'Pakruojo r. sav.', 'Šalčininkų r. sav.', 'Šiaulių r. sav.',\n",
    "       'Ukmergės r. sav.', 'Kėdainių r. sav.', 'Kretingos r. sav.',\n",
    "       'Kaišiadorių r. sav.', 'Šilalės r. sav.', 'Akmenės r. sav.']\n",
    "\n"
   ]
  },
  {
   "cell_type": "code",
   "execution_count": 99,
   "id": "b29affa7-cb50-4cd1-9375-04aacda2908c",
   "metadata": {
    "tags": []
   },
   "outputs": [],
   "source": [
    "#jungiam duomenis su widgets\n",
    "mano_pipeline = (\n",
    "    idf[\n",
    "         (idf.index >= dydis_kg) &\n",
    "        (idf['Savivaldybė'].isin(vietoves))       \n",
    "    ]\n",
    "    .groupby(['Savivaldybė', 'Vandens telkinio pavadinimas'])[y_asis].mean() #cia issiaiskinti kokius pasirinkimus turi groupby????\n",
    "    .to_frame()\n",
    "    .reset_index()\n",
    "    .sort_values(by='Savivaldybė')  \n",
    "    .reset_index(drop=True)\n",
    ")"
   ]
  },
  {
   "cell_type": "code",
   "execution_count": 100,
   "id": "cd2256a8-f99e-4b54-a5fe-f802ef924488",
   "metadata": {
    "tags": []
   },
   "outputs": [
    {
     "data": {},
     "metadata": {},
     "output_type": "display_data"
    },
    {
     "data": {
      "application/vnd.holoviews_exec.v0+json": "",
      "text/html": [
       "<div id='43316'>\n",
       "  <div class=\"bk-root\" id=\"075ee57f-0bae-4f31-8ba8-c3a2aed95222\" data-root-id=\"43316\"></div>\n",
       "</div>\n",
       "<script type=\"application/javascript\">(function(root) {\n",
       "  function embed_document(root) {\n",
       "    var docs_json = {\"016b6af1-7ec9-4a97-8ae3-e7592a806a12\":{\"defs\":[{\"extends\":null,\"module\":null,\"name\":\"ReactiveHTML1\",\"overrides\":[],\"properties\":[]},{\"extends\":null,\"module\":null,\"name\":\"FlexBox1\",\"overrides\":[],\"properties\":[{\"default\":\"flex-start\",\"kind\":null,\"name\":\"align_content\"},{\"default\":\"flex-start\",\"kind\":null,\"name\":\"align_items\"},{\"default\":\"row\",\"kind\":null,\"name\":\"flex_direction\"},{\"default\":\"wrap\",\"kind\":null,\"name\":\"flex_wrap\"},{\"default\":\"flex-start\",\"kind\":null,\"name\":\"justify_content\"}]},{\"extends\":null,\"module\":null,\"name\":\"GridStack1\",\"overrides\":[],\"properties\":[{\"default\":\"warn\",\"kind\":null,\"name\":\"mode\"},{\"default\":null,\"kind\":null,\"name\":\"ncols\"},{\"default\":null,\"kind\":null,\"name\":\"nrows\"},{\"default\":true,\"kind\":null,\"name\":\"allow_resize\"},{\"default\":true,\"kind\":null,\"name\":\"allow_drag\"},{\"default\":[],\"kind\":null,\"name\":\"state\"}]},{\"extends\":null,\"module\":null,\"name\":\"click1\",\"overrides\":[],\"properties\":[{\"default\":\"\",\"kind\":null,\"name\":\"terminal_output\"},{\"default\":\"\",\"kind\":null,\"name\":\"debug_name\"},{\"default\":0,\"kind\":null,\"name\":\"clears\"}]},{\"extends\":null,\"module\":null,\"name\":\"NotificationAreaBase1\",\"overrides\":[],\"properties\":[{\"default\":\"bottom-right\",\"kind\":null,\"name\":\"position\"},{\"default\":0,\"kind\":null,\"name\":\"_clear\"}]},{\"extends\":null,\"module\":null,\"name\":\"NotificationArea1\",\"overrides\":[],\"properties\":[{\"default\":[],\"kind\":null,\"name\":\"notifications\"},{\"default\":\"bottom-right\",\"kind\":null,\"name\":\"position\"},{\"default\":0,\"kind\":null,\"name\":\"_clear\"},{\"default\":[{\"background\":\"#ffc107\",\"icon\":{\"className\":\"fas fa-exclamation-triangle\",\"color\":\"white\",\"tagName\":\"i\"},\"type\":\"warning\"},{\"background\":\"#007bff\",\"icon\":{\"className\":\"fas fa-info-circle\",\"color\":\"white\",\"tagName\":\"i\"},\"type\":\"info\"}],\"kind\":null,\"name\":\"types\"}]},{\"extends\":null,\"module\":null,\"name\":\"Notification\",\"overrides\":[],\"properties\":[{\"default\":null,\"kind\":null,\"name\":\"background\"},{\"default\":3000,\"kind\":null,\"name\":\"duration\"},{\"default\":null,\"kind\":null,\"name\":\"icon\"},{\"default\":\"\",\"kind\":null,\"name\":\"message\"},{\"default\":null,\"kind\":null,\"name\":\"notification_type\"},{\"default\":false,\"kind\":null,\"name\":\"_destroyed\"}]},{\"extends\":null,\"module\":null,\"name\":\"TemplateActions1\",\"overrides\":[],\"properties\":[{\"default\":0,\"kind\":null,\"name\":\"open_modal\"},{\"default\":0,\"kind\":null,\"name\":\"close_modal\"}]},{\"extends\":null,\"module\":null,\"name\":\"MaterialTemplateActions1\",\"overrides\":[],\"properties\":[{\"default\":0,\"kind\":null,\"name\":\"open_modal\"},{\"default\":0,\"kind\":null,\"name\":\"close_modal\"}]}],\"roots\":{\"references\":[{\"attributes\":{\"children\":[{\"id\":\"43324\"}],\"margin\":[0,0,0,0],\"name\":\"Row19567\"},\"id\":\"43323\",\"type\":\"Row\"},{\"attributes\":{\"children\":[{\"id\":\"43318\"},{\"id\":\"43323\"}],\"margin\":[0,0,0,0],\"name\":\"Column19596\"},\"id\":\"43317\",\"type\":\"Column\"},{\"attributes\":{\"margin\":[5,5,5,5],\"name\":\"DataFrame19592\",\"text\":\"&lt;table class=&quot;dataframe panel-df&quot;&gt;\\n  &lt;thead&gt;\\n    &lt;tr style=&quot;text-align: right;&quot;&gt;\\n      &lt;th&gt;&lt;/th&gt;\\n      &lt;th&gt;Savivaldyb\\u0117&lt;/th&gt;\\n      &lt;th&gt;Vandens telkinio pavadinimas&lt;/th&gt;\\n      &lt;th&gt;Biomas\\u0117(kg)&lt;/th&gt;\\n    &lt;/tr&gt;\\n  &lt;/thead&gt;\\n  &lt;tbody&gt;\\n    &lt;tr&gt;\\n      &lt;th&gt;0&lt;/th&gt;\\n      &lt;td&gt;Akmen\\u0117s r. sav.&lt;/td&gt;\\n      &lt;td&gt;Sablauski\\u0173 tvenkinys&lt;/td&gt;\\n      &lt;td&gt;4.225&lt;/td&gt;\\n    &lt;/tr&gt;\\n    &lt;tr&gt;\\n      &lt;th&gt;1&lt;/th&gt;\\n      &lt;td&gt;Alytaus r. sav.&lt;/td&gt;\\n      &lt;td&gt;Atesys&lt;/td&gt;\\n      &lt;td&gt;2.826&lt;/td&gt;\\n    &lt;/tr&gt;\\n    &lt;tr&gt;\\n      &lt;th&gt;2&lt;/th&gt;\\n      &lt;td&gt;Alytaus r. sav.&lt;/td&gt;\\n      &lt;td&gt;Suvingis&lt;/td&gt;\\n      &lt;td&gt;4.492&lt;/td&gt;\\n    &lt;/tr&gt;\\n    &lt;tr&gt;\\n      &lt;th&gt;3&lt;/th&gt;\\n      &lt;td&gt;Druskinink\\u0173 sav.&lt;/td&gt;\\n      &lt;td&gt;Aviris&lt;/td&gt;\\n      &lt;td&gt;3.953&lt;/td&gt;\\n    &lt;/tr&gt;\\n    &lt;tr&gt;\\n      &lt;th&gt;4&lt;/th&gt;\\n      &lt;td&gt;Druskinink\\u0173 sav.&lt;/td&gt;\\n      &lt;td&gt;Vilkas&lt;/td&gt;\\n      &lt;td&gt;2.917&lt;/td&gt;\\n    &lt;/tr&gt;\\n    &lt;tr&gt;\\n      &lt;th&gt;5&lt;/th&gt;\\n      &lt;td&gt;Ignalinos r. sav.&lt;/td&gt;\\n      &lt;td&gt;Almajas&lt;/td&gt;\\n      &lt;td&gt;1.227&lt;/td&gt;\\n    &lt;/tr&gt;\\n    &lt;tr&gt;\\n      &lt;th&gt;6&lt;/th&gt;\\n      &lt;td&gt;Ignalinos r. sav.&lt;/td&gt;\\n      &lt;td&gt;Apvardai&lt;/td&gt;\\n      &lt;td&gt;4.450&lt;/td&gt;\\n    &lt;/tr&gt;\\n    &lt;tr&gt;\\n      &lt;th&gt;7&lt;/th&gt;\\n      &lt;td&gt;Ignalinos r. sav.&lt;/td&gt;\\n      &lt;td&gt;Asalnai&lt;/td&gt;\\n      &lt;td&gt;3.409&lt;/td&gt;\\n    &lt;/tr&gt;\\n    &lt;tr&gt;\\n      &lt;th&gt;8&lt;/th&gt;\\n      &lt;td&gt;Ignalinos r. sav.&lt;/td&gt;\\n      &lt;td&gt;Gavys&lt;/td&gt;\\n      &lt;td&gt;3.470&lt;/td&gt;\\n    &lt;/tr&gt;\\n    &lt;tr&gt;\\n      &lt;th&gt;9&lt;/th&gt;\\n      &lt;td&gt;Ignalinos r. sav.&lt;/td&gt;\\n      &lt;td&gt;L\\u016b\\u0161iai&lt;/td&gt;\\n      &lt;td&gt;2.384&lt;/td&gt;\\n    &lt;/tr&gt;\\n    &lt;tr&gt;\\n      &lt;th&gt;10&lt;/th&gt;\\n      &lt;td&gt;Ignalinos r. sav.&lt;/td&gt;\\n      &lt;td&gt;Padysnio HE tvenkinys&lt;/td&gt;\\n      &lt;td&gt;4.419&lt;/td&gt;\\n    &lt;/tr&gt;\\n    &lt;tr&gt;\\n      &lt;th&gt;11&lt;/th&gt;\\n      &lt;td&gt;Ignalinos r. sav.&lt;/td&gt;\\n      &lt;td&gt;Pakasas&lt;/td&gt;\\n      &lt;td&gt;2.465&lt;/td&gt;\\n    &lt;/tr&gt;\\n    &lt;tr&gt;\\n      &lt;th&gt;12&lt;/th&gt;\\n      &lt;td&gt;Ignalinos r. sav.&lt;/td&gt;\\n      &lt;td&gt;Pr\\u016btas&lt;/td&gt;\\n      &lt;td&gt;2.022&lt;/td&gt;\\n    &lt;/tr&gt;\\n    &lt;tr&gt;\\n      &lt;th&gt;13&lt;/th&gt;\\n      &lt;td&gt;Ignalinos r. sav.&lt;/td&gt;\\n      &lt;td&gt;S\\u0105gardas&lt;/td&gt;\\n      &lt;td&gt;1.421&lt;/td&gt;\\n    &lt;/tr&gt;\\n    &lt;tr&gt;\\n      &lt;th&gt;14&lt;/th&gt;\\n      &lt;td&gt;Kai\\u0161iadori\\u0173 r. sav.&lt;/td&gt;\\n      &lt;td&gt;Luokesai&lt;/td&gt;\\n      &lt;td&gt;1.517&lt;/td&gt;\\n    &lt;/tr&gt;\\n    &lt;tr&gt;\\n      &lt;th&gt;15&lt;/th&gt;\\n      &lt;td&gt;Kretingos r. sav.&lt;/td&gt;\\n      &lt;td&gt;Lazdinink\\u0173 tvenkinys&lt;/td&gt;\\n      &lt;td&gt;6.525&lt;/td&gt;\\n    &lt;/tr&gt;\\n    &lt;tr&gt;\\n      &lt;th&gt;16&lt;/th&gt;\\n      &lt;td&gt;K\\u0117daini\\u0173 r. sav.&lt;/td&gt;\\n      &lt;td&gt;Lab\\u016bnavos tvenkinys&lt;/td&gt;\\n      &lt;td&gt;9.563&lt;/td&gt;\\n    &lt;/tr&gt;\\n    &lt;tr&gt;\\n      &lt;th&gt;17&lt;/th&gt;\\n      &lt;td&gt;K\\u0117daini\\u0173 r. sav.&lt;/td&gt;\\n      &lt;td&gt;Pae\\u017eeri\\u0173 e\\u017eeras&lt;/td&gt;\\n      &lt;td&gt;5.404&lt;/td&gt;\\n    &lt;/tr&gt;\\n    &lt;tr&gt;\\n      &lt;th&gt;18&lt;/th&gt;\\n      &lt;td&gt;Lazdij\\u0173 r. sav.&lt;/td&gt;\\n      &lt;td&gt;Baltosios An\\u010dios tvenkinys&lt;/td&gt;\\n      &lt;td&gt;4.067&lt;/td&gt;\\n    &lt;/tr&gt;\\n    &lt;tr&gt;\\n      &lt;th&gt;19&lt;/th&gt;\\n      &lt;td&gt;Lazdij\\u0173 r. sav.&lt;/td&gt;\\n      &lt;td&gt;Galadusys&lt;/td&gt;\\n      &lt;td&gt;4.083&lt;/td&gt;\\n    &lt;/tr&gt;\\n    &lt;tr&gt;\\n      &lt;th&gt;20&lt;/th&gt;\\n      &lt;td&gt;Lazdij\\u0173 r. sav.&lt;/td&gt;\\n      &lt;td&gt;Snaigynas&lt;/td&gt;\\n      &lt;td&gt;4.683&lt;/td&gt;\\n    &lt;/tr&gt;\\n    &lt;tr&gt;\\n      &lt;th&gt;21&lt;/th&gt;\\n      &lt;td&gt;Lazdij\\u0173 r. sav.&lt;/td&gt;\\n      &lt;td&gt;Vilkinys&lt;/td&gt;\\n      &lt;td&gt;2.908&lt;/td&gt;\\n    &lt;/tr&gt;\\n    &lt;tr&gt;\\n      &lt;th&gt;22&lt;/th&gt;\\n      &lt;td&gt;Lazdij\\u0173 r. sav.&lt;/td&gt;\\n      &lt;td&gt;Zapsys&lt;/td&gt;\\n      &lt;td&gt;1.318&lt;/td&gt;\\n    &lt;/tr&gt;\\n    &lt;tr&gt;\\n      &lt;th&gt;23&lt;/th&gt;\\n      &lt;td&gt;Lazdij\\u0173 r. sav.&lt;/td&gt;\\n      &lt;td&gt;\\u0160lavantas&lt;/td&gt;\\n      &lt;td&gt;4.042&lt;/td&gt;\\n    &lt;/tr&gt;\\n    &lt;tr&gt;\\n      &lt;th&gt;24&lt;/th&gt;\\n      &lt;td&gt;Marijampol\\u0117s sav.&lt;/td&gt;\\n      &lt;td&gt;Antanavo HE tvenkinys&lt;/td&gt;\\n      &lt;td&gt;8.990&lt;/td&gt;\\n    &lt;/tr&gt;\\n    &lt;tr&gt;\\n      &lt;th&gt;25&lt;/th&gt;\\n      &lt;td&gt;Mol\\u0117t\\u0173 r. sav.&lt;/td&gt;\\n      &lt;td&gt;Virintai&lt;/td&gt;\\n      &lt;td&gt;3.519&lt;/td&gt;\\n    &lt;/tr&gt;\\n    &lt;tr&gt;\\n      &lt;th&gt;26&lt;/th&gt;\\n      &lt;td&gt;Mol\\u0117t\\u0173 r. sav.&lt;/td&gt;\\n      &lt;td&gt;Pravalas&lt;/td&gt;\\n      &lt;td&gt;2.959&lt;/td&gt;\\n    &lt;/tr&gt;\\n    &lt;tr&gt;\\n      &lt;th&gt;27&lt;/th&gt;\\n      &lt;td&gt;Mol\\u0117t\\u0173 r. sav.&lt;/td&gt;\\n      &lt;td&gt;Luk\\u0161tas&lt;/td&gt;\\n      &lt;td&gt;4.666&lt;/td&gt;\\n    &lt;/tr&gt;\\n    &lt;tr&gt;\\n      &lt;th&gt;28&lt;/th&gt;\\n      &lt;td&gt;Mol\\u0117t\\u0173 r. sav.&lt;/td&gt;\\n      &lt;td&gt;Kertuojai&lt;/td&gt;\\n      &lt;td&gt;2.521&lt;/td&gt;\\n    &lt;/tr&gt;\\n    &lt;tr&gt;\\n      &lt;th&gt;29&lt;/th&gt;\\n      &lt;td&gt;Mol\\u0117t\\u0173 r. sav.&lt;/td&gt;\\n      &lt;td&gt;Juodieji Lakajai&lt;/td&gt;\\n      &lt;td&gt;3.790&lt;/td&gt;\\n    &lt;/tr&gt;\\n    &lt;tr&gt;\\n      &lt;th&gt;30&lt;/th&gt;\\n      &lt;td&gt;Mol\\u0117t\\u0173 r. sav.&lt;/td&gt;\\n      &lt;td&gt;I\\u0161narai&lt;/td&gt;\\n      &lt;td&gt;3.607&lt;/td&gt;\\n    &lt;/tr&gt;\\n    &lt;tr&gt;\\n      &lt;th&gt;31&lt;/th&gt;\\n      &lt;td&gt;Mol\\u0117t\\u0173 r. sav.&lt;/td&gt;\\n      &lt;td&gt;Galuonai&lt;/td&gt;\\n      &lt;td&gt;3.843&lt;/td&gt;\\n    &lt;/tr&gt;\\n    &lt;tr&gt;\\n      &lt;th&gt;32&lt;/th&gt;\\n      &lt;td&gt;Mol\\u0117t\\u0173 r. sav.&lt;/td&gt;\\n      &lt;td&gt;Arinas&lt;/td&gt;\\n      &lt;td&gt;4.060&lt;/td&gt;\\n    &lt;/tr&gt;\\n    &lt;tr&gt;\\n      &lt;th&gt;33&lt;/th&gt;\\n      &lt;td&gt;Mol\\u0117t\\u0173 r. sav.&lt;/td&gt;\\n      &lt;td&gt;Alnis&lt;/td&gt;\\n      &lt;td&gt;3.798&lt;/td&gt;\\n    &lt;/tr&gt;\\n    &lt;tr&gt;\\n      &lt;th&gt;34&lt;/th&gt;\\n      &lt;td&gt;Pakruojo r. sav.&lt;/td&gt;\\n      &lt;td&gt;Dvariuk\\u0173 tvenkinys&lt;/td&gt;\\n      &lt;td&gt;4.983&lt;/td&gt;\\n    &lt;/tr&gt;\\n    &lt;tr&gt;\\n      &lt;th&gt;35&lt;/th&gt;\\n      &lt;td&gt;Roki\\u0161kio r. sav.&lt;/td&gt;\\n      &lt;td&gt;Bei\\u010di\\u0173 I tvenkinys&lt;/td&gt;\\n      &lt;td&gt;2.108&lt;/td&gt;\\n    &lt;/tr&gt;\\n    &lt;tr&gt;\\n      &lt;th&gt;36&lt;/th&gt;\\n      &lt;td&gt;Tel\\u0161i\\u0173 r. sav.&lt;/td&gt;\\n      &lt;td&gt;Bir\\u017eulis&lt;/td&gt;\\n      &lt;td&gt;2.116&lt;/td&gt;\\n    &lt;/tr&gt;\\n    &lt;tr&gt;\\n      &lt;th&gt;37&lt;/th&gt;\\n      &lt;td&gt;Tel\\u0161i\\u0173 r. sav.&lt;/td&gt;\\n      &lt;td&gt;Mastis&lt;/td&gt;\\n      &lt;td&gt;6.752&lt;/td&gt;\\n    &lt;/tr&gt;\\n    &lt;tr&gt;\\n      &lt;th&gt;38&lt;/th&gt;\\n      &lt;td&gt;Tel\\u0161i\\u0173 r. sav.&lt;/td&gt;\\n      &lt;td&gt;Tausalas&lt;/td&gt;\\n      &lt;td&gt;6.092&lt;/td&gt;\\n    &lt;/tr&gt;\\n    &lt;tr&gt;\\n      &lt;th&gt;39&lt;/th&gt;\\n      &lt;td&gt;Trak\\u0173 r. sav.&lt;/td&gt;\\n      &lt;td&gt;Antakmeni\\u0173 e\\u017eeras&lt;/td&gt;\\n      &lt;td&gt;5.435&lt;/td&gt;\\n    &lt;/tr&gt;\\n    &lt;tr&gt;\\n      &lt;th&gt;40&lt;/th&gt;\\n      &lt;td&gt;Trak\\u0173 r. sav.&lt;/td&gt;\\n      &lt;td&gt;Auk\\u0161tadvario HE tvenkinys&lt;/td&gt;\\n      &lt;td&gt;5.319&lt;/td&gt;\\n    &lt;/tr&gt;\\n    &lt;tr&gt;\\n      &lt;th&gt;41&lt;/th&gt;\\n      &lt;td&gt;Trak\\u0173 r. sav.&lt;/td&gt;\\n      &lt;td&gt;Ilgai&lt;/td&gt;\\n      &lt;td&gt;1.454&lt;/td&gt;\\n    &lt;/tr&gt;\\n    &lt;tr&gt;\\n      &lt;th&gt;42&lt;/th&gt;\\n      &lt;td&gt;Trak\\u0173 r. sav.&lt;/td&gt;\\n      &lt;td&gt;Spind\\u017eius&lt;/td&gt;\\n      &lt;td&gt;9.955&lt;/td&gt;\\n    &lt;/tr&gt;\\n    &lt;tr&gt;\\n      &lt;th&gt;43&lt;/th&gt;\\n      &lt;td&gt;Ukmerg\\u0117s r. sav.&lt;/td&gt;\\n      &lt;td&gt;L\\u0117nas&lt;/td&gt;\\n      &lt;td&gt;5.720&lt;/td&gt;\\n    &lt;/tr&gt;\\n    &lt;tr&gt;\\n      &lt;th&gt;44&lt;/th&gt;\\n      &lt;td&gt;Ukmerg\\u0117s r. sav.&lt;/td&gt;\\n      &lt;td&gt;Kadr\\u0117n\\u0173 tvenkinys&lt;/td&gt;\\n      &lt;td&gt;7.787&lt;/td&gt;\\n    &lt;/tr&gt;\\n    &lt;tr&gt;\\n      &lt;th&gt;45&lt;/th&gt;\\n      &lt;td&gt;Utenos r. sav.&lt;/td&gt;\\n      &lt;td&gt;Tauragnas&lt;/td&gt;\\n      &lt;td&gt;3.224&lt;/td&gt;\\n    &lt;/tr&gt;\\n    &lt;tr&gt;\\n      &lt;th&gt;46&lt;/th&gt;\\n      &lt;td&gt;Utenos r. sav.&lt;/td&gt;\\n      &lt;td&gt;Utenas&lt;/td&gt;\\n      &lt;td&gt;4.451&lt;/td&gt;\\n    &lt;/tr&gt;\\n    &lt;tr&gt;\\n      &lt;th&gt;47&lt;/th&gt;\\n      &lt;td&gt;Utenos r. sav.&lt;/td&gt;\\n      &lt;td&gt;Utenos tvenkinys&lt;/td&gt;\\n      &lt;td&gt;4.160&lt;/td&gt;\\n    &lt;/tr&gt;\\n    &lt;tr&gt;\\n      &lt;th&gt;48&lt;/th&gt;\\n      &lt;td&gt;Utenos r. sav.&lt;/td&gt;\\n      &lt;td&gt;Utenyk\\u0161tis&lt;/td&gt;\\n      &lt;td&gt;1.627&lt;/td&gt;\\n    &lt;/tr&gt;\\n    &lt;tr&gt;\\n      &lt;th&gt;49&lt;/th&gt;\\n      &lt;td&gt;Utenos r. sav.&lt;/td&gt;\\n      &lt;td&gt;Vidinkstas&lt;/td&gt;\\n      &lt;td&gt;1.677&lt;/td&gt;\\n    &lt;/tr&gt;\\n    &lt;tr&gt;\\n      &lt;th&gt;50&lt;/th&gt;\\n      &lt;td&gt;Zaras\\u0173 r. sav.&lt;/td&gt;\\n      &lt;td&gt;Asavas&lt;/td&gt;\\n      &lt;td&gt;3.816&lt;/td&gt;\\n    &lt;/tr&gt;\\n    &lt;tr&gt;\\n      &lt;th&gt;51&lt;/th&gt;\\n      &lt;td&gt;Zaras\\u0173 r. sav.&lt;/td&gt;\\n      &lt;td&gt;Zarasas&lt;/td&gt;\\n      &lt;td&gt;1.782&lt;/td&gt;\\n    &lt;/tr&gt;\\n    &lt;tr&gt;\\n      &lt;th&gt;52&lt;/th&gt;\\n      &lt;td&gt;Zaras\\u0173 r. sav.&lt;/td&gt;\\n      &lt;td&gt;\\u010ci\\u010dirys&lt;/td&gt;\\n      &lt;td&gt;9.080&lt;/td&gt;\\n    &lt;/tr&gt;\\n    &lt;tr&gt;\\n      &lt;th&gt;53&lt;/th&gt;\\n      &lt;td&gt;\\u0160al\\u010dinink\\u0173 r. sav.&lt;/td&gt;\\n      &lt;td&gt;Ei\\u0161i\\u0161ki\\u0173 HE tvenkinys&lt;/td&gt;\\n      &lt;td&gt;4.330&lt;/td&gt;\\n    &lt;/tr&gt;\\n    &lt;tr&gt;\\n      &lt;th&gt;54&lt;/th&gt;\\n      &lt;td&gt;\\u0160iauli\\u0173 r. sav.&lt;/td&gt;\\n      &lt;td&gt;Gink\\u016bn\\u0173 tvenkinys&lt;/td&gt;\\n      &lt;td&gt;10.671&lt;/td&gt;\\n    &lt;/tr&gt;\\n    &lt;tr&gt;\\n      &lt;th&gt;55&lt;/th&gt;\\n      &lt;td&gt;\\u0160ilal\\u0117s r. sav.&lt;/td&gt;\\n      &lt;td&gt;Par\\u0161e\\u017eeris&lt;/td&gt;\\n      &lt;td&gt;3.582&lt;/td&gt;\\n    &lt;/tr&gt;\\n    &lt;tr&gt;\\n      &lt;th&gt;56&lt;/th&gt;\\n      &lt;td&gt;\\u0160ven\\u010dioni\\u0173 r. sav.&lt;/td&gt;\\n      &lt;td&gt;Kretuonas&lt;/td&gt;\\n      &lt;td&gt;1.498&lt;/td&gt;\\n    &lt;/tr&gt;\\n    &lt;tr&gt;\\n      &lt;th&gt;57&lt;/th&gt;\\n      &lt;td&gt;\\u0160ven\\u010dioni\\u0173 r. sav.&lt;/td&gt;\\n      &lt;td&gt;Baluo\\u0161ai&lt;/td&gt;\\n      &lt;td&gt;9.655&lt;/td&gt;\\n    &lt;/tr&gt;\\n    &lt;tr&gt;\\n      &lt;th&gt;58&lt;/th&gt;\\n      &lt;td&gt;\\u0160ven\\u010dioni\\u0173 r. sav.&lt;/td&gt;\\n      &lt;td&gt;Vajuonis&lt;/td&gt;\\n      &lt;td&gt;2.445&lt;/td&gt;\\n    &lt;/tr&gt;\\n  &lt;/tbody&gt;\\n&lt;/table&gt;\"},\"id\":\"43324\",\"type\":\"panel.models.markup.HTML\"},{\"attributes\":{\"children\":[{\"id\":\"43317\"}],\"margin\":[0,0,0,0],\"name\":\"Row19597\"},\"id\":\"43316\",\"type\":\"Row\"},{\"attributes\":{\"end\":11,\"margin\":[5,10,5,10],\"start\":0.0,\"step\":0.1,\"title\":\"\\u017duvies svoris kg\",\"value\":0.1},\"id\":\"43320\",\"type\":\"Slider\"},{\"attributes\":{\"active\":0,\"button_type\":\"light\",\"labels\":[\"Biomas\\u0117(kg)\",\"Pl\\u0117\\u0161rios(kg)\"],\"margin\":[5,10,5,10]},\"id\":\"43321\",\"type\":\"RadioButtonGroup\"},{\"attributes\":{\"children\":[{\"id\":\"43320\"},{\"id\":\"43321\"}],\"margin\":[0,0,0,0],\"name\":\"Column19562\"},\"id\":\"43319\",\"type\":\"Column\"},{\"attributes\":{\"children\":[{\"id\":\"43319\"},{\"id\":\"43322\"}],\"margin\":[0,0,0,0],\"name\":\"Row19595\"},\"id\":\"43318\",\"type\":\"Row\"},{\"attributes\":{\"client_comm_id\":\"fd2fce05e516468696964f5a6621d6e7\",\"comm_id\":\"5146ca8d9dea490daf97eef8d4aa7c31\",\"plot_id\":\"43316\"},\"id\":\"43325\",\"type\":\"panel.models.comm_manager.CommManager\"},{\"attributes\":{\"margin\":[5,5,5,5],\"name\":\"HSpacer19594\",\"sizing_mode\":\"stretch_width\"},\"id\":\"43322\",\"type\":\"Spacer\"}],\"root_ids\":[\"43316\",\"43325\"]},\"title\":\"Bokeh Application\",\"version\":\"2.4.3\"}};\n",
       "    var render_items = [{\"docid\":\"016b6af1-7ec9-4a97-8ae3-e7592a806a12\",\"root_ids\":[\"43316\"],\"roots\":{\"43316\":\"075ee57f-0bae-4f31-8ba8-c3a2aed95222\"}}];\n",
       "    root.Bokeh.embed.embed_items_notebook(docs_json, render_items);\n",
       "    for (const render_item of render_items) {\n",
       "      for (const root_id of render_item.root_ids) {\n",
       "\tconst id_el = document.getElementById(root_id)\n",
       "\tif (id_el.children.length && (id_el.children[0].className === 'bk-root')) {\n",
       "\t  const root_el = id_el.children[0]\n",
       "\t  root_el.id = root_el.id + '-rendered'\n",
       "\t}\n",
       "      }\n",
       "    }\n",
       "  }\n",
       "  if (root.Bokeh !== undefined && root.Bokeh.Panel !== undefined && ( root['Tabulator'] !== undefined) && ( root['Tabulator'] !== undefined)) {\n",
       "    embed_document(root);\n",
       "  } else {\n",
       "    var attempts = 0;\n",
       "    var timer = setInterval(function(root) {\n",
       "      if (root.Bokeh !== undefined && root.Bokeh.Panel !== undefined && (root['Tabulator'] !== undefined) && (root['Tabulator'] !== undefined)) {\n",
       "        clearInterval(timer);\n",
       "        embed_document(root);\n",
       "      } else if (document.readyState == \"complete\") {\n",
       "        attempts++;\n",
       "        if (attempts > 200) {\n",
       "          clearInterval(timer);\n",
       "          console.log(\"Bokeh: ERROR: Unable to run BokehJS code because BokehJS library is missing\");\n",
       "        }\n",
       "      }\n",
       "    }, 25, root)\n",
       "  }\n",
       "})(window);</script>"
      ],
      "text/plain": [
       "<hvplot.interactive.Interactive at 0x248e82db490>"
      ]
     },
     "execution_count": 100,
     "metadata": {
      "application/vnd.holoviews_exec.v0+json": {
       "id": "43316"
      }
     },
     "output_type": "execute_result"
    }
   ],
   "source": [
    "mano_pipeline"
   ]
  },
  {
   "cell_type": "code",
   "execution_count": 25,
   "id": "ee8f8ebf-38f6-49f1-a93d-f11c38f826cb",
   "metadata": {
    "tags": []
   },
   "outputs": [],
   "source": [
    "# savivaldybes = tvarkom.hvplot.bar(\n",
    "#                                     x='Vandens telkinio pavadinimas', rot=90,\n",
    "#                                     y='',\n",
    "#                                     title=\"Kiek telkinių savivaldybėse\")"
   ]
  },
  {
   "cell_type": "code",
   "execution_count": 26,
   "id": "07d305d2-f3cd-42bb-936f-ecbd3e037f70",
   "metadata": {
    "tags": []
   },
   "outputs": [
    {
     "data": {},
     "metadata": {},
     "output_type": "display_data"
    },
    {
     "data": {},
     "metadata": {},
     "output_type": "display_data"
    },
    {
     "data": {
      "application/vnd.holoviews_exec.v0+json": "",
      "text/html": [
       "<div id='1178'>\n",
       "  <div class=\"bk-root\" id=\"1bd4bf42-f407-42d5-8310-e9d99bf3e496\" data-root-id=\"1178\"></div>\n",
       "</div>\n",
       "<script type=\"application/javascript\">(function(root) {\n",
       "  function embed_document(root) {\n",
       "    var docs_json = {\"e40d208b-4743-4e17-97b6-45364c881e4a\":{\"defs\":[{\"extends\":null,\"module\":null,\"name\":\"ReactiveHTML1\",\"overrides\":[],\"properties\":[]},{\"extends\":null,\"module\":null,\"name\":\"FlexBox1\",\"overrides\":[],\"properties\":[{\"default\":\"flex-start\",\"kind\":null,\"name\":\"align_content\"},{\"default\":\"flex-start\",\"kind\":null,\"name\":\"align_items\"},{\"default\":\"row\",\"kind\":null,\"name\":\"flex_direction\"},{\"default\":\"wrap\",\"kind\":null,\"name\":\"flex_wrap\"},{\"default\":\"flex-start\",\"kind\":null,\"name\":\"justify_content\"}]},{\"extends\":null,\"module\":null,\"name\":\"GridStack1\",\"overrides\":[],\"properties\":[{\"default\":\"warn\",\"kind\":null,\"name\":\"mode\"},{\"default\":null,\"kind\":null,\"name\":\"ncols\"},{\"default\":null,\"kind\":null,\"name\":\"nrows\"},{\"default\":true,\"kind\":null,\"name\":\"allow_resize\"},{\"default\":true,\"kind\":null,\"name\":\"allow_drag\"},{\"default\":[],\"kind\":null,\"name\":\"state\"}]},{\"extends\":null,\"module\":null,\"name\":\"click1\",\"overrides\":[],\"properties\":[{\"default\":\"\",\"kind\":null,\"name\":\"terminal_output\"},{\"default\":\"\",\"kind\":null,\"name\":\"debug_name\"},{\"default\":0,\"kind\":null,\"name\":\"clears\"}]},{\"extends\":null,\"module\":null,\"name\":\"NotificationAreaBase1\",\"overrides\":[],\"properties\":[{\"default\":\"bottom-right\",\"kind\":null,\"name\":\"position\"},{\"default\":0,\"kind\":null,\"name\":\"_clear\"}]},{\"extends\":null,\"module\":null,\"name\":\"NotificationArea1\",\"overrides\":[],\"properties\":[{\"default\":[],\"kind\":null,\"name\":\"notifications\"},{\"default\":\"bottom-right\",\"kind\":null,\"name\":\"position\"},{\"default\":0,\"kind\":null,\"name\":\"_clear\"},{\"default\":[{\"background\":\"#ffc107\",\"icon\":{\"className\":\"fas fa-exclamation-triangle\",\"color\":\"white\",\"tagName\":\"i\"},\"type\":\"warning\"},{\"background\":\"#007bff\",\"icon\":{\"className\":\"fas fa-info-circle\",\"color\":\"white\",\"tagName\":\"i\"},\"type\":\"info\"}],\"kind\":null,\"name\":\"types\"}]},{\"extends\":null,\"module\":null,\"name\":\"Notification\",\"overrides\":[],\"properties\":[{\"default\":null,\"kind\":null,\"name\":\"background\"},{\"default\":3000,\"kind\":null,\"name\":\"duration\"},{\"default\":null,\"kind\":null,\"name\":\"icon\"},{\"default\":\"\",\"kind\":null,\"name\":\"message\"},{\"default\":null,\"kind\":null,\"name\":\"notification_type\"},{\"default\":false,\"kind\":null,\"name\":\"_destroyed\"}]},{\"extends\":null,\"module\":null,\"name\":\"TemplateActions1\",\"overrides\":[],\"properties\":[{\"default\":0,\"kind\":null,\"name\":\"open_modal\"},{\"default\":0,\"kind\":null,\"name\":\"close_modal\"}]},{\"extends\":null,\"module\":null,\"name\":\"MaterialTemplateActions1\",\"overrides\":[],\"properties\":[{\"default\":0,\"kind\":null,\"name\":\"open_modal\"},{\"default\":0,\"kind\":null,\"name\":\"close_modal\"}]}],\"roots\":{\"references\":[{\"attributes\":{\"margin\":[5,5,5,5],\"name\":\"HSpacer03570\",\"sizing_mode\":\"stretch_width\"},\"id\":\"1182\",\"type\":\"Spacer\"},{\"attributes\":{\"bottom_units\":\"screen\",\"coordinates\":null,\"fill_alpha\":0.5,\"fill_color\":\"lightgrey\",\"group\":null,\"left_units\":\"screen\",\"level\":\"overlay\",\"line_alpha\":1.0,\"line_color\":\"black\",\"line_dash\":[4,4],\"line_width\":2,\"right_units\":\"screen\",\"syncable\":false,\"top_units\":\"screen\"},\"id\":\"1207\",\"type\":\"BoxAnnotation\"},{\"attributes\":{},\"id\":\"1191\",\"type\":\"CategoricalScale\"},{\"attributes\":{\"axis_label\":\"\",\"coordinates\":null,\"formatter\":{\"id\":\"1228\"},\"group\":null,\"major_label_policy\":{\"id\":\"1229\"},\"ticker\":{\"id\":\"1199\"}},\"id\":\"1198\",\"type\":\"LinearAxis\"},{\"attributes\":{},\"id\":\"1206\",\"type\":\"ResetTool\"},{\"attributes\":{\"fill_color\":{\"value\":\"#30a2da\"},\"hatch_color\":{\"value\":\"#30a2da\"},\"top\":{\"field\":\"Savivaldyb\\u0117\"},\"width\":{\"value\":0.8},\"x\":{\"field\":\"Vandens_telkinio_pavadinimas\"}},\"id\":\"1218\",\"type\":\"VBar\"},{\"attributes\":{},\"id\":\"1204\",\"type\":\"WheelZoomTool\"},{\"attributes\":{},\"id\":\"1196\",\"type\":\"CategoricalTicker\"},{\"attributes\":{},\"id\":\"1241\",\"type\":\"UnionRenderers\"},{\"attributes\":{\"below\":[{\"id\":\"1195\"}],\"center\":[{\"id\":\"1197\"},{\"id\":\"1201\"}],\"height\":300,\"left\":[{\"id\":\"1198\"}],\"margin\":[5,5,5,5],\"min_border_bottom\":10,\"min_border_left\":10,\"min_border_right\":10,\"min_border_top\":10,\"renderers\":[{\"id\":\"1221\"}],\"sizing_mode\":\"fixed\",\"title\":{\"id\":\"1187\"},\"toolbar\":{\"id\":\"1208\"},\"width\":700,\"x_range\":{\"id\":\"1183\"},\"x_scale\":{\"id\":\"1191\"},\"y_range\":{\"id\":\"1184\"},\"y_scale\":{\"id\":\"1193\"}},\"id\":\"1186\",\"subtype\":\"Figure\",\"type\":\"Plot\"},{\"attributes\":{\"fill_alpha\":{\"value\":0.1},\"fill_color\":{\"value\":\"#30a2da\"},\"hatch_alpha\":{\"value\":0.1},\"hatch_color\":{\"value\":\"#30a2da\"},\"line_alpha\":{\"value\":0.1},\"top\":{\"field\":\"Savivaldyb\\u0117\"},\"width\":{\"value\":0.8},\"x\":{\"field\":\"Vandens_telkinio_pavadinimas\"}},\"id\":\"1219\",\"type\":\"VBar\"},{\"attributes\":{},\"id\":\"1193\",\"type\":\"LinearScale\"},{\"attributes\":{\"axis\":{\"id\":\"1198\"},\"coordinates\":null,\"dimension\":1,\"grid_line_color\":null,\"group\":null,\"ticker\":null},\"id\":\"1201\",\"type\":\"Grid\"},{\"attributes\":{\"bottom\":{\"value\":0},\"fill_alpha\":{\"value\":1.0},\"fill_color\":{\"value\":\"#30a2da\"},\"hatch_alpha\":{\"value\":1.0},\"hatch_color\":{\"value\":\"#30a2da\"},\"hatch_scale\":{\"value\":12.0},\"hatch_weight\":{\"value\":1.0},\"line_alpha\":{\"value\":1.0},\"line_cap\":{\"value\":\"butt\"},\"line_color\":{\"value\":\"black\"},\"line_dash\":{\"value\":[]},\"line_dash_offset\":{\"value\":0},\"line_join\":{\"value\":\"bevel\"},\"line_width\":{\"value\":1},\"top\":{\"field\":\"Savivaldyb\\u0117\"},\"width\":{\"value\":0.8},\"x\":{\"field\":\"Vandens_telkinio_pavadinimas\"}},\"id\":\"1223\",\"type\":\"VBar\"},{\"attributes\":{\"client_comm_id\":\"a75a9938cbcb431d8114fe4bc9ea2186\",\"comm_id\":\"8447baed37e140dfb77023330e184c63\",\"plot_id\":\"1178\"},\"id\":\"1274\",\"type\":\"panel.models.comm_manager.CommManager\"},{\"attributes\":{},\"id\":\"1229\",\"type\":\"AllLabels\"},{\"attributes\":{},\"id\":\"1216\",\"type\":\"Selection\"},{\"attributes\":{\"children\":[{\"id\":\"1179\"}],\"margin\":[0,0,0,0],\"name\":\"Row03578\"},\"id\":\"1178\",\"type\":\"Row\"},{\"attributes\":{\"margin\":[0,0,0,0],\"name\":\"Column03567\"},\"id\":\"1181\",\"type\":\"Column\"},{\"attributes\":{\"source\":{\"id\":\"1215\"}},\"id\":\"1222\",\"type\":\"CDSView\"},{\"attributes\":{},\"id\":\"1226\",\"type\":\"AllLabels\"},{\"attributes\":{\"overlay\":{\"id\":\"1207\"}},\"id\":\"1205\",\"type\":\"BoxZoomTool\"},{\"attributes\":{\"fill_alpha\":{\"value\":0.2},\"fill_color\":{\"value\":\"#30a2da\"},\"hatch_alpha\":{\"value\":0.2},\"hatch_color\":{\"value\":\"#30a2da\"},\"line_alpha\":{\"value\":0.2},\"top\":{\"field\":\"Savivaldyb\\u0117\"},\"width\":{\"value\":0.8},\"x\":{\"field\":\"Vandens_telkinio_pavadinimas\"}},\"id\":\"1220\",\"type\":\"VBar\"},{\"attributes\":{},\"id\":\"1202\",\"type\":\"SaveTool\"},{\"attributes\":{\"active_drag\":{\"id\":\"1203\"},\"active_scroll\":{\"id\":\"1204\"},\"tools\":[{\"id\":\"1185\"},{\"id\":\"1202\"},{\"id\":\"1203\"},{\"id\":\"1204\"},{\"id\":\"1205\"},{\"id\":\"1206\"}]},\"id\":\"1208\",\"type\":\"Toolbar\"},{\"attributes\":{\"children\":[{\"id\":\"1181\"},{\"id\":\"1182\"}],\"margin\":[0,0,0,0],\"name\":\"Row03571\"},\"id\":\"1180\",\"type\":\"Row\"},{\"attributes\":{\"children\":[{\"id\":\"1180\"},{\"id\":\"1186\"}],\"margin\":[0,0,0,0],\"name\":\"Column03577\"},\"id\":\"1179\",\"type\":\"Column\"},{\"attributes\":{\"factors\":[\"0\",\"1\",\"2\",\"3\",\"4\",\"5\"],\"tags\":[[[\"Vandens telkinio pavadinimas\",\"Vandens telkinio pavadinimas\",null]]]},\"id\":\"1183\",\"type\":\"FactorRange\"},{\"attributes\":{\"axis_label\":\"Vandens telkinio pavadinimas\",\"coordinates\":null,\"formatter\":{\"id\":\"1225\"},\"group\":null,\"major_label_orientation\":1.5707963267948966,\"major_label_policy\":{\"id\":\"1226\"},\"ticker\":{\"id\":\"1196\"}},\"id\":\"1195\",\"type\":\"CategoricalAxis\"},{\"attributes\":{\"coordinates\":null,\"group\":null,\"text\":\"Kiek telkini\\u0173 savivaldyb\\u0117se\",\"text_color\":\"black\",\"text_font_size\":\"12pt\"},\"id\":\"1187\",\"type\":\"Title\"},{\"attributes\":{},\"id\":\"1199\",\"type\":\"BasicTicker\"},{\"attributes\":{\"end\":3.2,\"reset_end\":3.2,\"reset_start\":0.0,\"tags\":[[[\"Savivaldyb\\u0117\",\"Savivaldyb\\u0117\",null]]]},\"id\":\"1184\",\"type\":\"Range1d\"},{\"attributes\":{},\"id\":\"1228\",\"type\":\"BasicTickFormatter\"},{\"attributes\":{},\"id\":\"1225\",\"type\":\"CategoricalTickFormatter\"},{\"attributes\":{\"data\":{\"Savivaldyb\\u0117\":[3,2,1,1,1,1],\"Vandens_telkinio_pavadinimas\":[\"0\",\"1\",\"2\",\"3\",\"4\",\"5\"]},\"selected\":{\"id\":\"1216\"},\"selection_policy\":{\"id\":\"1241\"}},\"id\":\"1215\",\"type\":\"ColumnDataSource\"},{\"attributes\":{\"axis\":{\"id\":\"1195\"},\"coordinates\":null,\"grid_line_color\":null,\"group\":null,\"ticker\":null},\"id\":\"1197\",\"type\":\"Grid\"},{\"attributes\":{},\"id\":\"1203\",\"type\":\"PanTool\"},{\"attributes\":{\"callback\":null,\"renderers\":[{\"id\":\"1221\"}],\"tags\":[\"hv_created\"],\"tooltips\":[[\"Vandens telkinio pavadinimas\",\"@{Vandens_telkinio_pavadinimas}\"],[\"Savivaldyb\\u0117\",\"@{Savivaldyb\\u0117}\"]]},\"id\":\"1185\",\"type\":\"HoverTool\"},{\"attributes\":{\"coordinates\":null,\"data_source\":{\"id\":\"1215\"},\"glyph\":{\"id\":\"1218\"},\"group\":null,\"hover_glyph\":null,\"muted_glyph\":{\"id\":\"1220\"},\"nonselection_glyph\":{\"id\":\"1219\"},\"selection_glyph\":{\"id\":\"1223\"},\"view\":{\"id\":\"1222\"}},\"id\":\"1221\",\"type\":\"GlyphRenderer\"}],\"root_ids\":[\"1178\",\"1274\"]},\"title\":\"Bokeh Application\",\"version\":\"2.4.3\"}};\n",
       "    var render_items = [{\"docid\":\"e40d208b-4743-4e17-97b6-45364c881e4a\",\"root_ids\":[\"1178\"],\"roots\":{\"1178\":\"1bd4bf42-f407-42d5-8310-e9d99bf3e496\"}}];\n",
       "    root.Bokeh.embed.embed_items_notebook(docs_json, render_items);\n",
       "    for (const render_item of render_items) {\n",
       "      for (const root_id of render_item.root_ids) {\n",
       "\tconst id_el = document.getElementById(root_id)\n",
       "\tif (id_el.children.length && (id_el.children[0].className === 'bk-root')) {\n",
       "\t  const root_el = id_el.children[0]\n",
       "\t  root_el.id = root_el.id + '-rendered'\n",
       "\t}\n",
       "      }\n",
       "    }\n",
       "  }\n",
       "  if (root.Bokeh !== undefined && root.Bokeh.Panel !== undefined && ( root['Tabulator'] !== undefined)) {\n",
       "    embed_document(root);\n",
       "  } else {\n",
       "    var attempts = 0;\n",
       "    var timer = setInterval(function(root) {\n",
       "      if (root.Bokeh !== undefined && root.Bokeh.Panel !== undefined && (root['Tabulator'] !== undefined)) {\n",
       "        clearInterval(timer);\n",
       "        embed_document(root);\n",
       "      } else if (document.readyState == \"complete\") {\n",
       "        attempts++;\n",
       "        if (attempts > 200) {\n",
       "          clearInterval(timer);\n",
       "          console.log(\"Bokeh: ERROR: Unable to run BokehJS code because BokehJS library is missing\");\n",
       "        }\n",
       "      }\n",
       "    }, 25, root)\n",
       "  }\n",
       "})(window);</script>"
      ],
      "text/plain": [
       "<hvplot.interactive.Interactive at 0x248e0494890>"
      ]
     },
     "execution_count": 26,
     "metadata": {
      "application/vnd.holoviews_exec.v0+json": {
       "id": "1178"
      }
     },
     "output_type": "execute_result"
    }
   ],
   "source": [
    "# savivaldybes"
   ]
  },
  {
   "cell_type": "code",
   "execution_count": 102,
   "id": "b0f9015b-2494-4524-912a-43514ed52421",
   "metadata": {
    "tags": []
   },
   "outputs": [],
   "source": [
    "#kuriam lentele pagal pries tai buvusi pipeline\n",
    "\n",
    "grafikas_pirmas = mano_pipeline.hvplot.bar(x='Savivaldybė', rot=90,\n",
    "                               #by='Savivaldybė', \n",
    "                               y=\"\",\n",
    "                               title = \"Žuvys pagal vietovę\")"
   ]
  },
  {
   "cell_type": "code",
   "execution_count": 103,
   "id": "faf157c8-9306-413d-bffc-8b052c7ff351",
   "metadata": {
    "tags": []
   },
   "outputs": [
    {
     "data": {},
     "metadata": {},
     "output_type": "display_data"
    },
    {
     "data": {},
     "metadata": {},
     "output_type": "display_data"
    },
    {
     "data": {
      "application/vnd.holoviews_exec.v0+json": "",
      "text/html": [
       "<div id='43326'>\n",
       "  <div class=\"bk-root\" id=\"2a121d2f-b27d-4c17-8702-9633fbce5c64\" data-root-id=\"43326\"></div>\n",
       "</div>\n",
       "<script type=\"application/javascript\">(function(root) {\n",
       "  function embed_document(root) {\n",
       "    var docs_json = {\"7a5ea33b-b051-44d1-9807-9cb0c2f55596\":{\"defs\":[{\"extends\":null,\"module\":null,\"name\":\"ReactiveHTML1\",\"overrides\":[],\"properties\":[]},{\"extends\":null,\"module\":null,\"name\":\"FlexBox1\",\"overrides\":[],\"properties\":[{\"default\":\"flex-start\",\"kind\":null,\"name\":\"align_content\"},{\"default\":\"flex-start\",\"kind\":null,\"name\":\"align_items\"},{\"default\":\"row\",\"kind\":null,\"name\":\"flex_direction\"},{\"default\":\"wrap\",\"kind\":null,\"name\":\"flex_wrap\"},{\"default\":\"flex-start\",\"kind\":null,\"name\":\"justify_content\"}]},{\"extends\":null,\"module\":null,\"name\":\"GridStack1\",\"overrides\":[],\"properties\":[{\"default\":\"warn\",\"kind\":null,\"name\":\"mode\"},{\"default\":null,\"kind\":null,\"name\":\"ncols\"},{\"default\":null,\"kind\":null,\"name\":\"nrows\"},{\"default\":true,\"kind\":null,\"name\":\"allow_resize\"},{\"default\":true,\"kind\":null,\"name\":\"allow_drag\"},{\"default\":[],\"kind\":null,\"name\":\"state\"}]},{\"extends\":null,\"module\":null,\"name\":\"click1\",\"overrides\":[],\"properties\":[{\"default\":\"\",\"kind\":null,\"name\":\"terminal_output\"},{\"default\":\"\",\"kind\":null,\"name\":\"debug_name\"},{\"default\":0,\"kind\":null,\"name\":\"clears\"}]},{\"extends\":null,\"module\":null,\"name\":\"NotificationAreaBase1\",\"overrides\":[],\"properties\":[{\"default\":\"bottom-right\",\"kind\":null,\"name\":\"position\"},{\"default\":0,\"kind\":null,\"name\":\"_clear\"}]},{\"extends\":null,\"module\":null,\"name\":\"NotificationArea1\",\"overrides\":[],\"properties\":[{\"default\":[],\"kind\":null,\"name\":\"notifications\"},{\"default\":\"bottom-right\",\"kind\":null,\"name\":\"position\"},{\"default\":0,\"kind\":null,\"name\":\"_clear\"},{\"default\":[{\"background\":\"#ffc107\",\"icon\":{\"className\":\"fas fa-exclamation-triangle\",\"color\":\"white\",\"tagName\":\"i\"},\"type\":\"warning\"},{\"background\":\"#007bff\",\"icon\":{\"className\":\"fas fa-info-circle\",\"color\":\"white\",\"tagName\":\"i\"},\"type\":\"info\"}],\"kind\":null,\"name\":\"types\"}]},{\"extends\":null,\"module\":null,\"name\":\"Notification\",\"overrides\":[],\"properties\":[{\"default\":null,\"kind\":null,\"name\":\"background\"},{\"default\":3000,\"kind\":null,\"name\":\"duration\"},{\"default\":null,\"kind\":null,\"name\":\"icon\"},{\"default\":\"\",\"kind\":null,\"name\":\"message\"},{\"default\":null,\"kind\":null,\"name\":\"notification_type\"},{\"default\":false,\"kind\":null,\"name\":\"_destroyed\"}]},{\"extends\":null,\"module\":null,\"name\":\"TemplateActions1\",\"overrides\":[],\"properties\":[{\"default\":0,\"kind\":null,\"name\":\"open_modal\"},{\"default\":0,\"kind\":null,\"name\":\"close_modal\"}]},{\"extends\":null,\"module\":null,\"name\":\"MaterialTemplateActions1\",\"overrides\":[],\"properties\":[{\"default\":0,\"kind\":null,\"name\":\"open_modal\"},{\"default\":0,\"kind\":null,\"name\":\"close_modal\"}]}],\"roots\":{\"references\":[{\"attributes\":{},\"id\":\"43341\",\"type\":\"CategoricalScale\"},{\"attributes\":{\"below\":[{\"id\":\"43345\"}],\"center\":[{\"id\":\"43347\"},{\"id\":\"43351\"}],\"height\":300,\"left\":[{\"id\":\"43348\"}],\"margin\":[5,5,5,5],\"min_border_bottom\":10,\"min_border_left\":10,\"min_border_right\":10,\"min_border_top\":10,\"renderers\":[{\"id\":\"43371\"}],\"sizing_mode\":\"fixed\",\"title\":{\"id\":\"43337\"},\"toolbar\":{\"id\":\"43358\"},\"width\":700,\"x_range\":{\"id\":\"43333\"},\"x_scale\":{\"id\":\"43341\"},\"y_range\":{\"id\":\"43334\"},\"y_scale\":{\"id\":\"43343\"}},\"id\":\"43336\",\"subtype\":\"Figure\",\"type\":\"Plot\"},{\"attributes\":{\"coordinates\":null,\"group\":null,\"text\":\"\\u017duvys pagal vietov\\u0119\",\"text_color\":\"black\",\"text_font_size\":\"12pt\"},\"id\":\"43337\",\"type\":\"Title\"},{\"attributes\":{\"axis\":{\"id\":\"43345\"},\"coordinates\":null,\"grid_line_color\":null,\"group\":null,\"ticker\":null},\"id\":\"43347\",\"type\":\"Grid\"},{\"attributes\":{},\"id\":\"43379\",\"type\":\"AllLabels\"},{\"attributes\":{\"margin\":[5,5,5,5],\"name\":\"HSpacer19886\",\"sizing_mode\":\"stretch_width\"},\"id\":\"43332\",\"type\":\"Spacer\"},{\"attributes\":{\"factors\":[\"Akmen\\u0117s r. sav.\",\"Alytaus r. sav.\",\"Druskinink\\u0173 sav.\",\"Ignalinos r. sav.\",\"Kai\\u0161iadori\\u0173 r. sav.\",\"Kretingos r. sav.\",\"K\\u0117daini\\u0173 r. sav.\",\"Lazdij\\u0173 r. sav.\",\"Marijampol\\u0117s sav.\",\"Mol\\u0117t\\u0173 r. sav.\",\"Pakruojo r. sav.\",\"Roki\\u0161kio r. sav.\",\"Tel\\u0161i\\u0173 r. sav.\",\"Trak\\u0173 r. sav.\",\"Ukmerg\\u0117s r. sav.\",\"Utenos r. sav.\",\"Zaras\\u0173 r. sav.\",\"\\u0160al\\u010dinink\\u0173 r. sav.\",\"\\u0160iauli\\u0173 r. sav.\",\"\\u0160ilal\\u0117s r. sav.\",\"\\u0160ven\\u010dioni\\u0173 r. sav.\"],\"tags\":[[[\"Savivaldyb\\u0117\",\"Savivaldyb\\u0117\",null]]]},\"id\":\"43333\",\"type\":\"FactorRange\"},{\"attributes\":{},\"id\":\"43354\",\"type\":\"WheelZoomTool\"},{\"attributes\":{\"end\":11.6154,\"reset_end\":11.6154,\"reset_start\":0.0,\"tags\":[[[\"Biomas\\u0117(kg)\",\"Biomas\\u0117(kg)\",null]]]},\"id\":\"43334\",\"type\":\"Range1d\"},{\"attributes\":{\"axis_label\":\"Biomas\\u0117(kg)\",\"coordinates\":null,\"formatter\":{\"id\":\"43378\"},\"group\":null,\"major_label_policy\":{\"id\":\"43379\"},\"ticker\":{\"id\":\"43349\"}},\"id\":\"43348\",\"type\":\"LinearAxis\"},{\"attributes\":{\"children\":[{\"id\":\"43328\"},{\"id\":\"43336\"}],\"margin\":[0,0,0,0],\"name\":\"Column19893\"},\"id\":\"43327\",\"type\":\"Column\"},{\"attributes\":{\"bottom\":{\"value\":0},\"fill_alpha\":{\"value\":1.0},\"fill_color\":{\"value\":\"#30a2da\"},\"hatch_alpha\":{\"value\":1.0},\"hatch_color\":{\"value\":\"#30a2da\"},\"hatch_scale\":{\"value\":12.0},\"hatch_weight\":{\"value\":1.0},\"line_alpha\":{\"value\":1.0},\"line_cap\":{\"value\":\"butt\"},\"line_color\":{\"value\":\"black\"},\"line_dash\":{\"value\":[]},\"line_dash_offset\":{\"value\":0},\"line_join\":{\"value\":\"bevel\"},\"line_width\":{\"value\":1},\"top\":{\"field\":\"Biomas\\u0117_left_parenthesis_kg_right_parenthesis\"},\"width\":{\"value\":0.8},\"x\":{\"field\":\"Savivaldyb\\u0117\"}},\"id\":\"43373\",\"type\":\"VBar\"},{\"attributes\":{\"children\":[{\"id\":\"43329\"},{\"id\":\"43332\"}],\"margin\":[0,0,0,0],\"name\":\"Row19887\"},\"id\":\"43328\",\"type\":\"Row\"},{\"attributes\":{},\"id\":\"43366\",\"type\":\"Selection\"},{\"attributes\":{\"axis\":{\"id\":\"43348\"},\"coordinates\":null,\"dimension\":1,\"grid_line_color\":null,\"group\":null,\"ticker\":null},\"id\":\"43351\",\"type\":\"Grid\"},{\"attributes\":{\"fill_alpha\":{\"value\":0.2},\"fill_color\":{\"value\":\"#30a2da\"},\"hatch_alpha\":{\"value\":0.2},\"hatch_color\":{\"value\":\"#30a2da\"},\"line_alpha\":{\"value\":0.2},\"top\":{\"field\":\"Biomas\\u0117_left_parenthesis_kg_right_parenthesis\"},\"width\":{\"value\":0.8},\"x\":{\"field\":\"Savivaldyb\\u0117\"}},\"id\":\"43370\",\"type\":\"VBar\"},{\"attributes\":{},\"id\":\"43356\",\"type\":\"ResetTool\"},{\"attributes\":{},\"id\":\"43343\",\"type\":\"LinearScale\"},{\"attributes\":{\"fill_alpha\":{\"value\":0.1},\"fill_color\":{\"value\":\"#30a2da\"},\"hatch_alpha\":{\"value\":0.1},\"hatch_color\":{\"value\":\"#30a2da\"},\"line_alpha\":{\"value\":0.1},\"top\":{\"field\":\"Biomas\\u0117_left_parenthesis_kg_right_parenthesis\"},\"width\":{\"value\":0.8},\"x\":{\"field\":\"Savivaldyb\\u0117\"}},\"id\":\"43369\",\"type\":\"VBar\"},{\"attributes\":{},\"id\":\"43352\",\"type\":\"SaveTool\"},{\"attributes\":{\"children\":[{\"id\":\"43327\"}],\"margin\":[0,0,0,0],\"name\":\"Row19894\"},\"id\":\"43326\",\"type\":\"Row\"},{\"attributes\":{},\"id\":\"43376\",\"type\":\"AllLabels\"},{\"attributes\":{\"fill_color\":{\"value\":\"#30a2da\"},\"hatch_color\":{\"value\":\"#30a2da\"},\"top\":{\"field\":\"Biomas\\u0117_left_parenthesis_kg_right_parenthesis\"},\"width\":{\"value\":0.8},\"x\":{\"field\":\"Savivaldyb\\u0117\"}},\"id\":\"43368\",\"type\":\"VBar\"},{\"attributes\":{\"children\":[{\"id\":\"43330\"},{\"id\":\"43331\"}],\"margin\":[0,0,0,0],\"name\":\"Column19882\"},\"id\":\"43329\",\"type\":\"Column\"},{\"attributes\":{},\"id\":\"43391\",\"type\":\"UnionRenderers\"},{\"attributes\":{\"client_comm_id\":\"a52afc105ce64440aed97c9582e2c108\",\"comm_id\":\"963ac34de2684f439d294e2300381977\",\"plot_id\":\"43326\"},\"id\":\"43424\",\"type\":\"panel.models.comm_manager.CommManager\"},{\"attributes\":{},\"id\":\"43349\",\"type\":\"BasicTicker\"},{\"attributes\":{},\"id\":\"43375\",\"type\":\"CategoricalTickFormatter\"},{\"attributes\":{},\"id\":\"43353\",\"type\":\"PanTool\"},{\"attributes\":{\"overlay\":{\"id\":\"43357\"}},\"id\":\"43355\",\"type\":\"BoxZoomTool\"},{\"attributes\":{\"bottom_units\":\"screen\",\"coordinates\":null,\"fill_alpha\":0.5,\"fill_color\":\"lightgrey\",\"group\":null,\"left_units\":\"screen\",\"level\":\"overlay\",\"line_alpha\":1.0,\"line_color\":\"black\",\"line_dash\":[4,4],\"line_width\":2,\"right_units\":\"screen\",\"syncable\":false,\"top_units\":\"screen\"},\"id\":\"43357\",\"type\":\"BoxAnnotation\"},{\"attributes\":{\"data\":{\"Biomas\\u0117_left_parenthesis_kg_right_parenthesis\":{\"__ndarray__\":\"ZmZmZmbmEEDP91PjpZsGQCuHFtnO9xFAObTIdr6fD0C8dJMYBFYHQG8Sg8DKofM/zczMzMzMEUASg8DKoUULQMP1KFyPwgtA30+Nl24SA0CTGARWDq0RQLgehetRuANAkxgEVg4tAEAj2/l+arz2PxKDwMqhRfg/mpmZmZkZGkDHSzeJQSAjQARWDi2ynRVA+FPjpZtEEECiRbbz/VQQQAisHFpkuxJA3SQGgZVDB0BKDAIrhxb1P166SQwCKxBAexSuR+H6IUD0/dR46SYMQHnpJjEIrAdARIts5/upEkBeukkMAisEQFK4HoXrUQ5AQmDl0CLbDEBYObTIdr4OQD0K16NwPRBA/Knx0k1iDkA730+Nl+4TQHe+nxov3QBAIbByaJHtAEA1XrpJDAIbQJHtfD81XhhAPQrXo3C9FUAtsp3vp0YVQN0kBoGVQ/c/KVyPwvXoI0DhehSuR+EWQNnO91PjJR9AmG4Sg8DKCUDn+6nx0s0RQKRwPQrXoxBA1XjpJjEI+j+iRbbz/dT6P7pJDAIrhw5AUI2XbhKD/D8pXI/C9SgiQFK4HoXrURFAZDvfT41XJUAOLbKd76cMQCuHFtnO9/c/j8L1KFxPI0CPwvUoXI8DQA==\",\"dtype\":\"float64\",\"order\":\"little\",\"shape\":[59]},\"Savivaldyb\\u0117\":[\"Akmen\\u0117s r. sav.\",\"Alytaus r. sav.\",\"Alytaus r. sav.\",\"Druskinink\\u0173 sav.\",\"Druskinink\\u0173 sav.\",\"Ignalinos r. sav.\",\"Ignalinos r. sav.\",\"Ignalinos r. sav.\",\"Ignalinos r. sav.\",\"Ignalinos r. sav.\",\"Ignalinos r. sav.\",\"Ignalinos r. sav.\",\"Ignalinos r. sav.\",\"Ignalinos r. sav.\",\"Kai\\u0161iadori\\u0173 r. sav.\",\"Kretingos r. sav.\",\"K\\u0117daini\\u0173 r. sav.\",\"K\\u0117daini\\u0173 r. sav.\",\"Lazdij\\u0173 r. sav.\",\"Lazdij\\u0173 r. sav.\",\"Lazdij\\u0173 r. sav.\",\"Lazdij\\u0173 r. sav.\",\"Lazdij\\u0173 r. sav.\",\"Lazdij\\u0173 r. sav.\",\"Marijampol\\u0117s sav.\",\"Mol\\u0117t\\u0173 r. sav.\",\"Mol\\u0117t\\u0173 r. sav.\",\"Mol\\u0117t\\u0173 r. sav.\",\"Mol\\u0117t\\u0173 r. sav.\",\"Mol\\u0117t\\u0173 r. sav.\",\"Mol\\u0117t\\u0173 r. sav.\",\"Mol\\u0117t\\u0173 r. sav.\",\"Mol\\u0117t\\u0173 r. sav.\",\"Mol\\u0117t\\u0173 r. sav.\",\"Pakruojo r. sav.\",\"Roki\\u0161kio r. sav.\",\"Tel\\u0161i\\u0173 r. sav.\",\"Tel\\u0161i\\u0173 r. sav.\",\"Tel\\u0161i\\u0173 r. sav.\",\"Trak\\u0173 r. sav.\",\"Trak\\u0173 r. sav.\",\"Trak\\u0173 r. sav.\",\"Trak\\u0173 r. sav.\",\"Ukmerg\\u0117s r. sav.\",\"Ukmerg\\u0117s r. sav.\",\"Utenos r. sav.\",\"Utenos r. sav.\",\"Utenos r. sav.\",\"Utenos r. sav.\",\"Utenos r. sav.\",\"Zaras\\u0173 r. sav.\",\"Zaras\\u0173 r. sav.\",\"Zaras\\u0173 r. sav.\",\"\\u0160al\\u010dinink\\u0173 r. sav.\",\"\\u0160iauli\\u0173 r. sav.\",\"\\u0160ilal\\u0117s r. sav.\",\"\\u0160ven\\u010dioni\\u0173 r. sav.\",\"\\u0160ven\\u010dioni\\u0173 r. sav.\",\"\\u0160ven\\u010dioni\\u0173 r. sav.\"]},\"selected\":{\"id\":\"43366\"},\"selection_policy\":{\"id\":\"43391\"}},\"id\":\"43365\",\"type\":\"ColumnDataSource\"},{\"attributes\":{},\"id\":\"43346\",\"type\":\"CategoricalTicker\"},{\"attributes\":{\"coordinates\":null,\"data_source\":{\"id\":\"43365\"},\"glyph\":{\"id\":\"43368\"},\"group\":null,\"hover_glyph\":null,\"muted_glyph\":{\"id\":\"43370\"},\"nonselection_glyph\":{\"id\":\"43369\"},\"selection_glyph\":{\"id\":\"43373\"},\"view\":{\"id\":\"43372\"}},\"id\":\"43371\",\"type\":\"GlyphRenderer\"},{\"attributes\":{\"axis_label\":\"Savivaldyb\\u0117\",\"coordinates\":null,\"formatter\":{\"id\":\"43375\"},\"group\":null,\"major_label_orientation\":1.5707963267948966,\"major_label_policy\":{\"id\":\"43376\"},\"ticker\":{\"id\":\"43346\"}},\"id\":\"43345\",\"type\":\"CategoricalAxis\"},{\"attributes\":{\"active\":0,\"button_type\":\"light\",\"labels\":[\"Biomas\\u0117(kg)\",\"Pl\\u0117\\u0161rios(kg)\"],\"margin\":[5,10,5,10]},\"id\":\"43331\",\"type\":\"RadioButtonGroup\"},{\"attributes\":{\"source\":{\"id\":\"43365\"}},\"id\":\"43372\",\"type\":\"CDSView\"},{\"attributes\":{\"callback\":null,\"renderers\":[{\"id\":\"43371\"}],\"tags\":[\"hv_created\"],\"tooltips\":[[\"Savivaldyb\\u0117\",\"@{Savivaldyb\\u0117}\"],[\"Biomas\\u0117(kg)\",\"@{Biomas\\u0117_left_parenthesis_kg_right_parenthesis}\"]]},\"id\":\"43335\",\"type\":\"HoverTool\"},{\"attributes\":{\"end\":11,\"margin\":[5,10,5,10],\"start\":0.0,\"step\":0.1,\"title\":\"\\u017duvies svoris kg\",\"value\":0.1},\"id\":\"43330\",\"type\":\"Slider\"},{\"attributes\":{},\"id\":\"43378\",\"type\":\"BasicTickFormatter\"},{\"attributes\":{\"active_drag\":{\"id\":\"43353\"},\"active_scroll\":{\"id\":\"43354\"},\"tools\":[{\"id\":\"43335\"},{\"id\":\"43352\"},{\"id\":\"43353\"},{\"id\":\"43354\"},{\"id\":\"43355\"},{\"id\":\"43356\"}]},\"id\":\"43358\",\"type\":\"Toolbar\"}],\"root_ids\":[\"43326\",\"43424\"]},\"title\":\"Bokeh Application\",\"version\":\"2.4.3\"}};\n",
       "    var render_items = [{\"docid\":\"7a5ea33b-b051-44d1-9807-9cb0c2f55596\",\"root_ids\":[\"43326\"],\"roots\":{\"43326\":\"2a121d2f-b27d-4c17-8702-9633fbce5c64\"}}];\n",
       "    root.Bokeh.embed.embed_items_notebook(docs_json, render_items);\n",
       "    for (const render_item of render_items) {\n",
       "      for (const root_id of render_item.root_ids) {\n",
       "\tconst id_el = document.getElementById(root_id)\n",
       "\tif (id_el.children.length && (id_el.children[0].className === 'bk-root')) {\n",
       "\t  const root_el = id_el.children[0]\n",
       "\t  root_el.id = root_el.id + '-rendered'\n",
       "\t}\n",
       "      }\n",
       "    }\n",
       "  }\n",
       "  if (root.Bokeh !== undefined && root.Bokeh.Panel !== undefined && ( root['Tabulator'] !== undefined) && ( root['Tabulator'] !== undefined)) {\n",
       "    embed_document(root);\n",
       "  } else {\n",
       "    var attempts = 0;\n",
       "    var timer = setInterval(function(root) {\n",
       "      if (root.Bokeh !== undefined && root.Bokeh.Panel !== undefined && (root['Tabulator'] !== undefined) && (root['Tabulator'] !== undefined)) {\n",
       "        clearInterval(timer);\n",
       "        embed_document(root);\n",
       "      } else if (document.readyState == \"complete\") {\n",
       "        attempts++;\n",
       "        if (attempts > 200) {\n",
       "          clearInterval(timer);\n",
       "          console.log(\"Bokeh: ERROR: Unable to run BokehJS code because BokehJS library is missing\");\n",
       "        }\n",
       "      }\n",
       "    }, 25, root)\n",
       "  }\n",
       "})(window);</script>"
      ],
      "text/plain": [
       "<hvplot.interactive.Interactive at 0x248e83fdd50>"
      ]
     },
     "execution_count": 103,
     "metadata": {
      "application/vnd.holoviews_exec.v0+json": {
       "id": "43326"
      }
     },
     "output_type": "execute_result"
    }
   ],
   "source": [
    "grafikas_pirmas"
   ]
  },
  {
   "cell_type": "code",
   "execution_count": 104,
   "id": "c32f343c-a906-4362-848e-24929642bd0c",
   "metadata": {
    "tags": []
   },
   "outputs": [
    {
     "data": {},
     "metadata": {},
     "output_type": "display_data"
    },
    {
     "data": {
      "application/vnd.holoviews_exec.v0+json": "",
      "text/html": [
       "<div id='43475'>\n",
       "  <div class=\"bk-root\" id=\"3b96d42f-7bad-4c50-bf40-44745bdbda18\" data-root-id=\"43475\"></div>\n",
       "</div>\n",
       "<script type=\"application/javascript\">(function(root) {\n",
       "  function embed_document(root) {\n",
       "    var docs_json = {\"569bdc8e-21eb-4812-909a-b8747f46b0a3\":{\"defs\":[{\"extends\":null,\"module\":null,\"name\":\"ReactiveHTML1\",\"overrides\":[],\"properties\":[]},{\"extends\":null,\"module\":null,\"name\":\"FlexBox1\",\"overrides\":[],\"properties\":[{\"default\":\"flex-start\",\"kind\":null,\"name\":\"align_content\"},{\"default\":\"flex-start\",\"kind\":null,\"name\":\"align_items\"},{\"default\":\"row\",\"kind\":null,\"name\":\"flex_direction\"},{\"default\":\"wrap\",\"kind\":null,\"name\":\"flex_wrap\"},{\"default\":\"flex-start\",\"kind\":null,\"name\":\"justify_content\"}]},{\"extends\":null,\"module\":null,\"name\":\"GridStack1\",\"overrides\":[],\"properties\":[{\"default\":\"warn\",\"kind\":null,\"name\":\"mode\"},{\"default\":null,\"kind\":null,\"name\":\"ncols\"},{\"default\":null,\"kind\":null,\"name\":\"nrows\"},{\"default\":true,\"kind\":null,\"name\":\"allow_resize\"},{\"default\":true,\"kind\":null,\"name\":\"allow_drag\"},{\"default\":[],\"kind\":null,\"name\":\"state\"}]},{\"extends\":null,\"module\":null,\"name\":\"click1\",\"overrides\":[],\"properties\":[{\"default\":\"\",\"kind\":null,\"name\":\"terminal_output\"},{\"default\":\"\",\"kind\":null,\"name\":\"debug_name\"},{\"default\":0,\"kind\":null,\"name\":\"clears\"}]},{\"extends\":null,\"module\":null,\"name\":\"NotificationAreaBase1\",\"overrides\":[],\"properties\":[{\"default\":\"bottom-right\",\"kind\":null,\"name\":\"position\"},{\"default\":0,\"kind\":null,\"name\":\"_clear\"}]},{\"extends\":null,\"module\":null,\"name\":\"NotificationArea1\",\"overrides\":[],\"properties\":[{\"default\":[],\"kind\":null,\"name\":\"notifications\"},{\"default\":\"bottom-right\",\"kind\":null,\"name\":\"position\"},{\"default\":0,\"kind\":null,\"name\":\"_clear\"},{\"default\":[{\"background\":\"#ffc107\",\"icon\":{\"className\":\"fas fa-exclamation-triangle\",\"color\":\"white\",\"tagName\":\"i\"},\"type\":\"warning\"},{\"background\":\"#007bff\",\"icon\":{\"className\":\"fas fa-info-circle\",\"color\":\"white\",\"tagName\":\"i\"},\"type\":\"info\"}],\"kind\":null,\"name\":\"types\"}]},{\"extends\":null,\"module\":null,\"name\":\"Notification\",\"overrides\":[],\"properties\":[{\"default\":null,\"kind\":null,\"name\":\"background\"},{\"default\":3000,\"kind\":null,\"name\":\"duration\"},{\"default\":null,\"kind\":null,\"name\":\"icon\"},{\"default\":\"\",\"kind\":null,\"name\":\"message\"},{\"default\":null,\"kind\":null,\"name\":\"notification_type\"},{\"default\":false,\"kind\":null,\"name\":\"_destroyed\"}]},{\"extends\":null,\"module\":null,\"name\":\"TemplateActions1\",\"overrides\":[],\"properties\":[{\"default\":0,\"kind\":null,\"name\":\"open_modal\"},{\"default\":0,\"kind\":null,\"name\":\"close_modal\"}]},{\"extends\":null,\"module\":null,\"name\":\"MaterialTemplateActions1\",\"overrides\":[],\"properties\":[{\"default\":0,\"kind\":null,\"name\":\"open_modal\"},{\"default\":0,\"kind\":null,\"name\":\"close_modal\"}]}],\"roots\":{\"references\":[{\"attributes\":{\"end\":11,\"margin\":[5,10,5,10],\"start\":0.0,\"step\":0.1,\"title\":\"\\u017duvies svoris kg\",\"value\":0.1},\"id\":\"43479\",\"type\":\"Slider\"},{\"attributes\":{\"children\":[{\"id\":\"43479\"},{\"id\":\"43480\"}],\"margin\":[0,0,0,0],\"name\":\"Column20072\"},\"id\":\"43478\",\"type\":\"Column\"},{\"attributes\":{\"indices\":[]},\"id\":\"43484\",\"type\":\"Selection\"},{\"attributes\":{},\"id\":\"43502\",\"type\":\"NumberEditor\"},{\"attributes\":{\"format\":\"0,0.0[00000]\",\"text_align\":\"right\"},\"id\":\"43501\",\"type\":\"NumberFormatter\"},{\"attributes\":{\"children\":[{\"id\":\"43477\"},{\"id\":\"43482\"}],\"margin\":[0,0,0,0],\"name\":\"Column20105\"},\"id\":\"43476\",\"type\":\"Column\"},{\"attributes\":{\"editor\":{\"id\":\"43487\"},\"field\":\"index\",\"formatter\":{\"id\":\"43485\"},\"title\":\"index\",\"width\":0},\"id\":\"43488\",\"type\":\"TableColumn\"},{\"attributes\":{\"text_align\":\"left\"},\"id\":\"43485\",\"type\":\"NumberFormatter\"},{\"attributes\":{},\"id\":\"43487\",\"type\":\"CellEditor\"},{\"attributes\":{\"columns\":[{\"id\":\"43488\"},{\"id\":\"43493\"},{\"id\":\"43498\"},{\"id\":\"43503\"}],\"configuration\":{\"columns\":[{\"field\":\"index\",\"sorter\":\"number\"},{\"field\":\"Savivaldyb\\u0117\"},{\"field\":\"Vandens telkinio pavadinimas\"},{\"field\":\"Biomas\\u0117(kg)\",\"sorter\":\"number\"}],\"dataTree\":false,\"selectable\":true},\"indexes\":[\"index\"],\"layout\":\"fit_data_table\",\"margin\":[5,10,5,10],\"max_page\":6,\"name\":\"\",\"page\":1,\"page_size\":10,\"pagination\":\"remote\",\"select_mode\":true,\"selectable_rows\":null,\"sizing_mode\":\"stretch_width\",\"source\":{\"id\":\"43483\"},\"styles\":{\"data\":{},\"id\":\"349cad3ad6bc431ea777e0bcd0651f21\"},\"subscribed_events\":[\"cell-click\",\"table-edit\"],\"theme_url\":\"https://cdn.jsdelivr.net/npm/@holoviz/panel@0.14.4/dist/bundled/datatabulator/tabulator-tables@5.3.2/dist/css/\"},\"id\":\"43506\",\"type\":\"panel.models.tabulator.DataTabulator\"},{\"attributes\":{\"editor\":{\"id\":\"43497\"},\"field\":\"Vandens telkinio pavadinimas\",\"formatter\":{\"id\":\"43496\"},\"title\":\"Vandens telkinio pavadinimas\",\"width\":0},\"id\":\"43498\",\"type\":\"TableColumn\"},{\"attributes\":{},\"id\":\"43497\",\"type\":\"StringEditor\"},{\"attributes\":{\"margin\":[5,5,5,5],\"name\":\"HSpacer20103\",\"sizing_mode\":\"stretch_width\"},\"id\":\"43481\",\"type\":\"Spacer\"},{\"attributes\":{\"editor\":{\"id\":\"43492\"},\"field\":\"Savivaldyb\\u0117\",\"formatter\":{\"id\":\"43491\"},\"title\":\"Savivaldyb\\u0117\",\"width\":0},\"id\":\"43493\",\"type\":\"TableColumn\"},{\"attributes\":{\"children\":[{\"id\":\"43478\"},{\"id\":\"43481\"}],\"margin\":[0,0,0,0],\"name\":\"Row20104\"},\"id\":\"43477\",\"type\":\"Row\"},{\"attributes\":{\"client_comm_id\":\"9c4eb283b5114f1ba7fb2bcf201c69fb\",\"comm_id\":\"c754d682b7ce443a9a03161fa9382dab\",\"plot_id\":\"43475\"},\"id\":\"43514\",\"type\":\"panel.models.comm_manager.CommManager\"},{\"attributes\":{\"children\":[{\"id\":\"43506\"}],\"margin\":[0,0,0,0],\"name\":\"Row20077\",\"sizing_mode\":\"stretch_width\"},\"id\":\"43482\",\"type\":\"Row\"},{\"attributes\":{\"active\":0,\"button_type\":\"light\",\"labels\":[\"Biomas\\u0117(kg)\",\"Pl\\u0117\\u0161rios(kg)\"],\"margin\":[5,10,5,10]},\"id\":\"43480\",\"type\":\"RadioButtonGroup\"},{\"attributes\":{},\"id\":\"43496\",\"type\":\"StringFormatter\"},{\"attributes\":{},\"id\":\"43508\",\"type\":\"UnionRenderers\"},{\"attributes\":{},\"id\":\"43491\",\"type\":\"StringFormatter\"},{\"attributes\":{\"editor\":{\"id\":\"43502\"},\"field\":\"Biomas\\u0117(kg)\",\"formatter\":{\"id\":\"43501\"},\"title\":\"Biomas\\u0117(kg)\",\"width\":0},\"id\":\"43503\",\"type\":\"TableColumn\"},{\"attributes\":{},\"id\":\"43492\",\"type\":\"StringEditor\"},{\"attributes\":{\"children\":[{\"id\":\"43476\"}],\"margin\":[0,0,0,0],\"name\":\"Row20106\"},\"id\":\"43475\",\"type\":\"Row\"},{\"attributes\":{\"data\":{\"Biomas\\u0117(kg)\":{\"__ndarray__\":\"ZmZmZmbmEEDP91PjpZsGQCuHFtnO9xFAObTIdr6fD0C8dJMYBFYHQG8Sg8DKofM/zczMzMzMEUASg8DKoUULQMP1KFyPwgtA30+Nl24SA0A=\",\"dtype\":\"float64\",\"order\":\"little\",\"shape\":[10]},\"Savivaldyb\\u0117\":[\"Akmen\\u0117s r. sav.\",\"Alytaus r. sav.\",\"Alytaus r. sav.\",\"Druskinink\\u0173 sav.\",\"Druskinink\\u0173 sav.\",\"Ignalinos r. sav.\",\"Ignalinos r. sav.\",\"Ignalinos r. sav.\",\"Ignalinos r. sav.\",\"Ignalinos r. sav.\"],\"Vandens telkinio pavadinimas\":[\"Sablauski\\u0173 tvenkinys\",\"Atesys\",\"Suvingis\",\"Aviris\",\"Vilkas\",\"Almajas\",\"Apvardai\",\"Asalnai\",\"Gavys\",\"L\\u016b\\u0161iai\"],\"index\":[0,1,2,3,4,5,6,7,8,9]},\"selected\":{\"id\":\"43484\"},\"selection_policy\":{\"id\":\"43508\"}},\"id\":\"43483\",\"type\":\"ColumnDataSource\"}],\"root_ids\":[\"43475\",\"43514\"]},\"title\":\"Bokeh Application\",\"version\":\"2.4.3\"}};\n",
       "    var render_items = [{\"docid\":\"569bdc8e-21eb-4812-909a-b8747f46b0a3\",\"root_ids\":[\"43475\"],\"roots\":{\"43475\":\"3b96d42f-7bad-4c50-bf40-44745bdbda18\"}}];\n",
       "    root.Bokeh.embed.embed_items_notebook(docs_json, render_items);\n",
       "    for (const render_item of render_items) {\n",
       "      for (const root_id of render_item.root_ids) {\n",
       "\tconst id_el = document.getElementById(root_id)\n",
       "\tif (id_el.children.length && (id_el.children[0].className === 'bk-root')) {\n",
       "\t  const root_el = id_el.children[0]\n",
       "\t  root_el.id = root_el.id + '-rendered'\n",
       "\t}\n",
       "      }\n",
       "    }\n",
       "  }\n",
       "  if (root.Bokeh !== undefined && root.Bokeh.Panel !== undefined && ( root['Tabulator'] !== undefined) && ( root['Tabulator'] !== undefined)) {\n",
       "    embed_document(root);\n",
       "  } else {\n",
       "    var attempts = 0;\n",
       "    var timer = setInterval(function(root) {\n",
       "      if (root.Bokeh !== undefined && root.Bokeh.Panel !== undefined && (root['Tabulator'] !== undefined) && (root['Tabulator'] !== undefined)) {\n",
       "        clearInterval(timer);\n",
       "        embed_document(root);\n",
       "      } else if (document.readyState == \"complete\") {\n",
       "        attempts++;\n",
       "        if (attempts > 200) {\n",
       "          clearInterval(timer);\n",
       "          console.log(\"Bokeh: ERROR: Unable to run BokehJS code because BokehJS library is missing\");\n",
       "        }\n",
       "      }\n",
       "    }, 25, root)\n",
       "  }\n",
       "})(window);</script>"
      ],
      "text/plain": [
       "<hvplot.interactive.Interactive at 0x248e0853650>"
      ]
     },
     "execution_count": 104,
     "metadata": {
      "application/vnd.holoviews_exec.v0+json": {
       "id": "43475"
      }
     },
     "output_type": "execute_result"
    }
   ],
   "source": [
    "mano_table = mano_pipeline.pipe(pn.widgets.Tabulator,\n",
    "                             pagination = 'remote',\n",
    "                             page_size = 10,\n",
    "                             sizing_mode ='stretch_width')\n",
    "mano_table"
   ]
  },
  {
   "cell_type": "code",
   "execution_count": 105,
   "id": "902c205c-c875-48b1-8097-aa717a06fca0",
   "metadata": {
    "tags": []
   },
   "outputs": [],
   "source": [
    "# # stulpeline diagrama. \n",
    "\n",
    "# y_asis_ezerai = pn.widgets.RadioButtonGroup(\n",
    "#          name='Y axis',\n",
    "#          options=['Biomasė(kg)','Karšis(Gausumas)', 'Ešerys (Gausumas)'],\n",
    "#          button_type = 'light'\n",
    "# )\n",
    "\n",
    "# vietoves = ['Utenos r. sav.', 'Ignalinos r. sav.', 'Molėtų r. sav.',\n",
    "#        'Trakų r. sav.', 'Marijampolės sav.', 'Zarasų r. sav.',\n",
    "#        'Alytaus r. sav.', 'Druskininkų sav.', 'Lazdijų r. sav.',\n",
    "#        'Švenčionių r. sav.', 'Rokiškio r. sav.', 'Telšių r. sav.',\n",
    "#        'Pakruojo r. sav.', 'Šalčininkų r. sav.', 'Šiaulių r. sav.',\n",
    "#        'Ukmergės r. sav.', 'Kėdainių r. sav.', 'Kretingos r. sav.',\n",
    "#        'Kaišiadorių r. sav.', 'Šilalės r. sav.', 'Akmenės r. sav.']\n",
    "\n",
    "\n",
    "# stulpeline_pipeline = (\n",
    "#         idf[\n",
    "#                 (idf.index==tvenkiniai) &\n",
    "#                 (idf['Savivaldybė'].isin(vietoves))\n",
    "#             ]\n",
    "#             .groupby(['Savivaldybė','Vandens telkinio pavadinimas'])[y_asis_ezerai].sum()\n",
    "#             .to_frame()\n",
    "#             .reset_index()\n",
    "#             .sort_values(by='Savivaldybė')\n",
    "#             .reset_index(drop=True)\n",
    "# )\n",
    "\n",
    "# stulpeline = stulpeline_pipeline.hvplot(kind='bar',\n",
    "#                                         x = 'Savivaldybė',\n",
    "#                                         y = y_asis_ezerai,\n",
    "#                                         title='Vandens telkiniai pagal savivaldybę'\n",
    "#                                         )\n",
    "\n",
    "\n"
   ]
  },
  {
   "cell_type": "code",
   "execution_count": 106,
   "id": "c8b2dcaa-d62a-4cd4-af1d-e479c92a2143",
   "metadata": {
    "tags": []
   },
   "outputs": [],
   "source": [
    "#stulpeline"
   ]
  },
  {
   "cell_type": "code",
   "execution_count": 107,
   "id": "304d8bfb-e7f9-471e-a973-2bf015e866d9",
   "metadata": {
    "tags": []
   },
   "outputs": [],
   "source": [
    "grafikas_trys = df.hvplot.scatter(x='Savivaldybė', rot=90, y='Biomasė(kg)', by='Žuvų būklės indeksas', \n",
    "                  legend='right', height=600, width=800, title=\"Svoris kilogramais pagal savivaldybes ir telkinių būklę\")"
   ]
  },
  {
   "cell_type": "code",
   "execution_count": 108,
   "id": "c6ac96a4-b63b-48b2-9218-19cc7a884f9f",
   "metadata": {
    "tags": []
   },
   "outputs": [
    {
     "data": {
      "application/vnd.holoviews_exec.v0+json": "",
      "text/html": [
       "<div id='43525'>\n",
       "  <div class=\"bk-root\" id=\"5aecb6c7-307f-4713-8dec-17a8eb5bbf9a\" data-root-id=\"43525\"></div>\n",
       "</div>\n",
       "<script type=\"application/javascript\">(function(root) {\n",
       "  function embed_document(root) {\n",
       "    var docs_json = {\"9b707eaf-5075-4653-98b9-5f63ce37cdd8\":{\"defs\":[{\"extends\":null,\"module\":null,\"name\":\"ReactiveHTML1\",\"overrides\":[],\"properties\":[]},{\"extends\":null,\"module\":null,\"name\":\"FlexBox1\",\"overrides\":[],\"properties\":[{\"default\":\"flex-start\",\"kind\":null,\"name\":\"align_content\"},{\"default\":\"flex-start\",\"kind\":null,\"name\":\"align_items\"},{\"default\":\"row\",\"kind\":null,\"name\":\"flex_direction\"},{\"default\":\"wrap\",\"kind\":null,\"name\":\"flex_wrap\"},{\"default\":\"flex-start\",\"kind\":null,\"name\":\"justify_content\"}]},{\"extends\":null,\"module\":null,\"name\":\"GridStack1\",\"overrides\":[],\"properties\":[{\"default\":\"warn\",\"kind\":null,\"name\":\"mode\"},{\"default\":null,\"kind\":null,\"name\":\"ncols\"},{\"default\":null,\"kind\":null,\"name\":\"nrows\"},{\"default\":true,\"kind\":null,\"name\":\"allow_resize\"},{\"default\":true,\"kind\":null,\"name\":\"allow_drag\"},{\"default\":[],\"kind\":null,\"name\":\"state\"}]},{\"extends\":null,\"module\":null,\"name\":\"click1\",\"overrides\":[],\"properties\":[{\"default\":\"\",\"kind\":null,\"name\":\"terminal_output\"},{\"default\":\"\",\"kind\":null,\"name\":\"debug_name\"},{\"default\":0,\"kind\":null,\"name\":\"clears\"}]},{\"extends\":null,\"module\":null,\"name\":\"NotificationAreaBase1\",\"overrides\":[],\"properties\":[{\"default\":\"bottom-right\",\"kind\":null,\"name\":\"position\"},{\"default\":0,\"kind\":null,\"name\":\"_clear\"}]},{\"extends\":null,\"module\":null,\"name\":\"NotificationArea1\",\"overrides\":[],\"properties\":[{\"default\":[],\"kind\":null,\"name\":\"notifications\"},{\"default\":\"bottom-right\",\"kind\":null,\"name\":\"position\"},{\"default\":0,\"kind\":null,\"name\":\"_clear\"},{\"default\":[{\"background\":\"#ffc107\",\"icon\":{\"className\":\"fas fa-exclamation-triangle\",\"color\":\"white\",\"tagName\":\"i\"},\"type\":\"warning\"},{\"background\":\"#007bff\",\"icon\":{\"className\":\"fas fa-info-circle\",\"color\":\"white\",\"tagName\":\"i\"},\"type\":\"info\"}],\"kind\":null,\"name\":\"types\"}]},{\"extends\":null,\"module\":null,\"name\":\"Notification\",\"overrides\":[],\"properties\":[{\"default\":null,\"kind\":null,\"name\":\"background\"},{\"default\":3000,\"kind\":null,\"name\":\"duration\"},{\"default\":null,\"kind\":null,\"name\":\"icon\"},{\"default\":\"\",\"kind\":null,\"name\":\"message\"},{\"default\":null,\"kind\":null,\"name\":\"notification_type\"},{\"default\":false,\"kind\":null,\"name\":\"_destroyed\"}]},{\"extends\":null,\"module\":null,\"name\":\"TemplateActions1\",\"overrides\":[],\"properties\":[{\"default\":0,\"kind\":null,\"name\":\"open_modal\"},{\"default\":0,\"kind\":null,\"name\":\"close_modal\"}]},{\"extends\":null,\"module\":null,\"name\":\"MaterialTemplateActions1\",\"overrides\":[],\"properties\":[{\"default\":0,\"kind\":null,\"name\":\"open_modal\"},{\"default\":0,\"kind\":null,\"name\":\"close_modal\"}]}],\"roots\":{\"references\":[{\"attributes\":{\"label\":{\"value\":\"0.67\"},\"renderers\":[{\"id\":\"44999\"}]},\"id\":\"45069\",\"type\":\"LegendItem\"},{\"attributes\":{\"fill_alpha\":{\"value\":0.2},\"fill_color\":{\"value\":\"#8b8b8b\"},\"hatch_alpha\":{\"value\":0.2},\"hatch_color\":{\"value\":\"#8b8b8b\"},\"line_alpha\":{\"value\":0.2},\"line_color\":{\"value\":\"#8b8b8b\"},\"size\":{\"value\":5.477225575051661},\"x\":{\"field\":\"Savivaldyb\\u0117\"},\"y\":{\"field\":\"Biomas\\u0117(kg)\"}},\"id\":\"44166\",\"type\":\"Scatter\"},{\"attributes\":{\"axis_label\":\"Savivaldyb\\u0117\",\"coordinates\":null,\"formatter\":{\"id\":\"43595\"},\"group\":null,\"major_label_orientation\":1.5707963267948966,\"major_label_policy\":{\"id\":\"43596\"},\"ticker\":{\"id\":\"43575\"}},\"id\":\"43574\",\"type\":\"CategoricalAxis\"},{\"attributes\":{\"fill_alpha\":{\"value\":0.2},\"fill_color\":{\"value\":\"#d62728\"},\"hatch_alpha\":{\"value\":0.2},\"hatch_color\":{\"value\":\"#d62728\"},\"line_alpha\":{\"value\":0.2},\"line_color\":{\"value\":\"#d62728\"},\"size\":{\"value\":5.477225575051661},\"x\":{\"field\":\"Savivaldyb\\u0117\"},\"y\":{\"field\":\"Biomas\\u0117(kg)\"}},\"id\":\"44328\",\"type\":\"Scatter\"},{\"attributes\":{\"fill_alpha\":{\"value\":0.1},\"fill_color\":{\"value\":\"#8c564b\"},\"hatch_alpha\":{\"value\":0.1},\"hatch_color\":{\"value\":\"#8c564b\"},\"line_alpha\":{\"value\":0.1},\"line_color\":{\"value\":\"#8c564b\"},\"size\":{\"value\":5.477225575051661},\"x\":{\"field\":\"Savivaldyb\\u0117\"},\"y\":{\"field\":\"Biomas\\u0117(kg)\"}},\"id\":\"44507\",\"type\":\"Scatter\"},{\"attributes\":{\"data\":{\"Biomas\\u0117(kg)\":{\"__ndarray__\":\"L90kBoEVH0A=\",\"dtype\":\"float64\",\"order\":\"little\",\"shape\":[1]},\"Biomas\\u0117_left_parenthesis_kg_right_parenthesis\":{\"__ndarray__\":\"L90kBoEVH0A=\",\"dtype\":\"float64\",\"order\":\"little\",\"shape\":[1]},\"Savivaldyb\\u0117\":[\"Elektr\\u0117n\\u0173 sav.\"],\"\\u017duv\\u0173_b\\u016bkl\\u0117s_indeksas\":[0.4]},\"selected\":{\"id\":\"43854\"},\"selection_policy\":{\"id\":\"43886\"}},\"id\":\"43853\",\"type\":\"ColumnDataSource\"},{\"attributes\":{\"coordinates\":null,\"data_source\":{\"id\":\"43891\"},\"glyph\":{\"id\":\"43894\"},\"group\":null,\"hover_glyph\":null,\"muted_glyph\":{\"id\":\"43896\"},\"nonselection_glyph\":{\"id\":\"43895\"},\"selection_glyph\":{\"id\":\"43930\"},\"view\":{\"id\":\"43898\"}},\"id\":\"43897\",\"type\":\"GlyphRenderer\"},{\"attributes\":{\"coordinates\":null,\"data_source\":{\"id\":\"44503\"},\"glyph\":{\"id\":\"44506\"},\"group\":null,\"hover_glyph\":null,\"muted_glyph\":{\"id\":\"44508\"},\"nonselection_glyph\":{\"id\":\"44507\"},\"selection_glyph\":{\"id\":\"44566\"},\"view\":{\"id\":\"44510\"}},\"id\":\"44509\",\"type\":\"GlyphRenderer\"},{\"attributes\":{\"coordinates\":null,\"data_source\":{\"id\":\"44161\"},\"glyph\":{\"id\":\"44164\"},\"group\":null,\"hover_glyph\":null,\"muted_glyph\":{\"id\":\"44166\"},\"nonselection_glyph\":{\"id\":\"44165\"},\"selection_glyph\":{\"id\":\"44212\"},\"view\":{\"id\":\"44168\"}},\"id\":\"44167\",\"type\":\"GlyphRenderer\"},{\"attributes\":{\"fill_alpha\":{\"value\":0.2},\"fill_color\":{\"value\":\"#8c564b\"},\"hatch_alpha\":{\"value\":0.2},\"hatch_color\":{\"value\":\"#8c564b\"},\"line_alpha\":{\"value\":0.2},\"line_color\":{\"value\":\"#8c564b\"},\"size\":{\"value\":5.477225575051661},\"x\":{\"field\":\"Savivaldyb\\u0117\"},\"y\":{\"field\":\"Biomas\\u0117(kg)\"}},\"id\":\"44508\",\"type\":\"Scatter\"},{\"attributes\":{\"coordinates\":null,\"data_source\":{\"id\":\"44323\"},\"glyph\":{\"id\":\"44326\"},\"group\":null,\"hover_glyph\":null,\"muted_glyph\":{\"id\":\"44328\"},\"nonselection_glyph\":{\"id\":\"44327\"},\"selection_glyph\":{\"id\":\"44380\"},\"view\":{\"id\":\"44330\"}},\"id\":\"44329\",\"type\":\"GlyphRenderer\"},{\"attributes\":{\"source\":{\"id\":\"45071\"}},\"id\":\"45078\",\"type\":\"CDSView\"},{\"attributes\":{\"angle\":{\"value\":0.0},\"fill_alpha\":{\"value\":1.0},\"fill_color\":{\"value\":\"#bcbd22\"},\"hatch_alpha\":{\"value\":1.0},\"hatch_color\":{\"value\":\"#bcbd22\"},\"hatch_scale\":{\"value\":12.0},\"hatch_weight\":{\"value\":1.0},\"line_alpha\":{\"value\":1.0},\"line_cap\":{\"value\":\"butt\"},\"line_color\":{\"value\":\"#bcbd22\"},\"line_dash\":{\"value\":[]},\"line_dash_offset\":{\"value\":0},\"line_join\":{\"value\":\"bevel\"},\"line_width\":{\"value\":1},\"marker\":{\"value\":\"circle\"},\"size\":{\"value\":5.477225575051661},\"x\":{\"field\":\"Savivaldyb\\u0117\"},\"y\":{\"field\":\"Biomas\\u0117(kg)\"}},\"id\":\"45580\",\"type\":\"Scatter\"},{\"attributes\":{},\"id\":\"45576\",\"type\":\"UnionRenderers\"},{\"attributes\":{\"fill_alpha\":{\"value\":0.1},\"fill_color\":{\"value\":\"#d62728\"},\"hatch_alpha\":{\"value\":0.1},\"hatch_color\":{\"value\":\"#d62728\"},\"line_alpha\":{\"value\":0.1},\"line_color\":{\"value\":\"#d62728\"},\"size\":{\"value\":5.477225575051661},\"x\":{\"field\":\"Savivaldyb\\u0117\"},\"y\":{\"field\":\"Biomas\\u0117(kg)\"}},\"id\":\"44327\",\"type\":\"Scatter\"},{\"attributes\":{\"fill_alpha\":{\"value\":0.1},\"fill_color\":{\"value\":\"#8b8b8b\"},\"hatch_alpha\":{\"value\":0.1},\"hatch_color\":{\"value\":\"#8b8b8b\"},\"line_alpha\":{\"value\":0.1},\"line_color\":{\"value\":\"#8b8b8b\"},\"size\":{\"value\":5.477225575051661},\"x\":{\"field\":\"Savivaldyb\\u0117\"},\"y\":{\"field\":\"Biomas\\u0117(kg)\"}},\"id\":\"44165\",\"type\":\"Scatter\"},{\"attributes\":{\"data\":{\"Biomas\\u0117(kg)\":{\"__ndarray__\":\"1XjpJjEI+j8=\",\"dtype\":\"float64\",\"order\":\"little\",\"shape\":[1]},\"Biomas\\u0117_left_parenthesis_kg_right_parenthesis\":{\"__ndarray__\":\"1XjpJjEI+j8=\",\"dtype\":\"float64\",\"order\":\"little\",\"shape\":[1]},\"Savivaldyb\\u0117\":[\"Utenos r. sav.\"],\"\\u017duv\\u0173_b\\u016bkl\\u0117s_indeksas\":[0.21]},\"selected\":{\"id\":\"43601\"},\"selection_policy\":{\"id\":\"43615\"}},\"id\":\"43600\",\"type\":\"ColumnDataSource\"},{\"attributes\":{\"fill_color\":{\"value\":\"#fc4f30\"},\"hatch_color\":{\"value\":\"#fc4f30\"},\"line_color\":{\"value\":\"#fc4f30\"},\"size\":{\"value\":5.477225575051661},\"x\":{\"field\":\"Savivaldyb\\u0117\"},\"y\":{\"field\":\"Biomas\\u0117(kg)\"}},\"id\":\"44020\",\"type\":\"Scatter\"},{\"attributes\":{\"angle\":{\"value\":0.0},\"fill_alpha\":{\"value\":1.0},\"fill_color\":{\"value\":\"#e5ae38\"},\"hatch_alpha\":{\"value\":1.0},\"hatch_color\":{\"value\":\"#e5ae38\"},\"hatch_scale\":{\"value\":12.0},\"hatch_weight\":{\"value\":1.0},\"line_alpha\":{\"value\":1.0},\"line_cap\":{\"value\":\"butt\"},\"line_color\":{\"value\":\"#e5ae38\"},\"line_dash\":{\"value\":[]},\"line_dash_offset\":{\"value\":0},\"line_join\":{\"value\":\"bevel\"},\"line_width\":{\"value\":1},\"marker\":{\"value\":\"circle\"},\"size\":{\"value\":5.477225575051661},\"x\":{\"field\":\"Savivaldyb\\u0117\"},\"y\":{\"field\":\"Biomas\\u0117(kg)\"}},\"id\":\"44110\",\"type\":\"Scatter\"},{\"attributes\":{\"angle\":{\"value\":0.0},\"fill_alpha\":{\"value\":1.0},\"fill_color\":{\"value\":\"#e5ae38\"},\"hatch_alpha\":{\"value\":1.0},\"hatch_color\":{\"value\":\"#e5ae38\"},\"hatch_scale\":{\"value\":12.0},\"hatch_weight\":{\"value\":1.0},\"line_alpha\":{\"value\":1.0},\"line_cap\":{\"value\":\"butt\"},\"line_color\":{\"value\":\"#e5ae38\"},\"line_dash\":{\"value\":[]},\"line_dash_offset\":{\"value\":0},\"line_join\":{\"value\":\"bevel\"},\"line_width\":{\"value\":1},\"marker\":{\"value\":\"circle\"},\"size\":{\"value\":5.477225575051661},\"x\":{\"field\":\"Savivaldyb\\u0117\"},\"y\":{\"field\":\"Biomas\\u0117(kg)\"}},\"id\":\"43666\",\"type\":\"Scatter\"},{\"attributes\":{\"fill_alpha\":{\"value\":0.1},\"fill_color\":{\"value\":\"#fc4f30\"},\"hatch_alpha\":{\"value\":0.1},\"hatch_color\":{\"value\":\"#fc4f30\"},\"line_alpha\":{\"value\":0.1},\"line_color\":{\"value\":\"#fc4f30\"},\"size\":{\"value\":5.477225575051661},\"x\":{\"field\":\"Savivaldyb\\u0117\"},\"y\":{\"field\":\"Biomas\\u0117(kg)\"}},\"id\":\"44021\",\"type\":\"Scatter\"},{\"attributes\":{},\"id\":\"45234\",\"type\":\"Selection\"},{\"attributes\":{\"coordinates\":null,\"data_source\":{\"id\":\"44017\"},\"glyph\":{\"id\":\"44020\"},\"group\":null,\"hover_glyph\":null,\"muted_glyph\":{\"id\":\"44022\"},\"nonselection_glyph\":{\"id\":\"44021\"},\"selection_glyph\":{\"id\":\"44062\"},\"view\":{\"id\":\"44024\"}},\"id\":\"44023\",\"type\":\"GlyphRenderer\"},{\"attributes\":{\"angle\":{\"value\":0.0},\"fill_alpha\":{\"value\":1.0},\"fill_color\":{\"value\":\"#17becf\"},\"hatch_alpha\":{\"value\":1.0},\"hatch_color\":{\"value\":\"#17becf\"},\"hatch_scale\":{\"value\":12.0},\"hatch_weight\":{\"value\":1.0},\"line_alpha\":{\"value\":1.0},\"line_cap\":{\"value\":\"butt\"},\"line_color\":{\"value\":\"#17becf\"},\"line_dash\":{\"value\":[]},\"line_dash_offset\":{\"value\":0},\"line_join\":{\"value\":\"bevel\"},\"line_width\":{\"value\":1},\"marker\":{\"value\":\"circle\"},\"size\":{\"value\":5.477225575051661},\"x\":{\"field\":\"Savivaldyb\\u0117\"},\"y\":{\"field\":\"Biomas\\u0117(kg)\"}},\"id\":\"43750\",\"type\":\"Scatter\"},{\"attributes\":{\"fill_alpha\":{\"value\":0.2},\"fill_color\":{\"value\":\"#fc4f30\"},\"hatch_alpha\":{\"value\":0.2},\"hatch_color\":{\"value\":\"#fc4f30\"},\"line_alpha\":{\"value\":0.2},\"line_color\":{\"value\":\"#fc4f30\"},\"size\":{\"value\":5.477225575051661},\"x\":{\"field\":\"Savivaldyb\\u0117\"},\"y\":{\"field\":\"Biomas\\u0117(kg)\"}},\"id\":\"44022\",\"type\":\"Scatter\"},{\"attributes\":{\"fill_color\":{\"value\":\"#8c564b\"},\"hatch_color\":{\"value\":\"#8c564b\"},\"line_color\":{\"value\":\"#8c564b\"},\"size\":{\"value\":5.477225575051661},\"x\":{\"field\":\"Savivaldyb\\u0117\"},\"y\":{\"field\":\"Biomas\\u0117(kg)\"}},\"id\":\"43894\",\"type\":\"Scatter\"},{\"attributes\":{\"angle\":{\"value\":0.0},\"fill_alpha\":{\"value\":1.0},\"fill_color\":{\"value\":\"#bcbd22\"},\"hatch_alpha\":{\"value\":1.0},\"hatch_color\":{\"value\":\"#bcbd22\"},\"hatch_scale\":{\"value\":12.0},\"hatch_weight\":{\"value\":1.0},\"line_alpha\":{\"value\":1.0},\"line_cap\":{\"value\":\"butt\"},\"line_color\":{\"value\":\"#bcbd22\"},\"line_dash\":{\"value\":[]},\"line_dash_offset\":{\"value\":0},\"line_join\":{\"value\":\"bevel\"},\"line_width\":{\"value\":1},\"marker\":{\"value\":\"circle\"},\"size\":{\"value\":5.477225575051661},\"x\":{\"field\":\"Savivaldyb\\u0117\"},\"y\":{\"field\":\"Biomas\\u0117(kg)\"}},\"id\":\"43972\",\"type\":\"Scatter\"},{\"attributes\":{\"angle\":{\"value\":0.0},\"fill_alpha\":{\"value\":1.0},\"fill_color\":{\"value\":\"#1f77b4\"},\"hatch_alpha\":{\"value\":1.0},\"hatch_color\":{\"value\":\"#1f77b4\"},\"hatch_scale\":{\"value\":12.0},\"hatch_weight\":{\"value\":1.0},\"line_alpha\":{\"value\":1.0},\"line_cap\":{\"value\":\"butt\"},\"line_color\":{\"value\":\"#1f77b4\"},\"line_dash\":{\"value\":[]},\"line_dash_offset\":{\"value\":0},\"line_join\":{\"value\":\"bevel\"},\"line_width\":{\"value\":1},\"marker\":{\"value\":\"circle\"},\"size\":{\"value\":5.477225575051661},\"x\":{\"field\":\"Savivaldyb\\u0117\"},\"y\":{\"field\":\"Biomas\\u0117(kg)\"}},\"id\":\"43852\",\"type\":\"Scatter\"},{\"attributes\":{\"source\":{\"id\":\"44161\"}},\"id\":\"44168\",\"type\":\"CDSView\"},{\"attributes\":{\"fill_alpha\":{\"value\":0.1},\"fill_color\":{\"value\":\"#6d904f\"},\"hatch_alpha\":{\"value\":0.1},\"hatch_color\":{\"value\":\"#6d904f\"},\"line_alpha\":{\"value\":0.1},\"line_color\":{\"value\":\"#6d904f\"},\"size\":{\"value\":5.477225575051661},\"x\":{\"field\":\"Savivaldyb\\u0117\"},\"y\":{\"field\":\"Biomas\\u0117(kg)\"}},\"id\":\"44847\",\"type\":\"Scatter\"},{\"attributes\":{\"source\":{\"id\":\"44323\"}},\"id\":\"44330\",\"type\":\"CDSView\"},{\"attributes\":{\"fill_alpha\":{\"value\":0.2},\"fill_color\":{\"value\":\"#30a2da\"},\"hatch_alpha\":{\"value\":0.2},\"hatch_color\":{\"value\":\"#30a2da\"},\"line_alpha\":{\"value\":0.2},\"line_color\":{\"value\":\"#30a2da\"},\"size\":{\"value\":5.477225575051661},\"x\":{\"field\":\"Savivaldyb\\u0117\"},\"y\":{\"field\":\"Biomas\\u0117(kg)\"}},\"id\":\"44638\",\"type\":\"Scatter\"},{\"attributes\":{},\"id\":\"45228\",\"type\":\"UnionRenderers\"},{\"attributes\":{\"data\":{\"Biomas\\u0117(kg)\":{\"__ndarray__\":\"w/UoXI/CC0A=\",\"dtype\":\"float64\",\"order\":\"little\",\"shape\":[1]},\"Biomas\\u0117_left_parenthesis_kg_right_parenthesis\":{\"__ndarray__\":\"w/UoXI/CC0A=\",\"dtype\":\"float64\",\"order\":\"little\",\"shape\":[1]},\"Savivaldyb\\u0117\":[\"Ignalinos r. sav.\"],\"\\u017duv\\u0173_b\\u016bkl\\u0117s_indeksas\":[0.51]},\"selected\":{\"id\":\"44324\"},\"selection_policy\":{\"id\":\"44376\"}},\"id\":\"44323\",\"type\":\"ColumnDataSource\"},{\"attributes\":{\"fill_alpha\":{\"value\":0.2},\"fill_color\":{\"value\":\"#8c564b\"},\"hatch_alpha\":{\"value\":0.2},\"hatch_color\":{\"value\":\"#8c564b\"},\"line_alpha\":{\"value\":0.2},\"line_color\":{\"value\":\"#8c564b\"},\"size\":{\"value\":5.477225575051661},\"x\":{\"field\":\"Savivaldyb\\u0117\"},\"y\":{\"field\":\"Biomas\\u0117(kg)\"}},\"id\":\"43896\",\"type\":\"Scatter\"},{\"attributes\":{},\"id\":\"43638\",\"type\":\"UnionRenderers\"},{\"attributes\":{\"angle\":{\"value\":0.0},\"fill_alpha\":{\"value\":1.0},\"fill_color\":{\"value\":\"#fc4f30\"},\"hatch_alpha\":{\"value\":1.0},\"hatch_color\":{\"value\":\"#fc4f30\"},\"hatch_scale\":{\"value\":12.0},\"hatch_weight\":{\"value\":1.0},\"line_alpha\":{\"value\":1.0},\"line_cap\":{\"value\":\"butt\"},\"line_color\":{\"value\":\"#fc4f30\"},\"line_dash\":{\"value\":[]},\"line_dash_offset\":{\"value\":0},\"line_join\":{\"value\":\"bevel\"},\"line_width\":{\"value\":1},\"marker\":{\"value\":\"circle\"},\"size\":{\"value\":5.477225575051661},\"x\":{\"field\":\"Savivaldyb\\u0117\"},\"y\":{\"field\":\"Biomas\\u0117(kg)\"}},\"id\":\"44770\",\"type\":\"Scatter\"},{\"attributes\":{\"data\":{\"Biomas\\u0117(kg)\":{\"__ndarray__\":\"4XoUrkfhFkCTGARWDq0RQA4tsp3vpwxA\",\"dtype\":\"float64\",\"order\":\"little\",\"shape\":[3]},\"Biomas\\u0117_left_parenthesis_kg_right_parenthesis\":{\"__ndarray__\":\"4XoUrkfhFkCTGARWDq0RQA4tsp3vpwxA\",\"dtype\":\"float64\",\"order\":\"little\",\"shape\":[3]},\"Savivaldyb\\u0117\":[\"Ukmerg\\u0117s r. sav.\",\"Ignalinos r. sav.\",\"\\u0160ilal\\u0117s r. sav.\"],\"\\u017duv\\u0173_b\\u016bkl\\u0117s_indeksas\":[0.45,0.45,0.45]},\"selected\":{\"id\":\"44018\"},\"selection_policy\":{\"id\":\"44058\"}},\"id\":\"44017\",\"type\":\"ColumnDataSource\"},{\"attributes\":{\"source\":{\"id\":\"44017\"}},\"id\":\"44024\",\"type\":\"CDSView\"},{\"attributes\":{},\"id\":\"44162\",\"type\":\"Selection\"},{\"attributes\":{\"data\":{\"Biomas\\u0117(kg)\":{\"__ndarray__\":\"exSuR+H6IUASg8DKoUULQA==\",\"dtype\":\"float64\",\"order\":\"little\",\"shape\":[2]},\"Biomas\\u0117_left_parenthesis_kg_right_parenthesis\":{\"__ndarray__\":\"exSuR+H6IUASg8DKoUULQA==\",\"dtype\":\"float64\",\"order\":\"little\",\"shape\":[2]},\"Savivaldyb\\u0117\":[\"Marijampol\\u0117s sav.\",\"Ignalinos r. sav.\"],\"\\u017duv\\u0173_b\\u016bkl\\u0117s_indeksas\":[0.63,0.63]},\"selected\":{\"id\":\"44772\"},\"selection_policy\":{\"id\":\"44838\"}},\"id\":\"44771\",\"type\":\"ColumnDataSource\"},{\"attributes\":{},\"id\":\"44268\",\"type\":\"Selection\"},{\"attributes\":{\"fill_alpha\":{\"value\":0.1},\"fill_color\":{\"value\":\"#d62728\"},\"hatch_alpha\":{\"value\":0.1},\"hatch_color\":{\"value\":\"#d62728\"},\"line_alpha\":{\"value\":0.1},\"line_color\":{\"value\":\"#d62728\"},\"size\":{\"value\":5.477225575051661},\"x\":{\"field\":\"Savivaldyb\\u0117\"},\"y\":{\"field\":\"Biomas\\u0117(kg)\"}},\"id\":\"43787\",\"type\":\"Scatter\"},{\"attributes\":{\"fill_alpha\":{\"value\":0.1},\"fill_color\":{\"value\":\"#30a2da\"},\"hatch_alpha\":{\"value\":0.1},\"hatch_color\":{\"value\":\"#30a2da\"},\"line_alpha\":{\"value\":0.1},\"line_color\":{\"value\":\"#30a2da\"},\"size\":{\"value\":5.477225575051661},\"x\":{\"field\":\"Savivaldyb\\u0117\"},\"y\":{\"field\":\"Biomas\\u0117(kg)\"}},\"id\":\"44637\",\"type\":\"Scatter\"},{\"attributes\":{\"fill_color\":{\"value\":\"#30a2da\"},\"hatch_color\":{\"value\":\"#30a2da\"},\"line_color\":{\"value\":\"#30a2da\"},\"size\":{\"value\":5.477225575051661},\"x\":{\"field\":\"Savivaldyb\\u0117\"},\"y\":{\"field\":\"Biomas\\u0117(kg)\"}},\"id\":\"45584\",\"type\":\"Scatter\"},{\"attributes\":{\"end\":11.6154,\"reset_end\":11.6154,\"reset_start\":0.2826000000000002,\"start\":0.2826000000000002,\"tags\":[[[\"Biomas\\u0117(kg)\",\"Biomas\\u0117(kg)\",null]]]},\"id\":\"43527\",\"type\":\"Range1d\"},{\"attributes\":{\"children\":[{\"id\":\"43565\"}],\"height\":600,\"margin\":[0,0,0,0],\"name\":\"Row20892\",\"sizing_mode\":\"fixed\",\"tags\":[\"embedded\"],\"width\":800},\"id\":\"43525\",\"type\":\"Row\"},{\"attributes\":{\"source\":{\"id\":\"43891\"}},\"id\":\"43898\",\"type\":\"CDSView\"},{\"attributes\":{},\"id\":\"44208\",\"type\":\"UnionRenderers\"},{\"attributes\":{\"data\":{\"Biomas\\u0117(kg)\":{\"__ndarray__\":\"j8L1KFxPI0A=\",\"dtype\":\"float64\",\"order\":\"little\",\"shape\":[1]},\"Biomas\\u0117_left_parenthesis_kg_right_parenthesis\":{\"__ndarray__\":\"j8L1KFxPI0A=\",\"dtype\":\"float64\",\"order\":\"little\",\"shape\":[1]},\"Savivaldyb\\u0117\":[\"\\u0160ven\\u010dioni\\u0173 r. sav.\"],\"\\u017duv\\u0173_b\\u016bkl\\u0117s_indeksas\":[0.76]},\"selected\":{\"id\":\"45318\"},\"selection_policy\":{\"id\":\"45398\"}},\"id\":\"45317\",\"type\":\"ColumnDataSource\"},{\"attributes\":{\"label\":{\"value\":\"0.65\"},\"renderers\":[{\"id\":\"44923\"}]},\"id\":\"44991\",\"type\":\"LegendItem\"},{\"attributes\":{\"fill_alpha\":{\"value\":0.2},\"fill_color\":{\"value\":\"#d62728\"},\"hatch_alpha\":{\"value\":0.2},\"hatch_color\":{\"value\":\"#d62728\"},\"line_alpha\":{\"value\":0.2},\"line_color\":{\"value\":\"#d62728\"},\"size\":{\"value\":5.477225575051661},\"x\":{\"field\":\"Savivaldyb\\u0117\"},\"y\":{\"field\":\"Biomas\\u0117(kg)\"}},\"id\":\"43788\",\"type\":\"Scatter\"},{\"attributes\":{\"fill_color\":{\"value\":\"#30a2da\"},\"hatch_color\":{\"value\":\"#30a2da\"},\"line_color\":{\"value\":\"#30a2da\"},\"size\":{\"value\":5.477225575051661},\"x\":{\"field\":\"Savivaldyb\\u0117\"},\"y\":{\"field\":\"Biomas\\u0117(kg)\"}},\"id\":\"44636\",\"type\":\"Scatter\"},{\"attributes\":{},\"id\":\"43716\",\"type\":\"UnionRenderers\"},{\"attributes\":{},\"id\":\"44382\",\"type\":\"Selection\"},{\"attributes\":{\"coordinates\":null,\"data_source\":{\"id\":\"43783\"},\"glyph\":{\"id\":\"43786\"},\"group\":null,\"hover_glyph\":null,\"muted_glyph\":{\"id\":\"43788\"},\"nonselection_glyph\":{\"id\":\"43787\"},\"selection_glyph\":{\"id\":\"43816\"},\"view\":{\"id\":\"43790\"}},\"id\":\"43789\",\"type\":\"GlyphRenderer\"},{\"attributes\":{\"fill_color\":{\"value\":\"#6d904f\"},\"hatch_color\":{\"value\":\"#6d904f\"},\"line_color\":{\"value\":\"#6d904f\"},\"size\":{\"value\":5.477225575051661},\"x\":{\"field\":\"Savivaldyb\\u0117\"},\"y\":{\"field\":\"Biomas\\u0117(kg)\"}},\"id\":\"44846\",\"type\":\"Scatter\"},{\"attributes\":{},\"id\":\"44112\",\"type\":\"Selection\"},{\"attributes\":{\"coordinates\":null,\"data_source\":{\"id\":\"43621\"},\"glyph\":{\"id\":\"43624\"},\"group\":null,\"hover_glyph\":null,\"muted_glyph\":{\"id\":\"43626\"},\"nonselection_glyph\":{\"id\":\"43625\"},\"selection_glyph\":{\"id\":\"43642\"},\"view\":{\"id\":\"43628\"}},\"id\":\"43627\",\"type\":\"GlyphRenderer\"},{\"attributes\":{\"data\":{\"Biomas\\u0117(kg)\":{\"__ndarray__\":\"AAAAAACAGEA=\",\"dtype\":\"float64\",\"order\":\"little\",\"shape\":[1]},\"Biomas\\u0117_left_parenthesis_kg_right_parenthesis\":{\"__ndarray__\":\"AAAAAACAGEA=\",\"dtype\":\"float64\",\"order\":\"little\",\"shape\":[1]},\"Savivaldyb\\u0117\":[\"Anyk\\u0161\\u010di\\u0173 r. sav.\"],\"\\u017duv\\u0173_b\\u016bkl\\u0117s_indeksas\":[0.35]},\"selected\":{\"id\":\"43784\"},\"selection_policy\":{\"id\":\"43812\"}},\"id\":\"43783\",\"type\":\"ColumnDataSource\"},{\"attributes\":{},\"id\":\"44214\",\"type\":\"Selection\"},{\"attributes\":{\"coordinates\":null,\"data_source\":{\"id\":\"45581\"},\"glyph\":{\"id\":\"45584\"},\"group\":null,\"hover_glyph\":null,\"muted_glyph\":{\"id\":\"45586\"},\"nonselection_glyph\":{\"id\":\"45585\"},\"selection_glyph\":{\"id\":\"45672\"},\"view\":{\"id\":\"45588\"}},\"id\":\"45587\",\"type\":\"GlyphRenderer\"},{\"attributes\":{\"fill_color\":{\"value\":\"#8b8b8b\"},\"hatch_color\":{\"value\":\"#8b8b8b\"},\"line_color\":{\"value\":\"#8b8b8b\"},\"size\":{\"value\":5.477225575051661},\"x\":{\"field\":\"Savivaldyb\\u0117\"},\"y\":{\"field\":\"Biomas\\u0117(kg)\"}},\"id\":\"43696\",\"type\":\"Scatter\"},{\"attributes\":{\"fill_color\":{\"value\":\"#fc4f30\"},\"hatch_color\":{\"value\":\"#fc4f30\"},\"line_color\":{\"value\":\"#fc4f30\"},\"size\":{\"value\":5.477225575051661},\"x\":{\"field\":\"Savivaldyb\\u0117\"},\"y\":{\"field\":\"Biomas\\u0117(kg)\"}},\"id\":\"43624\",\"type\":\"Scatter\"},{\"attributes\":{},\"id\":\"43585\",\"type\":\"ResetTool\"},{\"attributes\":{\"fill_alpha\":{\"value\":0.1},\"fill_color\":{\"value\":\"#8b8b8b\"},\"hatch_alpha\":{\"value\":0.1},\"hatch_color\":{\"value\":\"#8b8b8b\"},\"line_alpha\":{\"value\":0.1},\"line_color\":{\"value\":\"#8b8b8b\"},\"size\":{\"value\":5.477225575051661},\"x\":{\"field\":\"Savivaldyb\\u0117\"},\"y\":{\"field\":\"Biomas\\u0117(kg)\"}},\"id\":\"43697\",\"type\":\"Scatter\"},{\"attributes\":{\"fill_alpha\":{\"value\":0.1},\"fill_color\":{\"value\":\"#30a2da\"},\"hatch_alpha\":{\"value\":0.1},\"hatch_color\":{\"value\":\"#30a2da\"},\"line_alpha\":{\"value\":0.1},\"line_color\":{\"value\":\"#30a2da\"},\"size\":{\"value\":5.477225575051661},\"x\":{\"field\":\"Savivaldyb\\u0117\"},\"y\":{\"field\":\"Biomas\\u0117(kg)\"}},\"id\":\"45585\",\"type\":\"Scatter\"},{\"attributes\":{\"coordinates\":null,\"data_source\":{\"id\":\"43693\"},\"glyph\":{\"id\":\"43696\"},\"group\":null,\"hover_glyph\":null,\"muted_glyph\":{\"id\":\"43698\"},\"nonselection_glyph\":{\"id\":\"43697\"},\"selection_glyph\":{\"id\":\"43720\"},\"view\":{\"id\":\"43700\"}},\"id\":\"43699\",\"type\":\"GlyphRenderer\"},{\"attributes\":{\"label\":{\"value\":\"0.57\"},\"renderers\":[{\"id\":\"44509\"}]},\"id\":\"44565\",\"type\":\"LegendItem\"},{\"attributes\":{\"source\":{\"id\":\"43783\"}},\"id\":\"43790\",\"type\":\"CDSView\"},{\"attributes\":{\"fill_alpha\":{\"value\":0.2},\"fill_color\":{\"value\":\"#8b8b8b\"},\"hatch_alpha\":{\"value\":0.2},\"hatch_color\":{\"value\":\"#8b8b8b\"},\"line_alpha\":{\"value\":0.2},\"line_color\":{\"value\":\"#8b8b8b\"},\"size\":{\"value\":5.477225575051661},\"x\":{\"field\":\"Savivaldyb\\u0117\"},\"y\":{\"field\":\"Biomas\\u0117(kg)\"}},\"id\":\"43698\",\"type\":\"Scatter\"},{\"attributes\":{\"fill_alpha\":{\"value\":0.2},\"fill_color\":{\"value\":\"#30a2da\"},\"hatch_alpha\":{\"value\":0.2},\"hatch_color\":{\"value\":\"#30a2da\"},\"line_alpha\":{\"value\":0.2},\"line_color\":{\"value\":\"#30a2da\"},\"size\":{\"value\":5.477225575051661},\"x\":{\"field\":\"Savivaldyb\\u0117\"},\"y\":{\"field\":\"Biomas\\u0117(kg)\"}},\"id\":\"45586\",\"type\":\"Scatter\"},{\"attributes\":{\"fill_color\":{\"value\":\"#30a2da\"},\"hatch_color\":{\"value\":\"#30a2da\"},\"line_color\":{\"value\":\"#30a2da\"},\"size\":{\"value\":5.477225575051661},\"x\":{\"field\":\"Savivaldyb\\u0117\"},\"y\":{\"field\":\"Biomas\\u0117(kg)\"}},\"id\":\"43603\",\"type\":\"Scatter\"},{\"attributes\":{\"fill_color\":{\"value\":\"#d62728\"},\"hatch_color\":{\"value\":\"#d62728\"},\"line_color\":{\"value\":\"#d62728\"},\"size\":{\"value\":5.477225575051661},\"x\":{\"field\":\"Savivaldyb\\u0117\"},\"y\":{\"field\":\"Biomas\\u0117(kg)\"}},\"id\":\"45154\",\"type\":\"Scatter\"},{\"attributes\":{},\"id\":\"44318\",\"type\":\"UnionRenderers\"},{\"attributes\":{\"source\":{\"id\":\"44843\"}},\"id\":\"44850\",\"type\":\"CDSView\"},{\"attributes\":{\"angle\":{\"value\":0.0},\"fill_alpha\":{\"value\":1.0},\"fill_color\":{\"value\":\"#d62728\"},\"hatch_alpha\":{\"value\":1.0},\"hatch_color\":{\"value\":\"#d62728\"},\"hatch_scale\":{\"value\":12.0},\"hatch_weight\":{\"value\":1.0},\"line_alpha\":{\"value\":1.0},\"line_cap\":{\"value\":\"butt\"},\"line_color\":{\"value\":\"#d62728\"},\"line_dash\":{\"value\":[]},\"line_dash_offset\":{\"value\":0},\"line_join\":{\"value\":\"bevel\"},\"line_width\":{\"value\":1},\"marker\":{\"value\":\"circle\"},\"size\":{\"value\":5.477225575051661},\"x\":{\"field\":\"Savivaldyb\\u0117\"},\"y\":{\"field\":\"Biomas\\u0117(kg)\"}},\"id\":\"45232\",\"type\":\"Scatter\"},{\"attributes\":{},\"id\":\"43572\",\"type\":\"LinearScale\"},{\"attributes\":{\"coordinates\":null,\"data_source\":{\"id\":\"44843\"},\"glyph\":{\"id\":\"44846\"},\"group\":null,\"hover_glyph\":null,\"muted_glyph\":{\"id\":\"44848\"},\"nonselection_glyph\":{\"id\":\"44847\"},\"selection_glyph\":{\"id\":\"44916\"},\"view\":{\"id\":\"44850\"}},\"id\":\"44849\",\"type\":\"GlyphRenderer\"},{\"attributes\":{\"data\":{\"Biomas\\u0117(kg)\":{\"__ndarray__\":\"ke18PzVeGEA=\",\"dtype\":\"float64\",\"order\":\"little\",\"shape\":[1]},\"Biomas\\u0117_left_parenthesis_kg_right_parenthesis\":{\"__ndarray__\":\"ke18PzVeGEA=\",\"dtype\":\"float64\",\"order\":\"little\",\"shape\":[1]},\"Savivaldyb\\u0117\":[\"Tel\\u0161i\\u0173 r. sav.\"],\"\\u017duv\\u0173_b\\u016bkl\\u0117s_indeksas\":[0.58]},\"selected\":{\"id\":\"44568\"},\"selection_policy\":{\"id\":\"44628\"}},\"id\":\"44567\",\"type\":\"ColumnDataSource\"},{\"attributes\":{},\"id\":\"45668\",\"type\":\"UnionRenderers\"},{\"attributes\":{},\"id\":\"43892\",\"type\":\"Selection\"},{\"attributes\":{\"source\":{\"id\":\"43693\"}},\"id\":\"43700\",\"type\":\"CDSView\"},{\"attributes\":{},\"id\":\"43599\",\"type\":\"AllLabels\"},{\"attributes\":{\"active_drag\":{\"id\":\"43582\"},\"active_scroll\":{\"id\":\"43583\"},\"tools\":[{\"id\":\"43528\"},{\"id\":\"43581\"},{\"id\":\"43582\"},{\"id\":\"43583\"},{\"id\":\"43584\"},{\"id\":\"43585\"}]},\"id\":\"43587\",\"type\":\"Toolbar\"},{\"attributes\":{},\"id\":\"43848\",\"type\":\"UnionRenderers\"},{\"attributes\":{\"angle\":{\"value\":0.0},\"fill_alpha\":{\"value\":1.0},\"fill_color\":{\"value\":\"#30a2da\"},\"hatch_alpha\":{\"value\":1.0},\"hatch_color\":{\"value\":\"#30a2da\"},\"hatch_scale\":{\"value\":12.0},\"hatch_weight\":{\"value\":1.0},\"line_alpha\":{\"value\":1.0},\"line_cap\":{\"value\":\"butt\"},\"line_color\":{\"value\":\"#30a2da\"},\"line_dash\":{\"value\":[]},\"line_dash_offset\":{\"value\":0},\"line_join\":{\"value\":\"bevel\"},\"line_width\":{\"value\":1},\"marker\":{\"value\":\"circle\"},\"size\":{\"value\":5.477225575051661},\"x\":{\"field\":\"Savivaldyb\\u0117\"},\"y\":{\"field\":\"Biomas\\u0117(kg)\"}},\"id\":\"45672\",\"type\":\"Scatter\"},{\"attributes\":{\"label\":{\"value\":\"0.51\"},\"renderers\":[{\"id\":\"44329\"}]},\"id\":\"44379\",\"type\":\"LegendItem\"},{\"attributes\":{\"label\":{\"value\":\"0.48\"},\"renderers\":[{\"id\":\"44167\"}]},\"id\":\"44211\",\"type\":\"LegendItem\"},{\"attributes\":{\"coordinates\":null,\"data_source\":{\"id\":\"45151\"},\"glyph\":{\"id\":\"45154\"},\"group\":null,\"hover_glyph\":null,\"muted_glyph\":{\"id\":\"45156\"},\"nonselection_glyph\":{\"id\":\"45155\"},\"selection_glyph\":{\"id\":\"45232\"},\"view\":{\"id\":\"45158\"}},\"id\":\"45157\",\"type\":\"GlyphRenderer\"},{\"attributes\":{\"label\":{\"value\":\"1\"},\"renderers\":[{\"id\":\"45587\"}]},\"id\":\"45671\",\"type\":\"LegendItem\"},{\"attributes\":{},\"id\":\"44696\",\"type\":\"UnionRenderers\"},{\"attributes\":{\"label\":{\"value\":\"0.45\"},\"renderers\":[{\"id\":\"44023\"}]},\"id\":\"44061\",\"type\":\"LegendItem\"},{\"attributes\":{},\"id\":\"45398\",\"type\":\"UnionRenderers\"},{\"attributes\":{\"label\":{\"value\":\"0.76\"},\"renderers\":[{\"id\":\"45323\"}]},\"id\":\"45401\",\"type\":\"LegendItem\"},{\"attributes\":{\"angle\":{\"value\":0.0},\"fill_alpha\":{\"value\":1.0},\"fill_color\":{\"value\":\"#e5ae38\"},\"hatch_alpha\":{\"value\":1.0},\"hatch_color\":{\"value\":\"#e5ae38\"},\"hatch_scale\":{\"value\":12.0},\"hatch_weight\":{\"value\":1.0},\"line_alpha\":{\"value\":1.0},\"line_cap\":{\"value\":\"butt\"},\"line_color\":{\"value\":\"#e5ae38\"},\"line_dash\":{\"value\":[]},\"line_dash_offset\":{\"value\":0},\"line_join\":{\"value\":\"bevel\"},\"line_width\":{\"value\":1},\"marker\":{\"value\":\"circle\"},\"size\":{\"value\":5.477225575051661},\"x\":{\"field\":\"Savivaldyb\\u0117\"},\"y\":{\"field\":\"Biomas\\u0117(kg)\"}},\"id\":\"44842\",\"type\":\"Scatter\"},{\"attributes\":{\"label\":{\"value\":\"0.42\"},\"renderers\":[{\"id\":\"43897\"}]},\"id\":\"43929\",\"type\":\"LegendItem\"},{\"attributes\":{\"angle\":{\"value\":0.0},\"fill_alpha\":{\"value\":1.0},\"fill_color\":{\"value\":\"#30a2da\"},\"hatch_alpha\":{\"value\":1.0},\"hatch_color\":{\"value\":\"#30a2da\"},\"hatch_scale\":{\"value\":12.0},\"hatch_weight\":{\"value\":1.0},\"line_alpha\":{\"value\":1.0},\"line_cap\":{\"value\":\"butt\"},\"line_color\":{\"value\":\"#30a2da\"},\"line_dash\":{\"value\":[]},\"line_dash_offset\":{\"value\":0},\"line_join\":{\"value\":\"bevel\"},\"line_width\":{\"value\":1},\"marker\":{\"value\":\"circle\"},\"size\":{\"value\":5.477225575051661},\"x\":{\"field\":\"Savivaldyb\\u0117\"},\"y\":{\"field\":\"Biomas\\u0117(kg)\"}},\"id\":\"43620\",\"type\":\"Scatter\"},{\"attributes\":{\"label\":{\"value\":\"0.26\"},\"renderers\":[{\"id\":\"43627\"}]},\"id\":\"43641\",\"type\":\"LegendItem\"},{\"attributes\":{},\"id\":\"45492\",\"type\":\"Selection\"},{\"attributes\":{\"data\":{\"Biomas\\u0117(kg)\":{\"__ndarray__\":\"KVyPwvXoI0A=\",\"dtype\":\"float64\",\"order\":\"little\",\"shape\":[1]},\"Biomas\\u0117_left_parenthesis_kg_right_parenthesis\":{\"__ndarray__\":\"KVyPwvXoI0A=\",\"dtype\":\"float64\",\"order\":\"little\",\"shape\":[1]},\"Savivaldyb\\u0117\":[\"Trak\\u0173 r. sav.\"],\"\\u017duv\\u0173_b\\u016bkl\\u0117s_indeksas\":[0.64]},\"selected\":{\"id\":\"44844\"},\"selection_policy\":{\"id\":\"44912\"}},\"id\":\"44843\",\"type\":\"ColumnDataSource\"},{\"attributes\":{\"label\":{\"value\":\"0.35\"},\"renderers\":[{\"id\":\"43789\"}]},\"id\":\"43815\",\"type\":\"LegendItem\"},{\"attributes\":{\"angle\":{\"value\":0.0},\"fill_alpha\":{\"value\":1.0},\"fill_color\":{\"value\":\"#fc4f30\"},\"hatch_alpha\":{\"value\":1.0},\"hatch_color\":{\"value\":\"#fc4f30\"},\"hatch_scale\":{\"value\":12.0},\"hatch_weight\":{\"value\":1.0},\"line_alpha\":{\"value\":1.0},\"line_cap\":{\"value\":\"butt\"},\"line_color\":{\"value\":\"#fc4f30\"},\"line_dash\":{\"value\":[]},\"line_dash_offset\":{\"value\":0},\"line_join\":{\"value\":\"bevel\"},\"line_width\":{\"value\":1},\"marker\":{\"value\":\"circle\"},\"size\":{\"value\":5.477225575051661},\"x\":{\"field\":\"Savivaldyb\\u0117\"},\"y\":{\"field\":\"Biomas\\u0117(kg)\"}},\"id\":\"43642\",\"type\":\"Scatter\"},{\"attributes\":{\"source\":{\"id\":\"45403\"}},\"id\":\"45410\",\"type\":\"CDSView\"},{\"attributes\":{\"coordinates\":null,\"data_source\":{\"id\":\"44633\"},\"glyph\":{\"id\":\"44636\"},\"group\":null,\"hover_glyph\":null,\"muted_glyph\":{\"id\":\"44638\"},\"nonselection_glyph\":{\"id\":\"44637\"},\"selection_glyph\":{\"id\":\"44700\"},\"view\":{\"id\":\"44640\"}},\"id\":\"44639\",\"type\":\"GlyphRenderer\"},{\"attributes\":{\"data\":{\"Biomas\\u0117(kg)\":{\"__ndarray__\":\"LbKd76dGFUA730+Nl+4TQA==\",\"dtype\":\"float64\",\"order\":\"little\",\"shape\":[2]},\"Biomas\\u0117_left_parenthesis_kg_right_parenthesis\":{\"__ndarray__\":\"LbKd76dGFUA730+Nl+4TQA==\",\"dtype\":\"float64\",\"order\":\"little\",\"shape\":[2]},\"Savivaldyb\\u0117\":[\"Trak\\u0173 r. sav.\",\"Pakruojo r. sav.\"],\"\\u017duv\\u0173_b\\u016bkl\\u0117s_indeksas\":[0.7,0.7]},\"selected\":{\"id\":\"45152\"},\"selection_policy\":{\"id\":\"45228\"}},\"id\":\"45151\",\"type\":\"ColumnDataSource\"},{\"attributes\":{\"fill_color\":{\"value\":\"#e377c2\"},\"hatch_color\":{\"value\":\"#e377c2\"},\"line_color\":{\"value\":\"#e377c2\"},\"size\":{\"value\":5.477225575051661},\"x\":{\"field\":\"Savivaldyb\\u0117\"},\"y\":{\"field\":\"Biomas\\u0117(kg)\"}},\"id\":\"44444\",\"type\":\"Scatter\"},{\"attributes\":{\"data\":{\"Biomas\\u0117(kg)\":{\"__ndarray__\":\"EoPAyqFF+D8=\",\"dtype\":\"float64\",\"order\":\"little\",\"shape\":[1]},\"Biomas\\u0117_left_parenthesis_kg_right_parenthesis\":{\"__ndarray__\":\"EoPAyqFF+D8=\",\"dtype\":\"float64\",\"order\":\"little\",\"shape\":[1]},\"Savivaldyb\\u0117\":[\"Kai\\u0161iadori\\u0173 r. sav.\"],\"\\u017duv\\u0173_b\\u016bkl\\u0117s_indeksas\":[0.29]},\"selected\":{\"id\":\"43668\"},\"selection_policy\":{\"id\":\"43688\"}},\"id\":\"43667\",\"type\":\"ColumnDataSource\"},{\"attributes\":{\"angle\":{\"value\":0.0},\"fill_alpha\":{\"value\":1.0},\"fill_color\":{\"value\":\"#17becf\"},\"hatch_alpha\":{\"value\":1.0},\"hatch_color\":{\"value\":\"#17becf\"},\"hatch_scale\":{\"value\":12.0},\"hatch_weight\":{\"value\":1.0},\"line_alpha\":{\"value\":1.0},\"line_cap\":{\"value\":\"butt\"},\"line_color\":{\"value\":\"#17becf\"},\"line_dash\":{\"value\":[]},\"line_dash_offset\":{\"value\":0},\"line_join\":{\"value\":\"bevel\"},\"line_width\":{\"value\":1},\"marker\":{\"value\":\"circle\"},\"size\":{\"value\":5.477225575051661},\"x\":{\"field\":\"Savivaldyb\\u0117\"},\"y\":{\"field\":\"Biomas\\u0117(kg)\"}},\"id\":\"45070\",\"type\":\"Scatter\"},{\"attributes\":{\"fill_alpha\":{\"value\":0.2},\"fill_color\":{\"value\":\"#1f77b4\"},\"hatch_alpha\":{\"value\":0.2},\"hatch_color\":{\"value\":\"#1f77b4\"},\"line_alpha\":{\"value\":0.2},\"line_color\":{\"value\":\"#1f77b4\"},\"size\":{\"value\":5.477225575051661},\"x\":{\"field\":\"Savivaldyb\\u0117\"},\"y\":{\"field\":\"Biomas\\u0117(kg)\"}},\"id\":\"45238\",\"type\":\"Scatter\"},{\"attributes\":{\"data\":{\"Biomas\\u0117(kg)\":{\"__ndarray__\":\"PQrXo3A9EEA=\",\"dtype\":\"float64\",\"order\":\"little\",\"shape\":[1]},\"Biomas\\u0117_left_parenthesis_kg_right_parenthesis\":{\"__ndarray__\":\"PQrXo3A9EEA=\",\"dtype\":\"float64\",\"order\":\"little\",\"shape\":[1]},\"Savivaldyb\\u0117\":[\"Mol\\u0117t\\u0173 r. sav.\"],\"\\u017duv\\u0173_b\\u016bkl\\u0117s_indeksas\":[0.77]},\"selected\":{\"id\":\"45404\"},\"selection_policy\":{\"id\":\"45486\"}},\"id\":\"45403\",\"type\":\"ColumnDataSource\"},{\"attributes\":{\"fill_color\":{\"value\":\"#9467bd\"},\"hatch_color\":{\"value\":\"#9467bd\"},\"line_color\":{\"value\":\"#9467bd\"},\"size\":{\"value\":5.477225575051661},\"x\":{\"field\":\"Savivaldyb\\u0117\"},\"y\":{\"field\":\"Biomas\\u0117(kg)\"}},\"id\":\"44270\",\"type\":\"Scatter\"},{\"attributes\":{\"fill_alpha\":{\"value\":0.1},\"fill_color\":{\"value\":\"#e377c2\"},\"hatch_alpha\":{\"value\":0.1},\"hatch_color\":{\"value\":\"#e377c2\"},\"line_alpha\":{\"value\":0.1},\"line_color\":{\"value\":\"#e377c2\"},\"size\":{\"value\":5.477225575051661},\"x\":{\"field\":\"Savivaldyb\\u0117\"},\"y\":{\"field\":\"Biomas\\u0117(kg)\"}},\"id\":\"44445\",\"type\":\"Scatter\"},{\"attributes\":{\"data\":{\"Biomas\\u0117(kg)\":{\"__ndarray__\":\"vHSTGARWB0A=\",\"dtype\":\"float64\",\"order\":\"little\",\"shape\":[1]},\"Biomas\\u0117_left_parenthesis_kg_right_parenthesis\":{\"__ndarray__\":\"vHSTGARWB0A=\",\"dtype\":\"float64\",\"order\":\"little\",\"shape\":[1]},\"Savivaldyb\\u0117\":[\"Druskinink\\u0173 sav.\"],\"\\u017duv\\u0173_b\\u016bkl\\u0117s_indeksas\":[0.67]},\"selected\":{\"id\":\"44994\"},\"selection_policy\":{\"id\":\"45066\"}},\"id\":\"44993\",\"type\":\"ColumnDataSource\"},{\"attributes\":{\"angle\":{\"value\":0.0},\"fill_alpha\":{\"value\":1.0},\"fill_color\":{\"value\":\"#8b8b8b\"},\"hatch_alpha\":{\"value\":1.0},\"hatch_color\":{\"value\":\"#8b8b8b\"},\"hatch_scale\":{\"value\":12.0},\"hatch_weight\":{\"value\":1.0},\"line_alpha\":{\"value\":1.0},\"line_cap\":{\"value\":\"butt\"},\"line_color\":{\"value\":\"#8b8b8b\"},\"line_dash\":{\"value\":[]},\"line_dash_offset\":{\"value\":0},\"line_join\":{\"value\":\"bevel\"},\"line_width\":{\"value\":1},\"marker\":{\"value\":\"circle\"},\"size\":{\"value\":5.477225575051661},\"x\":{\"field\":\"Savivaldyb\\u0117\"},\"y\":{\"field\":\"Biomas\\u0117(kg)\"}},\"id\":\"44212\",\"type\":\"Scatter\"},{\"attributes\":{\"coordinates\":null,\"data_source\":{\"id\":\"44441\"},\"glyph\":{\"id\":\"44444\"},\"group\":null,\"hover_glyph\":null,\"muted_glyph\":{\"id\":\"44446\"},\"nonselection_glyph\":{\"id\":\"44445\"},\"selection_glyph\":{\"id\":\"44502\"},\"view\":{\"id\":\"44448\"}},\"id\":\"44447\",\"type\":\"GlyphRenderer\"},{\"attributes\":{\"fill_alpha\":{\"value\":0.1},\"fill_color\":{\"value\":\"#9467bd\"},\"hatch_alpha\":{\"value\":0.1},\"hatch_color\":{\"value\":\"#9467bd\"},\"line_alpha\":{\"value\":0.1},\"line_color\":{\"value\":\"#9467bd\"},\"size\":{\"value\":5.477225575051661},\"x\":{\"field\":\"Savivaldyb\\u0117\"},\"y\":{\"field\":\"Biomas\\u0117(kg)\"}},\"id\":\"44271\",\"type\":\"Scatter\"},{\"attributes\":{},\"id\":\"45072\",\"type\":\"Selection\"},{\"attributes\":{\"coordinates\":null,\"data_source\":{\"id\":\"44267\"},\"glyph\":{\"id\":\"44270\"},\"group\":null,\"hover_glyph\":null,\"muted_glyph\":{\"id\":\"44272\"},\"nonselection_glyph\":{\"id\":\"44271\"},\"selection_glyph\":{\"id\":\"44322\"},\"view\":{\"id\":\"44274\"}},\"id\":\"44273\",\"type\":\"GlyphRenderer\"},{\"attributes\":{\"fill_alpha\":{\"value\":0.2},\"fill_color\":{\"value\":\"#e377c2\"},\"hatch_alpha\":{\"value\":0.2},\"hatch_color\":{\"value\":\"#e377c2\"},\"line_alpha\":{\"value\":0.2},\"line_color\":{\"value\":\"#e377c2\"},\"size\":{\"value\":5.477225575051661},\"x\":{\"field\":\"Savivaldyb\\u0117\"},\"y\":{\"field\":\"Biomas\\u0117(kg)\"}},\"id\":\"44446\",\"type\":\"Scatter\"},{\"attributes\":{},\"id\":\"44568\",\"type\":\"Selection\"},{\"attributes\":{\"label\":{\"value\":\"0.6\"},\"renderers\":[{\"id\":\"44707\"}]},\"id\":\"44769\",\"type\":\"LegendItem\"},{\"attributes\":{\"fill_alpha\":{\"value\":0.2},\"fill_color\":{\"value\":\"#9467bd\"},\"hatch_alpha\":{\"value\":0.2},\"hatch_color\":{\"value\":\"#9467bd\"},\"line_alpha\":{\"value\":0.2},\"line_color\":{\"value\":\"#9467bd\"},\"size\":{\"value\":5.477225575051661},\"x\":{\"field\":\"Savivaldyb\\u0117\"},\"y\":{\"field\":\"Biomas\\u0117(kg)\"}},\"id\":\"44272\",\"type\":\"Scatter\"},{\"attributes\":{\"fill_alpha\":{\"value\":0.2},\"fill_color\":{\"value\":\"#e377c2\"},\"hatch_alpha\":{\"value\":0.2},\"hatch_color\":{\"value\":\"#e377c2\"},\"line_alpha\":{\"value\":0.2},\"line_color\":{\"value\":\"#e377c2\"},\"size\":{\"value\":5.477225575051661},\"x\":{\"field\":\"Savivaldyb\\u0117\"},\"y\":{\"field\":\"Biomas\\u0117(kg)\"}},\"id\":\"45322\",\"type\":\"Scatter\"},{\"attributes\":{},\"id\":\"43668\",\"type\":\"Selection\"},{\"attributes\":{\"angle\":{\"value\":0.0},\"fill_alpha\":{\"value\":1.0},\"fill_color\":{\"value\":\"#fc4f30\"},\"hatch_alpha\":{\"value\":1.0},\"hatch_color\":{\"value\":\"#fc4f30\"},\"hatch_scale\":{\"value\":12.0},\"hatch_weight\":{\"value\":1.0},\"line_alpha\":{\"value\":1.0},\"line_cap\":{\"value\":\"butt\"},\"line_color\":{\"value\":\"#fc4f30\"},\"line_dash\":{\"value\":[]},\"line_dash_offset\":{\"value\":0},\"line_join\":{\"value\":\"bevel\"},\"line_width\":{\"value\":1},\"marker\":{\"value\":\"circle\"},\"size\":{\"value\":5.477225575051661},\"x\":{\"field\":\"Savivaldyb\\u0117\"},\"y\":{\"field\":\"Biomas\\u0117(kg)\"}},\"id\":\"44062\",\"type\":\"Scatter\"},{\"attributes\":{},\"id\":\"43694\",\"type\":\"Selection\"},{\"attributes\":{},\"id\":\"44772\",\"type\":\"Selection\"},{\"attributes\":{\"angle\":{\"value\":0.0},\"fill_alpha\":{\"value\":1.0},\"fill_color\":{\"value\":\"#8c564b\"},\"hatch_alpha\":{\"value\":1.0},\"hatch_color\":{\"value\":\"#8c564b\"},\"hatch_scale\":{\"value\":12.0},\"hatch_weight\":{\"value\":1.0},\"line_alpha\":{\"value\":1.0},\"line_cap\":{\"value\":\"butt\"},\"line_color\":{\"value\":\"#8c564b\"},\"line_dash\":{\"value\":[]},\"line_dash_offset\":{\"value\":0},\"line_join\":{\"value\":\"bevel\"},\"line_width\":{\"value\":1},\"marker\":{\"value\":\"circle\"},\"size\":{\"value\":5.477225575051661},\"x\":{\"field\":\"Savivaldyb\\u0117\"},\"y\":{\"field\":\"Biomas\\u0117(kg)\"}},\"id\":\"43930\",\"type\":\"Scatter\"},{\"attributes\":{\"fill_color\":{\"value\":\"#6d904f\"},\"hatch_color\":{\"value\":\"#6d904f\"},\"line_color\":{\"value\":\"#6d904f\"},\"size\":{\"value\":5.477225575051661},\"x\":{\"field\":\"Savivaldyb\\u0117\"},\"y\":{\"field\":\"Biomas\\u0117(kg)\"}},\"id\":\"44114\",\"type\":\"Scatter\"},{\"attributes\":{\"angle\":{\"value\":0.0},\"fill_alpha\":{\"value\":1.0},\"fill_color\":{\"value\":\"#bcbd22\"},\"hatch_alpha\":{\"value\":1.0},\"hatch_color\":{\"value\":\"#bcbd22\"},\"hatch_scale\":{\"value\":12.0},\"hatch_weight\":{\"value\":1.0},\"line_alpha\":{\"value\":1.0},\"line_cap\":{\"value\":\"butt\"},\"line_color\":{\"value\":\"#bcbd22\"},\"line_dash\":{\"value\":[]},\"line_dash_offset\":{\"value\":0},\"line_join\":{\"value\":\"bevel\"},\"line_width\":{\"value\":1},\"marker\":{\"value\":\"circle\"},\"size\":{\"value\":5.477225575051661},\"x\":{\"field\":\"Savivaldyb\\u0117\"},\"y\":{\"field\":\"Biomas\\u0117(kg)\"}},\"id\":\"44632\",\"type\":\"Scatter\"},{\"attributes\":{\"coordinates\":null,\"data_source\":{\"id\":\"45071\"},\"glyph\":{\"id\":\"45074\"},\"group\":null,\"hover_glyph\":null,\"muted_glyph\":{\"id\":\"45076\"},\"nonselection_glyph\":{\"id\":\"45075\"},\"selection_glyph\":{\"id\":\"45150\"},\"view\":{\"id\":\"45078\"}},\"id\":\"45077\",\"type\":\"GlyphRenderer\"},{\"attributes\":{\"fill_alpha\":{\"value\":0.1},\"fill_color\":{\"value\":\"#6d904f\"},\"hatch_alpha\":{\"value\":0.1},\"hatch_color\":{\"value\":\"#6d904f\"},\"line_alpha\":{\"value\":0.1},\"line_color\":{\"value\":\"#6d904f\"},\"size\":{\"value\":5.477225575051661},\"x\":{\"field\":\"Savivaldyb\\u0117\"},\"y\":{\"field\":\"Biomas\\u0117(kg)\"}},\"id\":\"44115\",\"type\":\"Scatter\"},{\"attributes\":{},\"id\":\"43926\",\"type\":\"UnionRenderers\"},{\"attributes\":{},\"id\":\"45312\",\"type\":\"UnionRenderers\"},{\"attributes\":{\"coordinates\":null,\"data_source\":{\"id\":\"44111\"},\"glyph\":{\"id\":\"44114\"},\"group\":null,\"hover_glyph\":null,\"muted_glyph\":{\"id\":\"44116\"},\"nonselection_glyph\":{\"id\":\"44115\"},\"selection_glyph\":{\"id\":\"44160\"},\"view\":{\"id\":\"44118\"}},\"id\":\"44117\",\"type\":\"GlyphRenderer\"},{\"attributes\":{\"source\":{\"id\":\"44441\"}},\"id\":\"44448\",\"type\":\"CDSView\"},{\"attributes\":{\"angle\":{\"value\":0.0},\"fill_alpha\":{\"value\":1.0},\"fill_color\":{\"value\":\"#d62728\"},\"hatch_alpha\":{\"value\":1.0},\"hatch_color\":{\"value\":\"#d62728\"},\"hatch_scale\":{\"value\":12.0},\"hatch_weight\":{\"value\":1.0},\"line_alpha\":{\"value\":1.0},\"line_cap\":{\"value\":\"butt\"},\"line_color\":{\"value\":\"#d62728\"},\"line_dash\":{\"value\":[]},\"line_dash_offset\":{\"value\":0},\"line_join\":{\"value\":\"bevel\"},\"line_width\":{\"value\":1},\"marker\":{\"value\":\"circle\"},\"size\":{\"value\":5.477225575051661},\"x\":{\"field\":\"Savivaldyb\\u0117\"},\"y\":{\"field\":\"Biomas\\u0117(kg)\"}},\"id\":\"43816\",\"type\":\"Scatter\"},{\"attributes\":{\"data\":{\"Biomas\\u0117(kg)\":{\"__ndarray__\":\"ZDvfT41XJUA=\",\"dtype\":\"float64\",\"order\":\"little\",\"shape\":[1]},\"Biomas\\u0117_left_parenthesis_kg_right_parenthesis\":{\"__ndarray__\":\"ZDvfT41XJUA=\",\"dtype\":\"float64\",\"order\":\"little\",\"shape\":[1]},\"Savivaldyb\\u0117\":[\"\\u0160iauli\\u0173 r. sav.\"],\"\\u017duv\\u0173_b\\u016bkl\\u0117s_indeksas\":[0.74]},\"selected\":{\"id\":\"45234\"},\"selection_policy\":{\"id\":\"45312\"}},\"id\":\"45233\",\"type\":\"ColumnDataSource\"},{\"attributes\":{},\"id\":\"43570\",\"type\":\"CategoricalScale\"},{\"attributes\":{\"data\":{\"Biomas\\u0117(kg)\":{\"__ndarray__\":\"3SQGgZVD9z/ZzvdT4yUfQARWDi2ynRVA\",\"dtype\":\"float64\",\"order\":\"little\",\"shape\":[3]},\"Biomas\\u0117_left_parenthesis_kg_right_parenthesis\":{\"__ndarray__\":\"3SQGgZVD9z/ZzvdT4yUfQARWDi2ynRVA\",\"dtype\":\"float64\",\"order\":\"little\",\"shape\":[3]},\"Savivaldyb\\u0117\":[\"Trak\\u0173 r. sav.\",\"Ukmerg\\u0117s r. sav.\",\"K\\u0117daini\\u0173 r. sav.\"],\"\\u017duv\\u0173_b\\u016bkl\\u0117s_indeksas\":[0.44,0.44,0.44]},\"selected\":{\"id\":\"43974\"},\"selection_policy\":{\"id\":\"44012\"}},\"id\":\"43973\",\"type\":\"ColumnDataSource\"},{\"attributes\":{\"fill_alpha\":{\"value\":0.2},\"fill_color\":{\"value\":\"#6d904f\"},\"hatch_alpha\":{\"value\":0.2},\"hatch_color\":{\"value\":\"#6d904f\"},\"line_alpha\":{\"value\":0.2},\"line_color\":{\"value\":\"#6d904f\"},\"size\":{\"value\":5.477225575051661},\"x\":{\"field\":\"Savivaldyb\\u0117\"},\"y\":{\"field\":\"Biomas\\u0117(kg)\"}},\"id\":\"44116\",\"type\":\"Scatter\"},{\"attributes\":{\"coordinates\":null,\"data_source\":{\"id\":\"44917\"},\"glyph\":{\"id\":\"44920\"},\"group\":null,\"hover_glyph\":null,\"muted_glyph\":{\"id\":\"44922\"},\"nonselection_glyph\":{\"id\":\"44921\"},\"selection_glyph\":{\"id\":\"44992\"},\"view\":{\"id\":\"44924\"}},\"id\":\"44923\",\"type\":\"GlyphRenderer\"},{\"attributes\":{\"coordinates\":null,\"data_source\":{\"id\":\"45317\"},\"glyph\":{\"id\":\"45320\"},\"group\":null,\"hover_glyph\":null,\"muted_glyph\":{\"id\":\"45322\"},\"nonselection_glyph\":{\"id\":\"45321\"},\"selection_glyph\":{\"id\":\"45402\"},\"view\":{\"id\":\"45324\"}},\"id\":\"45323\",\"type\":\"GlyphRenderer\"},{\"attributes\":{\"source\":{\"id\":\"44267\"}},\"id\":\"44274\",\"type\":\"CDSView\"},{\"attributes\":{\"data\":{\"Biomas\\u0117(kg)\":{\"__ndarray__\":\"bxKDwMqh8z8=\",\"dtype\":\"float64\",\"order\":\"little\",\"shape\":[1]},\"Biomas\\u0117_left_parenthesis_kg_right_parenthesis\":{\"__ndarray__\":\"bxKDwMqh8z8=\",\"dtype\":\"float64\",\"order\":\"little\",\"shape\":[1]},\"Savivaldyb\\u0117\":[\"Ignalinos r. sav.\"],\"\\u017duv\\u0173_b\\u016bkl\\u0117s_indeksas\":[0.47]},\"selected\":{\"id\":\"44112\"},\"selection_policy\":{\"id\":\"44156\"}},\"id\":\"44111\",\"type\":\"ColumnDataSource\"},{\"attributes\":{},\"id\":\"43615\",\"type\":\"UnionRenderers\"},{\"attributes\":{\"label\":{\"value\":\"0.37\"},\"renderers\":[{\"id\":\"43823\"}]},\"id\":\"43851\",\"type\":\"LegendItem\"},{\"attributes\":{\"label\":{\"value\":\"0.52\"},\"renderers\":[{\"id\":\"44387\"}]},\"id\":\"44439\",\"type\":\"LegendItem\"},{\"attributes\":{\"fill_color\":{\"value\":\"#d62728\"},\"hatch_color\":{\"value\":\"#d62728\"},\"line_color\":{\"value\":\"#d62728\"},\"size\":{\"value\":5.477225575051661},\"x\":{\"field\":\"Savivaldyb\\u0117\"},\"y\":{\"field\":\"Biomas\\u0117(kg)\"}},\"id\":\"43786\",\"type\":\"Scatter\"},{\"attributes\":{\"angle\":{\"value\":0.0},\"fill_alpha\":{\"value\":1.0},\"fill_color\":{\"value\":\"#1f77b4\"},\"hatch_alpha\":{\"value\":1.0},\"hatch_color\":{\"value\":\"#1f77b4\"},\"hatch_scale\":{\"value\":12.0},\"hatch_weight\":{\"value\":1.0},\"line_alpha\":{\"value\":1.0},\"line_cap\":{\"value\":\"butt\"},\"line_color\":{\"value\":\"#1f77b4\"},\"line_dash\":{\"value\":[]},\"line_dash_offset\":{\"value\":0},\"line_join\":{\"value\":\"bevel\"},\"line_width\":{\"value\":1},\"marker\":{\"value\":\"circle\"},\"size\":{\"value\":5.477225575051661},\"x\":{\"field\":\"Savivaldyb\\u0117\"},\"y\":{\"field\":\"Biomas\\u0117(kg)\"}},\"id\":\"45316\",\"type\":\"Scatter\"},{\"attributes\":{\"fill_color\":{\"value\":\"#9467bd\"},\"hatch_color\":{\"value\":\"#9467bd\"},\"line_color\":{\"value\":\"#9467bd\"},\"size\":{\"value\":5.477225575051661},\"x\":{\"field\":\"Savivaldyb\\u0117\"},\"y\":{\"field\":\"Biomas\\u0117(kg)\"}},\"id\":\"43754\",\"type\":\"Scatter\"},{\"attributes\":{\"angle\":{\"value\":0.0},\"fill_alpha\":{\"value\":1.0},\"fill_color\":{\"value\":\"#8b8b8b\"},\"hatch_alpha\":{\"value\":1.0},\"hatch_color\":{\"value\":\"#8b8b8b\"},\"hatch_scale\":{\"value\":12.0},\"hatch_weight\":{\"value\":1.0},\"line_alpha\":{\"value\":1.0},\"line_cap\":{\"value\":\"butt\"},\"line_color\":{\"value\":\"#8b8b8b\"},\"line_dash\":{\"value\":[]},\"line_dash_offset\":{\"value\":0},\"line_join\":{\"value\":\"bevel\"},\"line_width\":{\"value\":1},\"marker\":{\"value\":\"circle\"},\"size\":{\"value\":5.477225575051661},\"x\":{\"field\":\"Savivaldyb\\u0117\"},\"y\":{\"field\":\"Biomas\\u0117(kg)\"}},\"id\":\"43720\",\"type\":\"Scatter\"},{\"attributes\":{\"source\":{\"id\":\"44111\"}},\"id\":\"44118\",\"type\":\"CDSView\"},{\"attributes\":{\"fill_alpha\":{\"value\":0.1},\"fill_color\":{\"value\":\"#9467bd\"},\"hatch_alpha\":{\"value\":0.1},\"hatch_color\":{\"value\":\"#9467bd\"},\"line_alpha\":{\"value\":0.1},\"line_color\":{\"value\":\"#9467bd\"},\"size\":{\"value\":5.477225575051661},\"x\":{\"field\":\"Savivaldyb\\u0117\"},\"y\":{\"field\":\"Biomas\\u0117(kg)\"}},\"id\":\"43755\",\"type\":\"Scatter\"},{\"attributes\":{},\"id\":\"44994\",\"type\":\"Selection\"},{\"attributes\":{\"coordinates\":null,\"data_source\":{\"id\":\"43751\"},\"glyph\":{\"id\":\"43754\"},\"group\":null,\"hover_glyph\":null,\"muted_glyph\":{\"id\":\"43756\"},\"nonselection_glyph\":{\"id\":\"43755\"},\"selection_glyph\":{\"id\":\"43782\"},\"view\":{\"id\":\"43758\"}},\"id\":\"43757\",\"type\":\"GlyphRenderer\"},{\"attributes\":{},\"id\":\"43688\",\"type\":\"UnionRenderers\"},{\"attributes\":{},\"id\":\"44628\",\"type\":\"UnionRenderers\"},{\"attributes\":{\"data\":{\"Biomas\\u0117(kg)\":{\"__ndarray__\":\"K4cW2c739z8=\",\"dtype\":\"float64\",\"order\":\"little\",\"shape\":[1]},\"Biomas\\u0117_left_parenthesis_kg_right_parenthesis\":{\"__ndarray__\":\"K4cW2c739z8=\",\"dtype\":\"float64\",\"order\":\"little\",\"shape\":[1]},\"Savivaldyb\\u0117\":[\"\\u0160ven\\u010dioni\\u0173 r. sav.\"],\"\\u017duv\\u0173_b\\u016bkl\\u0117s_indeksas\":[0.46]},\"selected\":{\"id\":\"44064\"},\"selection_policy\":{\"id\":\"44106\"}},\"id\":\"44063\",\"type\":\"ColumnDataSource\"},{\"attributes\":{\"fill_alpha\":{\"value\":0.2},\"fill_color\":{\"value\":\"#9467bd\"},\"hatch_alpha\":{\"value\":0.2},\"hatch_color\":{\"value\":\"#9467bd\"},\"line_alpha\":{\"value\":0.2},\"line_color\":{\"value\":\"#9467bd\"},\"size\":{\"value\":5.477225575051661},\"x\":{\"field\":\"Savivaldyb\\u0117\"},\"y\":{\"field\":\"Biomas\\u0117(kg)\"}},\"id\":\"43756\",\"type\":\"Scatter\"},{\"attributes\":{\"data\":{\"Biomas\\u0117(kg)\":{\"__ndarray__\":\"KVyPwvUoIkA=\",\"dtype\":\"float64\",\"order\":\"little\",\"shape\":[1]},\"Biomas\\u0117_left_parenthesis_kg_right_parenthesis\":{\"__ndarray__\":\"KVyPwvUoIkA=\",\"dtype\":\"float64\",\"order\":\"little\",\"shape\":[1]},\"Savivaldyb\\u0117\":[\"Zaras\\u0173 r. sav.\"],\"\\u017duv\\u0173_b\\u016bkl\\u0117s_indeksas\":[0.6]},\"selected\":{\"id\":\"44702\"},\"selection_policy\":{\"id\":\"44766\"}},\"id\":\"44701\",\"type\":\"ColumnDataSource\"},{\"attributes\":{\"fill_color\":{\"value\":\"#30a2da\"},\"hatch_color\":{\"value\":\"#30a2da\"},\"line_color\":{\"value\":\"#30a2da\"},\"size\":{\"value\":5.477225575051661},\"x\":{\"field\":\"Savivaldyb\\u0117\"},\"y\":{\"field\":\"Biomas\\u0117(kg)\"}},\"id\":\"43976\",\"type\":\"Scatter\"},{\"attributes\":{},\"id\":\"43622\",\"type\":\"Selection\"},{\"attributes\":{\"data\":{\"Biomas\\u0117(kg)\":{\"__ndarray__\":\"kxgEVg4tAEA=\",\"dtype\":\"float64\",\"order\":\"little\",\"shape\":[1]},\"Biomas\\u0117_left_parenthesis_kg_right_parenthesis\":{\"__ndarray__\":\"kxgEVg4tAEA=\",\"dtype\":\"float64\",\"order\":\"little\",\"shape\":[1]},\"Savivaldyb\\u0117\":[\"Ignalinos r. sav.\"],\"\\u017duv\\u0173_b\\u016bkl\\u0117s_indeksas\":[0.26]},\"selected\":{\"id\":\"43622\"},\"selection_policy\":{\"id\":\"43638\"}},\"id\":\"43621\",\"type\":\"ColumnDataSource\"},{\"attributes\":{},\"id\":\"43644\",\"type\":\"Selection\"},{\"attributes\":{\"bottom_units\":\"screen\",\"coordinates\":null,\"fill_alpha\":0.5,\"fill_color\":\"lightgrey\",\"group\":null,\"left_units\":\"screen\",\"level\":\"overlay\",\"line_alpha\":1.0,\"line_color\":\"black\",\"line_dash\":[4,4],\"line_width\":2,\"right_units\":\"screen\",\"syncable\":false,\"top_units\":\"screen\"},\"id\":\"43586\",\"type\":\"BoxAnnotation\"},{\"attributes\":{\"fill_color\":{\"value\":\"#e377c2\"},\"hatch_color\":{\"value\":\"#e377c2\"},\"line_color\":{\"value\":\"#e377c2\"},\"size\":{\"value\":5.477225575051661},\"x\":{\"field\":\"Savivaldyb\\u0117\"},\"y\":{\"field\":\"Biomas\\u0117(kg)\"}},\"id\":\"43856\",\"type\":\"Scatter\"},{\"attributes\":{\"fill_alpha\":{\"value\":0.1},\"fill_color\":{\"value\":\"#30a2da\"},\"hatch_alpha\":{\"value\":0.1},\"hatch_color\":{\"value\":\"#30a2da\"},\"line_alpha\":{\"value\":0.1},\"line_color\":{\"value\":\"#30a2da\"},\"size\":{\"value\":5.477225575051661},\"x\":{\"field\":\"Savivaldyb\\u0117\"},\"y\":{\"field\":\"Biomas\\u0117(kg)\"}},\"id\":\"43977\",\"type\":\"Scatter\"},{\"attributes\":{\"fill_color\":{\"value\":\"#6d904f\"},\"hatch_color\":{\"value\":\"#6d904f\"},\"line_color\":{\"value\":\"#6d904f\"},\"size\":{\"value\":5.477225575051661},\"x\":{\"field\":\"Savivaldyb\\u0117\"},\"y\":{\"field\":\"Biomas\\u0117(kg)\"}},\"id\":\"43670\",\"type\":\"Scatter\"},{\"attributes\":{},\"id\":\"43932\",\"type\":\"Selection\"},{\"attributes\":{\"coordinates\":null,\"data_source\":{\"id\":\"43973\"},\"glyph\":{\"id\":\"43976\"},\"group\":null,\"hover_glyph\":null,\"muted_glyph\":{\"id\":\"43978\"},\"nonselection_glyph\":{\"id\":\"43977\"},\"selection_glyph\":{\"id\":\"44016\"},\"view\":{\"id\":\"43980\"}},\"id\":\"43979\",\"type\":\"GlyphRenderer\"},{\"attributes\":{\"fill_color\":{\"value\":\"#1f77b4\"},\"hatch_color\":{\"value\":\"#1f77b4\"},\"line_color\":{\"value\":\"#1f77b4\"},\"size\":{\"value\":5.477225575051661},\"x\":{\"field\":\"Savivaldyb\\u0117\"},\"y\":{\"field\":\"Biomas\\u0117(kg)\"}},\"id\":\"45236\",\"type\":\"Scatter\"},{\"attributes\":{},\"id\":\"44012\",\"type\":\"UnionRenderers\"},{\"attributes\":{\"fill_alpha\":{\"value\":0.1},\"fill_color\":{\"value\":\"#e377c2\"},\"hatch_alpha\":{\"value\":0.1},\"hatch_color\":{\"value\":\"#e377c2\"},\"line_alpha\":{\"value\":0.1},\"line_color\":{\"value\":\"#e377c2\"},\"size\":{\"value\":5.477225575051661},\"x\":{\"field\":\"Savivaldyb\\u0117\"},\"y\":{\"field\":\"Biomas\\u0117(kg)\"}},\"id\":\"43857\",\"type\":\"Scatter\"},{\"attributes\":{\"fill_alpha\":{\"value\":0.1},\"fill_color\":{\"value\":\"#6d904f\"},\"hatch_alpha\":{\"value\":0.1},\"hatch_color\":{\"value\":\"#6d904f\"},\"line_alpha\":{\"value\":0.1},\"line_color\":{\"value\":\"#6d904f\"},\"size\":{\"value\":5.477225575051661},\"x\":{\"field\":\"Savivaldyb\\u0117\"},\"y\":{\"field\":\"Biomas\\u0117(kg)\"}},\"id\":\"43671\",\"type\":\"Scatter\"},{\"attributes\":{\"coordinates\":null,\"data_source\":{\"id\":\"43853\"},\"glyph\":{\"id\":\"43856\"},\"group\":null,\"hover_glyph\":null,\"muted_glyph\":{\"id\":\"43858\"},\"nonselection_glyph\":{\"id\":\"43857\"},\"selection_glyph\":{\"id\":\"43890\"},\"view\":{\"id\":\"43860\"}},\"id\":\"43859\",\"type\":\"GlyphRenderer\"},{\"attributes\":{\"fill_alpha\":{\"value\":0.2},\"fill_color\":{\"value\":\"#30a2da\"},\"hatch_alpha\":{\"value\":0.2},\"hatch_color\":{\"value\":\"#30a2da\"},\"line_alpha\":{\"value\":0.2},\"line_color\":{\"value\":\"#30a2da\"},\"size\":{\"value\":5.477225575051661},\"x\":{\"field\":\"Savivaldyb\\u0117\"},\"y\":{\"field\":\"Biomas\\u0117(kg)\"}},\"id\":\"43978\",\"type\":\"Scatter\"},{\"attributes\":{},\"id\":\"43886\",\"type\":\"UnionRenderers\"},{\"attributes\":{\"coordinates\":null,\"data_source\":{\"id\":\"43667\"},\"glyph\":{\"id\":\"43670\"},\"group\":null,\"hover_glyph\":null,\"muted_glyph\":{\"id\":\"43672\"},\"nonselection_glyph\":{\"id\":\"43671\"},\"selection_glyph\":{\"id\":\"43692\"},\"view\":{\"id\":\"43674\"}},\"id\":\"43673\",\"type\":\"GlyphRenderer\"},{\"attributes\":{},\"id\":\"45152\",\"type\":\"Selection\"},{\"attributes\":{\"coordinates\":null,\"data_source\":{\"id\":\"45233\"},\"glyph\":{\"id\":\"45236\"},\"group\":null,\"hover_glyph\":null,\"muted_glyph\":{\"id\":\"45238\"},\"nonselection_glyph\":{\"id\":\"45237\"},\"selection_glyph\":{\"id\":\"45316\"},\"view\":{\"id\":\"45240\"}},\"id\":\"45239\",\"type\":\"GlyphRenderer\"},{\"attributes\":{\"data\":{\"Biomas\\u0117(kg)\":{\"__ndarray__\":\"/Knx0k1iDkA=\",\"dtype\":\"float64\",\"order\":\"little\",\"shape\":[1]},\"Biomas\\u0117_left_parenthesis_kg_right_parenthesis\":{\"__ndarray__\":\"/Knx0k1iDkA=\",\"dtype\":\"float64\",\"order\":\"little\",\"shape\":[1]},\"Savivaldyb\\u0117\":[\"Mol\\u0117t\\u0173 r. sav.\"],\"\\u017duv\\u0173_b\\u016bkl\\u0117s_indeksas\":[0.57]},\"selected\":{\"id\":\"44504\"},\"selection_policy\":{\"id\":\"44562\"}},\"id\":\"44503\",\"type\":\"ColumnDataSource\"},{\"attributes\":{\"fill_alpha\":{\"value\":0.1},\"fill_color\":{\"value\":\"#d62728\"},\"hatch_alpha\":{\"value\":0.1},\"hatch_color\":{\"value\":\"#d62728\"},\"line_alpha\":{\"value\":0.1},\"line_color\":{\"value\":\"#d62728\"},\"size\":{\"value\":5.477225575051661},\"x\":{\"field\":\"Savivaldyb\\u0117\"},\"y\":{\"field\":\"Biomas\\u0117(kg)\"}},\"id\":\"45155\",\"type\":\"Scatter\"},{\"attributes\":{\"fill_alpha\":{\"value\":0.1},\"fill_color\":{\"value\":\"#bcbd22\"},\"hatch_alpha\":{\"value\":0.1},\"hatch_color\":{\"value\":\"#bcbd22\"},\"line_alpha\":{\"value\":0.1},\"line_color\":{\"value\":\"#bcbd22\"},\"size\":{\"value\":5.477225575051661},\"x\":{\"field\":\"Savivaldyb\\u0117\"},\"y\":{\"field\":\"Biomas\\u0117(kg)\"}},\"id\":\"44571\",\"type\":\"Scatter\"},{\"attributes\":{\"fill_alpha\":{\"value\":0.2},\"fill_color\":{\"value\":\"#e377c2\"},\"hatch_alpha\":{\"value\":0.2},\"hatch_color\":{\"value\":\"#e377c2\"},\"line_alpha\":{\"value\":0.2},\"line_color\":{\"value\":\"#e377c2\"},\"size\":{\"value\":5.477225575051661},\"x\":{\"field\":\"Savivaldyb\\u0117\"},\"y\":{\"field\":\"Biomas\\u0117(kg)\"}},\"id\":\"43858\",\"type\":\"Scatter\"},{\"attributes\":{},\"id\":\"43595\",\"type\":\"CategoricalTickFormatter\"},{\"attributes\":{\"fill_alpha\":{\"value\":0.2},\"fill_color\":{\"value\":\"#6d904f\"},\"hatch_alpha\":{\"value\":0.2},\"hatch_color\":{\"value\":\"#6d904f\"},\"line_alpha\":{\"value\":0.2},\"line_color\":{\"value\":\"#6d904f\"},\"size\":{\"value\":5.477225575051661},\"x\":{\"field\":\"Savivaldyb\\u0117\"},\"y\":{\"field\":\"Biomas\\u0117(kg)\"}},\"id\":\"43672\",\"type\":\"Scatter\"},{\"attributes\":{},\"id\":\"45066\",\"type\":\"UnionRenderers\"},{\"attributes\":{},\"id\":\"44702\",\"type\":\"Selection\"},{\"attributes\":{},\"id\":\"44844\",\"type\":\"Selection\"},{\"attributes\":{\"source\":{\"id\":\"43751\"}},\"id\":\"43758\",\"type\":\"CDSView\"},{\"attributes\":{\"angle\":{\"value\":0.0},\"fill_alpha\":{\"value\":1.0},\"fill_color\":{\"value\":\"#e377c2\"},\"hatch_alpha\":{\"value\":1.0},\"hatch_color\":{\"value\":\"#e377c2\"},\"hatch_scale\":{\"value\":12.0},\"hatch_weight\":{\"value\":1.0},\"line_alpha\":{\"value\":1.0},\"line_cap\":{\"value\":\"butt\"},\"line_color\":{\"value\":\"#e377c2\"},\"line_dash\":{\"value\":[]},\"line_dash_offset\":{\"value\":0},\"line_join\":{\"value\":\"bevel\"},\"line_width\":{\"value\":1},\"marker\":{\"value\":\"circle\"},\"size\":{\"value\":5.477225575051661},\"x\":{\"field\":\"Savivaldyb\\u0117\"},\"y\":{\"field\":\"Biomas\\u0117(kg)\"}},\"id\":\"45402\",\"type\":\"Scatter\"},{\"attributes\":{\"label\":{\"value\":\"0.74\"},\"renderers\":[{\"id\":\"45239\"}]},\"id\":\"45315\",\"type\":\"LegendItem\"},{\"attributes\":{\"fill_alpha\":{\"value\":0.1},\"fill_color\":{\"value\":\"#fc4f30\"},\"hatch_alpha\":{\"value\":0.1},\"hatch_color\":{\"value\":\"#fc4f30\"},\"line_alpha\":{\"value\":0.1},\"line_color\":{\"value\":\"#fc4f30\"},\"size\":{\"value\":5.477225575051661},\"x\":{\"field\":\"Savivaldyb\\u0117\"},\"y\":{\"field\":\"Biomas\\u0117(kg)\"}},\"id\":\"43625\",\"type\":\"Scatter\"},{\"attributes\":{\"fill_alpha\":{\"value\":0.1},\"fill_color\":{\"value\":\"#9467bd\"},\"hatch_alpha\":{\"value\":0.1},\"hatch_color\":{\"value\":\"#9467bd\"},\"line_alpha\":{\"value\":0.1},\"line_color\":{\"value\":\"#9467bd\"},\"size\":{\"value\":5.477225575051661},\"x\":{\"field\":\"Savivaldyb\\u0117\"},\"y\":{\"field\":\"Biomas\\u0117(kg)\"}},\"id\":\"45075\",\"type\":\"Scatter\"},{\"attributes\":{\"angle\":{\"value\":0.0},\"fill_alpha\":{\"value\":1.0},\"fill_color\":{\"value\":\"#8c564b\"},\"hatch_alpha\":{\"value\":1.0},\"hatch_color\":{\"value\":\"#8c564b\"},\"hatch_scale\":{\"value\":12.0},\"hatch_weight\":{\"value\":1.0},\"line_alpha\":{\"value\":1.0},\"line_cap\":{\"value\":\"butt\"},\"line_color\":{\"value\":\"#8c564b\"},\"line_dash\":{\"value\":[]},\"line_dash_offset\":{\"value\":0},\"line_join\":{\"value\":\"bevel\"},\"line_width\":{\"value\":1},\"marker\":{\"value\":\"circle\"},\"size\":{\"value\":5.477225575051661},\"x\":{\"field\":\"Savivaldyb\\u0117\"},\"y\":{\"field\":\"Biomas\\u0117(kg)\"}},\"id\":\"44566\",\"type\":\"Scatter\"},{\"attributes\":{\"data\":{\"Biomas\\u0117(kg)\":{\"__ndarray__\":\"+FPjpZtEEECiRbbz/dT6Pw==\",\"dtype\":\"float64\",\"order\":\"little\",\"shape\":[2]},\"Biomas\\u0117_left_parenthesis_kg_right_parenthesis\":{\"__ndarray__\":\"+FPjpZtEEECiRbbz/dT6Pw==\",\"dtype\":\"float64\",\"order\":\"little\",\"shape\":[2]},\"Savivaldyb\\u0117\":[\"Lazdij\\u0173 r. sav.\",\"Utenos r. sav.\"],\"\\u017duv\\u0173_b\\u016bkl\\u0117s_indeksas\":[0.3,0.3]},\"selected\":{\"id\":\"43694\"},\"selection_policy\":{\"id\":\"43716\"}},\"id\":\"43693\",\"type\":\"ColumnDataSource\"},{\"attributes\":{\"source\":{\"id\":\"43973\"}},\"id\":\"43980\",\"type\":\"CDSView\"},{\"attributes\":{},\"id\":\"43818\",\"type\":\"Selection\"},{\"attributes\":{\"label\":{\"value\":\"0.7\"},\"renderers\":[{\"id\":\"45157\"}]},\"id\":\"45231\",\"type\":\"LegendItem\"},{\"attributes\":{\"source\":{\"id\":\"43667\"}},\"id\":\"43674\",\"type\":\"CDSView\"},{\"attributes\":{},\"id\":\"43583\",\"type\":\"WheelZoomTool\"},{\"attributes\":{\"label\":{\"value\":\"0.5\"},\"renderers\":[{\"id\":\"44273\"}]},\"id\":\"44321\",\"type\":\"LegendItem\"},{\"attributes\":{\"label\":{\"value\":\"0.55\"},\"renderers\":[{\"id\":\"44447\"}]},\"id\":\"44501\",\"type\":\"LegendItem\"},{\"attributes\":{\"label\":{\"value\":\"0.47\"},\"renderers\":[{\"id\":\"44117\"}]},\"id\":\"44159\",\"type\":\"LegendItem\"},{\"attributes\":{\"label\":{\"value\":\"0.44\"},\"renderers\":[{\"id\":\"43979\"}]},\"id\":\"44015\",\"type\":\"LegendItem\"},{\"attributes\":{\"fill_alpha\":{\"value\":0.1},\"fill_color\":{\"value\":\"#8b8b8b\"},\"hatch_alpha\":{\"value\":0.1},\"hatch_color\":{\"value\":\"#8b8b8b\"},\"line_alpha\":{\"value\":0.1},\"line_color\":{\"value\":\"#8b8b8b\"},\"size\":{\"value\":5.477225575051661},\"x\":{\"field\":\"Savivaldyb\\u0117\"},\"y\":{\"field\":\"Biomas\\u0117(kg)\"}},\"id\":\"44921\",\"type\":\"Scatter\"},{\"attributes\":{},\"id\":\"43778\",\"type\":\"UnionRenderers\"},{\"attributes\":{},\"id\":\"44838\",\"type\":\"UnionRenderers\"},{\"attributes\":{\"axis\":{\"id\":\"43574\"},\"coordinates\":null,\"grid_line_color\":null,\"group\":null,\"ticker\":null},\"id\":\"43576\",\"type\":\"Grid\"},{\"attributes\":{\"source\":{\"id\":\"45233\"}},\"id\":\"45240\",\"type\":\"CDSView\"},{\"attributes\":{\"coordinates\":null,\"group\":null,\"text\":\"Svoris kilogramais pagal savivaldybes ir telkini\\u0173 b\\u016bkl\\u0119\",\"text_color\":\"black\",\"text_font_size\":\"12pt\"},\"id\":\"43566\",\"type\":\"Title\"},{\"attributes\":{\"data\":{\"Biomas\\u0117(kg)\":{\"__ndarray__\":\"d76fGi/dAECPwvUoXI8DQA==\",\"dtype\":\"float64\",\"order\":\"little\",\"shape\":[2]},\"Biomas\\u0117_left_parenthesis_kg_right_parenthesis\":{\"__ndarray__\":\"d76fGi/dAECPwvUoXI8DQA==\",\"dtype\":\"float64\",\"order\":\"little\",\"shape\":[2]},\"Savivaldyb\\u0117\":[\"Roki\\u0161kio r. sav.\",\"\\u0160ven\\u010dioni\\u0173 r. sav.\"],\"\\u017duv\\u0173_b\\u016bkl\\u0117s_indeksas\":[0.28,0.28]},\"selected\":{\"id\":\"43644\"},\"selection_policy\":{\"id\":\"43662\"}},\"id\":\"43643\",\"type\":\"ColumnDataSource\"},{\"attributes\":{\"fill_alpha\":{\"value\":0.2},\"fill_color\":{\"value\":\"#fc4f30\"},\"hatch_alpha\":{\"value\":0.2},\"hatch_color\":{\"value\":\"#fc4f30\"},\"line_alpha\":{\"value\":0.2},\"line_color\":{\"value\":\"#fc4f30\"},\"size\":{\"value\":5.477225575051661},\"x\":{\"field\":\"Savivaldyb\\u0117\"},\"y\":{\"field\":\"Biomas\\u0117(kg)\"}},\"id\":\"43626\",\"type\":\"Scatter\"},{\"attributes\":{\"data\":{\"Biomas\\u0117(kg)\":{\"__ndarray__\":\"RIts5/upEkA=\",\"dtype\":\"float64\",\"order\":\"little\",\"shape\":[1]},\"Biomas\\u0117_left_parenthesis_kg_right_parenthesis\":{\"__ndarray__\":\"RIts5/upEkA=\",\"dtype\":\"float64\",\"order\":\"little\",\"shape\":[1]},\"Savivaldyb\\u0117\":[\"Mol\\u0117t\\u0173 r. sav.\"],\"\\u017duv\\u0173_b\\u016bkl\\u0117s_indeksas\":[0.33]},\"selected\":{\"id\":\"43752\"},\"selection_policy\":{\"id\":\"43778\"}},\"id\":\"43751\",\"type\":\"ColumnDataSource\"},{\"attributes\":{\"below\":[{\"id\":\"43574\"}],\"center\":[{\"id\":\"43576\"},{\"id\":\"43580\"}],\"left\":[{\"id\":\"43577\"}],\"margin\":[5,5,5,5],\"min_border_bottom\":10,\"min_border_left\":10,\"min_border_right\":10,\"min_border_top\":10,\"renderers\":[{\"id\":\"43606\"},{\"id\":\"43627\"},{\"id\":\"43649\"},{\"id\":\"43673\"},{\"id\":\"43699\"},{\"id\":\"43727\"},{\"id\":\"43757\"},{\"id\":\"43789\"},{\"id\":\"43823\"},{\"id\":\"43859\"},{\"id\":\"43897\"},{\"id\":\"43937\"},{\"id\":\"43979\"},{\"id\":\"44023\"},{\"id\":\"44069\"},{\"id\":\"44117\"},{\"id\":\"44167\"},{\"id\":\"44219\"},{\"id\":\"44273\"},{\"id\":\"44329\"},{\"id\":\"44387\"},{\"id\":\"44447\"},{\"id\":\"44509\"},{\"id\":\"44573\"},{\"id\":\"44639\"},{\"id\":\"44707\"},{\"id\":\"44777\"},{\"id\":\"44849\"},{\"id\":\"44923\"},{\"id\":\"44999\"},{\"id\":\"45077\"},{\"id\":\"45157\"},{\"id\":\"45239\"},{\"id\":\"45323\"},{\"id\":\"45409\"},{\"id\":\"45497\"},{\"id\":\"45587\"}],\"right\":[{\"id\":\"43618\"}],\"sizing_mode\":\"fixed\",\"title\":{\"id\":\"43566\"},\"toolbar\":{\"id\":\"43587\"},\"width\":800,\"x_range\":{\"id\":\"43526\"},\"x_scale\":{\"id\":\"43570\"},\"y_range\":{\"id\":\"43527\"},\"y_scale\":{\"id\":\"43572\"}},\"id\":\"43565\",\"subtype\":\"Figure\",\"type\":\"Plot\"},{\"attributes\":{\"coordinates\":null,\"data_source\":{\"id\":\"44381\"},\"glyph\":{\"id\":\"44384\"},\"group\":null,\"hover_glyph\":null,\"muted_glyph\":{\"id\":\"44386\"},\"nonselection_glyph\":{\"id\":\"44385\"},\"selection_glyph\":{\"id\":\"44440\"},\"view\":{\"id\":\"44388\"}},\"id\":\"44387\",\"type\":\"GlyphRenderer\"},{\"attributes\":{},\"id\":\"43601\",\"type\":\"Selection\"},{\"attributes\":{\"fill_alpha\":{\"value\":0.2},\"fill_color\":{\"value\":\"#d62728\"},\"hatch_alpha\":{\"value\":0.2},\"hatch_color\":{\"value\":\"#d62728\"},\"line_alpha\":{\"value\":0.2},\"line_color\":{\"value\":\"#d62728\"},\"size\":{\"value\":5.477225575051661},\"x\":{\"field\":\"Savivaldyb\\u0117\"},\"y\":{\"field\":\"Biomas\\u0117(kg)\"}},\"id\":\"45156\",\"type\":\"Scatter\"},{\"attributes\":{\"source\":{\"id\":\"45317\"}},\"id\":\"45324\",\"type\":\"CDSView\"},{\"attributes\":{\"data\":{\"Biomas\\u0117(kg)\":{\"__ndarray__\":\"PQrXo3C9FUA5tMh2vp8PQFK4HoXrUQ5AeekmMQisB0AIrBxaZLsSQCPb+X5qvPY/5/up8dLNEUBKDAIrhxb1P166SQwCKxBA\",\"dtype\":\"float64\",\"order\":\"little\",\"shape\":[9]},\"Biomas\\u0117_left_parenthesis_kg_right_parenthesis\":{\"__ndarray__\":\"PQrXo3C9FUA5tMh2vp8PQFK4HoXrUQ5AeekmMQisB0AIrBxaZLsSQCPb+X5qvPY/5/up8dLNEUBKDAIrhxb1P166SQwCKxBA\",\"dtype\":\"float64\",\"order\":\"little\",\"shape\":[9]},\"Savivaldyb\\u0117\":[\"Trak\\u0173 r. sav.\",\"Druskinink\\u0173 sav.\",\"Mol\\u0117t\\u0173 r. sav.\",\"Mol\\u0117t\\u0173 r. sav.\",\"Lazdij\\u0173 r. sav.\",\"Ignalinos r. sav.\",\"Utenos r. sav.\",\"Lazdij\\u0173 r. sav.\",\"Lazdij\\u0173 r. sav.\"],\"\\u017duv\\u0173_b\\u016bkl\\u0117s_indeksas\":[1.0,1.0,1.0,1.0,1.0,1.0,1.0,1.0,1.0]},\"selected\":{\"id\":\"45582\"},\"selection_policy\":{\"id\":\"45668\"}},\"id\":\"45581\",\"type\":\"ColumnDataSource\"},{\"attributes\":{\"overlay\":{\"id\":\"43586\"}},\"id\":\"43584\",\"type\":\"BoxZoomTool\"},{\"attributes\":{\"label\":{\"value\":\"0.8\"},\"renderers\":[{\"id\":\"45497\"}]},\"id\":\"45579\",\"type\":\"LegendItem\"},{\"attributes\":{\"data\":{\"Biomas\\u0117(kg)\":{\"__ndarray__\":\"okW28/1UEEA=\",\"dtype\":\"float64\",\"order\":\"little\",\"shape\":[1]},\"Biomas\\u0117_left_parenthesis_kg_right_parenthesis\":{\"__ndarray__\":\"okW28/1UEEA=\",\"dtype\":\"float64\",\"order\":\"little\",\"shape\":[1]},\"Savivaldyb\\u0117\":[\"Lazdij\\u0173 r. sav.\"],\"\\u017duv\\u0173_b\\u016bkl\\u0117s_indeksas\":[0.37]},\"selected\":{\"id\":\"43818\"},\"selection_policy\":{\"id\":\"43848\"}},\"id\":\"43817\",\"type\":\"ColumnDataSource\"},{\"attributes\":{\"fill_alpha\":{\"value\":0.2},\"fill_color\":{\"value\":\"#bcbd22\"},\"hatch_alpha\":{\"value\":0.2},\"hatch_color\":{\"value\":\"#bcbd22\"},\"line_alpha\":{\"value\":0.2},\"line_color\":{\"value\":\"#bcbd22\"},\"size\":{\"value\":5.477225575051661},\"x\":{\"field\":\"Savivaldyb\\u0117\"},\"y\":{\"field\":\"Biomas\\u0117(kg)\"}},\"id\":\"45496\",\"type\":\"Scatter\"},{\"attributes\":{\"fill_color\":{\"value\":\"#8c564b\"},\"hatch_color\":{\"value\":\"#8c564b\"},\"line_color\":{\"value\":\"#8c564b\"},\"size\":{\"value\":5.477225575051661},\"x\":{\"field\":\"Savivaldyb\\u0117\"},\"y\":{\"field\":\"Biomas\\u0117(kg)\"}},\"id\":\"45406\",\"type\":\"Scatter\"},{\"attributes\":{},\"id\":\"43598\",\"type\":\"BasicTickFormatter\"},{\"attributes\":{\"fill_color\":{\"value\":\"#1f77b4\"},\"hatch_color\":{\"value\":\"#1f77b4\"},\"line_color\":{\"value\":\"#1f77b4\"},\"size\":{\"value\":5.477225575051661},\"x\":{\"field\":\"Savivaldyb\\u0117\"},\"y\":{\"field\":\"Biomas\\u0117(kg)\"}},\"id\":\"44384\",\"type\":\"Scatter\"},{\"attributes\":{\"fill_color\":{\"value\":\"#e377c2\"},\"hatch_color\":{\"value\":\"#e377c2\"},\"line_color\":{\"value\":\"#e377c2\"},\"size\":{\"value\":5.477225575051661},\"x\":{\"field\":\"Savivaldyb\\u0117\"},\"y\":{\"field\":\"Biomas\\u0117(kg)\"}},\"id\":\"45320\",\"type\":\"Scatter\"},{\"attributes\":{\"fill_alpha\":{\"value\":0.2},\"fill_color\":{\"value\":\"#30a2da\"},\"hatch_alpha\":{\"value\":0.2},\"hatch_color\":{\"value\":\"#30a2da\"},\"line_alpha\":{\"value\":0.2},\"line_color\":{\"value\":\"#30a2da\"},\"size\":{\"value\":5.477225575051661},\"x\":{\"field\":\"Savivaldyb\\u0117\"},\"y\":{\"field\":\"Biomas\\u0117(kg)\"}},\"id\":\"43605\",\"type\":\"Scatter\"},{\"attributes\":{\"angle\":{\"value\":0.0},\"fill_alpha\":{\"value\":1.0},\"fill_color\":{\"value\":\"#e377c2\"},\"hatch_alpha\":{\"value\":1.0},\"hatch_color\":{\"value\":\"#e377c2\"},\"hatch_scale\":{\"value\":12.0},\"hatch_weight\":{\"value\":1.0},\"line_alpha\":{\"value\":1.0},\"line_cap\":{\"value\":\"butt\"},\"line_color\":{\"value\":\"#e377c2\"},\"line_dash\":{\"value\":[]},\"line_dash_offset\":{\"value\":0},\"line_join\":{\"value\":\"bevel\"},\"line_width\":{\"value\":1},\"marker\":{\"value\":\"circle\"},\"size\":{\"value\":5.477225575051661},\"x\":{\"field\":\"Savivaldyb\\u0117\"},\"y\":{\"field\":\"Biomas\\u0117(kg)\"}},\"id\":\"44502\",\"type\":\"Scatter\"},{\"attributes\":{\"fill_alpha\":{\"value\":0.1},\"fill_color\":{\"value\":\"#30a2da\"},\"hatch_alpha\":{\"value\":0.1},\"hatch_color\":{\"value\":\"#30a2da\"},\"line_alpha\":{\"value\":0.1},\"line_color\":{\"value\":\"#30a2da\"},\"size\":{\"value\":5.477225575051661},\"x\":{\"field\":\"Savivaldyb\\u0117\"},\"y\":{\"field\":\"Biomas\\u0117(kg)\"}},\"id\":\"43604\",\"type\":\"Scatter\"},{\"attributes\":{\"fill_alpha\":{\"value\":0.1},\"fill_color\":{\"value\":\"#1f77b4\"},\"hatch_alpha\":{\"value\":0.1},\"hatch_color\":{\"value\":\"#1f77b4\"},\"line_alpha\":{\"value\":0.1},\"line_color\":{\"value\":\"#1f77b4\"},\"size\":{\"value\":5.477225575051661},\"x\":{\"field\":\"Savivaldyb\\u0117\"},\"y\":{\"field\":\"Biomas\\u0117(kg)\"}},\"id\":\"44385\",\"type\":\"Scatter\"},{\"attributes\":{\"fill_alpha\":{\"value\":0.2},\"fill_color\":{\"value\":\"#1f77b4\"},\"hatch_alpha\":{\"value\":0.2},\"hatch_color\":{\"value\":\"#1f77b4\"},\"line_alpha\":{\"value\":0.2},\"line_color\":{\"value\":\"#1f77b4\"},\"size\":{\"value\":5.477225575051661},\"x\":{\"field\":\"Savivaldyb\\u0117\"},\"y\":{\"field\":\"Biomas\\u0117(kg)\"}},\"id\":\"44386\",\"type\":\"Scatter\"},{\"attributes\":{\"fill_alpha\":{\"value\":0.2},\"fill_color\":{\"value\":\"#bcbd22\"},\"hatch_alpha\":{\"value\":0.2},\"hatch_color\":{\"value\":\"#bcbd22\"},\"line_alpha\":{\"value\":0.2},\"line_color\":{\"value\":\"#bcbd22\"},\"size\":{\"value\":5.477225575051661},\"x\":{\"field\":\"Savivaldyb\\u0117\"},\"y\":{\"field\":\"Biomas\\u0117(kg)\"}},\"id\":\"44572\",\"type\":\"Scatter\"},{\"attributes\":{\"source\":{\"id\":\"44917\"}},\"id\":\"44924\",\"type\":\"CDSView\"},{\"attributes\":{\"factors\":[\"Utenos r. sav.\",\"Ignalinos r. sav.\",\"Roki\\u0161kio r. sav.\",\"\\u0160ven\\u010dioni\\u0173 r. sav.\",\"Kai\\u0161iadori\\u0173 r. sav.\",\"Lazdij\\u0173 r. sav.\",\"\\u0160al\\u010dinink\\u0173 r. sav.\",\"K\\u0117daini\\u0173 r. sav.\",\"Mol\\u0117t\\u0173 r. sav.\",\"Anyk\\u0161\\u010di\\u0173 r. sav.\",\"Elektr\\u0117n\\u0173 sav.\",\"Zaras\\u0173 r. sav.\",\"Trak\\u0173 r. sav.\",\"Ukmerg\\u0117s r. sav.\",\"\\u0160ilal\\u0117s r. sav.\",\"Akmen\\u0117s r. sav.\",\"Alytaus r. sav.\",\"Tel\\u0161i\\u0173 r. sav.\",\"Marijampol\\u0117s sav.\",\"Kretingos r. sav.\",\"Druskinink\\u0173 sav.\",\"Pakruojo r. sav.\",\"\\u0160iauli\\u0173 r. sav.\"],\"tags\":[[[\"Savivaldyb\\u0117\",\"Savivaldyb\\u0117\",null]]]},\"id\":\"43526\",\"type\":\"FactorRange\"},{\"attributes\":{\"angle\":{\"value\":0.0},\"fill_alpha\":{\"value\":1.0},\"fill_color\":{\"value\":\"#9467bd\"},\"hatch_alpha\":{\"value\":1.0},\"hatch_color\":{\"value\":\"#9467bd\"},\"hatch_scale\":{\"value\":12.0},\"hatch_weight\":{\"value\":1.0},\"line_alpha\":{\"value\":1.0},\"line_cap\":{\"value\":\"butt\"},\"line_color\":{\"value\":\"#9467bd\"},\"line_dash\":{\"value\":[]},\"line_dash_offset\":{\"value\":0},\"line_join\":{\"value\":\"bevel\"},\"line_width\":{\"value\":1},\"marker\":{\"value\":\"circle\"},\"size\":{\"value\":5.477225575051661},\"x\":{\"field\":\"Savivaldyb\\u0117\"},\"y\":{\"field\":\"Biomas\\u0117(kg)\"}},\"id\":\"44322\",\"type\":\"Scatter\"},{\"attributes\":{\"label\":{\"value\":\"0.33\"},\"renderers\":[{\"id\":\"43757\"}]},\"id\":\"43781\",\"type\":\"LegendItem\"},{\"attributes\":{\"angle\":{\"value\":0.0},\"fill_alpha\":{\"value\":1.0},\"fill_color\":{\"value\":\"#30a2da\"},\"hatch_alpha\":{\"value\":1.0},\"hatch_color\":{\"value\":\"#30a2da\"},\"hatch_scale\":{\"value\":12.0},\"hatch_weight\":{\"value\":1.0},\"line_alpha\":{\"value\":1.0},\"line_cap\":{\"value\":\"butt\"},\"line_color\":{\"value\":\"#30a2da\"},\"line_dash\":{\"value\":[]},\"line_dash_offset\":{\"value\":0},\"line_join\":{\"value\":\"bevel\"},\"line_width\":{\"value\":1},\"marker\":{\"value\":\"circle\"},\"size\":{\"value\":5.477225575051661},\"x\":{\"field\":\"Savivaldyb\\u0117\"},\"y\":{\"field\":\"Biomas\\u0117(kg)\"}},\"id\":\"44016\",\"type\":\"Scatter\"},{\"attributes\":{\"angle\":{\"value\":0.0},\"fill_alpha\":{\"value\":1.0},\"fill_color\":{\"value\":\"#9467bd\"},\"hatch_alpha\":{\"value\":1.0},\"hatch_color\":{\"value\":\"#9467bd\"},\"hatch_scale\":{\"value\":12.0},\"hatch_weight\":{\"value\":1.0},\"line_alpha\":{\"value\":1.0},\"line_cap\":{\"value\":\"butt\"},\"line_color\":{\"value\":\"#9467bd\"},\"line_dash\":{\"value\":[]},\"line_dash_offset\":{\"value\":0},\"line_join\":{\"value\":\"bevel\"},\"line_width\":{\"value\":1},\"marker\":{\"value\":\"circle\"},\"size\":{\"value\":5.477225575051661},\"x\":{\"field\":\"Savivaldyb\\u0117\"},\"y\":{\"field\":\"Biomas\\u0117(kg)\"}},\"id\":\"45150\",\"type\":\"Scatter\"},{\"attributes\":{\"data\":{\"Biomas\\u0117(kg)\":{\"__ndarray__\":\"ukkMAiuHDkA=\",\"dtype\":\"float64\",\"order\":\"little\",\"shape\":[1]},\"Biomas\\u0117_left_parenthesis_kg_right_parenthesis\":{\"__ndarray__\":\"ukkMAiuHDkA=\",\"dtype\":\"float64\",\"order\":\"little\",\"shape\":[1]},\"Savivaldyb\\u0117\":[\"Zaras\\u0173 r. sav.\"],\"\\u017duv\\u0173_b\\u016bkl\\u0117s_indeksas\":[0.69]},\"selected\":{\"id\":\"45072\"},\"selection_policy\":{\"id\":\"45146\"}},\"id\":\"45071\",\"type\":\"ColumnDataSource\"},{\"attributes\":{},\"id\":\"43578\",\"type\":\"BasicTicker\"},{\"attributes\":{\"coordinates\":null,\"data_source\":{\"id\":\"44993\"},\"glyph\":{\"id\":\"44996\"},\"group\":null,\"hover_glyph\":null,\"muted_glyph\":{\"id\":\"44998\"},\"nonselection_glyph\":{\"id\":\"44997\"},\"selection_glyph\":{\"id\":\"45070\"},\"view\":{\"id\":\"45000\"}},\"id\":\"44999\",\"type\":\"GlyphRenderer\"},{\"attributes\":{\"fill_alpha\":{\"value\":0.1},\"fill_color\":{\"value\":\"#bcbd22\"},\"hatch_alpha\":{\"value\":0.1},\"hatch_color\":{\"value\":\"#bcbd22\"},\"line_alpha\":{\"value\":0.1},\"line_color\":{\"value\":\"#bcbd22\"},\"size\":{\"value\":5.477225575051661},\"x\":{\"field\":\"Savivaldyb\\u0117\"},\"y\":{\"field\":\"Biomas\\u0117(kg)\"}},\"id\":\"45495\",\"type\":\"Scatter\"},{\"attributes\":{\"fill_alpha\":{\"value\":0.2},\"fill_color\":{\"value\":\"#8c564b\"},\"hatch_alpha\":{\"value\":0.2},\"hatch_color\":{\"value\":\"#8c564b\"},\"line_alpha\":{\"value\":0.2},\"line_color\":{\"value\":\"#8c564b\"},\"size\":{\"value\":5.477225575051661},\"x\":{\"field\":\"Savivaldyb\\u0117\"},\"y\":{\"field\":\"Biomas\\u0117(kg)\"}},\"id\":\"45408\",\"type\":\"Scatter\"},{\"attributes\":{\"angle\":{\"value\":0.0},\"fill_alpha\":{\"value\":1.0},\"fill_color\":{\"value\":\"#6d904f\"},\"hatch_alpha\":{\"value\":1.0},\"hatch_color\":{\"value\":\"#6d904f\"},\"hatch_scale\":{\"value\":12.0},\"hatch_weight\":{\"value\":1.0},\"line_alpha\":{\"value\":1.0},\"line_cap\":{\"value\":\"butt\"},\"line_color\":{\"value\":\"#6d904f\"},\"line_dash\":{\"value\":[]},\"line_dash_offset\":{\"value\":0},\"line_join\":{\"value\":\"bevel\"},\"line_width\":{\"value\":1},\"marker\":{\"value\":\"circle\"},\"size\":{\"value\":5.477225575051661},\"x\":{\"field\":\"Savivaldyb\\u0117\"},\"y\":{\"field\":\"Biomas\\u0117(kg)\"}},\"id\":\"44160\",\"type\":\"Scatter\"},{\"attributes\":{},\"id\":\"43974\",\"type\":\"Selection\"},{\"attributes\":{\"source\":{\"id\":\"44381\"}},\"id\":\"44388\",\"type\":\"CDSView\"},{\"attributes\":{\"axis_label\":\"Biomas\\u0117(kg)\",\"coordinates\":null,\"formatter\":{\"id\":\"43598\"},\"group\":null,\"major_label_policy\":{\"id\":\"43599\"},\"ticker\":{\"id\":\"43578\"}},\"id\":\"43577\",\"type\":\"LinearAxis\"},{\"attributes\":{\"fill_color\":{\"value\":\"#9467bd\"},\"hatch_color\":{\"value\":\"#9467bd\"},\"line_color\":{\"value\":\"#9467bd\"},\"size\":{\"value\":5.477225575051661},\"x\":{\"field\":\"Savivaldyb\\u0117\"},\"y\":{\"field\":\"Biomas\\u0117(kg)\"}},\"id\":\"45074\",\"type\":\"Scatter\"},{\"attributes\":{},\"id\":\"44262\",\"type\":\"UnionRenderers\"},{\"attributes\":{},\"id\":\"44324\",\"type\":\"Selection\"},{\"attributes\":{},\"id\":\"44562\",\"type\":\"UnionRenderers\"},{\"attributes\":{\"label\":{\"value\":\"0.4\"},\"renderers\":[{\"id\":\"43859\"}]},\"id\":\"43889\",\"type\":\"LegendItem\"},{\"attributes\":{\"coordinates\":null,\"data_source\":{\"id\":\"43643\"},\"glyph\":{\"id\":\"43646\"},\"group\":null,\"hover_glyph\":null,\"muted_glyph\":{\"id\":\"43648\"},\"nonselection_glyph\":{\"id\":\"43647\"},\"selection_glyph\":{\"id\":\"43666\"},\"view\":{\"id\":\"43650\"}},\"id\":\"43649\",\"type\":\"GlyphRenderer\"},{\"attributes\":{\"callback\":null,\"renderers\":[{\"id\":\"43606\"},{\"id\":\"43627\"},{\"id\":\"43649\"},{\"id\":\"43673\"},{\"id\":\"43699\"},{\"id\":\"43727\"},{\"id\":\"43757\"},{\"id\":\"43789\"},{\"id\":\"43823\"},{\"id\":\"43859\"},{\"id\":\"43897\"},{\"id\":\"43937\"},{\"id\":\"43979\"},{\"id\":\"44023\"},{\"id\":\"44069\"},{\"id\":\"44117\"},{\"id\":\"44167\"},{\"id\":\"44219\"},{\"id\":\"44273\"},{\"id\":\"44329\"},{\"id\":\"44387\"},{\"id\":\"44447\"},{\"id\":\"44509\"},{\"id\":\"44573\"},{\"id\":\"44639\"},{\"id\":\"44707\"},{\"id\":\"44777\"},{\"id\":\"44849\"},{\"id\":\"44923\"},{\"id\":\"44999\"},{\"id\":\"45077\"},{\"id\":\"45157\"},{\"id\":\"45239\"},{\"id\":\"45323\"},{\"id\":\"45409\"},{\"id\":\"45497\"},{\"id\":\"45587\"}],\"tags\":[\"hv_created\"],\"tooltips\":[[\"\\u017duv\\u0173 b\\u016bkl\\u0117s indeksas\",\"@{\\u017duv\\u0173_b\\u016bkl\\u0117s_indeksas}\"],[\"Savivaldyb\\u0117\",\"@{Savivaldyb\\u0117}\"],[\"Biomas\\u0117(kg)\",\"@{Biomas\\u0117_left_parenthesis_kg_right_parenthesis}\"]]},\"id\":\"43528\",\"type\":\"HoverTool\"},{\"attributes\":{},\"id\":\"43722\",\"type\":\"Selection\"},{\"attributes\":{\"data\":{\"Biomas\\u0117(kg)\":{\"__ndarray__\":\"QmDl0CLbDECkcD0K16MQQA==\",\"dtype\":\"float64\",\"order\":\"little\",\"shape\":[2]},\"Biomas\\u0117_left_parenthesis_kg_right_parenthesis\":{\"__ndarray__\":\"QmDl0CLbDECkcD0K16MQQA==\",\"dtype\":\"float64\",\"order\":\"little\",\"shape\":[2]},\"Savivaldyb\\u0117\":[\"Mol\\u0117t\\u0173 r. sav.\",\"Utenos r. sav.\"],\"\\u017duv\\u0173_b\\u016bkl\\u0117s_indeksas\":[0.48,0.48]},\"selected\":{\"id\":\"44162\"},\"selection_policy\":{\"id\":\"44208\"}},\"id\":\"44161\",\"type\":\"ColumnDataSource\"},{\"attributes\":{},\"id\":\"44988\",\"type\":\"UnionRenderers\"},{\"attributes\":{\"label\":{\"value\":\"0.29\"},\"renderers\":[{\"id\":\"43673\"}]},\"id\":\"43691\",\"type\":\"LegendItem\"},{\"attributes\":{\"coordinates\":null,\"data_source\":{\"id\":\"44701\"},\"glyph\":{\"id\":\"44704\"},\"group\":null,\"hover_glyph\":null,\"muted_glyph\":{\"id\":\"44706\"},\"nonselection_glyph\":{\"id\":\"44705\"},\"selection_glyph\":{\"id\":\"44770\"},\"view\":{\"id\":\"44708\"}},\"id\":\"44707\",\"type\":\"GlyphRenderer\"},{\"attributes\":{\"data\":{\"Biomas\\u0117(kg)\":{\"__ndarray__\":\"16NwPQrX+z/fT42XbhIDQA==\",\"dtype\":\"float64\",\"order\":\"little\",\"shape\":[2]},\"Biomas\\u0117_left_parenthesis_kg_right_parenthesis\":{\"__ndarray__\":\"16NwPQrX+z/fT42XbhIDQA==\",\"dtype\":\"float64\",\"order\":\"little\",\"shape\":[2]},\"Savivaldyb\\u0117\":[\"Utenos r. sav.\",\"Ignalinos r. sav.\"],\"\\u017duv\\u0173_b\\u016bkl\\u0117s_indeksas\":[0.49,0.49]},\"selected\":{\"id\":\"44214\"},\"selection_policy\":{\"id\":\"44262\"}},\"id\":\"44213\",\"type\":\"ColumnDataSource\"},{\"attributes\":{\"fill_alpha\":{\"value\":0.2},\"fill_color\":{\"value\":\"#9467bd\"},\"hatch_alpha\":{\"value\":0.2},\"hatch_color\":{\"value\":\"#9467bd\"},\"line_alpha\":{\"value\":0.2},\"line_color\":{\"value\":\"#9467bd\"},\"size\":{\"value\":5.477225575051661},\"x\":{\"field\":\"Savivaldyb\\u0117\"},\"y\":{\"field\":\"Biomas\\u0117(kg)\"}},\"id\":\"45076\",\"type\":\"Scatter\"},{\"attributes\":{},\"id\":\"43854\",\"type\":\"Selection\"},{\"attributes\":{\"fill_color\":{\"value\":\"#17becf\"},\"hatch_color\":{\"value\":\"#17becf\"},\"line_color\":{\"value\":\"#17becf\"},\"size\":{\"value\":5.477225575051661},\"x\":{\"field\":\"Savivaldyb\\u0117\"},\"y\":{\"field\":\"Biomas\\u0117(kg)\"}},\"id\":\"44996\",\"type\":\"Scatter\"},{\"attributes\":{\"coordinates\":null,\"data_source\":{\"id\":\"44063\"},\"glyph\":{\"id\":\"44066\"},\"group\":null,\"hover_glyph\":null,\"muted_glyph\":{\"id\":\"44068\"},\"nonselection_glyph\":{\"id\":\"44067\"},\"selection_glyph\":{\"id\":\"44110\"},\"view\":{\"id\":\"44070\"}},\"id\":\"44069\",\"type\":\"GlyphRenderer\"},{\"attributes\":{\"fill_color\":{\"value\":\"#17becf\"},\"hatch_color\":{\"value\":\"#17becf\"},\"line_color\":{\"value\":\"#17becf\"},\"size\":{\"value\":5.477225575051661},\"x\":{\"field\":\"Savivaldyb\\u0117\"},\"y\":{\"field\":\"Biomas\\u0117(kg)\"}},\"id\":\"44216\",\"type\":\"Scatter\"},{\"attributes\":{\"source\":{\"id\":\"44503\"}},\"id\":\"44510\",\"type\":\"CDSView\"},{\"attributes\":{},\"id\":\"44634\",\"type\":\"Selection\"},{\"attributes\":{},\"id\":\"45486\",\"type\":\"UnionRenderers\"},{\"attributes\":{},\"id\":\"43596\",\"type\":\"AllLabels\"},{\"attributes\":{\"fill_alpha\":{\"value\":0.1},\"fill_color\":{\"value\":\"#17becf\"},\"hatch_alpha\":{\"value\":0.1},\"hatch_color\":{\"value\":\"#17becf\"},\"line_alpha\":{\"value\":0.1},\"line_color\":{\"value\":\"#17becf\"},\"size\":{\"value\":5.477225575051661},\"x\":{\"field\":\"Savivaldyb\\u0117\"},\"y\":{\"field\":\"Biomas\\u0117(kg)\"}},\"id\":\"44217\",\"type\":\"Scatter\"},{\"attributes\":{\"label\":{\"value\":\"0.58\"},\"renderers\":[{\"id\":\"44573\"}]},\"id\":\"44631\",\"type\":\"LegendItem\"},{\"attributes\":{\"coordinates\":null,\"data_source\":{\"id\":\"44213\"},\"glyph\":{\"id\":\"44216\"},\"group\":null,\"hover_glyph\":null,\"muted_glyph\":{\"id\":\"44218\"},\"nonselection_glyph\":{\"id\":\"44217\"},\"selection_glyph\":{\"id\":\"44266\"},\"view\":{\"id\":\"44220\"}},\"id\":\"44219\",\"type\":\"GlyphRenderer\"},{\"attributes\":{},\"id\":\"44156\",\"type\":\"UnionRenderers\"},{\"attributes\":{\"data\":{\"Biomas\\u0117(kg)\":{\"__ndarray__\":\"UrgehetREUDHSzeJQSAjQA==\",\"dtype\":\"float64\",\"order\":\"little\",\"shape\":[2]},\"Biomas\\u0117_left_parenthesis_kg_right_parenthesis\":{\"__ndarray__\":\"UrgehetREUDHSzeJQSAjQA==\",\"dtype\":\"float64\",\"order\":\"little\",\"shape\":[2]},\"Savivaldyb\\u0117\":[\"\\u0160al\\u010dinink\\u0173 r. sav.\",\"K\\u0117daini\\u0173 r. sav.\"],\"\\u017duv\\u0173_b\\u016bkl\\u0117s_indeksas\":[0.31,0.31]},\"selected\":{\"id\":\"43722\"},\"selection_policy\":{\"id\":\"43746\"}},\"id\":\"43721\",\"type\":\"ColumnDataSource\"},{\"attributes\":{},\"id\":\"44018\",\"type\":\"Selection\"},{\"attributes\":{\"fill_color\":{\"value\":\"#e5ae38\"},\"hatch_color\":{\"value\":\"#e5ae38\"},\"line_color\":{\"value\":\"#e5ae38\"},\"size\":{\"value\":5.477225575051661},\"x\":{\"field\":\"Savivaldyb\\u0117\"},\"y\":{\"field\":\"Biomas\\u0117(kg)\"}},\"id\":\"43646\",\"type\":\"Scatter\"},{\"attributes\":{\"label\":{\"value\":\"0.63\"},\"renderers\":[{\"id\":\"44777\"}]},\"id\":\"44841\",\"type\":\"LegendItem\"},{\"attributes\":{\"axis\":{\"id\":\"43577\"},\"coordinates\":null,\"dimension\":1,\"grid_line_color\":null,\"group\":null,\"ticker\":null},\"id\":\"43580\",\"type\":\"Grid\"},{\"attributes\":{\"fill_alpha\":{\"value\":0.2},\"fill_color\":{\"value\":\"#17becf\"},\"hatch_alpha\":{\"value\":0.2},\"hatch_color\":{\"value\":\"#17becf\"},\"line_alpha\":{\"value\":0.2},\"line_color\":{\"value\":\"#17becf\"},\"size\":{\"value\":5.477225575051661},\"x\":{\"field\":\"Savivaldyb\\u0117\"},\"y\":{\"field\":\"Biomas\\u0117(kg)\"}},\"id\":\"44218\",\"type\":\"Scatter\"},{\"attributes\":{\"label\":{\"value\":\"0.77\"},\"renderers\":[{\"id\":\"45409\"}]},\"id\":\"45489\",\"type\":\"LegendItem\"},{\"attributes\":{\"source\":{\"id\":\"45581\"}},\"id\":\"45588\",\"type\":\"CDSView\"},{\"attributes\":{\"fill_alpha\":{\"value\":0.1},\"fill_color\":{\"value\":\"#e5ae38\"},\"hatch_alpha\":{\"value\":0.1},\"hatch_color\":{\"value\":\"#e5ae38\"},\"line_alpha\":{\"value\":0.1},\"line_color\":{\"value\":\"#e5ae38\"},\"size\":{\"value\":5.477225575051661},\"x\":{\"field\":\"Savivaldyb\\u0117\"},\"y\":{\"field\":\"Biomas\\u0117(kg)\"}},\"id\":\"43647\",\"type\":\"Scatter\"},{\"attributes\":{},\"id\":\"44504\",\"type\":\"Selection\"},{\"attributes\":{\"coordinates\":null,\"data_source\":{\"id\":\"45403\"},\"glyph\":{\"id\":\"45406\"},\"group\":null,\"hover_glyph\":null,\"muted_glyph\":{\"id\":\"45408\"},\"nonselection_glyph\":{\"id\":\"45407\"},\"selection_glyph\":{\"id\":\"45490\"},\"view\":{\"id\":\"45410\"}},\"id\":\"45409\",\"type\":\"GlyphRenderer\"},{\"attributes\":{\"fill_alpha\":{\"value\":0.2},\"fill_color\":{\"value\":\"#e5ae38\"},\"hatch_alpha\":{\"value\":0.2},\"hatch_color\":{\"value\":\"#e5ae38\"},\"line_alpha\":{\"value\":0.2},\"line_color\":{\"value\":\"#e5ae38\"},\"size\":{\"value\":5.477225575051661},\"x\":{\"field\":\"Savivaldyb\\u0117\"},\"y\":{\"field\":\"Biomas\\u0117(kg)\"}},\"id\":\"43648\",\"type\":\"Scatter\"},{\"attributes\":{\"coordinates\":null,\"data_source\":{\"id\":\"43931\"},\"glyph\":{\"id\":\"43934\"},\"group\":null,\"hover_glyph\":null,\"muted_glyph\":{\"id\":\"43936\"},\"nonselection_glyph\":{\"id\":\"43935\"},\"selection_glyph\":{\"id\":\"43972\"},\"view\":{\"id\":\"43938\"}},\"id\":\"43937\",\"type\":\"GlyphRenderer\"},{\"attributes\":{},\"id\":\"45404\",\"type\":\"Selection\"},{\"attributes\":{\"angle\":{\"value\":0.0},\"fill_alpha\":{\"value\":1.0},\"fill_color\":{\"value\":\"#9467bd\"},\"hatch_alpha\":{\"value\":1.0},\"hatch_color\":{\"value\":\"#9467bd\"},\"hatch_scale\":{\"value\":12.0},\"hatch_weight\":{\"value\":1.0},\"line_alpha\":{\"value\":1.0},\"line_cap\":{\"value\":\"butt\"},\"line_color\":{\"value\":\"#9467bd\"},\"line_dash\":{\"value\":[]},\"line_dash_offset\":{\"value\":0},\"line_join\":{\"value\":\"bevel\"},\"line_width\":{\"value\":1},\"marker\":{\"value\":\"circle\"},\"size\":{\"value\":5.477225575051661},\"x\":{\"field\":\"Savivaldyb\\u0117\"},\"y\":{\"field\":\"Biomas\\u0117(kg)\"}},\"id\":\"43782\",\"type\":\"Scatter\"},{\"attributes\":{\"angle\":{\"value\":0.0},\"fill_alpha\":{\"value\":1.0},\"fill_color\":{\"value\":\"#d62728\"},\"hatch_alpha\":{\"value\":1.0},\"hatch_color\":{\"value\":\"#d62728\"},\"hatch_scale\":{\"value\":12.0},\"hatch_weight\":{\"value\":1.0},\"line_alpha\":{\"value\":1.0},\"line_cap\":{\"value\":\"butt\"},\"line_color\":{\"value\":\"#d62728\"},\"line_dash\":{\"value\":[]},\"line_dash_offset\":{\"value\":0},\"line_join\":{\"value\":\"bevel\"},\"line_width\":{\"value\":1},\"marker\":{\"value\":\"circle\"},\"size\":{\"value\":5.477225575051661},\"x\":{\"field\":\"Savivaldyb\\u0117\"},\"y\":{\"field\":\"Biomas\\u0117(kg)\"}},\"id\":\"44380\",\"type\":\"Scatter\"},{\"attributes\":{\"coordinates\":null,\"data_source\":{\"id\":\"43817\"},\"glyph\":{\"id\":\"43820\"},\"group\":null,\"hover_glyph\":null,\"muted_glyph\":{\"id\":\"43822\"},\"nonselection_glyph\":{\"id\":\"43821\"},\"selection_glyph\":{\"id\":\"43852\"},\"view\":{\"id\":\"43824\"}},\"id\":\"43823\",\"type\":\"GlyphRenderer\"},{\"attributes\":{\"fill_color\":{\"value\":\"#e5ae38\"},\"hatch_color\":{\"value\":\"#e5ae38\"},\"line_color\":{\"value\":\"#e5ae38\"},\"size\":{\"value\":5.477225575051661},\"x\":{\"field\":\"Savivaldyb\\u0117\"},\"y\":{\"field\":\"Biomas\\u0117(kg)\"}},\"id\":\"44066\",\"type\":\"Scatter\"},{\"attributes\":{},\"id\":\"44058\",\"type\":\"UnionRenderers\"},{\"attributes\":{\"data\":{\"Biomas\\u0117(kg)\":{\"__ndarray__\":\"K4cW2c73EUD0/dR46SYMQA==\",\"dtype\":\"float64\",\"order\":\"little\",\"shape\":[2]},\"Biomas\\u0117_left_parenthesis_kg_right_parenthesis\":{\"__ndarray__\":\"K4cW2c73EUD0/dR46SYMQA==\",\"dtype\":\"float64\",\"order\":\"little\",\"shape\":[2]},\"Savivaldyb\\u0117\":[\"Alytaus r. sav.\",\"Mol\\u0117t\\u0173 r. sav.\"],\"\\u017duv\\u0173_b\\u016bkl\\u0117s_indeksas\":[0.52,0.52]},\"selected\":{\"id\":\"44382\"},\"selection_policy\":{\"id\":\"44436\"}},\"id\":\"44381\",\"type\":\"ColumnDataSource\"},{\"attributes\":{\"fill_alpha\":{\"value\":0.1},\"fill_color\":{\"value\":\"#8c564b\"},\"hatch_alpha\":{\"value\":0.1},\"hatch_color\":{\"value\":\"#8c564b\"},\"line_alpha\":{\"value\":0.1},\"line_color\":{\"value\":\"#8c564b\"},\"size\":{\"value\":5.477225575051661},\"x\":{\"field\":\"Savivaldyb\\u0117\"},\"y\":{\"field\":\"Biomas\\u0117(kg)\"}},\"id\":\"45407\",\"type\":\"Scatter\"},{\"attributes\":{\"angle\":{\"value\":0.0},\"fill_alpha\":{\"value\":1.0},\"fill_color\":{\"value\":\"#e377c2\"},\"hatch_alpha\":{\"value\":1.0},\"hatch_color\":{\"value\":\"#e377c2\"},\"hatch_scale\":{\"value\":12.0},\"hatch_weight\":{\"value\":1.0},\"line_alpha\":{\"value\":1.0},\"line_cap\":{\"value\":\"butt\"},\"line_color\":{\"value\":\"#e377c2\"},\"line_dash\":{\"value\":[]},\"line_dash_offset\":{\"value\":0},\"line_join\":{\"value\":\"bevel\"},\"line_width\":{\"value\":1},\"marker\":{\"value\":\"circle\"},\"size\":{\"value\":5.477225575051661},\"x\":{\"field\":\"Savivaldyb\\u0117\"},\"y\":{\"field\":\"Biomas\\u0117(kg)\"}},\"id\":\"43890\",\"type\":\"Scatter\"},{\"attributes\":{\"fill_alpha\":{\"value\":0.1},\"fill_color\":{\"value\":\"#e5ae38\"},\"hatch_alpha\":{\"value\":0.1},\"hatch_color\":{\"value\":\"#e5ae38\"},\"line_alpha\":{\"value\":0.1},\"line_color\":{\"value\":\"#e5ae38\"},\"size\":{\"value\":5.477225575051661},\"x\":{\"field\":\"Savivaldyb\\u0117\"},\"y\":{\"field\":\"Biomas\\u0117(kg)\"}},\"id\":\"44067\",\"type\":\"Scatter\"},{\"attributes\":{\"fill_alpha\":{\"value\":0.2},\"fill_color\":{\"value\":\"#e5ae38\"},\"hatch_alpha\":{\"value\":0.2},\"hatch_color\":{\"value\":\"#e5ae38\"},\"line_alpha\":{\"value\":0.2},\"line_color\":{\"value\":\"#e5ae38\"},\"size\":{\"value\":5.477225575051661},\"x\":{\"field\":\"Savivaldyb\\u0117\"},\"y\":{\"field\":\"Biomas\\u0117(kg)\"}},\"id\":\"44068\",\"type\":\"Scatter\"},{\"attributes\":{\"source\":{\"id\":\"44213\"}},\"id\":\"44220\",\"type\":\"CDSView\"},{\"attributes\":{\"fill_color\":{\"value\":\"#17becf\"},\"hatch_color\":{\"value\":\"#17becf\"},\"line_color\":{\"value\":\"#17becf\"},\"size\":{\"value\":5.477225575051661},\"x\":{\"field\":\"Savivaldyb\\u0117\"},\"y\":{\"field\":\"Biomas\\u0117(kg)\"}},\"id\":\"43724\",\"type\":\"Scatter\"},{\"attributes\":{\"label\":{\"value\":\"0.64\"},\"renderers\":[{\"id\":\"44849\"}]},\"id\":\"44915\",\"type\":\"LegendItem\"},{\"attributes\":{},\"id\":\"43582\",\"type\":\"PanTool\"},{\"attributes\":{\"fill_alpha\":{\"value\":0.1},\"fill_color\":{\"value\":\"#17becf\"},\"hatch_alpha\":{\"value\":0.1},\"hatch_color\":{\"value\":\"#17becf\"},\"line_alpha\":{\"value\":0.1},\"line_color\":{\"value\":\"#17becf\"},\"size\":{\"value\":5.477225575051661},\"x\":{\"field\":\"Savivaldyb\\u0117\"},\"y\":{\"field\":\"Biomas\\u0117(kg)\"}},\"id\":\"43725\",\"type\":\"Scatter\"},{\"attributes\":{},\"id\":\"44436\",\"type\":\"UnionRenderers\"},{\"attributes\":{\"coordinates\":null,\"data_source\":{\"id\":\"43721\"},\"glyph\":{\"id\":\"43724\"},\"group\":null,\"hover_glyph\":null,\"muted_glyph\":{\"id\":\"43726\"},\"nonselection_glyph\":{\"id\":\"43725\"},\"selection_glyph\":{\"id\":\"43750\"},\"view\":{\"id\":\"43728\"}},\"id\":\"43727\",\"type\":\"GlyphRenderer\"},{\"attributes\":{\"source\":{\"id\":\"43643\"}},\"id\":\"43650\",\"type\":\"CDSView\"},{\"attributes\":{},\"id\":\"43812\",\"type\":\"UnionRenderers\"},{\"attributes\":{\"coordinates\":null,\"data_source\":{\"id\":\"44567\"},\"glyph\":{\"id\":\"44570\"},\"group\":null,\"hover_glyph\":null,\"muted_glyph\":{\"id\":\"44572\"},\"nonselection_glyph\":{\"id\":\"44571\"},\"selection_glyph\":{\"id\":\"44632\"},\"view\":{\"id\":\"44574\"}},\"id\":\"44573\",\"type\":\"GlyphRenderer\"},{\"attributes\":{\"label\":{\"value\":\"0.3\"},\"renderers\":[{\"id\":\"43699\"}]},\"id\":\"43719\",\"type\":\"LegendItem\"},{\"attributes\":{\"fill_alpha\":{\"value\":0.2},\"fill_color\":{\"value\":\"#fc4f30\"},\"hatch_alpha\":{\"value\":0.2},\"hatch_color\":{\"value\":\"#fc4f30\"},\"line_alpha\":{\"value\":0.2},\"line_color\":{\"value\":\"#fc4f30\"},\"size\":{\"value\":5.477225575051661},\"x\":{\"field\":\"Savivaldyb\\u0117\"},\"y\":{\"field\":\"Biomas\\u0117(kg)\"}},\"id\":\"44706\",\"type\":\"Scatter\"},{\"attributes\":{\"source\":{\"id\":\"45491\"}},\"id\":\"45498\",\"type\":\"CDSView\"},{\"attributes\":{\"fill_color\":{\"value\":\"#bcbd22\"},\"hatch_color\":{\"value\":\"#bcbd22\"},\"line_color\":{\"value\":\"#bcbd22\"},\"size\":{\"value\":5.477225575051661},\"x\":{\"field\":\"Savivaldyb\\u0117\"},\"y\":{\"field\":\"Biomas\\u0117(kg)\"}},\"id\":\"43934\",\"type\":\"Scatter\"},{\"attributes\":{\"angle\":{\"value\":0.0},\"fill_alpha\":{\"value\":1.0},\"fill_color\":{\"value\":\"#6d904f\"},\"hatch_alpha\":{\"value\":1.0},\"hatch_color\":{\"value\":\"#6d904f\"},\"hatch_scale\":{\"value\":12.0},\"hatch_weight\":{\"value\":1.0},\"line_alpha\":{\"value\":1.0},\"line_cap\":{\"value\":\"butt\"},\"line_color\":{\"value\":\"#6d904f\"},\"line_dash\":{\"value\":[]},\"line_dash_offset\":{\"value\":0},\"line_join\":{\"value\":\"bevel\"},\"line_width\":{\"value\":1},\"marker\":{\"value\":\"circle\"},\"size\":{\"value\":5.477225575051661},\"x\":{\"field\":\"Savivaldyb\\u0117\"},\"y\":{\"field\":\"Biomas\\u0117(kg)\"}},\"id\":\"43692\",\"type\":\"Scatter\"},{\"attributes\":{\"fill_alpha\":{\"value\":0.2},\"fill_color\":{\"value\":\"#17becf\"},\"hatch_alpha\":{\"value\":0.2},\"hatch_color\":{\"value\":\"#17becf\"},\"line_alpha\":{\"value\":0.2},\"line_color\":{\"value\":\"#17becf\"},\"size\":{\"value\":5.477225575051661},\"x\":{\"field\":\"Savivaldyb\\u0117\"},\"y\":{\"field\":\"Biomas\\u0117(kg)\"}},\"id\":\"43726\",\"type\":\"Scatter\"},{\"attributes\":{\"data\":{\"Biomas\\u0117(kg)\":{\"__ndarray__\":\"mG4Sg8DKCUA=\",\"dtype\":\"float64\",\"order\":\"little\",\"shape\":[1]},\"Biomas\\u0117_left_parenthesis_kg_right_parenthesis\":{\"__ndarray__\":\"mG4Sg8DKCUA=\",\"dtype\":\"float64\",\"order\":\"little\",\"shape\":[1]},\"Savivaldyb\\u0117\":[\"Utenos r. sav.\"],\"\\u017duv\\u0173_b\\u016bkl\\u0117s_indeksas\":[0.59]},\"selected\":{\"id\":\"44634\"},\"selection_policy\":{\"id\":\"44696\"}},\"id\":\"44633\",\"type\":\"ColumnDataSource\"},{\"attributes\":{\"fill_color\":{\"value\":\"#fc4f30\"},\"hatch_color\":{\"value\":\"#fc4f30\"},\"line_color\":{\"value\":\"#fc4f30\"},\"size\":{\"value\":5.477225575051661},\"x\":{\"field\":\"Savivaldyb\\u0117\"},\"y\":{\"field\":\"Biomas\\u0117(kg)\"}},\"id\":\"44704\",\"type\":\"Scatter\"},{\"attributes\":{\"fill_color\":{\"value\":\"#1f77b4\"},\"hatch_color\":{\"value\":\"#1f77b4\"},\"line_color\":{\"value\":\"#1f77b4\"},\"size\":{\"value\":5.477225575051661},\"x\":{\"field\":\"Savivaldyb\\u0117\"},\"y\":{\"field\":\"Biomas\\u0117(kg)\"}},\"id\":\"43820\",\"type\":\"Scatter\"},{\"attributes\":{\"data\":{\"Biomas\\u0117(kg)\":{\"__ndarray__\":\"uB6F61G4A0BQjZduEoP8Pw==\",\"dtype\":\"float64\",\"order\":\"little\",\"shape\":[2]},\"Biomas\\u0117_left_parenthesis_kg_right_parenthesis\":{\"__ndarray__\":\"uB6F61G4A0BQjZduEoP8Pw==\",\"dtype\":\"float64\",\"order\":\"little\",\"shape\":[2]},\"Savivaldyb\\u0117\":[\"Ignalinos r. sav.\",\"Zaras\\u0173 r. sav.\"],\"\\u017duv\\u0173_b\\u016bkl\\u0117s_indeksas\":[0.43,0.43]},\"selected\":{\"id\":\"43932\"},\"selection_policy\":{\"id\":\"43968\"}},\"id\":\"43931\",\"type\":\"ColumnDataSource\"},{\"attributes\":{\"fill_alpha\":{\"value\":0.1},\"fill_color\":{\"value\":\"#bcbd22\"},\"hatch_alpha\":{\"value\":0.1},\"hatch_color\":{\"value\":\"#bcbd22\"},\"line_alpha\":{\"value\":0.1},\"line_color\":{\"value\":\"#bcbd22\"},\"size\":{\"value\":5.477225575051661},\"x\":{\"field\":\"Savivaldyb\\u0117\"},\"y\":{\"field\":\"Biomas\\u0117(kg)\"}},\"id\":\"43935\",\"type\":\"Scatter\"},{\"attributes\":{\"fill_alpha\":{\"value\":0.1},\"fill_color\":{\"value\":\"#1f77b4\"},\"hatch_alpha\":{\"value\":0.1},\"hatch_color\":{\"value\":\"#1f77b4\"},\"line_alpha\":{\"value\":0.1},\"line_color\":{\"value\":\"#1f77b4\"},\"size\":{\"value\":5.477225575051661},\"x\":{\"field\":\"Savivaldyb\\u0117\"},\"y\":{\"field\":\"Biomas\\u0117(kg)\"}},\"id\":\"43821\",\"type\":\"Scatter\"},{\"attributes\":{\"fill_alpha\":{\"value\":0.2},\"fill_color\":{\"value\":\"#bcbd22\"},\"hatch_alpha\":{\"value\":0.2},\"hatch_color\":{\"value\":\"#bcbd22\"},\"line_alpha\":{\"value\":0.2},\"line_color\":{\"value\":\"#bcbd22\"},\"size\":{\"value\":5.477225575051661},\"x\":{\"field\":\"Savivaldyb\\u0117\"},\"y\":{\"field\":\"Biomas\\u0117(kg)\"}},\"id\":\"43936\",\"type\":\"Scatter\"},{\"attributes\":{\"fill_alpha\":{\"value\":0.1},\"fill_color\":{\"value\":\"#fc4f30\"},\"hatch_alpha\":{\"value\":0.1},\"hatch_color\":{\"value\":\"#fc4f30\"},\"line_alpha\":{\"value\":0.1},\"line_color\":{\"value\":\"#fc4f30\"},\"size\":{\"value\":5.477225575051661},\"x\":{\"field\":\"Savivaldyb\\u0117\"},\"y\":{\"field\":\"Biomas\\u0117(kg)\"}},\"id\":\"44705\",\"type\":\"Scatter\"},{\"attributes\":{\"coordinates\":null,\"data_source\":{\"id\":\"44771\"},\"glyph\":{\"id\":\"44774\"},\"group\":null,\"hover_glyph\":null,\"muted_glyph\":{\"id\":\"44776\"},\"nonselection_glyph\":{\"id\":\"44775\"},\"selection_glyph\":{\"id\":\"44842\"},\"view\":{\"id\":\"44778\"}},\"id\":\"44777\",\"type\":\"GlyphRenderer\"},{\"attributes\":{\"fill_alpha\":{\"value\":0.2},\"fill_color\":{\"value\":\"#1f77b4\"},\"hatch_alpha\":{\"value\":0.2},\"hatch_color\":{\"value\":\"#1f77b4\"},\"line_alpha\":{\"value\":0.2},\"line_color\":{\"value\":\"#1f77b4\"},\"size\":{\"value\":5.477225575051661},\"x\":{\"field\":\"Savivaldyb\\u0117\"},\"y\":{\"field\":\"Biomas\\u0117(kg)\"}},\"id\":\"43822\",\"type\":\"Scatter\"},{\"attributes\":{\"source\":{\"id\":\"44063\"}},\"id\":\"44070\",\"type\":\"CDSView\"},{\"attributes\":{\"fill_alpha\":{\"value\":0.1},\"fill_color\":{\"value\":\"#e5ae38\"},\"hatch_alpha\":{\"value\":0.1},\"hatch_color\":{\"value\":\"#e5ae38\"},\"line_alpha\":{\"value\":0.1},\"line_color\":{\"value\":\"#e5ae38\"},\"size\":{\"value\":5.477225575051661},\"x\":{\"field\":\"Savivaldyb\\u0117\"},\"y\":{\"field\":\"Biomas\\u0117(kg)\"}},\"id\":\"44775\",\"type\":\"Scatter\"},{\"attributes\":{\"coordinates\":null,\"data_source\":{\"id\":\"43600\"},\"glyph\":{\"id\":\"43603\"},\"group\":null,\"hover_glyph\":null,\"muted_glyph\":{\"id\":\"43605\"},\"nonselection_glyph\":{\"id\":\"43604\"},\"selection_glyph\":{\"id\":\"43620\"},\"view\":{\"id\":\"43607\"}},\"id\":\"43606\",\"type\":\"GlyphRenderer\"},{\"attributes\":{\"source\":{\"id\":\"43621\"}},\"id\":\"43628\",\"type\":\"CDSView\"},{\"attributes\":{\"fill_color\":{\"value\":\"#8b8b8b\"},\"hatch_color\":{\"value\":\"#8b8b8b\"},\"line_color\":{\"value\":\"#8b8b8b\"},\"size\":{\"value\":5.477225575051661},\"x\":{\"field\":\"Savivaldyb\\u0117\"},\"y\":{\"field\":\"Biomas\\u0117(kg)\"}},\"id\":\"44920\",\"type\":\"Scatter\"},{\"attributes\":{\"data\":{\"Biomas\\u0117(kg)\":{\"__ndarray__\":\"ZmZmZmbmEEDdJAaBlUMHQA==\",\"dtype\":\"float64\",\"order\":\"little\",\"shape\":[2]},\"Biomas\\u0117_left_parenthesis_kg_right_parenthesis\":{\"__ndarray__\":\"ZmZmZmbmEEDdJAaBlUMHQA==\",\"dtype\":\"float64\",\"order\":\"little\",\"shape\":[2]},\"Savivaldyb\\u0117\":[\"Akmen\\u0117s r. sav.\",\"Lazdij\\u0173 r. sav.\"],\"\\u017duv\\u0173_b\\u016bkl\\u0117s_indeksas\":[0.5,0.5]},\"selected\":{\"id\":\"44268\"},\"selection_policy\":{\"id\":\"44318\"}},\"id\":\"44267\",\"type\":\"ColumnDataSource\"},{\"attributes\":{},\"id\":\"44912\",\"type\":\"UnionRenderers\"},{\"attributes\":{\"source\":{\"id\":\"43721\"}},\"id\":\"43728\",\"type\":\"CDSView\"},{\"attributes\":{},\"id\":\"43581\",\"type\":\"SaveTool\"},{\"attributes\":{\"fill_alpha\":{\"value\":0.2},\"fill_color\":{\"value\":\"#17becf\"},\"hatch_alpha\":{\"value\":0.2},\"hatch_color\":{\"value\":\"#17becf\"},\"line_alpha\":{\"value\":0.2},\"line_color\":{\"value\":\"#17becf\"},\"size\":{\"value\":5.477225575051661},\"x\":{\"field\":\"Savivaldyb\\u0117\"},\"y\":{\"field\":\"Biomas\\u0117(kg)\"}},\"id\":\"44998\",\"type\":\"Scatter\"},{\"attributes\":{\"label\":{\"value\":\"0.59\"},\"renderers\":[{\"id\":\"44639\"}]},\"id\":\"44699\",\"type\":\"LegendItem\"},{\"attributes\":{\"source\":{\"id\":\"43931\"}},\"id\":\"43938\",\"type\":\"CDSView\"},{\"attributes\":{\"source\":{\"id\":\"44993\"}},\"id\":\"45000\",\"type\":\"CDSView\"},{\"attributes\":{\"source\":{\"id\":\"43817\"}},\"id\":\"43824\",\"type\":\"CDSView\"},{\"attributes\":{\"fill_alpha\":{\"value\":0.1},\"fill_color\":{\"value\":\"#17becf\"},\"hatch_alpha\":{\"value\":0.1},\"hatch_color\":{\"value\":\"#17becf\"},\"line_alpha\":{\"value\":0.1},\"line_color\":{\"value\":\"#17becf\"},\"size\":{\"value\":5.477225575051661},\"x\":{\"field\":\"Savivaldyb\\u0117\"},\"y\":{\"field\":\"Biomas\\u0117(kg)\"}},\"id\":\"44997\",\"type\":\"Scatter\"},{\"attributes\":{\"source\":{\"id\":\"44567\"}},\"id\":\"44574\",\"type\":\"CDSView\"},{\"attributes\":{},\"id\":\"43752\",\"type\":\"Selection\"},{\"attributes\":{\"source\":{\"id\":\"43600\"}},\"id\":\"43607\",\"type\":\"CDSView\"},{\"attributes\":{\"data\":{\"Biomas\\u0117(kg)\":{\"__ndarray__\":\"zczMzMzMEUBeukkMAisEQA==\",\"dtype\":\"float64\",\"order\":\"little\",\"shape\":[2]},\"Biomas\\u0117_left_parenthesis_kg_right_parenthesis\":{\"__ndarray__\":\"zczMzMzMEUBeukkMAisEQA==\",\"dtype\":\"float64\",\"order\":\"little\",\"shape\":[2]},\"Savivaldyb\\u0117\":[\"Ignalinos r. sav.\",\"Mol\\u0117t\\u0173 r. sav.\"],\"\\u017duv\\u0173_b\\u016bkl\\u0117s_indeksas\":[0.42,0.42]},\"selected\":{\"id\":\"43892\"},\"selection_policy\":{\"id\":\"43926\"}},\"id\":\"43891\",\"type\":\"ColumnDataSource\"},{\"attributes\":{\"label\":{\"value\":\"0.69\"},\"renderers\":[{\"id\":\"45077\"}]},\"id\":\"45149\",\"type\":\"LegendItem\"},{\"attributes\":{\"angle\":{\"value\":0.0},\"fill_alpha\":{\"value\":1.0},\"fill_color\":{\"value\":\"#6d904f\"},\"hatch_alpha\":{\"value\":1.0},\"hatch_color\":{\"value\":\"#6d904f\"},\"hatch_scale\":{\"value\":12.0},\"hatch_weight\":{\"value\":1.0},\"line_alpha\":{\"value\":1.0},\"line_cap\":{\"value\":\"butt\"},\"line_color\":{\"value\":\"#6d904f\"},\"line_dash\":{\"value\":[]},\"line_dash_offset\":{\"value\":0},\"line_join\":{\"value\":\"bevel\"},\"line_width\":{\"value\":1},\"marker\":{\"value\":\"circle\"},\"size\":{\"value\":5.477225575051661},\"x\":{\"field\":\"Savivaldyb\\u0117\"},\"y\":{\"field\":\"Biomas\\u0117(kg)\"}},\"id\":\"44916\",\"type\":\"Scatter\"},{\"attributes\":{\"coordinates\":null,\"data_source\":{\"id\":\"45491\"},\"glyph\":{\"id\":\"45494\"},\"group\":null,\"hover_glyph\":null,\"muted_glyph\":{\"id\":\"45496\"},\"nonselection_glyph\":{\"id\":\"45495\"},\"selection_glyph\":{\"id\":\"45580\"},\"view\":{\"id\":\"45498\"}},\"id\":\"45497\",\"type\":\"GlyphRenderer\"},{\"attributes\":{\"fill_color\":{\"value\":\"#e5ae38\"},\"hatch_color\":{\"value\":\"#e5ae38\"},\"line_color\":{\"value\":\"#e5ae38\"},\"size\":{\"value\":5.477225575051661},\"x\":{\"field\":\"Savivaldyb\\u0117\"},\"y\":{\"field\":\"Biomas\\u0117(kg)\"}},\"id\":\"44774\",\"type\":\"Scatter\"},{\"attributes\":{\"fill_alpha\":{\"value\":0.1},\"fill_color\":{\"value\":\"#8c564b\"},\"hatch_alpha\":{\"value\":0.1},\"hatch_color\":{\"value\":\"#8c564b\"},\"line_alpha\":{\"value\":0.1},\"line_color\":{\"value\":\"#8c564b\"},\"size\":{\"value\":5.477225575051661},\"x\":{\"field\":\"Savivaldyb\\u0117\"},\"y\":{\"field\":\"Biomas\\u0117(kg)\"}},\"id\":\"43895\",\"type\":\"Scatter\"},{\"attributes\":{\"source\":{\"id\":\"44701\"}},\"id\":\"44708\",\"type\":\"CDSView\"},{\"attributes\":{\"data\":{\"Biomas\\u0117(kg)\":{\"__ndarray__\":\"WDm0yHa+DkA=\",\"dtype\":\"float64\",\"order\":\"little\",\"shape\":[1]},\"Biomas\\u0117_left_parenthesis_kg_right_parenthesis\":{\"__ndarray__\":\"WDm0yHa+DkA=\",\"dtype\":\"float64\",\"order\":\"little\",\"shape\":[1]},\"Savivaldyb\\u0117\":[\"Mol\\u0117t\\u0173 r. sav.\"],\"\\u017duv\\u0173_b\\u016bkl\\u0117s_indeksas\":[0.8]},\"selected\":{\"id\":\"45492\"},\"selection_policy\":{\"id\":\"45576\"}},\"id\":\"45491\",\"type\":\"ColumnDataSource\"},{\"attributes\":{\"label\":{\"value\":\"0.21\"},\"renderers\":[{\"id\":\"43606\"}]},\"id\":\"43619\",\"type\":\"LegendItem\"},{\"attributes\":{},\"id\":\"44376\",\"type\":\"UnionRenderers\"},{\"attributes\":{\"fill_color\":{\"value\":\"#bcbd22\"},\"hatch_color\":{\"value\":\"#bcbd22\"},\"line_color\":{\"value\":\"#bcbd22\"},\"size\":{\"value\":5.477225575051661},\"x\":{\"field\":\"Savivaldyb\\u0117\"},\"y\":{\"field\":\"Biomas\\u0117(kg)\"}},\"id\":\"45494\",\"type\":\"Scatter\"},{\"attributes\":{\"click_policy\":\"mute\",\"coordinates\":null,\"group\":null,\"items\":[{\"id\":\"43619\"},{\"id\":\"43641\"},{\"id\":\"43665\"},{\"id\":\"43691\"},{\"id\":\"43719\"},{\"id\":\"43749\"},{\"id\":\"43781\"},{\"id\":\"43815\"},{\"id\":\"43851\"},{\"id\":\"43889\"},{\"id\":\"43929\"},{\"id\":\"43971\"},{\"id\":\"44015\"},{\"id\":\"44061\"},{\"id\":\"44109\"},{\"id\":\"44159\"},{\"id\":\"44211\"},{\"id\":\"44265\"},{\"id\":\"44321\"},{\"id\":\"44379\"},{\"id\":\"44439\"},{\"id\":\"44501\"},{\"id\":\"44565\"},{\"id\":\"44631\"},{\"id\":\"44699\"},{\"id\":\"44769\"},{\"id\":\"44841\"},{\"id\":\"44915\"},{\"id\":\"44991\"},{\"id\":\"45069\"},{\"id\":\"45149\"},{\"id\":\"45231\"},{\"id\":\"45315\"},{\"id\":\"45401\"},{\"id\":\"45489\"},{\"id\":\"45579\"},{\"id\":\"45671\"}],\"location\":[0,0],\"title\":\"\\u017duv\\u0173 b\\u016bkl\\u0117s indeksas\"},\"id\":\"43618\",\"type\":\"Legend\"},{\"attributes\":{\"source\":{\"id\":\"44633\"}},\"id\":\"44640\",\"type\":\"CDSView\"},{\"attributes\":{},\"id\":\"44918\",\"type\":\"Selection\"},{\"attributes\":{\"fill_alpha\":{\"value\":0.2},\"fill_color\":{\"value\":\"#e5ae38\"},\"hatch_alpha\":{\"value\":0.2},\"hatch_color\":{\"value\":\"#e5ae38\"},\"line_alpha\":{\"value\":0.2},\"line_color\":{\"value\":\"#e5ae38\"},\"size\":{\"value\":5.477225575051661},\"x\":{\"field\":\"Savivaldyb\\u0117\"},\"y\":{\"field\":\"Biomas\\u0117(kg)\"}},\"id\":\"44776\",\"type\":\"Scatter\"},{\"attributes\":{\"angle\":{\"value\":0.0},\"fill_alpha\":{\"value\":1.0},\"fill_color\":{\"value\":\"#8b8b8b\"},\"hatch_alpha\":{\"value\":1.0},\"hatch_color\":{\"value\":\"#8b8b8b\"},\"hatch_scale\":{\"value\":12.0},\"hatch_weight\":{\"value\":1.0},\"line_alpha\":{\"value\":1.0},\"line_cap\":{\"value\":\"butt\"},\"line_color\":{\"value\":\"#8b8b8b\"},\"line_dash\":{\"value\":[]},\"line_dash_offset\":{\"value\":0},\"line_join\":{\"value\":\"bevel\"},\"line_width\":{\"value\":1},\"marker\":{\"value\":\"circle\"},\"size\":{\"value\":5.477225575051661},\"x\":{\"field\":\"Savivaldyb\\u0117\"},\"y\":{\"field\":\"Biomas\\u0117(kg)\"}},\"id\":\"44992\",\"type\":\"Scatter\"},{\"attributes\":{},\"id\":\"43968\",\"type\":\"UnionRenderers\"},{\"attributes\":{\"fill_alpha\":{\"value\":0.1},\"fill_color\":{\"value\":\"#1f77b4\"},\"hatch_alpha\":{\"value\":0.1},\"hatch_color\":{\"value\":\"#1f77b4\"},\"line_alpha\":{\"value\":0.1},\"line_color\":{\"value\":\"#1f77b4\"},\"size\":{\"value\":5.477225575051661},\"x\":{\"field\":\"Savivaldyb\\u0117\"},\"y\":{\"field\":\"Biomas\\u0117(kg)\"}},\"id\":\"45237\",\"type\":\"Scatter\"},{\"attributes\":{},\"id\":\"43662\",\"type\":\"UnionRenderers\"},{\"attributes\":{},\"id\":\"44766\",\"type\":\"UnionRenderers\"},{\"attributes\":{},\"id\":\"43746\",\"type\":\"UnionRenderers\"},{\"attributes\":{\"source\":{\"id\":\"43853\"}},\"id\":\"43860\",\"type\":\"CDSView\"},{\"attributes\":{\"angle\":{\"value\":0.0},\"fill_alpha\":{\"value\":1.0},\"fill_color\":{\"value\":\"#1f77b4\"},\"hatch_alpha\":{\"value\":1.0},\"hatch_color\":{\"value\":\"#1f77b4\"},\"hatch_scale\":{\"value\":12.0},\"hatch_weight\":{\"value\":1.0},\"line_alpha\":{\"value\":1.0},\"line_cap\":{\"value\":\"butt\"},\"line_color\":{\"value\":\"#1f77b4\"},\"line_dash\":{\"value\":[]},\"line_dash_offset\":{\"value\":0},\"line_join\":{\"value\":\"bevel\"},\"line_width\":{\"value\":1},\"marker\":{\"value\":\"circle\"},\"size\":{\"value\":5.477225575051661},\"x\":{\"field\":\"Savivaldyb\\u0117\"},\"y\":{\"field\":\"Biomas\\u0117(kg)\"}},\"id\":\"44440\",\"type\":\"Scatter\"},{\"attributes\":{},\"id\":\"45146\",\"type\":\"UnionRenderers\"},{\"attributes\":{},\"id\":\"45318\",\"type\":\"Selection\"},{\"attributes\":{\"label\":{\"value\":\"0.46\"},\"renderers\":[{\"id\":\"44069\"}]},\"id\":\"44109\",\"type\":\"LegendItem\"},{\"attributes\":{\"fill_alpha\":{\"value\":0.2},\"fill_color\":{\"value\":\"#8b8b8b\"},\"hatch_alpha\":{\"value\":0.2},\"hatch_color\":{\"value\":\"#8b8b8b\"},\"line_alpha\":{\"value\":0.2},\"line_color\":{\"value\":\"#8b8b8b\"},\"size\":{\"value\":5.477225575051661},\"x\":{\"field\":\"Savivaldyb\\u0117\"},\"y\":{\"field\":\"Biomas\\u0117(kg)\"}},\"id\":\"44922\",\"type\":\"Scatter\"},{\"attributes\":{},\"id\":\"44442\",\"type\":\"Selection\"},{\"attributes\":{},\"id\":\"44106\",\"type\":\"UnionRenderers\"},{\"attributes\":{},\"id\":\"43784\",\"type\":\"Selection\"},{\"attributes\":{\"fill_color\":{\"value\":\"#bcbd22\"},\"hatch_color\":{\"value\":\"#bcbd22\"},\"line_color\":{\"value\":\"#bcbd22\"},\"size\":{\"value\":5.477225575051661},\"x\":{\"field\":\"Savivaldyb\\u0117\"},\"y\":{\"field\":\"Biomas\\u0117(kg)\"}},\"id\":\"44570\",\"type\":\"Scatter\"},{\"attributes\":{\"source\":{\"id\":\"44771\"}},\"id\":\"44778\",\"type\":\"CDSView\"},{\"attributes\":{},\"id\":\"45582\",\"type\":\"Selection\"},{\"attributes\":{\"angle\":{\"value\":0.0},\"fill_alpha\":{\"value\":1.0},\"fill_color\":{\"value\":\"#30a2da\"},\"hatch_alpha\":{\"value\":1.0},\"hatch_color\":{\"value\":\"#30a2da\"},\"hatch_scale\":{\"value\":12.0},\"hatch_weight\":{\"value\":1.0},\"line_alpha\":{\"value\":1.0},\"line_cap\":{\"value\":\"butt\"},\"line_color\":{\"value\":\"#30a2da\"},\"line_dash\":{\"value\":[]},\"line_dash_offset\":{\"value\":0},\"line_join\":{\"value\":\"bevel\"},\"line_width\":{\"value\":1},\"marker\":{\"value\":\"circle\"},\"size\":{\"value\":5.477225575051661},\"x\":{\"field\":\"Savivaldyb\\u0117\"},\"y\":{\"field\":\"Biomas\\u0117(kg)\"}},\"id\":\"44700\",\"type\":\"Scatter\"},{\"attributes\":{\"label\":{\"value\":\"0.28\"},\"renderers\":[{\"id\":\"43649\"}]},\"id\":\"43665\",\"type\":\"LegendItem\"},{\"attributes\":{\"angle\":{\"value\":0.0},\"fill_alpha\":{\"value\":1.0},\"fill_color\":{\"value\":\"#17becf\"},\"hatch_alpha\":{\"value\":1.0},\"hatch_color\":{\"value\":\"#17becf\"},\"hatch_scale\":{\"value\":12.0},\"hatch_weight\":{\"value\":1.0},\"line_alpha\":{\"value\":1.0},\"line_cap\":{\"value\":\"butt\"},\"line_color\":{\"value\":\"#17becf\"},\"line_dash\":{\"value\":[]},\"line_dash_offset\":{\"value\":0},\"line_join\":{\"value\":\"bevel\"},\"line_width\":{\"value\":1},\"marker\":{\"value\":\"circle\"},\"size\":{\"value\":5.477225575051661},\"x\":{\"field\":\"Savivaldyb\\u0117\"},\"y\":{\"field\":\"Biomas\\u0117(kg)\"}},\"id\":\"44266\",\"type\":\"Scatter\"},{\"attributes\":{},\"id\":\"44064\",\"type\":\"Selection\"},{\"attributes\":{\"label\":{\"value\":\"0.49\"},\"renderers\":[{\"id\":\"44219\"}]},\"id\":\"44265\",\"type\":\"LegendItem\"},{\"attributes\":{\"label\":{\"value\":\"0.31\"},\"renderers\":[{\"id\":\"43727\"}]},\"id\":\"43749\",\"type\":\"LegendItem\"},{\"attributes\":{\"data\":{\"Biomas\\u0117(kg)\":{\"__ndarray__\":\"z/dT46WbBkAhsHJoke0AQA==\",\"dtype\":\"float64\",\"order\":\"little\",\"shape\":[2]},\"Biomas\\u0117_left_parenthesis_kg_right_parenthesis\":{\"__ndarray__\":\"z/dT46WbBkAhsHJoke0AQA==\",\"dtype\":\"float64\",\"order\":\"little\",\"shape\":[2]},\"Savivaldyb\\u0117\":[\"Alytaus r. sav.\",\"Tel\\u0161i\\u0173 r. sav.\"],\"\\u017duv\\u0173_b\\u016bkl\\u0117s_indeksas\":[0.55,0.55]},\"selected\":{\"id\":\"44442\"},\"selection_policy\":{\"id\":\"44498\"}},\"id\":\"44441\",\"type\":\"ColumnDataSource\"},{\"attributes\":{\"angle\":{\"value\":0.0},\"fill_alpha\":{\"value\":1.0},\"fill_color\":{\"value\":\"#8c564b\"},\"hatch_alpha\":{\"value\":1.0},\"hatch_color\":{\"value\":\"#8c564b\"},\"hatch_scale\":{\"value\":12.0},\"hatch_weight\":{\"value\":1.0},\"line_alpha\":{\"value\":1.0},\"line_cap\":{\"value\":\"butt\"},\"line_color\":{\"value\":\"#8c564b\"},\"line_dash\":{\"value\":[]},\"line_dash_offset\":{\"value\":0},\"line_join\":{\"value\":\"bevel\"},\"line_width\":{\"value\":1},\"marker\":{\"value\":\"circle\"},\"size\":{\"value\":5.477225575051661},\"x\":{\"field\":\"Savivaldyb\\u0117\"},\"y\":{\"field\":\"Biomas\\u0117(kg)\"}},\"id\":\"45490\",\"type\":\"Scatter\"},{\"attributes\":{\"fill_alpha\":{\"value\":0.2},\"fill_color\":{\"value\":\"#6d904f\"},\"hatch_alpha\":{\"value\":0.2},\"hatch_color\":{\"value\":\"#6d904f\"},\"line_alpha\":{\"value\":0.2},\"line_color\":{\"value\":\"#6d904f\"},\"size\":{\"value\":5.477225575051661},\"x\":{\"field\":\"Savivaldyb\\u0117\"},\"y\":{\"field\":\"Biomas\\u0117(kg)\"}},\"id\":\"44848\",\"type\":\"Scatter\"},{\"attributes\":{},\"id\":\"43575\",\"type\":\"CategoricalTicker\"},{\"attributes\":{\"data\":{\"Biomas\\u0117(kg)\":{\"__ndarray__\":\"mpmZmZkZGkA1XrpJDAIbQA==\",\"dtype\":\"float64\",\"order\":\"little\",\"shape\":[2]},\"Biomas\\u0117_left_parenthesis_kg_right_parenthesis\":{\"__ndarray__\":\"mpmZmZkZGkA1XrpJDAIbQA==\",\"dtype\":\"float64\",\"order\":\"little\",\"shape\":[2]},\"Savivaldyb\\u0117\":[\"Kretingos r. sav.\",\"Tel\\u0161i\\u0173 r. sav.\"],\"\\u017duv\\u0173_b\\u016bkl\\u0117s_indeksas\":[0.65,0.65]},\"selected\":{\"id\":\"44918\"},\"selection_policy\":{\"id\":\"44988\"}},\"id\":\"44917\",\"type\":\"ColumnDataSource\"},{\"attributes\":{\"label\":{\"value\":\"0.43\"},\"renderers\":[{\"id\":\"43937\"}]},\"id\":\"43971\",\"type\":\"LegendItem\"},{\"attributes\":{},\"id\":\"44498\",\"type\":\"UnionRenderers\"},{\"attributes\":{\"fill_color\":{\"value\":\"#d62728\"},\"hatch_color\":{\"value\":\"#d62728\"},\"line_color\":{\"value\":\"#d62728\"},\"size\":{\"value\":5.477225575051661},\"x\":{\"field\":\"Savivaldyb\\u0117\"},\"y\":{\"field\":\"Biomas\\u0117(kg)\"}},\"id\":\"44326\",\"type\":\"Scatter\"},{\"attributes\":{\"fill_color\":{\"value\":\"#8c564b\"},\"hatch_color\":{\"value\":\"#8c564b\"},\"line_color\":{\"value\":\"#8c564b\"},\"size\":{\"value\":5.477225575051661},\"x\":{\"field\":\"Savivaldyb\\u0117\"},\"y\":{\"field\":\"Biomas\\u0117(kg)\"}},\"id\":\"44506\",\"type\":\"Scatter\"},{\"attributes\":{\"fill_color\":{\"value\":\"#8b8b8b\"},\"hatch_color\":{\"value\":\"#8b8b8b\"},\"line_color\":{\"value\":\"#8b8b8b\"},\"size\":{\"value\":5.477225575051661},\"x\":{\"field\":\"Savivaldyb\\u0117\"},\"y\":{\"field\":\"Biomas\\u0117(kg)\"}},\"id\":\"44164\",\"type\":\"Scatter\"},{\"attributes\":{\"fill_alpha\":{\"value\":0.1},\"fill_color\":{\"value\":\"#e377c2\"},\"hatch_alpha\":{\"value\":0.1},\"hatch_color\":{\"value\":\"#e377c2\"},\"line_alpha\":{\"value\":0.1},\"line_color\":{\"value\":\"#e377c2\"},\"size\":{\"value\":5.477225575051661},\"x\":{\"field\":\"Savivaldyb\\u0117\"},\"y\":{\"field\":\"Biomas\\u0117(kg)\"}},\"id\":\"45321\",\"type\":\"Scatter\"},{\"attributes\":{\"source\":{\"id\":\"45151\"}},\"id\":\"45158\",\"type\":\"CDSView\"}],\"root_ids\":[\"43525\"]},\"title\":\"Bokeh Application\",\"version\":\"2.4.3\"}};\n",
       "    var render_items = [{\"docid\":\"9b707eaf-5075-4653-98b9-5f63ce37cdd8\",\"root_ids\":[\"43525\"],\"roots\":{\"43525\":\"5aecb6c7-307f-4713-8dec-17a8eb5bbf9a\"}}];\n",
       "    root.Bokeh.embed.embed_items_notebook(docs_json, render_items);\n",
       "    for (const render_item of render_items) {\n",
       "      for (const root_id of render_item.root_ids) {\n",
       "\tconst id_el = document.getElementById(root_id)\n",
       "\tif (id_el.children.length && (id_el.children[0].className === 'bk-root')) {\n",
       "\t  const root_el = id_el.children[0]\n",
       "\t  root_el.id = root_el.id + '-rendered'\n",
       "\t}\n",
       "      }\n",
       "    }\n",
       "  }\n",
       "  if (root.Bokeh !== undefined && root.Bokeh.Panel !== undefined && ( root['Tabulator'] !== undefined) && ( root['Tabulator'] !== undefined)) {\n",
       "    embed_document(root);\n",
       "  } else {\n",
       "    var attempts = 0;\n",
       "    var timer = setInterval(function(root) {\n",
       "      if (root.Bokeh !== undefined && root.Bokeh.Panel !== undefined && (root['Tabulator'] !== undefined) && (root['Tabulator'] !== undefined)) {\n",
       "        clearInterval(timer);\n",
       "        embed_document(root);\n",
       "      } else if (document.readyState == \"complete\") {\n",
       "        attempts++;\n",
       "        if (attempts > 200) {\n",
       "          clearInterval(timer);\n",
       "          console.log(\"Bokeh: ERROR: Unable to run BokehJS code because BokehJS library is missing\");\n",
       "        }\n",
       "      }\n",
       "    }, 25, root)\n",
       "  }\n",
       "})(window);</script>"
      ],
      "text/plain": [
       ":NdOverlay   [Žuvų būklės indeksas]\n",
       "   :Scatter   [Savivaldybė]   (Biomasė(kg))"
      ]
     },
     "execution_count": 108,
     "metadata": {
      "application/vnd.holoviews_exec.v0+json": {
       "id": "43525"
      }
     },
     "output_type": "execute_result"
    }
   ],
   "source": [
    "grafikas_trys"
   ]
  },
  {
   "cell_type": "code",
   "execution_count": 109,
   "id": "001f5e09-2bff-4104-a7b3-e0c4df3807eb",
   "metadata": {
    "tags": []
   },
   "outputs": [
    {
     "name": "stderr",
     "output_type": "stream",
     "text": [
      "C:\\Users\\aurel\\AppData\\Local\\Temp\\ipykernel_15740\\1407757472.py:2: FutureWarning: The default value of numeric_only in DataFrameGroupBy.mean is deprecated. In a future version, numeric_only will default to False. Either specify numeric_only or select only columns which should be valid for the function.\n",
      "  grafikas_keturi = df.groupby(by=\"Biomasė(kg)\").mean().reset_index()\n"
     ]
    }
   ],
   "source": [
    "# stulpeline.\n",
    "grafikas_keturi = df.groupby(by=\"Biomasė(kg)\").mean().reset_index()"
   ]
  },
  {
   "cell_type": "code",
   "execution_count": 110,
   "id": "5136fceb-d3d5-4cea-98b9-44d3cbfff546",
   "metadata": {
    "tags": []
   },
   "outputs": [
    {
     "data": {
      "text/html": [
       "<div>\n",
       "<style scoped>\n",
       "    .dataframe tbody tr th:only-of-type {\n",
       "        vertical-align: middle;\n",
       "    }\n",
       "\n",
       "    .dataframe tbody tr th {\n",
       "        vertical-align: top;\n",
       "    }\n",
       "\n",
       "    .dataframe thead th {\n",
       "        text-align: right;\n",
       "    }\n",
       "</style>\n",
       "<table border=\"1\" class=\"dataframe\">\n",
       "  <thead>\n",
       "    <tr style=\"text-align: right;\">\n",
       "      <th></th>\n",
       "      <th>Biomasė(kg)</th>\n",
       "      <th>Kodas</th>\n",
       "      <th>Žuvų būklės indeksas</th>\n",
       "      <th>Gausumas(vnt)</th>\n",
       "      <th>Plėšrių žuvų gausumas(%)</th>\n",
       "      <th>Plėšrių žuvų biomasė(%)</th>\n",
       "      <th>Ešerys (Gausumas)</th>\n",
       "      <th>Karšis (Gausumas)</th>\n",
       "      <th>Plėšrios(kg)</th>\n",
       "    </tr>\n",
       "  </thead>\n",
       "  <tbody>\n",
       "    <tr>\n",
       "      <th>0</th>\n",
       "      <td>1.227</td>\n",
       "      <td>12130086.0</td>\n",
       "      <td>0.47</td>\n",
       "      <td>27.0</td>\n",
       "      <td>2.17</td>\n",
       "      <td>15.66</td>\n",
       "      <td>0.0</td>\n",
       "      <td>0.0</td>\n",
       "      <td>0.192</td>\n",
       "    </tr>\n",
       "    <tr>\n",
       "      <th>1</th>\n",
       "      <td>1.318</td>\n",
       "      <td>10030110.0</td>\n",
       "      <td>1.00</td>\n",
       "      <td>31.0</td>\n",
       "      <td>1.00</td>\n",
       "      <td>1.00</td>\n",
       "      <td>0.0</td>\n",
       "      <td>4.0</td>\n",
       "      <td>0.013</td>\n",
       "    </tr>\n",
       "    <tr>\n",
       "      <th>2</th>\n",
       "      <td>1.421</td>\n",
       "      <td>50030006.0</td>\n",
       "      <td>1.00</td>\n",
       "      <td>30.0</td>\n",
       "      <td>1.00</td>\n",
       "      <td>1.00</td>\n",
       "      <td>2.6</td>\n",
       "      <td>0.0</td>\n",
       "      <td>0.014</td>\n",
       "    </tr>\n",
       "    <tr>\n",
       "      <th>3</th>\n",
       "      <td>1.454</td>\n",
       "      <td>10031016.0</td>\n",
       "      <td>0.44</td>\n",
       "      <td>38.0</td>\n",
       "      <td>2.55</td>\n",
       "      <td>28.09</td>\n",
       "      <td>0.0</td>\n",
       "      <td>0.0</td>\n",
       "      <td>0.408</td>\n",
       "    </tr>\n",
       "    <tr>\n",
       "      <th>4</th>\n",
       "      <td>1.498</td>\n",
       "      <td>12130044.0</td>\n",
       "      <td>0.46</td>\n",
       "      <td>30.0</td>\n",
       "      <td>1.62</td>\n",
       "      <td>15.56</td>\n",
       "      <td>0.0</td>\n",
       "      <td>0.0</td>\n",
       "      <td>0.233</td>\n",
       "    </tr>\n",
       "    <tr>\n",
       "      <th>...</th>\n",
       "      <td>...</td>\n",
       "      <td>...</td>\n",
       "      <td>...</td>\n",
       "      <td>...</td>\n",
       "      <td>...</td>\n",
       "      <td>...</td>\n",
       "      <td>...</td>\n",
       "      <td>...</td>\n",
       "      <td>...</td>\n",
       "    </tr>\n",
       "    <tr>\n",
       "      <th>57</th>\n",
       "      <td>9.080</td>\n",
       "      <td>50030474.0</td>\n",
       "      <td>0.60</td>\n",
       "      <td>75.0</td>\n",
       "      <td>1.87</td>\n",
       "      <td>23.71</td>\n",
       "      <td>0.0</td>\n",
       "      <td>0.0</td>\n",
       "      <td>2.153</td>\n",
       "    </tr>\n",
       "    <tr>\n",
       "      <th>58</th>\n",
       "      <td>9.563</td>\n",
       "      <td>13050221.0</td>\n",
       "      <td>0.31</td>\n",
       "      <td>96.0</td>\n",
       "      <td>0.71</td>\n",
       "      <td>9.34</td>\n",
       "      <td>0.0</td>\n",
       "      <td>0.0</td>\n",
       "      <td>0.893</td>\n",
       "    </tr>\n",
       "    <tr>\n",
       "      <th>59</th>\n",
       "      <td>9.655</td>\n",
       "      <td>12130412.0</td>\n",
       "      <td>0.76</td>\n",
       "      <td>92.0</td>\n",
       "      <td>5.92</td>\n",
       "      <td>21.38</td>\n",
       "      <td>0.0</td>\n",
       "      <td>1.0</td>\n",
       "      <td>2.064</td>\n",
       "    </tr>\n",
       "    <tr>\n",
       "      <th>60</th>\n",
       "      <td>9.955</td>\n",
       "      <td>10030865.0</td>\n",
       "      <td>0.64</td>\n",
       "      <td>126.0</td>\n",
       "      <td>2.93</td>\n",
       "      <td>23.63</td>\n",
       "      <td>0.0</td>\n",
       "      <td>0.0</td>\n",
       "      <td>2.352</td>\n",
       "    </tr>\n",
       "    <tr>\n",
       "      <th>61</th>\n",
       "      <td>10.671</td>\n",
       "      <td>41050046.0</td>\n",
       "      <td>0.74</td>\n",
       "      <td>46.0</td>\n",
       "      <td>2.90</td>\n",
       "      <td>0.00</td>\n",
       "      <td>2.3</td>\n",
       "      <td>0.0</td>\n",
       "      <td>0.000</td>\n",
       "    </tr>\n",
       "  </tbody>\n",
       "</table>\n",
       "<p>62 rows × 9 columns</p>\n",
       "</div>"
      ],
      "text/plain": [
       "    Biomasė(kg)       Kodas  Žuvų būklės indeksas  Gausumas(vnt)  \\\n",
       "0         1.227  12130086.0                  0.47           27.0   \n",
       "1         1.318  10030110.0                  1.00           31.0   \n",
       "2         1.421  50030006.0                  1.00           30.0   \n",
       "3         1.454  10031016.0                  0.44           38.0   \n",
       "4         1.498  12130044.0                  0.46           30.0   \n",
       "..          ...         ...                   ...            ...   \n",
       "57        9.080  50030474.0                  0.60           75.0   \n",
       "58        9.563  13050221.0                  0.31           96.0   \n",
       "59        9.655  12130412.0                  0.76           92.0   \n",
       "60        9.955  10030865.0                  0.64          126.0   \n",
       "61       10.671  41050046.0                  0.74           46.0   \n",
       "\n",
       "    Plėšrių žuvų gausumas(%)  Plėšrių žuvų biomasė(%)  Ešerys (Gausumas)  \\\n",
       "0                       2.17                    15.66                0.0   \n",
       "1                       1.00                     1.00                0.0   \n",
       "2                       1.00                     1.00                2.6   \n",
       "3                       2.55                    28.09                0.0   \n",
       "4                       1.62                    15.56                0.0   \n",
       "..                       ...                      ...                ...   \n",
       "57                      1.87                    23.71                0.0   \n",
       "58                      0.71                     9.34                0.0   \n",
       "59                      5.92                    21.38                0.0   \n",
       "60                      2.93                    23.63                0.0   \n",
       "61                      2.90                     0.00                2.3   \n",
       "\n",
       "    Karšis (Gausumas)  Plėšrios(kg)  \n",
       "0                 0.0         0.192  \n",
       "1                 4.0         0.013  \n",
       "2                 0.0         0.014  \n",
       "3                 0.0         0.408  \n",
       "4                 0.0         0.233  \n",
       "..                ...           ...  \n",
       "57                0.0         2.153  \n",
       "58                0.0         0.893  \n",
       "59                1.0         2.064  \n",
       "60                0.0         2.352  \n",
       "61                0.0         0.000  \n",
       "\n",
       "[62 rows x 9 columns]"
      ]
     },
     "execution_count": 110,
     "metadata": {},
     "output_type": "execute_result"
    }
   ],
   "source": [
    "grafikas_keturi"
   ]
  },
  {
   "cell_type": "code",
   "execution_count": 113,
   "id": "60e8cf13-7afb-4248-91ca-da20adbb84ed",
   "metadata": {
    "tags": []
   },
   "outputs": [],
   "source": [
    "stulpeliai = grafikas_keturi.hvplot(\n",
    "                            x=\"Žuvų būklės indeksas\", rot=90,\n",
    "                            y=[\"Plėšrios(kg)\", \"Biomasė(kg)\"],\n",
    "                            kind=\"barh\",\n",
    "                            #color=\"lightblue\",\n",
    "                            height=600, width=800,\n",
    "                            bar_width=0.6,\n",
    "                            ylim=(0, 2),\n",
    "                            stacked=True,\n",
    "                            ylabel=\"Pavadinimas\",\n",
    "                            title=\"Visos lenteles pavadinimas\"\n",
    ")"
   ]
  },
  {
   "cell_type": "code",
   "execution_count": 114,
   "id": "6b596d21-7720-42d3-add0-b0bf1d920845",
   "metadata": {
    "tags": []
   },
   "outputs": [
    {
     "data": {
      "application/vnd.holoviews_exec.v0+json": "",
      "text/html": [
       "<div id='46296'>\n",
       "  <div class=\"bk-root\" id=\"9a7e907d-10a4-4ffa-ba32-7c4af4a9cc75\" data-root-id=\"46296\"></div>\n",
       "</div>\n",
       "<script type=\"application/javascript\">(function(root) {\n",
       "  function embed_document(root) {\n",
       "    var docs_json = {\"c05c5379-34b8-4cd9-b63a-946234167dc0\":{\"defs\":[{\"extends\":null,\"module\":null,\"name\":\"ReactiveHTML1\",\"overrides\":[],\"properties\":[]},{\"extends\":null,\"module\":null,\"name\":\"FlexBox1\",\"overrides\":[],\"properties\":[{\"default\":\"flex-start\",\"kind\":null,\"name\":\"align_content\"},{\"default\":\"flex-start\",\"kind\":null,\"name\":\"align_items\"},{\"default\":\"row\",\"kind\":null,\"name\":\"flex_direction\"},{\"default\":\"wrap\",\"kind\":null,\"name\":\"flex_wrap\"},{\"default\":\"flex-start\",\"kind\":null,\"name\":\"justify_content\"}]},{\"extends\":null,\"module\":null,\"name\":\"GridStack1\",\"overrides\":[],\"properties\":[{\"default\":\"warn\",\"kind\":null,\"name\":\"mode\"},{\"default\":null,\"kind\":null,\"name\":\"ncols\"},{\"default\":null,\"kind\":null,\"name\":\"nrows\"},{\"default\":true,\"kind\":null,\"name\":\"allow_resize\"},{\"default\":true,\"kind\":null,\"name\":\"allow_drag\"},{\"default\":[],\"kind\":null,\"name\":\"state\"}]},{\"extends\":null,\"module\":null,\"name\":\"click1\",\"overrides\":[],\"properties\":[{\"default\":\"\",\"kind\":null,\"name\":\"terminal_output\"},{\"default\":\"\",\"kind\":null,\"name\":\"debug_name\"},{\"default\":0,\"kind\":null,\"name\":\"clears\"}]},{\"extends\":null,\"module\":null,\"name\":\"NotificationAreaBase1\",\"overrides\":[],\"properties\":[{\"default\":\"bottom-right\",\"kind\":null,\"name\":\"position\"},{\"default\":0,\"kind\":null,\"name\":\"_clear\"}]},{\"extends\":null,\"module\":null,\"name\":\"NotificationArea1\",\"overrides\":[],\"properties\":[{\"default\":[],\"kind\":null,\"name\":\"notifications\"},{\"default\":\"bottom-right\",\"kind\":null,\"name\":\"position\"},{\"default\":0,\"kind\":null,\"name\":\"_clear\"},{\"default\":[{\"background\":\"#ffc107\",\"icon\":{\"className\":\"fas fa-exclamation-triangle\",\"color\":\"white\",\"tagName\":\"i\"},\"type\":\"warning\"},{\"background\":\"#007bff\",\"icon\":{\"className\":\"fas fa-info-circle\",\"color\":\"white\",\"tagName\":\"i\"},\"type\":\"info\"}],\"kind\":null,\"name\":\"types\"}]},{\"extends\":null,\"module\":null,\"name\":\"Notification\",\"overrides\":[],\"properties\":[{\"default\":null,\"kind\":null,\"name\":\"background\"},{\"default\":3000,\"kind\":null,\"name\":\"duration\"},{\"default\":null,\"kind\":null,\"name\":\"icon\"},{\"default\":\"\",\"kind\":null,\"name\":\"message\"},{\"default\":null,\"kind\":null,\"name\":\"notification_type\"},{\"default\":false,\"kind\":null,\"name\":\"_destroyed\"}]},{\"extends\":null,\"module\":null,\"name\":\"TemplateActions1\",\"overrides\":[],\"properties\":[{\"default\":0,\"kind\":null,\"name\":\"open_modal\"},{\"default\":0,\"kind\":null,\"name\":\"close_modal\"}]},{\"extends\":null,\"module\":null,\"name\":\"MaterialTemplateActions1\",\"overrides\":[],\"properties\":[{\"default\":0,\"kind\":null,\"name\":\"open_modal\"},{\"default\":0,\"kind\":null,\"name\":\"close_modal\"}]}],\"roots\":{\"references\":[{\"attributes\":{\"children\":[{\"id\":\"46300\"}],\"height\":600,\"margin\":[0,0,0,0],\"name\":\"Row21697\",\"sizing_mode\":\"fixed\",\"tags\":[\"embedded\"],\"width\":800},\"id\":\"46296\",\"type\":\"Row\"},{\"attributes\":{\"coordinates\":null,\"group\":null,\"items\":[{\"id\":\"46349\"}],\"location\":[0,0]},\"id\":\"46348\",\"type\":\"Legend\"},{\"attributes\":{\"axis\":{\"id\":\"46309\"},\"coordinates\":null,\"grid_line_color\":null,\"group\":null,\"ticker\":null},\"id\":\"46312\",\"type\":\"Grid\"},{\"attributes\":{},\"id\":\"46345\",\"type\":\"UnionRenderers\"},{\"attributes\":{\"fill_alpha\":{\"value\":0.2},\"fill_color\":{\"field\":\"Variable\",\"transform\":{\"id\":\"46329\"}},\"hatch_alpha\":{\"value\":0.2},\"hatch_color\":{\"field\":\"Variable\",\"transform\":{\"id\":\"46329\"}},\"height\":{\"value\":0.6},\"left\":{\"field\":\"bottom\"},\"line_alpha\":{\"value\":0.2},\"right\":{\"field\":\"top\"},\"y\":{\"field\":\"\\u017duv\\u0173_b\\u016bkl\\u0117s_indeksas\"}},\"id\":\"46335\",\"type\":\"HBar\"},{\"attributes\":{\"callback\":null,\"renderers\":[{\"id\":\"46336\"}],\"tags\":[\"hv_created\"],\"tooltips\":[[\"\\u017duv\\u0173 b\\u016bkl\\u0117s indeksas\",\"@{\\u017duv\\u0173_b\\u016bkl\\u0117s_indeksas}\"],[\"Variable\",\"@{Variable}\"],[\"value\",\"@{value}\"]]},\"id\":\"46299\",\"type\":\"HoverTool\"},{\"attributes\":{},\"id\":\"46341\",\"type\":\"AllLabels\"},{\"attributes\":{\"data\":{\"Variable\":[\"Pl\\u0117\\u0161rios(kg)\",\"Pl\\u0117\\u0161rios(kg)\",\"Pl\\u0117\\u0161rios(kg)\",\"Pl\\u0117\\u0161rios(kg)\",\"Pl\\u0117\\u0161rios(kg)\",\"Pl\\u0117\\u0161rios(kg)\",\"Pl\\u0117\\u0161rios(kg)\",\"Pl\\u0117\\u0161rios(kg)\",\"Pl\\u0117\\u0161rios(kg)\",\"Pl\\u0117\\u0161rios(kg)\",\"Pl\\u0117\\u0161rios(kg)\",\"Pl\\u0117\\u0161rios(kg)\",\"Pl\\u0117\\u0161rios(kg)\",\"Pl\\u0117\\u0161rios(kg)\",\"Pl\\u0117\\u0161rios(kg)\",\"Pl\\u0117\\u0161rios(kg)\",\"Pl\\u0117\\u0161rios(kg)\",\"Pl\\u0117\\u0161rios(kg)\",\"Pl\\u0117\\u0161rios(kg)\",\"Pl\\u0117\\u0161rios(kg)\",\"Pl\\u0117\\u0161rios(kg)\",\"Pl\\u0117\\u0161rios(kg)\",\"Pl\\u0117\\u0161rios(kg)\",\"Pl\\u0117\\u0161rios(kg)\",\"Pl\\u0117\\u0161rios(kg)\",\"Pl\\u0117\\u0161rios(kg)\",\"Pl\\u0117\\u0161rios(kg)\",\"Pl\\u0117\\u0161rios(kg)\",\"Pl\\u0117\\u0161rios(kg)\",\"Pl\\u0117\\u0161rios(kg)\",\"Pl\\u0117\\u0161rios(kg)\",\"Pl\\u0117\\u0161rios(kg)\",\"Pl\\u0117\\u0161rios(kg)\",\"Pl\\u0117\\u0161rios(kg)\",\"Pl\\u0117\\u0161rios(kg)\",\"Pl\\u0117\\u0161rios(kg)\",\"Pl\\u0117\\u0161rios(kg)\",\"Pl\\u0117\\u0161rios(kg)\",\"Pl\\u0117\\u0161rios(kg)\",\"Pl\\u0117\\u0161rios(kg)\",\"Pl\\u0117\\u0161rios(kg)\",\"Pl\\u0117\\u0161rios(kg)\",\"Pl\\u0117\\u0161rios(kg)\",\"Pl\\u0117\\u0161rios(kg)\",\"Pl\\u0117\\u0161rios(kg)\",\"Pl\\u0117\\u0161rios(kg)\",\"Pl\\u0117\\u0161rios(kg)\",\"Pl\\u0117\\u0161rios(kg)\",\"Pl\\u0117\\u0161rios(kg)\",\"Pl\\u0117\\u0161rios(kg)\",\"Pl\\u0117\\u0161rios(kg)\",\"Pl\\u0117\\u0161rios(kg)\",\"Pl\\u0117\\u0161rios(kg)\",\"Pl\\u0117\\u0161rios(kg)\",\"Pl\\u0117\\u0161rios(kg)\",\"Pl\\u0117\\u0161rios(kg)\",\"Pl\\u0117\\u0161rios(kg)\",\"Pl\\u0117\\u0161rios(kg)\",\"Pl\\u0117\\u0161rios(kg)\",\"Pl\\u0117\\u0161rios(kg)\",\"Pl\\u0117\\u0161rios(kg)\",\"Pl\\u0117\\u0161rios(kg)\",\"Biomas\\u0117(kg)\",\"Biomas\\u0117(kg)\",\"Biomas\\u0117(kg)\",\"Biomas\\u0117(kg)\",\"Biomas\\u0117(kg)\",\"Biomas\\u0117(kg)\",\"Biomas\\u0117(kg)\",\"Biomas\\u0117(kg)\",\"Biomas\\u0117(kg)\",\"Biomas\\u0117(kg)\",\"Biomas\\u0117(kg)\",\"Biomas\\u0117(kg)\",\"Biomas\\u0117(kg)\",\"Biomas\\u0117(kg)\",\"Biomas\\u0117(kg)\",\"Biomas\\u0117(kg)\",\"Biomas\\u0117(kg)\",\"Biomas\\u0117(kg)\",\"Biomas\\u0117(kg)\",\"Biomas\\u0117(kg)\",\"Biomas\\u0117(kg)\",\"Biomas\\u0117(kg)\",\"Biomas\\u0117(kg)\",\"Biomas\\u0117(kg)\",\"Biomas\\u0117(kg)\",\"Biomas\\u0117(kg)\",\"Biomas\\u0117(kg)\",\"Biomas\\u0117(kg)\",\"Biomas\\u0117(kg)\",\"Biomas\\u0117(kg)\",\"Biomas\\u0117(kg)\",\"Biomas\\u0117(kg)\",\"Biomas\\u0117(kg)\",\"Biomas\\u0117(kg)\",\"Biomas\\u0117(kg)\",\"Biomas\\u0117(kg)\",\"Biomas\\u0117(kg)\",\"Biomas\\u0117(kg)\",\"Biomas\\u0117(kg)\",\"Biomas\\u0117(kg)\",\"Biomas\\u0117(kg)\",\"Biomas\\u0117(kg)\",\"Biomas\\u0117(kg)\",\"Biomas\\u0117(kg)\",\"Biomas\\u0117(kg)\",\"Biomas\\u0117(kg)\",\"Biomas\\u0117(kg)\",\"Biomas\\u0117(kg)\",\"Biomas\\u0117(kg)\",\"Biomas\\u0117(kg)\",\"Biomas\\u0117(kg)\",\"Biomas\\u0117(kg)\",\"Biomas\\u0117(kg)\",\"Biomas\\u0117(kg)\",\"Biomas\\u0117(kg)\",\"Biomas\\u0117(kg)\",\"Biomas\\u0117(kg)\",\"Biomas\\u0117(kg)\",\"Biomas\\u0117(kg)\",\"Biomas\\u0117(kg)\",\"Biomas\\u0117(kg)\",\"Biomas\\u0117(kg)\"],\"bottom\":{\"__ndarray__\":\"AAAAAAAAAAAAAAAAAAAAAAAAAAAAAAAAAAAAAAAAAAAAAAAAAAAAAAAAAAAAAAAAAAAAAAAAAAAAAAAAAAAAAAAAAAAAAAAAAAAAAAAAAAAAAAAAAAAAAAAAAAAAAAAAvHSTGARW3j8AAAAAAAAAAHnpJjEIrOA/9ihcj8L19j/ByqFFtvPhP2q8dJMYBN4/AAAAAAAAAAAAAAAAAAAAAAAAAAAAAAAAAAAAAAAAAAAAAAAAAAAAAAAAAAAAAAAAAAAAAAAAAAAAAAAAAAAAAC2yne+nxts/AAAAAAAAAAAAAAAAAAAAAFYOLbKd7+c/r0fhehSu4z8AAAAAAAAAAAAAAAAAAAAA9yhcj8L15D/ISzeJQWDlP1YOLbKd7+c/AAAAAAAAAAAAAAAAAAAAAAAAAAAAAAAAN4lBYOXQwj8AAAAAAAAAAAAAAAAAAAAAAAAAAAAAAAAAAAAAAAAAAAAAAAAAAAAAAAAAAAAAAACLbOf7qfGyP/7UeOkmMew/VOOlm8Qg4D8AAAAAAAAAAAAAAAAAAAAAbuf7qfHS5T8UrkfhehTqP57vp8ZLN+U/AAAAAAAAAABSuB6F61HsPwAAAAAAAAAADNejcD0K5z8AAAAAAAAAAAAAAAAAAAAAAAAAAAAAAAAdWmQ730/5P8QgsHJokfE/Gy/dJAaBtT+kcD0K16P0PwIAAAAAAOg/UrgehetR7D/n+6nx0s0UQAAAAAAAAAAAMzMzMzMz8z/NzMzMzMzUP1YOLbKd78c/30+Nl24S4z8IrBxaZDv1PyLb+X5qfCJAUI2XbhKDAEBU46WbxCAFQOXQItv5fvI/JjEIrBzaK0Cd76fGSzcVQAAAAAAAAAAAGy/dJAaB1T8AAAAAAAAAAJqZmZmZGRpAj8L1KFyP7j89CtejcD0aQN0kBoGVQwNA001iEFg5AUBU46WbxKAWQCLb+X5qXDNA16NwPQrXH0BCYOXQItv3PzMzMzMzM9M/BFYOLbKd7z83iUFg5dACQPp+arx0k8g/qfHSTWJQN0BuEoPAyqE4QIts5/upsSxAbef7qfHSzT+BlUOLbOe7P1g5tMh2vq8/a7x0kxgEEUB56SYxCKzyPx6F61G4HgZAObTIdr6fmj/AyqFFtvPNP3npJjEIrNw/j8L1KFyP2j8j2/l+arwCQP7UeOkmMRZAc2iR7Xw/BEBmZmZmZuYQQN0kBoGVQ+M/ILByaJENOkB/arx0kxjsP7Kd76fGyyZA/tR46SYx2D9U46WbxCAXQD81XrpJDCZAcT0K16NwFUBPjZduEgM9QKjGSzeJQQdAAAAAAAAAAAA=\",\"dtype\":\"float64\",\"order\":\"little\",\"shape\":[124]},\"top\":{\"__ndarray__\":\"+n5qvHSTyD/fT42XbhLjPzeJQWDl0MI/zczMzMzM1D8UrkfhehTqPwAAAAAAAAAALbKd76fG2z9qvHSTGATeP1TjpZvEIOA/vHSTGARW3j+e76fGSzflPxsv3SQGgbU/eekmMQis4D/2KFyPwvX2P8HKoUW28+E/VOOlm8QgBUCvR+F6FK7jP1K4HoXrUew/AAAAAAAAAAAbL90kBoHVPwAAAAAAAAAAAAAAAAAAAACPwvUoXI/uP1YOLbKd7+c/HVpkO99P+T/TTWIQWDkBQAisHFpkO/U/UI2XbhKDAEA3iUFg5dACQFYOLbKd7+c/9yhcj8L15D8AAAAAAAAAAHnpJjEIrNw/yEs3iUFg5T9u5/up8dLlP+XQItv5fvI/bef7qfHSzT+BlUOLbOe7P1g5tMh2vq8/Vg4tsp3vxz9CYOXQItv3PwAAAAAAAAAAObTIdr6fmj+LbOf7qfGyPwAAAAAAAAAA/tR46SYx7D/AyqFFtvPNP3npJjEIrPI/xCCwcmiR8T8zMzMzMzPTPwRWDi2yne8/DNejcD0K5z8zMzMzMzPzP6RwPQrXo/Q//tR46SYx2D9SuB6F61HsP39qvHSTGOw/AgAAAAAA6D/dJAaBlUPjPwAAAAAAAAAAj8L1KFyP2j/dJAaBlUMDQP7UeOkmMRZAAAAAAAAAE0BU46WbxCAXQOf7qfHSzRRAne+nxks3FUAi2/l+anwiQGZmZmZm5hBAcT0K16NwFUBvEoPAyqERQGu8dJMYBBFAObTIdr6fEkBU46WbxKAWQCYxCKwc2itA46WbxCBwJ0DXo3A9CtcfQD0K16NwPRpAItv5fmpcM0A/NV66SQwmQJHtfD81XhhA8tJNYhDYGUCamZmZmRkaQOj7qfHSjSpAwMqhRbZzIUCLbOf7qbEsQLKd76fGyyZAnu+nxkt3JkBxPQrXo3AuQKnx0k1iUDdAiUFg5dDiKUC8dJMYBFYVQB6F61G4HgZAvp8aL90kE0B3vp8aL50oQE5iEFg5tPY/bhKDwMqhOEAgsHJokQ06QCcxCKwcmi9AGQRWDi2y+z9qvHSTGAT6P6AaL90kBvs/1E1iEFi5F0Coxks3iUEHQOOlm8QgMBJA+6nx0k1iAEAj2/l+arwCQHWTGARWDhFAc2iR7Xw/BEDZzvdT4yUTQBbZzvdTIyBAIbByaJFtFUDUeOkmMYgcQPP91HjpJgxAT42XbhIDPUCcxCCwcmgQQHa+nxovnS1AYxBYObTIDkAnMQisHJoiQILAyqFFNi1AyXa+nxrvIUAtsp3vp2ZAQESLbOf7KRVAZDvfT41XJUA=\",\"dtype\":\"float64\",\"order\":\"little\",\"shape\":[124]},\"value\":{\"__ndarray__\":\"+n5qvHSTyD/fT42XbhLjPzeJQWDl0MI/zczMzMzM1D8UrkfhehTqPwAAAAAAAAAALbKd76fG2z9qvHSTGATeP1TjpZvEIOA/vHSTGARW3j+e76fGSzflPxsv3SQGgbU/qvHSTWIQqD/2KFyPwvX2P3sUrkfheqQ/sp3vp8ZL8z/ZzvdT46WrPzm0yHa+n9o/AAAAAAAAAAAbL90kBoHVPwAAAAAAAAAAAAAAAAAAAACPwvUoXI/uP1YOLbKd7+c/HVpkO99P+T/TTWIQWDkBQPp+arx0k+w/UI2XbhKDAEA3iUFg5dACQAAAAAAAAAAAexSuR+F6pD8AAAAAAAAAAHnpJjEIrNw/ObTIdr6fij956SYxCKyMP+kmMQisHNo/bef7qfHSzT+BlUOLbOe7P1g5tMh2vq8/exSuR+F6pD9CYOXQItv3PwAAAAAAAAAAObTIdr6fmj+LbOf7qfGyPwAAAAAAAAAA/tR46SYx7D97FK5H4XrEP+f7qfHSTdI/NV66SQwC4z8zMzMzMzPTPwRWDi2yne8/2/l+arx0oz+kcD0K16PYP6rx0k1iEOQ//tR46SYx2D8AAAAAAAAAAH9qvHSTGOw/uB6F61G4nj/dJAaBlUPjPwAAAAAAAAAAj8L1KFyP2j8730+Nl27qP83MzMzMzBFARIts5/upEkArhxbZzvcRQOf7qfHSzRFAkxgEVg6tEUBeukkMAisQQGZmZmZm5hBApHA9CtejEECiRbbz/VQQQPhT46WbRBBAPQrXo3A9EEBSuB6F61ERQAisHFpkuxJAj8L1KFxPI0Atsp3vp0YVQARWDi2ynRVAPQrXo3C9FUDhehSuR+EWQJHtfD81XhhAAAAAAACAGECamZmZmRkaQDVeukkMAhtAL90kBoEVH0DZzvdT4yUfQHsUrkfh+iFAKVyPwvUoIkDHSzeJQSAjQDm0yHa+nw9AO99PjZfuE0BYObTIdr4OQLgehetRuANA/Knx0k1iDkApXI/C9egjQG8Sg8DKofM/SgwCK4cW9T8j2/l+arz2P90kBoGVQ/c/K4cW2c739z8Sg8DKoUX4P9V46SYxCPo/okW28/3U+j/Xo3A9Ctf7P1CNl24Sg/w/kxgEVg4tAEB3vp8aL90AQLpJDAIrhw5AIbByaJHtAECPwvUoXI8DQF66SQwCKwRAz/dT46WbBkDdJAaBlUMHQLx0kxgEVgdAeekmMQisB0CYbhKDwMoJQBKDwMqhRQtAw/UoXI/CC0D0/dR46SYMQA4tsp3vpwxAQmDl0CLbDEBSuB6F61EOQN9PjZduEgNAZDvfT41XJUA=\",\"dtype\":\"float64\",\"order\":\"little\",\"shape\":[124]},\"\\u017duv\\u0173_b\\u016bkl\\u0117s_indeksas\":[\"0.47\",\"0.77\",\"0.3\",\"0.37\",\"0.48\",\"0.5\",\"0.31\",\"0.45\",\"0.42\",\"1\",\"0.52\",\"0.33\",\"1\",\"0.7\",\"1\",\"0.7\",\"1\",\"0.45\",\"0.58\",\"0.35\",\"0.65\",\"0.65\",\"0.4\",\"0.44\",\"0.63\",\"0.6\",\"0.31\",\"0.76\",\"0.64\",\"0.44\",\"1\",\"0.74\",\"0.69\",\"1\",\"1\",\"0.44\",\"0.46\",\"0.29\",\"0.21\",\"0.3\",\"0.8\",\"0.43\",\"0.26\",\"0.28\",\"0.55\",\"0.49\",\"0.28\",\"0.49\",\"0.42\",\"0.43\",\"0.57\",\"1\",\"0.48\",\"0.52\",\"0.51\",\"0.45\",\"0.59\",\"1\",\"0.67\",\"0.5\",\"0.55\",\"0.63\",\"0.42\",\"0.33\",\"0.52\",\"1\",\"0.45\",\"1\",\"0.5\",\"0.48\",\"0.37\",\"0.3\",\"0.77\",\"0.31\",\"1\",\"0.76\",\"0.7\",\"0.44\",\"1\",\"0.45\",\"0.58\",\"0.35\",\"0.65\",\"0.65\",\"0.4\",\"0.44\",\"0.63\",\"0.6\",\"0.31\",\"1\",\"0.7\",\"0.8\",\"0.43\",\"0.57\",\"0.64\",\"0.47\",\"1\",\"1\",\"0.44\",\"0.46\",\"0.29\",\"0.21\",\"0.3\",\"0.49\",\"0.43\",\"0.26\",\"0.28\",\"0.69\",\"0.55\",\"0.28\",\"0.42\",\"0.55\",\"0.5\",\"0.67\",\"1\",\"0.59\",\"0.63\",\"0.51\",\"0.52\",\"0.45\",\"0.48\",\"1\",\"0.49\",\"0.74\"]},\"selected\":{\"id\":\"46331\"},\"selection_policy\":{\"id\":\"46345\"}},\"id\":\"46330\",\"type\":\"ColumnDataSource\"},{\"attributes\":{\"coordinates\":null,\"data_source\":{\"id\":\"46330\"},\"glyph\":{\"id\":\"46333\"},\"group\":null,\"hover_glyph\":null,\"muted_glyph\":{\"id\":\"46335\"},\"nonselection_glyph\":{\"id\":\"46334\"},\"selection_glyph\":{\"id\":\"46350\"},\"view\":{\"id\":\"46337\"}},\"id\":\"46336\",\"type\":\"GlyphRenderer\"},{\"attributes\":{\"overlay\":{\"id\":\"46321\"}},\"id\":\"46319\",\"type\":\"BoxZoomTool\"},{\"attributes\":{},\"id\":\"46307\",\"type\":\"CategoricalScale\"},{\"attributes\":{},\"id\":\"46317\",\"type\":\"PanTool\"},{\"attributes\":{\"below\":[{\"id\":\"46309\"}],\"center\":[{\"id\":\"46312\"},{\"id\":\"46315\"},{\"id\":\"46348\"}],\"left\":[{\"id\":\"46313\"}],\"margin\":[5,5,5,5],\"min_border_bottom\":10,\"min_border_left\":10,\"min_border_right\":10,\"min_border_top\":10,\"renderers\":[{\"id\":\"46336\"}],\"right\":[{\"id\":\"46348\"}],\"sizing_mode\":\"fixed\",\"title\":{\"id\":\"46301\"},\"toolbar\":{\"id\":\"46322\"},\"width\":800,\"x_range\":{\"id\":\"46297\"},\"x_scale\":{\"id\":\"46305\"},\"y_range\":{\"id\":\"46298\"},\"y_scale\":{\"id\":\"46307\"}},\"id\":\"46300\",\"subtype\":\"Figure\",\"type\":\"Plot\"},{\"attributes\":{\"axis_label\":\"Pavadinimas\",\"coordinates\":null,\"formatter\":{\"id\":\"46343\"},\"group\":null,\"major_label_orientation\":1.5707963267948966,\"major_label_policy\":{\"id\":\"46344\"},\"ticker\":{\"id\":\"46310\"}},\"id\":\"46309\",\"type\":\"LinearAxis\"},{\"attributes\":{\"factors\":[\"0.47\",\"1\",\"0.44\",\"0.46\",\"0.29\",\"0.21\",\"0.3\",\"0.49\",\"0.43\",\"0.26\",\"0.28\",\"0.55\",\"0.42\",\"0.5\",\"0.67\",\"0.59\",\"0.63\",\"0.51\",\"0.52\",\"0.45\",\"0.48\",\"0.57\",\"0.69\",\"0.8\",\"0.77\",\"0.37\",\"0.31\",\"0.33\",\"0.7\",\"0.58\",\"0.35\",\"0.65\",\"0.4\",\"0.6\",\"0.76\",\"0.64\",\"0.74\"],\"tags\":[[[\"\\u017duv\\u0173 b\\u016bkl\\u0117s indeksas\",\"\\u017duv\\u0173 b\\u016bkl\\u0117s indeksas\",null]]]},\"id\":\"46298\",\"type\":\"FactorRange\"},{\"attributes\":{\"fill_color\":{\"field\":\"Variable\",\"transform\":{\"id\":\"46329\"}},\"hatch_color\":{\"field\":\"Variable\",\"transform\":{\"id\":\"46329\"}},\"height\":{\"value\":0.6},\"left\":{\"field\":\"bottom\"},\"right\":{\"field\":\"top\"},\"y\":{\"field\":\"\\u017duv\\u0173_b\\u016bkl\\u0117s_indeksas\"}},\"id\":\"46333\",\"type\":\"HBar\"},{\"attributes\":{},\"id\":\"46340\",\"type\":\"CategoricalTickFormatter\"},{\"attributes\":{},\"id\":\"46344\",\"type\":\"AllLabels\"},{\"attributes\":{},\"id\":\"46316\",\"type\":\"SaveTool\"},{\"attributes\":{},\"id\":\"46331\",\"type\":\"Selection\"},{\"attributes\":{\"factors\":[\"Pl\\u0117\\u0161rios(kg)\",\"Biomas\\u0117(kg)\"],\"palette\":[\"#30a2da\",\"#fc4f30\"]},\"id\":\"46329\",\"type\":\"CategoricalColorMapper\"},{\"attributes\":{\"active_drag\":{\"id\":\"46317\"},\"active_scroll\":{\"id\":\"46318\"},\"tools\":[{\"id\":\"46299\"},{\"id\":\"46316\"},{\"id\":\"46317\"},{\"id\":\"46318\"},{\"id\":\"46319\"},{\"id\":\"46320\"}]},\"id\":\"46322\",\"type\":\"Toolbar\"},{\"attributes\":{\"fill_alpha\":{\"value\":0.1},\"fill_color\":{\"field\":\"Variable\",\"transform\":{\"id\":\"46329\"}},\"hatch_alpha\":{\"value\":0.1},\"hatch_color\":{\"field\":\"Variable\",\"transform\":{\"id\":\"46329\"}},\"height\":{\"value\":0.6},\"left\":{\"field\":\"bottom\"},\"line_alpha\":{\"value\":0.1},\"right\":{\"field\":\"top\"},\"y\":{\"field\":\"\\u017duv\\u0173_b\\u016bkl\\u0117s_indeksas\"}},\"id\":\"46334\",\"type\":\"HBar\"},{\"attributes\":{\"source\":{\"id\":\"46330\"}},\"id\":\"46337\",\"type\":\"CDSView\"},{\"attributes\":{},\"id\":\"46318\",\"type\":\"WheelZoomTool\"},{\"attributes\":{},\"id\":\"46314\",\"type\":\"CategoricalTicker\"},{\"attributes\":{},\"id\":\"46310\",\"type\":\"BasicTicker\"},{\"attributes\":{\"coordinates\":null,\"group\":null,\"text\":\"Visos lenteles pavadinimas\",\"text_color\":\"black\",\"text_font_size\":\"12pt\"},\"id\":\"46301\",\"type\":\"Title\"},{\"attributes\":{\"axis\":{\"id\":\"46313\"},\"coordinates\":null,\"dimension\":1,\"grid_line_color\":null,\"group\":null,\"ticker\":null},\"id\":\"46315\",\"type\":\"Grid\"},{\"attributes\":{\"bottom_units\":\"screen\",\"coordinates\":null,\"fill_alpha\":0.5,\"fill_color\":\"lightgrey\",\"group\":null,\"left_units\":\"screen\",\"level\":\"overlay\",\"line_alpha\":1.0,\"line_color\":\"black\",\"line_dash\":[4,4],\"line_width\":2,\"right_units\":\"screen\",\"syncable\":false,\"top_units\":\"screen\"},\"id\":\"46321\",\"type\":\"BoxAnnotation\"},{\"attributes\":{\"end\":2,\"reset_end\":2,\"reset_start\":0,\"tags\":[[[\"value\",\"value\",null]]]},\"id\":\"46297\",\"type\":\"Range1d\"},{\"attributes\":{\"fill_alpha\":{\"value\":1.0},\"fill_color\":{\"field\":\"Variable\",\"transform\":{\"id\":\"46329\"}},\"hatch_alpha\":{\"value\":1.0},\"hatch_color\":{\"field\":\"Variable\",\"transform\":{\"id\":\"46329\"}},\"hatch_scale\":{\"value\":12.0},\"hatch_weight\":{\"value\":1.0},\"height\":{\"value\":0.6},\"left\":{\"field\":\"bottom\"},\"line_alpha\":{\"value\":1.0},\"line_cap\":{\"value\":\"butt\"},\"line_color\":{\"value\":\"black\"},\"line_dash\":{\"value\":[]},\"line_dash_offset\":{\"value\":0},\"line_join\":{\"value\":\"bevel\"},\"line_width\":{\"value\":1},\"right\":{\"field\":\"top\"},\"y\":{\"field\":\"\\u017duv\\u0173_b\\u016bkl\\u0117s_indeksas\"}},\"id\":\"46350\",\"type\":\"HBar\"},{\"attributes\":{\"label\":{\"field\":\"Variable\"},\"renderers\":[{\"id\":\"46336\"}]},\"id\":\"46349\",\"type\":\"LegendItem\"},{\"attributes\":{},\"id\":\"46343\",\"type\":\"BasicTickFormatter\"},{\"attributes\":{},\"id\":\"46320\",\"type\":\"ResetTool\"},{\"attributes\":{},\"id\":\"46305\",\"type\":\"LinearScale\"},{\"attributes\":{\"axis_label\":\"\\u017duv\\u0173 b\\u016bkl\\u0117s indeksas\",\"coordinates\":null,\"formatter\":{\"id\":\"46340\"},\"group\":null,\"major_label_policy\":{\"id\":\"46341\"},\"ticker\":{\"id\":\"46314\"}},\"id\":\"46313\",\"type\":\"CategoricalAxis\"}],\"root_ids\":[\"46296\"]},\"title\":\"Bokeh Application\",\"version\":\"2.4.3\"}};\n",
       "    var render_items = [{\"docid\":\"c05c5379-34b8-4cd9-b63a-946234167dc0\",\"root_ids\":[\"46296\"],\"roots\":{\"46296\":\"9a7e907d-10a4-4ffa-ba32-7c4af4a9cc75\"}}];\n",
       "    root.Bokeh.embed.embed_items_notebook(docs_json, render_items);\n",
       "    for (const render_item of render_items) {\n",
       "      for (const root_id of render_item.root_ids) {\n",
       "\tconst id_el = document.getElementById(root_id)\n",
       "\tif (id_el.children.length && (id_el.children[0].className === 'bk-root')) {\n",
       "\t  const root_el = id_el.children[0]\n",
       "\t  root_el.id = root_el.id + '-rendered'\n",
       "\t}\n",
       "      }\n",
       "    }\n",
       "  }\n",
       "  if (root.Bokeh !== undefined && root.Bokeh.Panel !== undefined && ( root['Tabulator'] !== undefined) && ( root['Tabulator'] !== undefined)) {\n",
       "    embed_document(root);\n",
       "  } else {\n",
       "    var attempts = 0;\n",
       "    var timer = setInterval(function(root) {\n",
       "      if (root.Bokeh !== undefined && root.Bokeh.Panel !== undefined && (root['Tabulator'] !== undefined) && (root['Tabulator'] !== undefined)) {\n",
       "        clearInterval(timer);\n",
       "        embed_document(root);\n",
       "      } else if (document.readyState == \"complete\") {\n",
       "        attempts++;\n",
       "        if (attempts > 200) {\n",
       "          clearInterval(timer);\n",
       "          console.log(\"Bokeh: ERROR: Unable to run BokehJS code because BokehJS library is missing\");\n",
       "        }\n",
       "      }\n",
       "    }, 25, root)\n",
       "  }\n",
       "})(window);</script>"
      ],
      "text/plain": [
       ":Bars   [Žuvų būklės indeksas,Variable]   (value)"
      ]
     },
     "execution_count": 114,
     "metadata": {
      "application/vnd.holoviews_exec.v0+json": {
       "id": "46296"
      }
     },
     "output_type": "execute_result"
    }
   ],
   "source": [
    "stulpeliai"
   ]
  },
  {
   "cell_type": "code",
   "execution_count": 115,
   "id": "d4069629-be54-4bc7-a9cf-3551420f0fd5",
   "metadata": {
    "tags": []
   },
   "outputs": [
    {
     "ename": "KeyError",
     "evalue": "\"['Plėšrios_kg'] not in index\"",
     "output_type": "error",
     "traceback": [
      "\u001b[1;31m---------------------------------------------------------------------------\u001b[0m",
      "\u001b[1;31mKeyError\u001b[0m                                  Traceback (most recent call last)",
      "Cell \u001b[1;32mIn[115], line 2\u001b[0m\n\u001b[0;32m      1\u001b[0m \u001b[38;5;66;03m#sitas diagrama jau gera, nebent pakeisti pavadinima.\u001b[39;00m\n\u001b[1;32m----> 2\u001b[0m bendras \u001b[38;5;241m=\u001b[39m \u001b[43mdf\u001b[49m\u001b[38;5;241;43m.\u001b[39;49m\u001b[43mhvplot\u001b[49m\u001b[38;5;241;43m.\u001b[39;49m\u001b[43mbar\u001b[49m\u001b[43m(\u001b[49m\n\u001b[0;32m      3\u001b[0m \u001b[43m                    \u001b[49m\u001b[43mx\u001b[49m\u001b[38;5;241;43m=\u001b[39;49m\u001b[38;5;124;43m\"\u001b[39;49m\u001b[38;5;124;43mVandens telkinio pavadinimas\u001b[39;49m\u001b[38;5;124;43m\"\u001b[39;49m\u001b[43m,\u001b[49m\u001b[43m \u001b[49m\u001b[43mrot\u001b[49m\u001b[38;5;241;43m=\u001b[39;49m\u001b[38;5;241;43m90\u001b[39;49m\u001b[43m,\u001b[49m\n\u001b[0;32m      4\u001b[0m \u001b[43m                    \u001b[49m\u001b[38;5;66;43;03m#y=\"Plėšrios_kg\",\u001b[39;49;00m\n\u001b[0;32m      5\u001b[0m \u001b[43m                    \u001b[49m\u001b[43my\u001b[49m\u001b[38;5;241;43m=\u001b[39;49m\u001b[43m[\u001b[49m\u001b[38;5;124;43m\"\u001b[39;49m\u001b[38;5;124;43mPlėšrios_kg\u001b[39;49m\u001b[38;5;124;43m\"\u001b[39;49m\u001b[43m,\u001b[49m\u001b[43m \u001b[49m\u001b[38;5;124;43m\"\u001b[39;49m\u001b[38;5;124;43mBiomasė(kg)\u001b[39;49m\u001b[38;5;124;43m\"\u001b[39;49m\u001b[43m]\u001b[49m\u001b[43m,\u001b[49m\n\u001b[0;32m      6\u001b[0m \u001b[43m                    \u001b[49m\u001b[43mstacked\u001b[49m\u001b[38;5;241;43m=\u001b[39;49m\u001b[38;5;28;43;01mTrue\u001b[39;49;00m\u001b[43m,\u001b[49m\n\u001b[0;32m      7\u001b[0m \u001b[43m                    \u001b[49m\u001b[43mwidth\u001b[49m\u001b[38;5;241;43m=\u001b[39;49m\u001b[38;5;241;43m1000\u001b[39;49m\u001b[43m,\u001b[49m\u001b[43m \u001b[49m\u001b[43mheight\u001b[49m\u001b[38;5;241;43m=\u001b[39;49m\u001b[38;5;241;43m400\u001b[39;49m\u001b[43m,\u001b[49m\n\u001b[0;32m      8\u001b[0m \u001b[43m                    \u001b[49m\u001b[43mtitle\u001b[49m\u001b[38;5;241;43m=\u001b[39;49m\u001b[38;5;124;43m\"\u001b[39;49m\u001b[38;5;124;43mBendras laimikis ir jo plėšri dalis\u001b[39;49m\u001b[38;5;124;43m\"\u001b[39;49m\n\u001b[0;32m      9\u001b[0m \u001b[43m)\u001b[49m\n\u001b[0;32m     11\u001b[0m bendras\n",
      "File \u001b[1;32m~\\AppData\\Local\\Packages\\PythonSoftwareFoundation.Python.3.11_qbz5n2kfra8p0\\LocalCache\\local-packages\\Python311\\site-packages\\hvplot\\plotting\\core.py:1047\u001b[0m, in \u001b[0;36mhvPlotTabular.bar\u001b[1;34m(self, x, y, **kwds)\u001b[0m\n\u001b[0;32m    959\u001b[0m \u001b[38;5;28;01mdef\u001b[39;00m \u001b[38;5;21mbar\u001b[39m(\u001b[38;5;28mself\u001b[39m, x\u001b[38;5;241m=\u001b[39m\u001b[38;5;28;01mNone\u001b[39;00m, y\u001b[38;5;241m=\u001b[39m\u001b[38;5;28;01mNone\u001b[39;00m, \u001b[38;5;241m*\u001b[39m\u001b[38;5;241m*\u001b[39mkwds):\n\u001b[0;32m    960\u001b[0m \u001b[38;5;250m    \u001b[39m\u001b[38;5;124;03m\"\"\"\u001b[39;00m\n\u001b[0;32m    961\u001b[0m \u001b[38;5;124;03m    A vertical bar plot\u001b[39;00m\n\u001b[0;32m    962\u001b[0m \n\u001b[1;32m   (...)\u001b[0m\n\u001b[0;32m   1045\u001b[0m \u001b[38;5;124;03m    - Wiki: https://en.wikipedia.org/wiki/Bar_chart\u001b[39;00m\n\u001b[0;32m   1046\u001b[0m \u001b[38;5;124;03m    \"\"\"\u001b[39;00m\n\u001b[1;32m-> 1047\u001b[0m     \u001b[38;5;28;01mreturn\u001b[39;00m \u001b[38;5;28;43mself\u001b[39;49m\u001b[43m(\u001b[49m\u001b[43mx\u001b[49m\u001b[43m,\u001b[49m\u001b[43m \u001b[49m\u001b[43my\u001b[49m\u001b[43m,\u001b[49m\u001b[43m \u001b[49m\u001b[43mkind\u001b[49m\u001b[38;5;241;43m=\u001b[39;49m\u001b[38;5;124;43m\"\u001b[39;49m\u001b[38;5;124;43mbar\u001b[39;49m\u001b[38;5;124;43m\"\u001b[39;49m\u001b[43m,\u001b[49m\u001b[43m \u001b[49m\u001b[38;5;241;43m*\u001b[39;49m\u001b[38;5;241;43m*\u001b[39;49m\u001b[43mkwds\u001b[49m\u001b[43m)\u001b[49m\n",
      "File \u001b[1;32m~\\AppData\\Local\\Packages\\PythonSoftwareFoundation.Python.3.11_qbz5n2kfra8p0\\LocalCache\\local-packages\\Python311\\site-packages\\hvplot\\plotting\\core.py:92\u001b[0m, in \u001b[0;36mhvPlotBase.__call__\u001b[1;34m(self, x, y, kind, **kwds)\u001b[0m\n\u001b[0;32m     89\u001b[0m         plot \u001b[38;5;241m=\u001b[39m \u001b[38;5;28mself\u001b[39m\u001b[38;5;241m.\u001b[39m_get_converter(x, y, kind, \u001b[38;5;241m*\u001b[39m\u001b[38;5;241m*\u001b[39mkwds)(kind, x, y)\n\u001b[0;32m     90\u001b[0m         \u001b[38;5;28;01mreturn\u001b[39;00m pn\u001b[38;5;241m.\u001b[39mpanel(plot, \u001b[38;5;241m*\u001b[39m\u001b[38;5;241m*\u001b[39mpanel_dict)\n\u001b[1;32m---> 92\u001b[0m \u001b[38;5;28;01mreturn\u001b[39;00m \u001b[38;5;28;43mself\u001b[39;49m\u001b[38;5;241;43m.\u001b[39;49m\u001b[43m_get_converter\u001b[49m\u001b[43m(\u001b[49m\u001b[43mx\u001b[49m\u001b[43m,\u001b[49m\u001b[43m \u001b[49m\u001b[43my\u001b[49m\u001b[43m,\u001b[49m\u001b[43m \u001b[49m\u001b[43mkind\u001b[49m\u001b[43m,\u001b[49m\u001b[43m \u001b[49m\u001b[38;5;241;43m*\u001b[39;49m\u001b[38;5;241;43m*\u001b[39;49m\u001b[43mkwds\u001b[49m\u001b[43m)\u001b[49m\u001b[43m(\u001b[49m\u001b[43mkind\u001b[49m\u001b[43m,\u001b[49m\u001b[43m \u001b[49m\u001b[43mx\u001b[49m\u001b[43m,\u001b[49m\u001b[43m \u001b[49m\u001b[43my\u001b[49m\u001b[43m)\u001b[49m\n",
      "File \u001b[1;32m~\\AppData\\Local\\Packages\\PythonSoftwareFoundation.Python.3.11_qbz5n2kfra8p0\\LocalCache\\local-packages\\Python311\\site-packages\\hvplot\\converter.py:1240\u001b[0m, in \u001b[0;36mHoloViewsConverter.__call__\u001b[1;34m(self, kind, x, y)\u001b[0m\n\u001b[0;32m   1238\u001b[0m                 dataset \u001b[38;5;241m=\u001b[39m Dataset(data)\n\u001b[0;32m   1239\u001b[0m             dataset \u001b[38;5;241m=\u001b[39m dataset\u001b[38;5;241m.\u001b[39mredim(\u001b[38;5;241m*\u001b[39m\u001b[38;5;241m*\u001b[39m\u001b[38;5;28mself\u001b[39m\u001b[38;5;241m.\u001b[39m_redim)\n\u001b[1;32m-> 1240\u001b[0m         obj \u001b[38;5;241m=\u001b[39m \u001b[43mmethod\u001b[49m\u001b[43m(\u001b[49m\u001b[43mx\u001b[49m\u001b[43m,\u001b[49m\u001b[43m \u001b[49m\u001b[43my\u001b[49m\u001b[43m)\u001b[49m\n\u001b[0;32m   1241\u001b[0m         obj\u001b[38;5;241m.\u001b[39m_dataset \u001b[38;5;241m=\u001b[39m dataset\n\u001b[0;32m   1243\u001b[0m \u001b[38;5;28;01mif\u001b[39;00m \u001b[38;5;28mself\u001b[39m\u001b[38;5;241m.\u001b[39mcrs \u001b[38;5;129;01mand\u001b[39;00m \u001b[38;5;28mself\u001b[39m\u001b[38;5;241m.\u001b[39mproject:\n\u001b[0;32m   1244\u001b[0m     \u001b[38;5;66;03m# Apply projection before rasterizing\u001b[39;00m\n",
      "File \u001b[1;32m~\\AppData\\Local\\Packages\\PythonSoftwareFoundation.Python.3.11_qbz5n2kfra8p0\\LocalCache\\local-packages\\Python311\\site-packages\\hvplot\\converter.py:1711\u001b[0m, in \u001b[0;36mHoloViewsConverter.bar\u001b[1;34m(self, x, y, data)\u001b[0m\n\u001b[0;32m   1709\u001b[0m     y \u001b[38;5;241m=\u001b[39m y[\u001b[38;5;241m0\u001b[39m] \u001b[38;5;28;01mif\u001b[39;00m \u001b[38;5;28misinstance\u001b[39m(y, (\u001b[38;5;28mlist\u001b[39m, \u001b[38;5;28mtuple\u001b[39m)) \u001b[38;5;28;01melse\u001b[39;00m y\n\u001b[0;32m   1710\u001b[0m     \u001b[38;5;28;01mreturn\u001b[39;00m \u001b[38;5;28mself\u001b[39m\u001b[38;5;241m.\u001b[39msingle_chart(Bars, x, y, data)\n\u001b[1;32m-> 1711\u001b[0m \u001b[38;5;28;01mreturn\u001b[39;00m \u001b[38;5;28;43mself\u001b[39;49m\u001b[38;5;241;43m.\u001b[39;49m\u001b[43m_category_plot\u001b[49m\u001b[43m(\u001b[49m\u001b[43mBars\u001b[49m\u001b[43m,\u001b[49m\u001b[43m \u001b[49m\u001b[43mx\u001b[49m\u001b[43m,\u001b[49m\u001b[43m \u001b[49m\u001b[38;5;28;43mlist\u001b[39;49m\u001b[43m(\u001b[49m\u001b[43my\u001b[49m\u001b[43m)\u001b[49m\u001b[43m,\u001b[49m\u001b[43m \u001b[49m\u001b[43mdata\u001b[49m\u001b[43m)\u001b[49m\n",
      "File \u001b[1;32m~\\AppData\\Local\\Packages\\PythonSoftwareFoundation.Python.3.11_qbz5n2kfra8p0\\LocalCache\\local-packages\\Python311\\site-packages\\hvplot\\converter.py:1688\u001b[0m, in \u001b[0;36mHoloViewsConverter._category_plot\u001b[1;34m(self, element, x, y, data)\u001b[0m\n\u001b[0;32m   1686\u001b[0m \u001b[38;5;28;01mif\u001b[39;00m \u001b[38;5;28many\u001b[39m(v \u001b[38;5;129;01min\u001b[39;00m \u001b[38;5;28mself\u001b[39m\u001b[38;5;241m.\u001b[39mindexes \u001b[38;5;28;01mfor\u001b[39;00m v \u001b[38;5;129;01min\u001b[39;00m id_vars):\n\u001b[0;32m   1687\u001b[0m     data \u001b[38;5;241m=\u001b[39m data\u001b[38;5;241m.\u001b[39mreset_index()\n\u001b[1;32m-> 1688\u001b[0m data \u001b[38;5;241m=\u001b[39m \u001b[43mdata\u001b[49m\u001b[43m[\u001b[49m\u001b[43my\u001b[49m\u001b[38;5;241;43m+\u001b[39;49m\u001b[43m[\u001b[49m\u001b[43mx\u001b[49m\u001b[43m]\u001b[49m\u001b[43m]\u001b[49m\n\u001b[0;32m   1690\u001b[0m \u001b[38;5;28;01mif\u001b[39;00m check_library(data, \u001b[38;5;124m'\u001b[39m\u001b[38;5;124mdask\u001b[39m\u001b[38;5;124m'\u001b[39m):\n\u001b[0;32m   1691\u001b[0m     \u001b[38;5;28;01mfrom\u001b[39;00m \u001b[38;5;21;01mdask\u001b[39;00m\u001b[38;5;21;01m.\u001b[39;00m\u001b[38;5;21;01mdataframe\u001b[39;00m \u001b[38;5;28;01mimport\u001b[39;00m melt\n",
      "File \u001b[1;32m~\\AppData\\Local\\Packages\\PythonSoftwareFoundation.Python.3.11_qbz5n2kfra8p0\\LocalCache\\local-packages\\Python311\\site-packages\\pandas\\core\\frame.py:3813\u001b[0m, in \u001b[0;36mDataFrame.__getitem__\u001b[1;34m(self, key)\u001b[0m\n\u001b[0;32m   3811\u001b[0m     \u001b[38;5;28;01mif\u001b[39;00m is_iterator(key):\n\u001b[0;32m   3812\u001b[0m         key \u001b[38;5;241m=\u001b[39m \u001b[38;5;28mlist\u001b[39m(key)\n\u001b[1;32m-> 3813\u001b[0m     indexer \u001b[38;5;241m=\u001b[39m \u001b[38;5;28;43mself\u001b[39;49m\u001b[38;5;241;43m.\u001b[39;49m\u001b[43mcolumns\u001b[49m\u001b[38;5;241;43m.\u001b[39;49m\u001b[43m_get_indexer_strict\u001b[49m\u001b[43m(\u001b[49m\u001b[43mkey\u001b[49m\u001b[43m,\u001b[49m\u001b[43m \u001b[49m\u001b[38;5;124;43m\"\u001b[39;49m\u001b[38;5;124;43mcolumns\u001b[39;49m\u001b[38;5;124;43m\"\u001b[39;49m\u001b[43m)\u001b[49m[\u001b[38;5;241m1\u001b[39m]\n\u001b[0;32m   3815\u001b[0m \u001b[38;5;66;03m# take() does not accept boolean indexers\u001b[39;00m\n\u001b[0;32m   3816\u001b[0m \u001b[38;5;28;01mif\u001b[39;00m \u001b[38;5;28mgetattr\u001b[39m(indexer, \u001b[38;5;124m\"\u001b[39m\u001b[38;5;124mdtype\u001b[39m\u001b[38;5;124m\"\u001b[39m, \u001b[38;5;28;01mNone\u001b[39;00m) \u001b[38;5;241m==\u001b[39m \u001b[38;5;28mbool\u001b[39m:\n",
      "File \u001b[1;32m~\\AppData\\Local\\Packages\\PythonSoftwareFoundation.Python.3.11_qbz5n2kfra8p0\\LocalCache\\local-packages\\Python311\\site-packages\\pandas\\core\\indexes\\base.py:6070\u001b[0m, in \u001b[0;36mIndex._get_indexer_strict\u001b[1;34m(self, key, axis_name)\u001b[0m\n\u001b[0;32m   6067\u001b[0m \u001b[38;5;28;01melse\u001b[39;00m:\n\u001b[0;32m   6068\u001b[0m     keyarr, indexer, new_indexer \u001b[38;5;241m=\u001b[39m \u001b[38;5;28mself\u001b[39m\u001b[38;5;241m.\u001b[39m_reindex_non_unique(keyarr)\n\u001b[1;32m-> 6070\u001b[0m \u001b[38;5;28;43mself\u001b[39;49m\u001b[38;5;241;43m.\u001b[39;49m\u001b[43m_raise_if_missing\u001b[49m\u001b[43m(\u001b[49m\u001b[43mkeyarr\u001b[49m\u001b[43m,\u001b[49m\u001b[43m \u001b[49m\u001b[43mindexer\u001b[49m\u001b[43m,\u001b[49m\u001b[43m \u001b[49m\u001b[43maxis_name\u001b[49m\u001b[43m)\u001b[49m\n\u001b[0;32m   6072\u001b[0m keyarr \u001b[38;5;241m=\u001b[39m \u001b[38;5;28mself\u001b[39m\u001b[38;5;241m.\u001b[39mtake(indexer)\n\u001b[0;32m   6073\u001b[0m \u001b[38;5;28;01mif\u001b[39;00m \u001b[38;5;28misinstance\u001b[39m(key, Index):\n\u001b[0;32m   6074\u001b[0m     \u001b[38;5;66;03m# GH 42790 - Preserve name from an Index\u001b[39;00m\n",
      "File \u001b[1;32m~\\AppData\\Local\\Packages\\PythonSoftwareFoundation.Python.3.11_qbz5n2kfra8p0\\LocalCache\\local-packages\\Python311\\site-packages\\pandas\\core\\indexes\\base.py:6133\u001b[0m, in \u001b[0;36mIndex._raise_if_missing\u001b[1;34m(self, key, indexer, axis_name)\u001b[0m\n\u001b[0;32m   6130\u001b[0m     \u001b[38;5;28;01mraise\u001b[39;00m \u001b[38;5;167;01mKeyError\u001b[39;00m(\u001b[38;5;124mf\u001b[39m\u001b[38;5;124m\"\u001b[39m\u001b[38;5;124mNone of [\u001b[39m\u001b[38;5;132;01m{\u001b[39;00mkey\u001b[38;5;132;01m}\u001b[39;00m\u001b[38;5;124m] are in the [\u001b[39m\u001b[38;5;132;01m{\u001b[39;00maxis_name\u001b[38;5;132;01m}\u001b[39;00m\u001b[38;5;124m]\u001b[39m\u001b[38;5;124m\"\u001b[39m)\n\u001b[0;32m   6132\u001b[0m not_found \u001b[38;5;241m=\u001b[39m \u001b[38;5;28mlist\u001b[39m(ensure_index(key)[missing_mask\u001b[38;5;241m.\u001b[39mnonzero()[\u001b[38;5;241m0\u001b[39m]]\u001b[38;5;241m.\u001b[39munique())\n\u001b[1;32m-> 6133\u001b[0m \u001b[38;5;28;01mraise\u001b[39;00m \u001b[38;5;167;01mKeyError\u001b[39;00m(\u001b[38;5;124mf\u001b[39m\u001b[38;5;124m\"\u001b[39m\u001b[38;5;132;01m{\u001b[39;00mnot_found\u001b[38;5;132;01m}\u001b[39;00m\u001b[38;5;124m not in index\u001b[39m\u001b[38;5;124m\"\u001b[39m)\n",
      "\u001b[1;31mKeyError\u001b[0m: \"['Plėšrios_kg'] not in index\""
     ]
    }
   ],
   "source": [
    "#sitas diagrama jau gera, nebent pakeisti pavadinima.\n",
    "bendras = df.hvplot.bar(\n",
    "                    x=\"Vandens telkinio pavadinimas\", rot=90,\n",
    "                    #y=\"Plėšrios_kg\",\n",
    "                    y=[\"Plėšrios_kg\", \"Biomasė(kg)\"],\n",
    "                    stacked=True,\n",
    "                    width=1000, height=400,\n",
    "                    title=\"Bendras laimikis ir jo plėšri dalis\"\n",
    ")\n",
    "\n",
    "bendras"
   ]
  },
  {
   "cell_type": "code",
   "execution_count": 116,
   "id": "346467d5-02ca-4d80-b9e4-9b9e12547aad",
   "metadata": {
    "tags": []
   },
   "outputs": [],
   "source": [
    "# Now we have every visualization we need (in this case 4)\n",
    "# Putting all together now\n",
    "\n",
    "# # #Layout using Template\n",
    "# template = pn.template.FastListTemplate(\n",
    "#     title='Žuvys', \n",
    "#     sidebar=[pn.pane.Markdown(\"# Žuvų išteklių tyrimas\"), \n",
    "#              pn.pane.Markdown(\"#### Dideli vandens telkiniai pasižymi gausia ir įvairia ichtiofauna. Kai kurie dideli vandens telkiniai kaip Kuršių marios yra svarbios žuvų migracijoms. Dėl gausių žuvų išteklių dideli vandens telkiniai yra svarbūs tiek verslinei, tiek mėgėjiškai žvejybai. Todėl tokių vandens telkinių ichtiologiniai tyrimai turi ne tik mokslinę, bet ir praktinę reikšmę.\"), \n",
    "#              pn.pane.PNG('lietuvos_ezerai.png', sizing_mode='scale_both')],\n",
    "#              #pn.pane.Markdown(\"## Nustatyti svorį\"), dydis_kg],\n",
    "#     main=[pn.Row(pn.Column(bendras)), \n",
    "#           pn.Row(pn.Column(mano_table, y_asis), \n",
    "#                 pn.Column(grafikas_trys))],\n",
    "#     accent_base_color=\"#88d8b0\",\n",
    "#     header_background=\"#88d8b0\",\n",
    "# )\n",
    "# template.show()\n",
    "# template.servable();"
   ]
  },
  {
   "cell_type": "code",
   "execution_count": 117,
   "id": "75abb09e-e44f-4e75-af70-7761c8fd4c22",
   "metadata": {},
   "outputs": [],
   "source": [
    "# from hvplot.plotting import scatter_matrix\n",
    "\n",
    "# idf.columns.values.tolist()"
   ]
  },
  {
   "cell_type": "code",
   "execution_count": 118,
   "id": "8647583b-3575-4e5b-b4f9-7937722f0560",
   "metadata": {},
   "outputs": [],
   "source": [
    "# idf = pd.DataFrame(np.random.randn(400, 3), columns=['Biomasė(kg)', 'Ešerys (Gausumas)', 'Karšis (Gausumas)'])\n",
    "# scatter_matrix(idf, alpha=0.2)"
   ]
  },
  {
   "cell_type": "code",
   "execution_count": null,
   "id": "92671b46-c2ac-4016-96ad-fe9e2b8eb201",
   "metadata": {},
   "outputs": [],
   "source": []
  },
  {
   "cell_type": "code",
   "execution_count": null,
   "id": "72f93034-8321-448e-9c88-fb0dfb004509",
   "metadata": {},
   "outputs": [],
   "source": []
  }
 ],
 "metadata": {
  "kernelspec": {
   "display_name": "Python 3 (ipykernel)",
   "language": "python",
   "name": "python3"
  },
  "language_info": {
   "codemirror_mode": {
    "name": "ipython",
    "version": 3
   },
   "file_extension": ".py",
   "mimetype": "text/x-python",
   "name": "python",
   "nbconvert_exporter": "python",
   "pygments_lexer": "ipython3",
   "version": "3.11.2"
  }
 },
 "nbformat": 4,
 "nbformat_minor": 5
}
